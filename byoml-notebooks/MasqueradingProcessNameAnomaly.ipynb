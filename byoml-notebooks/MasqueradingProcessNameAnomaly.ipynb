{
  "cells": [
    {
      "cell_type": "code",
      "source": [
        "from azure_sentinel_utilities.azure_storage import storage_blob_manager\r\n",
        "from azure_sentinel_utilities.log_analytics import log_analytics_client\r\n",
        "import re\r\n",
        "import datetime as dt\r\n",
        "import time\r\n",
        "from pyspark.sql import functions as F, types as T\r\n",
        "from pyspark.sql.window import Window\r\n",
        "from fastDamerauLevenshtein import damerauLevenshtein\r\n",
        "import random\r\n",
        "import string"
      ],
      "outputs": [],
      "execution_count": null,
      "metadata": {}
    },
    {
      "cell_type": "markdown",
      "source": [
        "This notebook demonstrates how to apply custom machine learning algorithms to data in Azure Sentinel. \r\n",
        "It showcases a Masquerading Process Name anomaly algorithm, which looks for Windows process creation events for processes whose names are similar to known normal processes.\r\n",
        "It is a very common attack vector for malicious processes to masquerade as known normal processes by having names similar to known normal ones but different by a single character. Since these are easy to miss when simply looked at, they can succeed at running malicious code on your machine. Examples of such malicious processes are scvhost.exe, svch0st.exe, etc. -> Known normal process here was svchost.exe.\r\n",
        "\r\n",
        "The data used here is from the SecurityEvents table with EventID = 4688. These correspond to process creation events from Windows machines. \r\n",
        "\r\n",
        "You will have to export this data from your Log Analytics workspace into a storage account. Instructions for this LA export mechanism can be found here: https://docs.microsoft.com/azure/azure-monitor/logs/logs-data-export?tabs=portal. \r\n",
        "\r\n",
        "Data is then loaded from this storage account container and the results are published to your Log Analytics resource.\r\n",
        "\r\n",
        "Steps:\r\n",
        "1. One-time: Install the following packages on the cluster\r\n",
        "    -     azure_sentinel_utilities whl package -> can be found in this repo: https://github.com/Azure/Azure-Sentinel/tree/master/BYOML/Libraries\r\n",
        "\r\n",
        "2. One-time: Set credentials in KeyVault so the notebook can access\r\n",
        "    - Create KeyVault: https://docs.microsoft.com/azure/key-vault/general/quick-create-portal\r\n",
        "    - Store the following secrets in the KeyVault\r\n",
        "        - Storage Account connection string: the keyName should be 'saConnectionString'\r\n",
        "        - Log Analytics workspaceSharedKey: the keyName should be 'wsSharedKey'\r\n",
        "        - Log Analytics workspaceId: the keyName should be 'wsId'\r\n",
        "        - Log Analytics workspaceResourceId: the keyName should be 'wsResourceId'\r\n",
        "    - Add the KeyVault as a linked service to your Azure Synapse workspace: https://docs.microsoft.com/azure/data-factory/store-credentials-in-key-vault\r\n",
        "\r\n",
        "3. Ensure the settings in the cell below are filled in.\r\n",
        "4. Set the Notebook to run on a schedule to score and submit results to LA."
      ],
      "metadata": {
        "nteract": {
          "transient": {
            "deleting": false
          }
        }
      }
    },
    {
      "cell_type": "markdown",
      "source": [
        "**These are some customizable variables which are used further in the code.**"
      ],
      "metadata": {
        "nteract": {
          "transient": {
            "deleting": false
          }
        }
      }
    },
    {
      "cell_type": "code",
      "source": [
        "frequentThreshold = 0.8         # If the percentile of a process's creation count is above this threshold, it is considered a frequent and normal process.\r\n",
        "infrequentThreshold = 0.2       # If the percentile of a process's creation count is lower than this threshold, it is considered an infrequent and possibly malicious process.\r\n",
        "levenDistThreshold = 0.85       # Higher the levenshtein distance, more similar are the two sequences. This threshold will help you select only the very similar processes and remove the noise."
      ],
      "outputs": [],
      "execution_count": null,
      "metadata": {
        "jupyter": {
          "source_hidden": false,
          "outputs_hidden": false
        },
        "nteract": {
          "transient": {
            "deleting": false
          }
        }
      }
    },
    {
      "cell_type": "markdown",
      "source": [
        "**Making Connections to the Storage Account and KeyVaults for user credentials**"
      ],
      "metadata": {
        "nteract": {
          "transient": {
            "deleting": false
          }
        }
      }
    },
    {
      "cell_type": "code",
      "source": [
        "#Log Analytics WorkSpace (Sentinel) to write the results\r\n",
        "workspaceId = mssparkutils.credentials.getSecret(keyVault = 'YOUR_KEYVAULT_HERE', keyName = 'wsId', linkedServiceName = 'YOUR_LINKED_SERVICE_HERE') # wks_guid\r\n",
        "workspaceSharedKey = mssparkutils.credentials.getSecret(keyVault = 'YOUR_KEYVAULT_HERE', keyName = 'wsSharedKey', linkedServiceName = 'YOUR_LINKED_SERVICE_HERE')\r\n",
        "workspaceResourceId = mssparkutils.credentials.getSecret(keyVault = 'YOUR_KEYVAULT_HERE', keyName = 'wsResourceId', linkedServiceName = 'YOUR_LINKED_SERVICE_HERE') # eg: /subscriptions/<sub_guid>/resourcegroups/<rg_name>/providers/microsoft.operationalinsights/work\r\n",
        "\r\n",
        "#extract storage account and key from connection string\r\n",
        "connectionString = mssparkutils.credentials.getSecret(keyVault = 'YOUR_KEYVAULT_HERE', keyName = 'saConnectionString', linkedServiceName = 'YOUR_LINKED_SERVICE_HERE')\r\n",
        "print(\"Connection String to your storage account is : \", connectionString)\r\n",
        "\r\n",
        "keyPattern = 'DefaultEndpointsProtocol=(\\w+);AccountName=(\\w+);AccountKey=([^;]+);'\r\n",
        "match = re.match(keyPattern, connectionString)\r\n",
        "storageAccount = match.group(2)\r\n",
        "storageKey = match.group(3)\r\n",
        "print(\"Storage Account is : \", storageAccount)\r\n",
        "print(\"Storage Key is : \", storageKey)\r\n",
        "\r\n",
        "containerName = \"am-securityevent\"      # This name is fixed for security events\r\n",
        "basePath = \"WorkspaceResourceId={workspaceResourceId}\".format(workspaceResourceId=workspaceResourceId)\r\n",
        "print(\"BasePath is : \", basePath)\r\n",
        "\r\n",
        "startTime = dt.datetime.now() - dt.timedelta(days=1)\r\n",
        "endTime = dt.datetime.now() - dt.timedelta(days=0)\r\n",
        "startTimeStr = startTime.strftime(\"%m/%d/%Y, %I:%M:%S.%f %p\")\r\n",
        "print(\"Start Time of Algo run is : \", startTime)\r\n",
        "endTimeStr = endTime.strftime(\"%m/%d/%Y, %I:%M:%S.%f %p\")\r\n",
        "print(\"End Time of Algo run is : \", endTime)"
      ],
      "outputs": [],
      "execution_count": null,
      "metadata": {
        "jupyter": {
          "source_hidden": false,
          "outputs_hidden": false
        },
        "nteract": {
          "transient": {
            "deleting": false
          }
        }
      }
    },
    {
      "cell_type": "markdown",
      "source": [
        "**This cell defines the helper functions.**\r\n",
        "1. calcDist()              -> calculates the Levenshtein distance. This is a measure of the difference between two sequences by calculating the edit distance. It takes into account the number of different characters in the sequence as well as the length of the sequences. If the extensions of both the processes are the same, then it excludes the extension when calculating the distance. \r\n",
        "2. getRandomTimeStamp()    -> calculates a random timestamp. This is added to the synthetically created process events.\r\n",
        "3. getKnownNormalProcs()   -> creates a hardcoded list of known normal processes which malicious processes may masquerade as.\r\n",
        "4. getSyntheticMaliciousProcs()  -> creates a list of potentially malicious processes by modifying a single random letter of the normal processes to form new names.\r\n",
        "5. getSyntheticEvents()    -> synthetically creates a list of 4688 events. It gets the known normal and synthetically created malicious process names from previous functions and creates entire events using time stamp and process path."
      ],
      "metadata": {
        "nteract": {
          "transient": {
            "deleting": false
          }
        }
      }
    },
    {
      "cell_type": "code",
      "source": [
        "def calcDist(one, two):\r\n",
        "\r\n",
        "    oneDot = -1\r\n",
        "    twoDot = -1\r\n",
        "    if(one is not None and two is not None):\r\n",
        "        oneDot = one.rfind('.')\r\n",
        "        twoDot = two.rfind('.')\r\n",
        "\r\n",
        "    if((oneDot != -1) and (twoDot != -1)):\r\n",
        "        oneEnd = one[oneDot+1:]\r\n",
        "        twoEnd = two[twoDot+1:]\r\n",
        "        if(oneEnd == twoEnd):\r\n",
        "            one = one[:oneDot]\r\n",
        "            two = two[:twoDot]\r\n",
        "\r\n",
        "        return damerauLevenshtein(one, two)\r\n",
        "    return 0.0\r\n",
        "\r\n",
        "calcDistUdf = F.udf(calcDist, T.FloatType())\r\n",
        "\r\n",
        "def getRandomTimeStamp():\r\n",
        "\r\n",
        "    input_time_format = '%m/%d/%Y, %I:%M:%S.%f %p'\r\n",
        "    output_time_format = '%m/%d/%Y, %I:%M:%S.000 %p'\r\n",
        "    randAdd = random.random()\r\n",
        "\r\n",
        "    stime = time.mktime(time.strptime(startTimeStr, input_time_format))\r\n",
        "    etime = time.mktime(time.strptime(endTimeStr, input_time_format))\r\n",
        "\r\n",
        "    ptime = stime + randAdd * (etime - stime)\r\n",
        "\r\n",
        "    return time.strftime(output_time_format, time.localtime(ptime))\r\n",
        "\r\n",
        "getRandomTimeStampUdf = F.udf(getRandomTimeStamp, T.StringType())\r\n",
        "\r\n",
        "def getListGoodProcs():\r\n",
        "\r\n",
        "    return [\r\n",
        "                \"svchost\", \"csrss\", \"smss\", \"services\",\r\n",
        "                \"winlogon\", \"wininit\", \"lsass\",\r\n",
        "                \"spoolsv\", \"conhost\", \"powershell\",\r\n",
        "                \"init\", \"bash\", \"avahi-daemon\", \"gnome-session\", \"getty\",\r\n",
        "                \"acpid\", \"dbus-daemon\", \"dbus-launch\", \"networkmanager\",\r\n",
        "                \"explorer\", \"more.com\", \"mode.com\",\r\n",
        "                \"nbtstat\", \"netstat\", \"cscript\", \"cnscript\",\r\n",
        "                \"tracert\", \"tracerpt\", \"systeminfo\", \"system_info\",\r\n",
        "                \"aitagent\", \"adtagent\", \"wininit\", \"wininst\",\r\n",
        "                \"userinit\", \"userinst\", \"dnscmd\", \"dfscmd\",\r\n",
        "                \"nslookup\", \"nblookup\"\r\n",
        "            ]\r\n",
        "\r\n",
        "def getListKnownProcs():\r\n",
        "    \r\n",
        "    goodProcs = getListGoodProcs()\r\n",
        "\r\n",
        "    goodProcs = [s + ('.exe' if not '.' in s else '') for s in goodProcs]\r\n",
        "    df = spark.createDataFrame(goodProcs, T.StringType())\r\n",
        "    df = df.withColumnRenamed(\"value\", \"Process\")\r\n",
        "    return df\r\n",
        "\r\n",
        "def getSyntheticMaliciousProcs():\r\n",
        "\r\n",
        "    badProcs = []\r\n",
        "    goodProcs = getListGoodProcs()\r\n",
        "    for process in goodProcs:\r\n",
        "        length = len(process)\r\n",
        "        randNum = random.randint(1, length-2)     # not changing first or last letter because that is easier to spot\r\n",
        "\r\n",
        "        # get other random integer\r\n",
        "        randLetter = random.choice(string.ascii_lowercase)\r\n",
        "\r\n",
        "        # substitute original letter with random letter\r\n",
        "        temp = list(process)\r\n",
        "        temp[randNum] = randLetter\r\n",
        "        badProcs = badProcs + [\"\".join(temp)]\r\n",
        "\r\n",
        "    badProcs = [s + ('.exe' if not '.' in s else '') for s in badProcs]\r\n",
        "    badProcs = badProcs + [\"scvhost.exe\", \"svch0st.exe\"]        # adding known masquerading processes\r\n",
        "    df = spark.createDataFrame(badProcs, T.StringType())\r\n",
        "    df = df.withColumnRenamed(\"value\", \"Process\")\r\n",
        "    return df\r\n",
        "\r\n",
        "def getSyntheticEvents(typeOfEvent):\r\n",
        "\r\n",
        "    processPath = \"\"\r\n",
        "    numExplode = 1\r\n",
        "    if(typeOfEvent == \"normal\"):\r\n",
        "        processPath = \"C:\\Windows\\System32\\\\\"\r\n",
        "        df = getListKNownProcs()\r\n",
        "        numExplode = 20\r\n",
        "    elif(typeOfEvent == \"malicious\"):\r\n",
        "        processPath = \"C:\\Windows\\Temp\\\\\"\r\n",
        "        df = getSyntheticMaliciousProcs()\r\n",
        "\r\n",
        "    df = df.withColumn(\"NewProcessName\", F.concat(F.lit(processPath), F.col(\"Process\")))\r\n",
        "    df = df.withColumn(\"NumExplode\", F.lit(numExplode))\r\n",
        "    df = df.withColumn(\"EventID\", F.lit(\"4688\"))\r\n",
        "\r\n",
        "    new_df = df.withColumn('NumExplode', F.expr('explode(array_repeat(NumExplode,int(NumExplode)))')).drop(\"NumExplode\")\r\n",
        "    new_df = new_df.withColumn(\"TimeGenerated\", getRandomTimeStampUdf())\r\n",
        "    new_df = new_df.withColumn(\"From\", F.lit(\"Hardcoded\"))\r\n",
        "    new_df = new_df.select(\"NewProcessName\", \"Process\", \"TimeGenerated\", \"From\")\r\n",
        "    \r\n",
        "    return new_df"
      ],
      "outputs": [],
      "execution_count": null,
      "metadata": {
        "jupyter": {
          "source_hidden": false,
          "outputs_hidden": false
        },
        "nteract": {
          "transient": {
            "deleting": false
          }
        },
        "collapsed": false
      }
    },
    {
      "cell_type": "markdown",
      "source": [
        "**Next, we define the schema of the input and get the raw customer 4688 events. We are using the following details: EventID, NewProcessName, Process, TimeGenerated.**"
      ],
      "metadata": {
        "nteract": {
          "transient": {
            "deleting": false
          }
        }
      }
    },
    {
      "cell_type": "code",
      "source": [
        "def security_event_schema():\r\n",
        "\r\n",
        "    return T.StructType([\r\n",
        "        T.StructField(name = \"EventID\", dataType = T.StringType(), nullable = True),\r\n",
        "        T.StructField(name = \"NewProcessName\", dataType = T.StringType(), nullable = True),\r\n",
        "        T.StructField(name = \"Process\", dataType = T.StringType(), nullable = True),\r\n",
        "        T.StructField(name = \"TimeGenerated\", dataType = T.StringType(), nullable = True),\r\n",
        "    ])\r\n",
        "\r\n",
        "blobManager = storage_blob_manager(connectionString)\r\n",
        "raw_df = blobManager.get_raw_df(startTime, endTime, containerName, basePath, security_event_schema(), blobManager.get_blob_service_client(connectionString))\r\n",
        "\r\n",
        "final = raw_df.where(F.col(\"EventID\") == \"4688\")\r\n",
        "final = final.withColumn(\"Process\", F.lower(\"Process\"))\r\n",
        "final = final.drop(\"EventID\")\r\n",
        "final = final.withColumn(\"From\", F.lit(\"User\"))\r\n",
        "\r\n",
        "final = final.cache()\r\n",
        "print(\"There are \", final.count(), \" events of type 4688 to process.\")\r\n",
        "display(final)\r\n"
      ],
      "outputs": [],
      "execution_count": null,
      "metadata": {
        "jupyter": {
          "source_hidden": false,
          "outputs_hidden": false
        },
        "nteract": {
          "transient": {
            "deleting": false
          }
        },
        "collapsed": false
      }
    },
    {
      "cell_type": "markdown",
      "source": [
        "**Here we append synthetically created normal and malicious process creation events. This is being done to show performance of this algorithm by ensuring some masquerading process names are caught.**"
      ],
      "metadata": {
        "nteract": {
          "transient": {
            "deleting": false
          }
        }
      }
    },
    {
      "cell_type": "code",
      "source": [
        "normalEvents = getSyntheticEvents(\"normal\")\r\n",
        "potentiallyMaliciousEvents = getSyntheticEvents(\"malicious\")\r\n",
        "final = final.union(normalEvents).union(potentiallyMaliciousEvents)\r\n",
        "print(\"Count of SecurityEvents + Synthethically created 4688 events are : \", final.count())"
      ],
      "outputs": [],
      "execution_count": null,
      "metadata": {
        "jupyter": {
          "source_hidden": false,
          "outputs_hidden": false
        },
        "nteract": {
          "transient": {
            "deleting": false
          }
        }
      }
    },
    {
      "cell_type": "markdown",
      "source": [
        "**We are comparing frequent to infrequent processes to decide maliciousness of a process.**\r\n",
        "\r\n",
        "**The approach here is that we consider processes occuring more than 'frequentThreshold' percentile of the time as normal and those occuring less than 'infrequentThreshold' percentile of the time as potentially malicious. Those in the middle range are excluded from analysis because they fall in the grey area of being of relatively high popularity but falling below the first threshold.**\r\n",
        "\r\n",
        "**The values of these thresholds can be customized by you based on your needs.**"
      ],
      "metadata": {
        "nteract": {
          "transient": {
            "deleting": false
          }
        }
      }
    },
    {
      "cell_type": "code",
      "source": [
        "groupProcess = final.groupBy(\"Process\").count().sort(F.desc(\"count\"))\r\n",
        "groupProcess = groupProcess.select(\"Process\",\"count\", F.percent_rank().over(Window.partitionBy().orderBy(groupProcess['count'])).alias(\"percent_rank\"))\r\n",
        "groupProcess = groupProcess.sort(F.desc(\"percent_rank\"))\r\n",
        "\r\n",
        "frequentProcess = groupProcess.where(F.col(\"percent_rank\") >= frequentThreshold).select(\"Process\")\r\n",
        "frequentProcess = frequentProcess.withColumnRenamed(\"Process\", \"frequentProcess\")\r\n",
        "infrequentProcess = groupProcess.where(F.col(\"percent_rank\") < infrequentThreshold).select(\"Process\")\r\n",
        "infrequentProcess = infrequentProcess.withColumnRenamed(\"Process\", \"infrequentProcess\")\r\n",
        "\r\n",
        "print(\"There are \", frequentProcess.count(), \" normal processes in your data\")\r\n",
        "print(\"There are \", infrequentProcess.count(), \" potentially malicious processes in your data\")\r\n",
        "print(\"Examples of some potentially malicious processes: \")\r\n",
        "display(infrequentProcess)"
      ],
      "outputs": [],
      "execution_count": null,
      "metadata": {
        "jupyter": {
          "source_hidden": false,
          "outputs_hidden": false
        },
        "nteract": {
          "transient": {
            "deleting": false
          }
        },
        "collapsed": false
      }
    },
    {
      "cell_type": "markdown",
      "source": [
        "**Next we find the Levenshtein distance between the normal and potentially malicious processes to check whether we have any masquerading processes.**"
      ],
      "metadata": {
        "nteract": {
          "transient": {
            "deleting": false
          }
        }
      }
    },
    {
      "cell_type": "code",
      "source": [
        "compare = frequentProcess.crossJoin(infrequentProcess)\r\n",
        "compare = compare.withColumn(\"Dist\", calcDistUdf(F.col(\"frequentProcess\"), F.col(\"infrequentProcess\")))\r\n",
        "print(\"Showing the Levenshtein distances between various processes\")\r\n",
        "display(compare)"
      ],
      "outputs": [],
      "execution_count": null,
      "metadata": {
        "jupyter": {
          "source_hidden": false,
          "outputs_hidden": false
        },
        "nteract": {
          "transient": {
            "deleting": false
          }
        },
        "collapsed": false
      }
    },
    {
      "cell_type": "markdown",
      "source": [
        "**It is always useful to have the corresponding process paths from where the processes spawned to understand maliciousness of the process. This cell finds the paths of all the processes, for context. We also filter based on a threshold values which you can alter to better fit your criteria.**"
      ],
      "metadata": {
        "nteract": {
          "transient": {
            "deleting": false
          }
        }
      }
    },
    {
      "cell_type": "code",
      "source": [
        "frequentProcessWhole = compare.join(final, (final.Process == compare.frequentProcess), how = \"left\").drop(\"Process\")\r\n",
        "frequentProcessWhole = frequentProcessWhole.withColumnRenamed(\"NewProcessName\", \"frequentProcessPath\")\r\n",
        "frequentProcessWhole = frequentProcessWhole.withColumnRenamed(\"TimeGenerated\", \"frequentTimeGenerated\")\r\n",
        "frequentProcessWhole = frequentProcessWhole.withColumnRenamed(\"From\", \"frequentFrom\")\r\n",
        "\r\n",
        "infrequentProcessWhole = frequentProcessWhole.join(final, (final.Process == frequentProcessWhole.infrequentProcess), how = \"left\").drop(\"Process\")\r\n",
        "infrequentProcessWhole = infrequentProcessWhole.withColumnRenamed(\"NewProcessName\", \"infrequentProcessPath\")\r\n",
        "infrequentProcessWhole = infrequentProcessWhole.withColumnRenamed(\"TimeGenerated\", \"infrequentTimeGenerated\")\r\n",
        "infrequentProcessWhole = infrequentProcessWhole.withColumnRenamed(\"From\", \"infrequentFrom\")\r\n",
        "\r\n",
        "infrequentProcessWholeFiltered = infrequentProcessWhole.where(F.col(\"Dist\") > levenDistThreshold)\r\n",
        "print(\"Your anomalies: \")\r\n",
        "display(infrequentProcessWholeFiltered.where((F.col(\"frequentFrom\") == \"User\") & (F.col(\"infrequentFrom\") == \"User\")))\r\n",
        "\r\n",
        "print(\"Hardcoded anomalies examples\")\r\n",
        "display(infrequentProcessWholeFiltered.where((F.col(\"frequentFrom\") == \"Hardcoded\") | (F.col(\"infrequentFrom\") == \"Hardcoded\")))"
      ],
      "outputs": [],
      "execution_count": null,
      "metadata": {
        "jupyter": {
          "source_hidden": false,
          "outputs_hidden": false
        },
        "nteract": {
          "transient": {
            "deleting": false
          }
        },
        "collapsed": false
      }
    },
    {
      "cell_type": "markdown",
      "source": [
        "**To remove noise, we are extracting only the process names and path information of the potentially malicious process names.**"
      ],
      "metadata": {
        "nteract": {
          "transient": {
            "deleting": false
          }
        }
      }
    },
    {
      "cell_type": "code",
      "source": [
        "print(\"Showing potential anomalies after removing noise\")\r\n",
        "display(infrequentProcessWholeFiltered.drop(\"frequentTimeGenerated\", \"infrequentTimeGenerated\").distinct())"
      ],
      "outputs": [],
      "execution_count": null,
      "metadata": {
        "jupyter": {
          "source_hidden": false,
          "outputs_hidden": false
        },
        "nteract": {
          "transient": {
            "deleting": false
          }
        },
        "collapsed": false
      }
    },
    {
      "cell_type": "markdown",
      "source": [
        "**Sending results to Log Analytics**"
      ],
      "metadata": {
        "nteract": {
          "transient": {
            "deleting": false
          }
        }
      }
    },
    {
      "cell_type": "code",
      "source": [
        "def escape_str(str):\r\n",
        "  return str.replace('\\\\','\\\\\\\\')\r\n",
        "\r\n",
        "escape_strUdf = F.udf(escape_str, T.StringType())\r\n",
        "\r\n",
        "def send_results_to_log_analytics(df_to_la):\r\n",
        "  # The log type is the name of the event that is being submitted.  This will show up under \"Custom Logs\" as log_type + '_CL'\r\n",
        "  log_type = 'MasqueradingProcessNameResult'\r\n",
        "  df_to_la = df_to_la.withColumn('timestamp', F.current_timestamp())\r\n",
        "\r\n",
        "  # concatenate columns to form one json record\r\n",
        "  json_records = df_to_la.withColumn('json_field', F.concat(F.lit('{'), \r\n",
        "                                            F.lit(' \\\"TimeStamp\\\": \\\"'), F.from_unixtime(F.unix_timestamp(F.col(\"timestamp\")), \"y-MM-dd'T'hh:mm:ss.SSS'Z'\"), F.lit('\\\",'),\r\n",
        "                                            F.lit(' \\\"NormalProcess\\\": \\\"'), escape_strUdf(F.col('frequentProcess')), F.lit('\\\",'),\r\n",
        "                                            F.lit(' \\\"PotentiallyMaliciousProcess\\\": \\\"'), escape_strUdf(F.col('infrequentProcess')), F.lit('\\\",'),\r\n",
        "                                            F.lit(' \\\"AnomalyScore\\\":'), F.col('Dist'),\r\n",
        "                                            F.lit('}')\r\n",
        "                                           )                       \r\n",
        "                                         )\r\n",
        "  # combine json record column to create the array\r\n",
        "  json_body = json_records.agg(F.concat_ws(\", \", F.collect_list('json_field')).alias('body'))\r\n",
        "\r\n",
        "  if len(json_body.first()) > 0:\r\n",
        "    json_payload = json_body.first()['body']\r\n",
        "    json_payload = '[' + json_payload + ']'\r\n",
        "\r\n",
        "    payload = json_payload.encode('utf-8')\r\n",
        "    return log_analytics_client(workspaceId, workspaceSharedKey).post_data(payload, log_type)\r\n",
        "  else:\r\n",
        "    return \"No json data to send to LA\""
      ],
      "outputs": [],
      "execution_count": null,
      "metadata": {
        "jupyter": {
          "source_hidden": false,
          "outputs_hidden": false
        },
        "nteract": {
          "transient": {
            "deleting": false
          }
        }
      }
    },
    {
      "cell_type": "code",
      "source": [
        "print(\"Sending results to LogAnalytics\")\r\n",
        "print(\"Sending \", infrequentProcessWholeFiltered.count(), \" results to Log Analytics\")\r\n",
        "send_results_to_log_analytics(infrequentProcessWholeFiltered)\r\n",
        "print(\"Done\")"
      ],
      "outputs": [],
      "execution_count": null,
      "metadata": {
        "jupyter": {
          "source_hidden": false,
          "outputs_hidden": false
        },
        "nteract": {
          "transient": {
            "deleting": false
          }
        }
      }
    }
  ],
  "metadata": {
    "kernelspec": {
      "name": "synapse_pyspark",
      "display_name": "Synapse PySpark"
    },
    "language_info": {
      "name": "python"
    },
    "description": null,
    "save_output": false,
    "synapse_widget": {
      "version": "0.1",
      "state": {}
    }
  },
  "nbformat": 4,
  "nbformat_minor": 2
}