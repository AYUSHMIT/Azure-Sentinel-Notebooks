{
 "cells": [
  {
   "cell_type": "markdown",
   "metadata": {},
   "source": [
    "# Entity Explorer - Account\n",
    " <details>\n",
    "     <summary>&nbsp;<u>Details...</u></summary>\n",
    "\n",
    " **Notebook Version:** 2.0<br>\n",
    " **Python Version:** Python 3.8+<br>\n",
    " **Required Packages**: kqlmagic, msticpy, pandas, numpy, matplotlib, networkx, ipywidgets, ipython, dnspython, ipwhois, folium, maxminddb_geolite2, msticnb<br>\n",
    "\n",
    " **Data Sources Required**:\n",
    " - Log Analytics - SecurityAlert, SecurityEvent, HuntingBookmark, Syslog, AAD SigninLogs, AzureActivity, OfficeActivity, ThreatIndicator\n",
    " - (Optional) - VirusTotal, AlienVault OTX, IBM XForce, Open Page Rank, (all require accounts and API keys)\n",
    " </details>\n",
    "\n",
    " Brings together a series of queries and visualizations to help you determine the security state of an Account. The account can be a Windows or Linux account or an Azure Active Directory/Office 365 account.\n",
    "\n",
    "The Notebook contains sections for reviewing activity for Host accounts (Linux and Windows) and for Azure Active Directory accounts. It also has a general section that looks for related items independent of the account type."
   ]
  },
  {
   "cell_type": "markdown",
   "metadata": {
    "toc": true
   },
   "source": [
    "<!DOCTYPE html>\n",
    "<html>\n",
    "  <head>\n",
    "  </head>\n",
    "  <body>\n",
    "    <h1>Contents<span class=\"tocSkip\"></span></h1>\n",
    "    <div class=\"toc\">\n",
    "      <ul class=\"toc-item\">\n",
    "        <li><span><a href=\"#Hunting-Hypothesis\">Hunting Hypothesis</a></span></li>\n",
    "        <li><span><a href=\"#Notebook-initialization\">Notebook initialization</a></span></li>\n",
    "        <li><span><a href=\"#Enter-account-name-and-query-time\">Enter account\n",
    "              name and query time</a></span></li>\n",
    "        <li><span><a href=\"#Run-the-main-account_summary-function\">Run the main\n",
    "              account_summary function</a></span></li>\n",
    "        <li><span><a href=\"#Retrieve-additional-data-for-the-selected-account\">Retrieve\n",
    "              additional data for the selected account</a></span></li>\n",
    "        <li><span><a href=\"#Browse-alerts\">Browse alerts</a></span></li>\n",
    "        <li><span><a href=\"#Browse-other-event-data\">Browse other event data</a></span></li>\n",
    "        <li><span><a href=\"#More-operations-available\">\n",
    "              Using additional properties and methods of the result object<br>\n",
    "            </a></span></li>\n",
    "        <li><span><a href=\"#More-information\">More information</a></span></li>\n",
    "      </ul>\n",
    "    </div>\n",
    "    \n",
    "  </body>\n",
    "</html>\n"
   ]
  },
  {
   "cell_type": "markdown",
   "metadata": {},
   "source": [
    "## Hunting Hypothesis\n",
    "Our broad initial hunting hypothesis is that a we have received account name entity which is suspected to be compromised and is being used malicious manner in internal networks, we will need to hunt from a range of different positions to validate or disprove this hypothesis."
   ]
  },
  {
   "cell_type": "markdown",
   "metadata": {},
   "source": [
    "---\n",
    "# Notebook initialization\n",
    "This should complete without errors. If you encounter errors or warnings look at the following notebooks:\n",
    "\n",
    "- <a href=\"https://github.com/Azure/Azure-Sentinel-Notebooks/blob/master/A%20Getting%20Started%20Guide%20For%20Azure%20Sentinel%20ML%20Notebooks.ipynb\">Getting Started Notebook</a>\n",
    "- [TroubleShootingNotebooks](https://github.com/Azure/Azure-Sentinel-Notebooks/blob/master/TroubleShootingNotebooks.ipynb)\n",
    "- [ConfiguringNotebookEnvironment](https://github.com/Azure/Azure-Sentinel-Notebooks/blob/master/ConfiguringNotebookEnvironment.ipynb)\n",
    "\n",
    "<details>\n",
    "    <summary>&nbsp;<u>Details...</u></summary>\n",
    "The next cell:\n",
    "- Checks for the correct Python version\n",
    "- Checks versions and optionally installs required packages\n",
    "- Imports the required packages into the notebook\n",
    "- Sets a number of configuration options.\n",
    "\n",
    "If you are running in the Azure Sentinel Notebooks environment (Azure Notebooks or Azure ML) you can run live versions of these notebooks:\n",
    "- [Getting Started](./A Getting Started Guide For Azure Sentinel ML Notebooks.ipynb)\n",
    "- [Run TroubleShootingNotebooks](./TroubleShootingNotebooks.ipynb)\n",
    "- [Run ConfiguringNotebookEnvironment](./ConfiguringNotebookEnvironment.ipynb)\n",
    "\n",
    "You may also need to do some additional configuration to successfully use functions such as Threat Intelligence service lookup and Geo IP lookup. \n",
    "There are more details about this in the `ConfiguringNotebookEnvironment` notebook and in these documents:\n",
    "- [msticpy configuration](https://msticpy.readthedocs.io/en/latest/getting_started/msticpyconfig.html)\n",
    "- [Threat intelligence provider configuration](https://msticpy.readthedocs.io/en/latest/data_acquisition/TIProviders.html#configuration-file)\n",
    "</details>"
   ]
  },
  {
   "cell_type": "code",
   "execution_count": 2,
   "metadata": {},
   "outputs": [
    {
     "data": {
      "text/html": [
       "<h3>Starting Notebook setup...</h3>"
      ],
      "text/plain": [
       "<IPython.core.display.HTML object>"
      ]
     },
     "metadata": {},
     "output_type": "display_data"
    },
    {
     "name": "stdout",
     "output_type": "stream",
     "text": [
      "All packages are already installed\n"
     ]
    },
    {
     "data": {
      "text/html": [
       "\n",
       "This product includes GeoLite2 data created by MaxMind, available from\n",
       "<a href=\"https://www.maxmind.com\">https://www.maxmind.com</a>.\n"
      ],
      "text/plain": [
       "<IPython.core.display.HTML object>"
      ]
     },
     "metadata": {},
     "output_type": "display_data"
    },
    {
     "data": {
      "text/html": [
       "\n",
       "This library uses services provided by ipstack.\n",
       "<a href=\"https://ipstack.com\">https://ipstack.com</a>"
      ],
      "text/plain": [
       "<IPython.core.display.HTML object>"
      ]
     },
     "metadata": {},
     "output_type": "display_data"
    }
   ],
   "source": [
    "from pathlib import Path\n",
    "from IPython.display import display, HTML\n",
    "from datetime import datetime, timedelta, timezone\n",
    "\n",
    "REQ_PYTHON_VER = \"3.8\"\n",
    "REQ_MSTICPY_VER = \"1.7.5\"\n",
    "\n",
    "\n",
    "# %pip install --upgrade msticpy\n",
    "display(HTML(\"<h3>Starting Notebook setup...</h3>\"))\n",
    "\n",
    "import msticpy\n",
    "msticpy.init_notebook(\n",
    "    namespace=globals(),\n",
    "    additional_packages=[\"msticnb>=0.2\"],\n",
    "    verbosity=0,\n",
    ");\n"
   ]
  },
  {
   "cell_type": "code",
   "execution_count": 3,
   "metadata": {
    "tags": [
     "parameters"
    ]
   },
   "outputs": [],
   "source": [
    "# papermill default parameters\n",
    "ws_name = \"Default\"\n",
    "account_name = \"\"\n",
    "account_types = [\"All\"]  # Windows, Linux, Azure, All\n",
    "end = datetime.now(timezone.utc)\n",
    "start = end - timedelta(days=2)\n"
   ]
  },
  {
   "cell_type": "markdown",
   "metadata": {},
   "source": [
    "### Get Workspace and Authenticate\n",
    "<details>\n",
    "    <summary>&nbsp;<u>Details...</u></summary>\n",
    "If you are using user/device authentication, run the following cell. \n",
    "- Click the 'Copy code to clipboard and authenticate' button.<br>\n",
    "- This will pop up an Azure Active Directory authentication dialog (in a new tab or browser window). The device code will have been copied to the clipboard. <br>\n",
    "- Select the text box and paste (Ctrl-V/Cmd-V) the copied value. <br>\n",
    "- You should then be redirected to a user authentication page where you should authenticate with a user account that has permission to query your Log Analytics workspace.<br>\n",
    "\n",
    "\n",
    "To find your Workspace Id go to [Log Analytics](https://ms.portal.azure.com/#blade/HubsExtension/Resources/resourceType/Microsoft.OperationalInsights%2Fworkspaces). Look at the workspace properties to find the ID.\n",
    "</details>"
   ]
  },
  {
   "cell_type": "code",
   "execution_count": 4,
   "metadata": {},
   "outputs": [
    {
     "name": "stdout",
     "output_type": "stream",
     "text": [
      "Configured workspaces:  ASIHuntOMSWorkspaceV4, CCIS, Centrica, CyberSecuritySoc, Default, GovCyberSecuritySOC, NationalGrid, RedmondSentinelDemoEnvironment\n"
     ]
    },
    {
     "data": {
      "application/vnd.jupyter.widget-view+json": {
       "model_id": "0eba5b3732dc4f97a59926a6d88a8844",
       "version_major": 2,
       "version_minor": 0
      },
      "text/plain": [
       "Text(value='Default', description='Workspace Name', layout=Layout(width='50%'), style=DescriptionStyle(descripâ€¦"
      ]
     },
     "metadata": {},
     "output_type": "display_data"
    }
   ],
   "source": [
    "print(\"Configured workspaces: \", \", \".join(msticpy.settings.get_config(\"AzureSentinel.Workspaces\").keys()))\n",
    "ws_param = nbwidgets.GetText(\n",
    "    description=\"Workspace Name\",\n",
    "    default=ws_name,\n",
    ")\n",
    "ws_param"
   ]
  },
  {
   "cell_type": "code",
   "execution_count": 5,
   "metadata": {},
   "outputs": [
    {
     "name": "stdout",
     "output_type": "stream",
     "text": [
      "Please wait. Loading Kqlmagic extension...done\n",
      "Connecting... "
     ]
    },
    {
     "data": {
      "text/html": [
       "<!DOCTYPE html>\n",
       "            <html><body>\n",
       "            <div style=''>\n",
       "            <a href='http://127.0.0.1:2665/webbrowser?url=http%3A//127.0.0.1%3A2665/files/.kqlmagic/temp_files/81cc3c9f-8040-41d4-8696-5eed869ea505/popup__8ecf8077-cf51-4820-aadd-14040956f35d_at_loganalytics_schema.html%3Fkernelid%3D81cc3c9f-8040-41d4-8696-5eed869ea505&kernelid=81cc3c9f-8040-41d4-8696-5eed869ea505' style='padding: 2px 6px 2px 6px; color: #333333; background-color: #EEEEEE; border-top: 1px solid #CCCCCC; border-right: 1px solid #333333; border-bottom: 1px solid #333333; border-left: 1px solid #CCCCCC' target='popup__8ecf8077-cf51-4820-aadd-14040956f35d_at_loganalytics_schema'>popup schema 8ecf8077-cf51-4820-aadd-14040956f35d@loganalytics</a>\n",
       "            </div>\n",
       "            </body></html>"
      ],
      "text/plain": [
       "<IPython.core.display.HTML object>"
      ]
     },
     "metadata": {},
     "output_type": "display_data"
    },
    {
     "name": "stdout",
     "output_type": "stream",
     "text": [
      "connected\n"
     ]
    },
    {
     "data": {
      "text/html": [
       "<p style=''><hr></p>"
      ],
      "text/plain": [
       "<IPython.core.display.HTML object>"
      ]
     },
     "metadata": {},
     "output_type": "display_data"
    },
    {
     "data": {
      "text/html": [
       "<p style='font-weight: bold'>Confirm time range to search</p>"
      ],
      "text/plain": [
       "<IPython.core.display.HTML object>"
      ]
     },
     "metadata": {},
     "output_type": "display_data"
    },
    {
     "data": {
      "application/vnd.jupyter.widget-view+json": {
       "model_id": "18d7cd938ecb4658a8e0d5d05e9687ab",
       "version_major": 2,
       "version_minor": 0
      },
      "text/plain": [
       "VBox(children=(HTML(value='<h4>Set query time boundaries</h4>'), HBox(children=(DatePicker(value=datetime.dateâ€¦"
      ]
     },
     "metadata": {},
     "output_type": "display_data"
    }
   ],
   "source": [
    "from msticpy.common.timespan import TimeSpan\n",
    "\n",
    "# Authentication\n",
    "qry_prov = QueryProvider(data_environment=\"MSSentinel\")\n",
    "qry_prov.connect(WorkspaceConfig(workspace=ws_param.value))\n",
    "\n",
    "nb_timespan = TimeSpan(start, end)\n",
    "qry_prov.query_time.timespan = nb_timespan\n",
    "md(\"<hr>\")\n",
    "md(\"Confirm time range to search\", \"bold\")\n",
    "qry_prov.query_time"
   ]
  },
  {
   "cell_type": "markdown",
   "metadata": {},
   "source": [
    "#### Authentication and Configuration problems?\n",
    "\n",
    "If you are having problems, expand the details section below\n",
    "<br>\n",
    "<details>\n",
    "    <summary>Click for details about configuring your authentication parameters</summary>\n",
    "    \n",
    "    \n",
    "The notebook is expecting your Azure Sentinel Tenant ID and Workspace ID to be configured in one of the following places:\n",
    "- `config.json` in the current folder\n",
    "- `msticpyconfig.yaml` in the current folder or location specified by `MSTICPYCONFIG` environment variable.\n",
    "    \n",
    "For help with setting up your configuration (if this hasn't been done automatically) see the [Getting Started](./A Getting Started Guide For Azure Sentinel ML Notebooks.ipynb) notebook in the root folder of your Azure-Sentinel-Notebooks project.\n",
    "</details>"
   ]
  },
  {
   "cell_type": "markdown",
   "metadata": {},
   "source": [
    "## Import and initialize notebooklets\n",
    "\n",
    "These are needed for many of the notebook operations"
   ]
  },
  {
   "cell_type": "code",
   "execution_count": 6,
   "metadata": {},
   "outputs": [
    {
     "name": "stdout",
     "output_type": "stream",
     "text": [
      "Notebooklets: 9 notebooklets loaded.\n",
      "Using Open PageRank. See https://www.domcop.com/openpagerank/what-is-openpagerank\n",
      "Notebooklets: Loaded providers: AzureSentinel, geolitelookup, tilookup\n"
     ]
    }
   ],
   "source": [
    "import msticnb as nb\n",
    "\n",
    "nb.init(query_provider=qry_prov)\n",
    "pivot.timespan = qry_prov.query_time.timespan"
   ]
  },
  {
   "cell_type": "markdown",
   "metadata": {},
   "source": [
    "# Enter account name and query time window\n",
    "Type the account name that you want to search for and the time bounds over which you want to search. \n",
    "\n",
    "You can specify the account as:\n",
    "\n",
    "- a simple user name (e.g. `alice`)\n",
    "- a user principal name (`alice@contoso.com`)\n",
    "- a qualified windows user name `mydomain\\alice`\n",
    "\n",
    "In the second two cases the domain qualifier will be stripped off before the search. The search is not case sensitive and will match full substrings. E.g. `bob` will match `domain\\bob` and `bob@contoso.com` but not `bobg` or `bo`."
   ]
  },
  {
   "cell_type": "code",
   "execution_count": 7,
   "metadata": {},
   "outputs": [
    {
     "data": {
      "application/vnd.jupyter.widget-view+json": {
       "model_id": "1632de1fe68e4075bfe3ff928e341cb3",
       "version_major": 2,
       "version_minor": 0
      },
      "text/plain": [
       "Text(value='', description='Enter the Account name to search for:', layout=Layout(width='50%'), style=Descriptâ€¦"
      ]
     },
     "metadata": {},
     "output_type": "display_data"
    },
    {
     "data": {
      "text/html": [
       "<p style=''><hr></p>"
      ],
      "text/plain": [
       "<IPython.core.display.HTML object>"
      ]
     },
     "metadata": {},
     "output_type": "display_data"
    }
   ],
   "source": [
    "account_txt = nbwidgets.GetText(prompt='Enter the Account name to search for:', value=account_name)\n",
    "\n",
    "display(account_txt)\n",
    "md(\"<hr>\")"
   ]
  },
  {
   "cell_type": "code",
   "execution_count": 8,
   "metadata": {},
   "outputs": [
    {
     "data": {
      "application/vnd.jupyter.widget-view+json": {
       "model_id": "01611ca85d1c4fd79bd5272124e54a38",
       "version_major": 2,
       "version_minor": 0
      },
      "text/plain": [
       "SelectMultiple(description='Select Account types to search', index=(6,), layout=Layout(width='95%'), options=(â€¦"
      ]
     },
     "metadata": {},
     "output_type": "display_data"
    }
   ],
   "source": [
    "from msticnb.nb.azsent.account.account_summary import AccountType\n",
    "acct_types = [item.name for item in AccountType]\n",
    "import ipywidgets as widgets\n",
    "acct_types_select = widgets.SelectMultiple(\n",
    "    description=\"Select Account types to search\",\n",
    "    options=acct_types,\n",
    "    value=account_types or acct_types,\n",
    "    **WIDGET_DEFAULTS,\n",
    ")\n",
    "acct_types_select\n"
   ]
  },
  {
   "cell_type": "markdown",
   "metadata": {},
   "source": [
    "# Run the main *account_summary* function\n",
    "\n",
    "If more than one matching account name is found, all matches will be shown. \n",
    "\n",
    "You can select each one to view more details about the account.\n",
    "\n",
    "> Note: this is run as a pivot function from the Account entity.\n",
    "> You can also run it directly as a Notebooklet function by \n",
    "> creating and instance of `nb.nblt.azsent.account.AccountSummary()`\n",
    "> and executing the `run()` method\n",
    "\n",
    "```python\n",
    ">>> acct_nb = nb.nblt.azsent.account.AccountSummary()\n",
    ">>> acct_result = acct_nb.run(pivot.timespan, \"account_name\")  # subtitute the \"account_name\" with the name to search\n",
    "```"
   ]
  },
  {
   "cell_type": "code",
   "execution_count": 9,
   "metadata": {},
   "outputs": [
    {
     "data": {
      "text/html": [
       "<h1>Account Summary</h1>"
      ],
      "text/plain": [
       "<IPython.core.display.HTML object>"
      ]
     },
     "metadata": {},
     "output_type": "display_data"
    },
    {
     "data": {
      "text/html": [
       "This function searches Active Directory, Azure, Office365, Windows and Linux logs for matching accounts.<br>If any matches are found you can choose an account to explore, viewing the times of recent event types, any alerts and hunting bookmarks that relate to the account name.<br>You can also retrieve recent details of the logon activity or cloud activity for the account.<br>For further investigation use the host_logons_summary notebooklet for Windows and Linux host logons."
      ],
      "text/plain": [
       "<IPython.core.display.HTML object>"
      ]
     },
     "metadata": {},
     "output_type": "display_data"
    },
    {
     "data": {
      "text/html": [
       "<h3>Querying for account matches.</h3>"
      ],
      "text/plain": [
       "<IPython.core.display.HTML object>"
      ]
     },
     "metadata": {},
     "output_type": "display_data"
    },
    {
     "data": {
      "text/html": [
       " Searching through Active Directory, Windows and Linux events. This may take a few moments to complete. "
      ],
      "text/plain": [
       "<IPython.core.display.HTML object>"
      ]
     },
     "metadata": {},
     "output_type": "display_data"
    },
    {
     "data": {
      "text/html": [
       "<p style=''>Getting data from AADSignin...</p>"
      ],
      "text/plain": [
       "<IPython.core.display.HTML object>"
      ]
     },
     "metadata": {},
     "output_type": "display_data"
    },
    {
     "data": {
      "text/html": [
       "<p style=''>  1 records in AAD</p>"
      ],
      "text/plain": [
       "<IPython.core.display.HTML object>"
      ]
     },
     "metadata": {},
     "output_type": "display_data"
    },
    {
     "data": {
      "text/html": [
       "<p style=''>Getting data from Office365Activity...</p>"
      ],
      "text/plain": [
       "<IPython.core.display.HTML object>"
      ]
     },
     "metadata": {},
     "output_type": "display_data"
    },
    {
     "data": {
      "text/html": [
       "<p style=''>  1 records in Office Activity</p>"
      ],
      "text/plain": [
       "<IPython.core.display.HTML object>"
      ]
     },
     "metadata": {},
     "output_type": "display_data"
    },
    {
     "data": {
      "text/html": [
       "<p style=''>Getting data from Windows Logon activity...</p>"
      ],
      "text/plain": [
       "<IPython.core.display.HTML object>"
      ]
     },
     "metadata": {},
     "output_type": "display_data"
    },
    {
     "data": {
      "text/html": [
       "<p style=''>  1 records in Windows logon data</p>"
      ],
      "text/plain": [
       "<IPython.core.display.HTML object>"
      ]
     },
     "metadata": {},
     "output_type": "display_data"
    },
    {
     "data": {
      "text/html": [
       "<p style=''>Getting data from Linux logon activity...</p>"
      ],
      "text/plain": [
       "<IPython.core.display.HTML object>"
      ]
     },
     "metadata": {},
     "output_type": "display_data"
    },
    {
     "data": {
      "text/html": [
       "<p style=''>  0 records in Linux logon data</p>"
      ],
      "text/plain": [
       "<IPython.core.display.HTML object>"
      ]
     },
     "metadata": {},
     "output_type": "display_data"
    },
    {
     "data": {
      "text/html": [
       "<p style=''>Found 3 total records.</p>"
      ],
      "text/plain": [
       "<IPython.core.display.HTML object>"
      ]
     },
     "metadata": {},
     "output_type": "display_data"
    },
    {
     "data": {
      "text/html": [
       "<p style=''><hr></p>"
      ],
      "text/plain": [
       "<IPython.core.display.HTML object>"
      ]
     },
     "metadata": {},
     "output_type": "display_data"
    },
    {
     "data": {
      "text/html": [
       "<p style='font-size: 130%'>Multiple matching accounts found, select one to see details.</p>"
      ],
      "text/plain": [
       "<IPython.core.display.HTML object>"
      ]
     },
     "metadata": {},
     "output_type": "display_data"
    },
    {
     "data": {
      "application/vnd.jupyter.widget-view+json": {
       "model_id": "5bcf7eef8f594489a27897a4aa2bd722",
       "version_major": 2,
       "version_minor": 0
      },
      "text/plain": [
       "VBox(children=(Text(value='KElsea   Windows (Last activity: 2022-04-13 16:25:12.103000+00:00)', description='Fâ€¦"
      ]
     },
     "metadata": {},
     "output_type": "display_data"
    },
    {
     "data": {
      "text/html": [
       "<hr>"
      ],
      "text/plain": [
       "<IPython.core.display.HTML object>"
      ]
     },
     "metadata": {},
     "output_type": "display_data"
    },
    {
     "data": {
      "text/html": [
       "<p style=''>Getting data from Alerts...</p>"
      ],
      "text/plain": [
       "<IPython.core.display.HTML object>"
      ]
     },
     "metadata": {},
     "output_type": "display_data"
    },
    {
     "data": {
      "text/html": [
       "\n",
       "    <div class=\"bk-root\">\n",
       "        <a href=\"https://bokeh.org\" target=\"_blank\" class=\"bk-logo bk-logo-small bk-logo-notebook\"></a>\n",
       "        <span id=\"1002\">Loading BokehJS ...</span>\n",
       "    </div>"
      ]
     },
     "metadata": {},
     "output_type": "display_data"
    },
    {
     "data": {
      "application/javascript": [
       "\n",
       "(function(root) {\n",
       "  function now() {\n",
       "    return new Date();\n",
       "  }\n",
       "\n",
       "  const force = true;\n",
       "\n",
       "  if (typeof root._bokeh_onload_callbacks === \"undefined\" || force === true) {\n",
       "    root._bokeh_onload_callbacks = [];\n",
       "    root._bokeh_is_loading = undefined;\n",
       "  }\n",
       "\n",
       "  const JS_MIME_TYPE = 'application/javascript';\n",
       "  const HTML_MIME_TYPE = 'text/html';\n",
       "  const EXEC_MIME_TYPE = 'application/vnd.bokehjs_exec.v0+json';\n",
       "  const CLASS_NAME = 'output_bokeh rendered_html';\n",
       "\n",
       "  /**\n",
       "   * Render data to the DOM node\n",
       "   */\n",
       "  function render(props, node) {\n",
       "    const script = document.createElement(\"script\");\n",
       "    node.appendChild(script);\n",
       "  }\n",
       "\n",
       "  /**\n",
       "   * Handle when an output is cleared or removed\n",
       "   */\n",
       "  function handleClearOutput(event, handle) {\n",
       "    const cell = handle.cell;\n",
       "\n",
       "    const id = cell.output_area._bokeh_element_id;\n",
       "    const server_id = cell.output_area._bokeh_server_id;\n",
       "    // Clean up Bokeh references\n",
       "    if (id != null && id in Bokeh.index) {\n",
       "      Bokeh.index[id].model.document.clear();\n",
       "      delete Bokeh.index[id];\n",
       "    }\n",
       "\n",
       "    if (server_id !== undefined) {\n",
       "      // Clean up Bokeh references\n",
       "      const cmd_clean = \"from bokeh.io.state import curstate; print(curstate().uuid_to_server['\" + server_id + \"'].get_sessions()[0].document.roots[0]._id)\";\n",
       "      cell.notebook.kernel.execute(cmd_clean, {\n",
       "        iopub: {\n",
       "          output: function(msg) {\n",
       "            const id = msg.content.text.trim();\n",
       "            if (id in Bokeh.index) {\n",
       "              Bokeh.index[id].model.document.clear();\n",
       "              delete Bokeh.index[id];\n",
       "            }\n",
       "          }\n",
       "        }\n",
       "      });\n",
       "      // Destroy server and session\n",
       "      const cmd_destroy = \"import bokeh.io.notebook as ion; ion.destroy_server('\" + server_id + \"')\";\n",
       "      cell.notebook.kernel.execute(cmd_destroy);\n",
       "    }\n",
       "  }\n",
       "\n",
       "  /**\n",
       "   * Handle when a new output is added\n",
       "   */\n",
       "  function handleAddOutput(event, handle) {\n",
       "    const output_area = handle.output_area;\n",
       "    const output = handle.output;\n",
       "\n",
       "    // limit handleAddOutput to display_data with EXEC_MIME_TYPE content only\n",
       "    if ((output.output_type != \"display_data\") || (!Object.prototype.hasOwnProperty.call(output.data, EXEC_MIME_TYPE))) {\n",
       "      return\n",
       "    }\n",
       "\n",
       "    const toinsert = output_area.element.find(\".\" + CLASS_NAME.split(' ')[0]);\n",
       "\n",
       "    if (output.metadata[EXEC_MIME_TYPE][\"id\"] !== undefined) {\n",
       "      toinsert[toinsert.length - 1].firstChild.textContent = output.data[JS_MIME_TYPE];\n",
       "      // store reference to embed id on output_area\n",
       "      output_area._bokeh_element_id = output.metadata[EXEC_MIME_TYPE][\"id\"];\n",
       "    }\n",
       "    if (output.metadata[EXEC_MIME_TYPE][\"server_id\"] !== undefined) {\n",
       "      const bk_div = document.createElement(\"div\");\n",
       "      bk_div.innerHTML = output.data[HTML_MIME_TYPE];\n",
       "      const script_attrs = bk_div.children[0].attributes;\n",
       "      for (let i = 0; i < script_attrs.length; i++) {\n",
       "        toinsert[toinsert.length - 1].firstChild.setAttribute(script_attrs[i].name, script_attrs[i].value);\n",
       "        toinsert[toinsert.length - 1].firstChild.textContent = bk_div.children[0].textContent\n",
       "      }\n",
       "      // store reference to server id on output_area\n",
       "      output_area._bokeh_server_id = output.metadata[EXEC_MIME_TYPE][\"server_id\"];\n",
       "    }\n",
       "  }\n",
       "\n",
       "  function register_renderer(events, OutputArea) {\n",
       "\n",
       "    function append_mime(data, metadata, element) {\n",
       "      // create a DOM node to render to\n",
       "      const toinsert = this.create_output_subarea(\n",
       "        metadata,\n",
       "        CLASS_NAME,\n",
       "        EXEC_MIME_TYPE\n",
       "      );\n",
       "      this.keyboard_manager.register_events(toinsert);\n",
       "      // Render to node\n",
       "      const props = {data: data, metadata: metadata[EXEC_MIME_TYPE]};\n",
       "      render(props, toinsert[toinsert.length - 1]);\n",
       "      element.append(toinsert);\n",
       "      return toinsert\n",
       "    }\n",
       "\n",
       "    /* Handle when an output is cleared or removed */\n",
       "    events.on('clear_output.CodeCell', handleClearOutput);\n",
       "    events.on('delete.Cell', handleClearOutput);\n",
       "\n",
       "    /* Handle when a new output is added */\n",
       "    events.on('output_added.OutputArea', handleAddOutput);\n",
       "\n",
       "    /**\n",
       "     * Register the mime type and append_mime function with output_area\n",
       "     */\n",
       "    OutputArea.prototype.register_mime_type(EXEC_MIME_TYPE, append_mime, {\n",
       "      /* Is output safe? */\n",
       "      safe: true,\n",
       "      /* Index of renderer in `output_area.display_order` */\n",
       "      index: 0\n",
       "    });\n",
       "  }\n",
       "\n",
       "  // register the mime type if in Jupyter Notebook environment and previously unregistered\n",
       "  if (root.Jupyter !== undefined) {\n",
       "    const events = require('base/js/events');\n",
       "    const OutputArea = require('notebook/js/outputarea').OutputArea;\n",
       "\n",
       "    if (OutputArea.prototype.mime_types().indexOf(EXEC_MIME_TYPE) == -1) {\n",
       "      register_renderer(events, OutputArea);\n",
       "    }\n",
       "  }\n",
       "\n",
       "  \n",
       "  if (typeof (root._bokeh_timeout) === \"undefined\" || force === true) {\n",
       "    root._bokeh_timeout = Date.now() + 5000;\n",
       "    root._bokeh_failed_load = false;\n",
       "  }\n",
       "\n",
       "  const NB_LOAD_WARNING = {'data': {'text/html':\n",
       "     \"<div style='background-color: #fdd'>\\n\"+\n",
       "     \"<p>\\n\"+\n",
       "     \"BokehJS does not appear to have successfully loaded. If loading BokehJS from CDN, this \\n\"+\n",
       "     \"may be due to a slow or bad network connection. Possible fixes:\\n\"+\n",
       "     \"</p>\\n\"+\n",
       "     \"<ul>\\n\"+\n",
       "     \"<li>re-rerun `output_notebook()` to attempt to load from CDN again, or</li>\\n\"+\n",
       "     \"<li>use INLINE resources instead, as so:</li>\\n\"+\n",
       "     \"</ul>\\n\"+\n",
       "     \"<code>\\n\"+\n",
       "     \"from bokeh.resources import INLINE\\n\"+\n",
       "     \"output_notebook(resources=INLINE)\\n\"+\n",
       "     \"</code>\\n\"+\n",
       "     \"</div>\"}};\n",
       "\n",
       "  function display_loaded() {\n",
       "    const el = document.getElementById(\"1002\");\n",
       "    if (el != null) {\n",
       "      el.textContent = \"BokehJS is loading...\";\n",
       "    }\n",
       "    if (root.Bokeh !== undefined) {\n",
       "      if (el != null) {\n",
       "        el.textContent = \"BokehJS \" + root.Bokeh.version + \" successfully loaded.\";\n",
       "      }\n",
       "    } else if (Date.now() < root._bokeh_timeout) {\n",
       "      setTimeout(display_loaded, 100)\n",
       "    }\n",
       "  }\n",
       "\n",
       "\n",
       "  function run_callbacks() {\n",
       "    try {\n",
       "      root._bokeh_onload_callbacks.forEach(function(callback) {\n",
       "        if (callback != null)\n",
       "          callback();\n",
       "      });\n",
       "    } finally {\n",
       "      delete root._bokeh_onload_callbacks\n",
       "    }\n",
       "    console.debug(\"Bokeh: all callbacks have finished\");\n",
       "  }\n",
       "\n",
       "  function load_libs(css_urls, js_urls, callback) {\n",
       "    if (css_urls == null) css_urls = [];\n",
       "    if (js_urls == null) js_urls = [];\n",
       "\n",
       "    root._bokeh_onload_callbacks.push(callback);\n",
       "    if (root._bokeh_is_loading > 0) {\n",
       "      console.debug(\"Bokeh: BokehJS is being loaded, scheduling callback at\", now());\n",
       "      return null;\n",
       "    }\n",
       "    if (js_urls == null || js_urls.length === 0) {\n",
       "      run_callbacks();\n",
       "      return null;\n",
       "    }\n",
       "    console.debug(\"Bokeh: BokehJS not loaded, scheduling load and callback at\", now());\n",
       "    root._bokeh_is_loading = css_urls.length + js_urls.length;\n",
       "\n",
       "    function on_load() {\n",
       "      root._bokeh_is_loading--;\n",
       "      if (root._bokeh_is_loading === 0) {\n",
       "        console.debug(\"Bokeh: all BokehJS libraries/stylesheets loaded\");\n",
       "        run_callbacks()\n",
       "      }\n",
       "    }\n",
       "\n",
       "    function on_error(url) {\n",
       "      console.error(\"failed to load \" + url);\n",
       "    }\n",
       "\n",
       "    for (let i = 0; i < css_urls.length; i++) {\n",
       "      const url = css_urls[i];\n",
       "      const element = document.createElement(\"link\");\n",
       "      element.onload = on_load;\n",
       "      element.onerror = on_error.bind(null, url);\n",
       "      element.rel = \"stylesheet\";\n",
       "      element.type = \"text/css\";\n",
       "      element.href = url;\n",
       "      console.debug(\"Bokeh: injecting link tag for BokehJS stylesheet: \", url);\n",
       "      document.body.appendChild(element);\n",
       "    }\n",
       "\n",
       "    for (let i = 0; i < js_urls.length; i++) {\n",
       "      const url = js_urls[i];\n",
       "      const element = document.createElement('script');\n",
       "      element.onload = on_load;\n",
       "      element.onerror = on_error.bind(null, url);\n",
       "      element.async = false;\n",
       "      element.src = url;\n",
       "      console.debug(\"Bokeh: injecting script tag for BokehJS library: \", url);\n",
       "      document.head.appendChild(element);\n",
       "    }\n",
       "  };\n",
       "\n",
       "  function inject_raw_css(css) {\n",
       "    const element = document.createElement(\"style\");\n",
       "    element.appendChild(document.createTextNode(css));\n",
       "    document.body.appendChild(element);\n",
       "  }\n",
       "\n",
       "  \n",
       "  const js_urls = [\"https://cdn.bokeh.org/bokeh/release/bokeh-2.4.2.min.js\", \"https://cdn.bokeh.org/bokeh/release/bokeh-gl-2.4.2.min.js\", \"https://cdn.bokeh.org/bokeh/release/bokeh-widgets-2.4.2.min.js\", \"https://cdn.bokeh.org/bokeh/release/bokeh-tables-2.4.2.min.js\", \"https://cdn.bokeh.org/bokeh/release/bokeh-mathjax-2.4.2.min.js\"];\n",
       "  const css_urls = [];\n",
       "  \n",
       "\n",
       "  const inline_js = [\n",
       "    function(Bokeh) {\n",
       "      Bokeh.set_log_level(\"info\");\n",
       "    },\n",
       "    function(Bokeh) {\n",
       "    \n",
       "    \n",
       "    }\n",
       "  ];\n",
       "\n",
       "  function run_inline_js() {\n",
       "    \n",
       "    if (root.Bokeh !== undefined || force === true) {\n",
       "      \n",
       "    for (let i = 0; i < inline_js.length; i++) {\n",
       "      inline_js[i].call(root, root.Bokeh);\n",
       "    }\n",
       "    if (force === true) {\n",
       "        display_loaded();\n",
       "      }} else if (Date.now() < root._bokeh_timeout) {\n",
       "      setTimeout(run_inline_js, 100);\n",
       "    } else if (!root._bokeh_failed_load) {\n",
       "      console.log(\"Bokeh: BokehJS failed to load within specified timeout.\");\n",
       "      root._bokeh_failed_load = true;\n",
       "    } else if (force !== true) {\n",
       "      const cell = $(document.getElementById(\"1002\")).parents('.cell').data().cell;\n",
       "      cell.output_area.append_execute_result(NB_LOAD_WARNING)\n",
       "    }\n",
       "\n",
       "  }\n",
       "\n",
       "  if (root._bokeh_is_loading === 0) {\n",
       "    console.debug(\"Bokeh: BokehJS loaded, going straight to plotting\");\n",
       "    run_inline_js();\n",
       "  } else {\n",
       "    load_libs(css_urls, js_urls, function() {\n",
       "      console.debug(\"Bokeh: BokehJS plotting callback run at\", now());\n",
       "      run_inline_js();\n",
       "    });\n",
       "  }\n",
       "}(window));"
      ],
      "application/vnd.bokehjs_load.v0+json": ""
     },
     "metadata": {},
     "output_type": "display_data"
    },
    {
     "data": {
      "text/html": [
       "<p style=''>Getting data from Bookmarks...</p>"
      ],
      "text/plain": [
       "<IPython.core.display.HTML object>"
      ]
     },
     "metadata": {},
     "output_type": "display_data"
    },
    {
     "data": {
      "text/html": [
       "<h3>Account Entity</h3>"
      ],
      "text/plain": [
       "<IPython.core.display.HTML object>"
      ]
     },
     "metadata": {},
     "output_type": "display_data"
    },
    {
     "data": {
      "text/html": [
       "<h3>account</h3>{&nbsp;'AadTenantId':&nbsp;'4b2462a4-bbee-495a-a0e1-f23ae524cc9c',<br>&nbsp;&nbsp;'AadUserId':&nbsp;'f344d9bb-2a11-4ac9-a270-55b342399fcb',<br>&nbsp;&nbsp;'DeviceDetail':&nbsp;{'browser':&nbsp;'Rich&nbsp;Client&nbsp;4.14.0.0',&nbsp;'deviceId':&nbsp;''},<br>&nbsp;&nbsp;'DisplayName':&nbsp;'Kenyetta&nbsp;Elsea',<br>&nbsp;&nbsp;'IpAddress':&nbsp;{&nbsp;'Address':&nbsp;'20.53.9.84',<br>&nbsp;&nbsp;&nbsp;&nbsp;&nbsp;&nbsp;&nbsp;&nbsp;&nbsp;&nbsp;&nbsp;&nbsp;&nbsp;&nbsp;&nbsp;&nbsp;&nbsp;'FirstSeen':&nbsp;Timestamp('2022-04-13&nbsp;16:25:12.987000+0000',&nbsp;tz='UTC'),<br>&nbsp;&nbsp;&nbsp;&nbsp;&nbsp;&nbsp;&nbsp;&nbsp;&nbsp;&nbsp;&nbsp;&nbsp;&nbsp;&nbsp;&nbsp;&nbsp;&nbsp;'LastSeen':&nbsp;Timestamp('2022-04-13&nbsp;16:25:12.987000+0000',&nbsp;tz='UTC'),<br>&nbsp;&nbsp;&nbsp;&nbsp;&nbsp;&nbsp;&nbsp;&nbsp;&nbsp;&nbsp;&nbsp;&nbsp;&nbsp;&nbsp;&nbsp;&nbsp;&nbsp;'Location':&nbsp;{&nbsp;'City':&nbsp;'Canberra',<br>&nbsp;&nbsp;&nbsp;&nbsp;&nbsp;&nbsp;&nbsp;&nbsp;&nbsp;&nbsp;&nbsp;&nbsp;&nbsp;&nbsp;&nbsp;&nbsp;&nbsp;&nbsp;&nbsp;&nbsp;&nbsp;&nbsp;&nbsp;&nbsp;&nbsp;&nbsp;&nbsp;&nbsp;&nbsp;&nbsp;&nbsp;'CountryCode':&nbsp;'AU',<br>&nbsp;&nbsp;&nbsp;&nbsp;&nbsp;&nbsp;&nbsp;&nbsp;&nbsp;&nbsp;&nbsp;&nbsp;&nbsp;&nbsp;&nbsp;&nbsp;&nbsp;&nbsp;&nbsp;&nbsp;&nbsp;&nbsp;&nbsp;&nbsp;&nbsp;&nbsp;&nbsp;&nbsp;&nbsp;&nbsp;&nbsp;'CountryName':&nbsp;'Australia',<br>&nbsp;&nbsp;&nbsp;&nbsp;&nbsp;&nbsp;&nbsp;&nbsp;&nbsp;&nbsp;&nbsp;&nbsp;&nbsp;&nbsp;&nbsp;&nbsp;&nbsp;&nbsp;&nbsp;&nbsp;&nbsp;&nbsp;&nbsp;&nbsp;&nbsp;&nbsp;&nbsp;&nbsp;&nbsp;&nbsp;&nbsp;'Latitude':&nbsp;-35.2828,<br>&nbsp;&nbsp;&nbsp;&nbsp;&nbsp;&nbsp;&nbsp;&nbsp;&nbsp;&nbsp;&nbsp;&nbsp;&nbsp;&nbsp;&nbsp;&nbsp;&nbsp;&nbsp;&nbsp;&nbsp;&nbsp;&nbsp;&nbsp;&nbsp;&nbsp;&nbsp;&nbsp;&nbsp;&nbsp;&nbsp;&nbsp;'Longitude':&nbsp;149.1283,<br>&nbsp;&nbsp;&nbsp;&nbsp;&nbsp;&nbsp;&nbsp;&nbsp;&nbsp;&nbsp;&nbsp;&nbsp;&nbsp;&nbsp;&nbsp;&nbsp;&nbsp;&nbsp;&nbsp;&nbsp;&nbsp;&nbsp;&nbsp;&nbsp;&nbsp;&nbsp;&nbsp;&nbsp;&nbsp;&nbsp;&nbsp;'State':&nbsp;'Australian&nbsp;Capital&nbsp;Territory',<br>&nbsp;&nbsp;&nbsp;&nbsp;&nbsp;&nbsp;&nbsp;&nbsp;&nbsp;&nbsp;&nbsp;&nbsp;&nbsp;&nbsp;&nbsp;&nbsp;&nbsp;&nbsp;&nbsp;&nbsp;&nbsp;&nbsp;&nbsp;&nbsp;&nbsp;&nbsp;&nbsp;&nbsp;&nbsp;&nbsp;&nbsp;'TimeGenerated':&nbsp;datetime.datetime(2022,&nbsp;4,&nbsp;13,&nbsp;16,&nbsp;36,&nbsp;50,&nbsp;569167),<br>&nbsp;&nbsp;&nbsp;&nbsp;&nbsp;&nbsp;&nbsp;&nbsp;&nbsp;&nbsp;&nbsp;&nbsp;&nbsp;&nbsp;&nbsp;&nbsp;&nbsp;&nbsp;&nbsp;&nbsp;&nbsp;&nbsp;&nbsp;&nbsp;&nbsp;&nbsp;&nbsp;&nbsp;&nbsp;&nbsp;&nbsp;'Type':&nbsp;'geolocation'},<br>&nbsp;&nbsp;&nbsp;&nbsp;&nbsp;&nbsp;&nbsp;&nbsp;&nbsp;&nbsp;&nbsp;&nbsp;&nbsp;&nbsp;&nbsp;&nbsp;&nbsp;'TimeGenerated':&nbsp;datetime.datetime(2022,&nbsp;4,&nbsp;13,&nbsp;16,&nbsp;36,&nbsp;50,&nbsp;569167),<br>&nbsp;&nbsp;&nbsp;&nbsp;&nbsp;&nbsp;&nbsp;&nbsp;&nbsp;&nbsp;&nbsp;&nbsp;&nbsp;&nbsp;&nbsp;&nbsp;&nbsp;'Type':&nbsp;'ipaddress'},<br>&nbsp;&nbsp;'Location':&nbsp;{&nbsp;'city':&nbsp;'Canberra',<br>&nbsp;&nbsp;&nbsp;&nbsp;&nbsp;&nbsp;&nbsp;&nbsp;&nbsp;&nbsp;&nbsp;&nbsp;&nbsp;&nbsp;&nbsp;&nbsp;'countryOrRegion':&nbsp;'AU',<br>&nbsp;&nbsp;&nbsp;&nbsp;&nbsp;&nbsp;&nbsp;&nbsp;&nbsp;&nbsp;&nbsp;&nbsp;&nbsp;&nbsp;&nbsp;&nbsp;'geoCoordinates':&nbsp;{'latitude':&nbsp;-35.282039642333984,&nbsp;'longitude':&nbsp;149.1285858154297},<br>&nbsp;&nbsp;&nbsp;&nbsp;&nbsp;&nbsp;&nbsp;&nbsp;&nbsp;&nbsp;&nbsp;&nbsp;&nbsp;&nbsp;&nbsp;&nbsp;'state':&nbsp;'Australian&nbsp;Capital&nbsp;Territory'},<br>&nbsp;&nbsp;'Name':&nbsp;'kelsea@seccxp.ninja',<br>&nbsp;&nbsp;'TimeGenerated':&nbsp;datetime.datetime(2022,&nbsp;4,&nbsp;13,&nbsp;16,&nbsp;36,&nbsp;50,&nbsp;562165),<br>&nbsp;&nbsp;'Type':&nbsp;'account',<br>&nbsp;&nbsp;'UPNSuffix':&nbsp;'seccxp.ninja'}"
      ],
      "text/plain": [
       "Account(Name=kelsea@seccxp.ninja, UPNSuffix=seccxp.ninja, AadTenantId=4b2462a4-bbee-495a...)"
      ]
     },
     "metadata": {},
     "output_type": "display_data"
    },
    {
     "data": {
      "text/html": [
       "<h3>Account last activity</h3>"
      ],
      "text/plain": [
       "<IPython.core.display.HTML object>"
      ]
     },
     "metadata": {},
     "output_type": "display_data"
    },
    {
     "data": {
      "text/html": [
       "<b>kelsea@seccxp.ninja (source: AzureActiveDirectory)</b>"
      ],
      "text/plain": [
       "<IPython.core.display.HTML object>"
      ]
     },
     "metadata": {},
     "output_type": "display_data"
    },
    {
     "data": {
      "text/html": [
       "<div>\n",
       "<style scoped>\n",
       "    .dataframe tbody tr th:only-of-type {\n",
       "        vertical-align: middle;\n",
       "    }\n",
       "\n",
       "    .dataframe tbody tr th {\n",
       "        vertical-align: top;\n",
       "    }\n",
       "\n",
       "    .dataframe thead th {\n",
       "        text-align: right;\n",
       "    }\n",
       "</style>\n",
       "<table border=\"1\" class=\"dataframe\">\n",
       "  <thead>\n",
       "    <tr style=\"text-align: right;\">\n",
       "      <th></th>\n",
       "      <th>TimeGenerated</th>\n",
       "      <th>TenantId</th>\n",
       "      <th>SourceSystem</th>\n",
       "      <th>ResourceId</th>\n",
       "      <th>OperationName</th>\n",
       "      <th>OperationVersion</th>\n",
       "      <th>Category</th>\n",
       "      <th>ResultType</th>\n",
       "      <th>ResultSignature</th>\n",
       "      <th>ResultDescription</th>\n",
       "      <th>DurationMs</th>\n",
       "      <th>CorrelationId</th>\n",
       "      <th>Resource</th>\n",
       "      <th>ResourceGroup</th>\n",
       "      <th>ResourceProvider</th>\n",
       "      <th>Identity</th>\n",
       "      <th>Level</th>\n",
       "      <th>Location</th>\n",
       "      <th>AlternateSignInName</th>\n",
       "      <th>AppDisplayName</th>\n",
       "      <th>AppId</th>\n",
       "      <th>AuthenticationContextClassReferences</th>\n",
       "      <th>AuthenticationDetails</th>\n",
       "      <th>AuthenticationMethodsUsed</th>\n",
       "      <th>AuthenticationProcessingDetails</th>\n",
       "      <th>...</th>\n",
       "      <th>ResourceIdentity</th>\n",
       "      <th>ResourceServicePrincipalId</th>\n",
       "      <th>ServicePrincipalId</th>\n",
       "      <th>ServicePrincipalName</th>\n",
       "      <th>Status</th>\n",
       "      <th>TokenIssuerName</th>\n",
       "      <th>TokenIssuerType</th>\n",
       "      <th>UserAgent</th>\n",
       "      <th>UserDisplayName</th>\n",
       "      <th>UserId</th>\n",
       "      <th>UserPrincipalName</th>\n",
       "      <th>AADTenantId</th>\n",
       "      <th>UserType</th>\n",
       "      <th>FlaggedForReview</th>\n",
       "      <th>IPAddressFromResourceProvider</th>\n",
       "      <th>SignInIdentifier</th>\n",
       "      <th>SignInIdentifierType</th>\n",
       "      <th>ResourceTenantId</th>\n",
       "      <th>HomeTenantId</th>\n",
       "      <th>UniqueTokenIdentifier</th>\n",
       "      <th>SessionLifetimePolicies</th>\n",
       "      <th>AutonomousSystemNumber</th>\n",
       "      <th>Type</th>\n",
       "      <th>AccountName</th>\n",
       "      <th>Source</th>\n",
       "    </tr>\n",
       "  </thead>\n",
       "  <tbody>\n",
       "    <tr>\n",
       "      <th>0</th>\n",
       "      <td>2022-04-13 16:25:12.987000+00:00</td>\n",
       "      <td>8ecf8077-cf51-4820-aadd-14040956f35d</td>\n",
       "      <td>Azure AD</td>\n",
       "      <td>/tenants/4b2462a4-bbee-495a-a0e1-f23ae524cc9c/providers/Microsoft.aadiam</td>\n",
       "      <td>Sign-in activity</td>\n",
       "      <td>1.0</td>\n",
       "      <td>SignInLogs</td>\n",
       "      <td>0</td>\n",
       "      <td>None</td>\n",
       "      <td></td>\n",
       "      <td>0</td>\n",
       "      <td>be8f88b0-e9f1-47e5-9374-4309bff23d1c</td>\n",
       "      <td>Microsoft.aadiam</td>\n",
       "      <td>Microsoft.aadiam</td>\n",
       "      <td></td>\n",
       "      <td>Kenyetta Elsea</td>\n",
       "      <td>4</td>\n",
       "      <td>AU</td>\n",
       "      <td></td>\n",
       "      <td>CAttack</td>\n",
       "      <td>0d465159-840f-4192-a055-3e9141695cb9</td>\n",
       "      <td>[{\"id\":\"urn:microsoft:req1\",\"detail\":\"previouslySatisfied\"}]</td>\n",
       "      <td>[]</td>\n",
       "      <td></td>\n",
       "      <td>[{\"key\":\"Azure AD App Authentication Library\",\"value\":\"Family: MSAL Library: MSAL.NET 4.14.0.0 P...</td>\n",
       "      <td>...</td>\n",
       "      <td>00000003-0000-0000-c000-000000000000</td>\n",
       "      <td>f9d938f5-d874-41cd-b8bc-482617434b3d</td>\n",
       "      <td></td>\n",
       "      <td></td>\n",
       "      <td>{'errorCode': 0}</td>\n",
       "      <td></td>\n",
       "      <td>AzureAD</td>\n",
       "      <td></td>\n",
       "      <td>Kenyetta Elsea</td>\n",
       "      <td>f344d9bb-2a11-4ac9-a270-55b342399fcb</td>\n",
       "      <td>kelsea@seccxp.ninja</td>\n",
       "      <td>4b2462a4-bbee-495a-a0e1-f23ae524cc9c</td>\n",
       "      <td>Member</td>\n",
       "      <td>None</td>\n",
       "      <td></td>\n",
       "      <td></td>\n",
       "      <td></td>\n",
       "      <td>4b2462a4-bbee-495a-a0e1-f23ae524cc9c</td>\n",
       "      <td>4b2462a4-bbee-495a-a0e1-f23ae524cc9c</td>\n",
       "      <td>N2YzMjNkZmMtYjhiOS00MTI3LWE1ZjgtNmJiNjJiMzRjNTAw</td>\n",
       "      <td></td>\n",
       "      <td>8075</td>\n",
       "      <td>SigninLogs</td>\n",
       "      <td>kelsea@seccxp.ninja</td>\n",
       "      <td>AzureActiveDirectory</td>\n",
       "    </tr>\n",
       "  </tbody>\n",
       "</table>\n",
       "<p>1 rows Ã— 73 columns</p>\n",
       "</div>"
      ],
      "text/plain": [
       "                     TimeGenerated                              TenantId  \\\n",
       "0 2022-04-13 16:25:12.987000+00:00  8ecf8077-cf51-4820-aadd-14040956f35d   \n",
       "\n",
       "  SourceSystem  \\\n",
       "0     Azure AD   \n",
       "\n",
       "                                                                 ResourceId  \\\n",
       "0  /tenants/4b2462a4-bbee-495a-a0e1-f23ae524cc9c/providers/Microsoft.aadiam   \n",
       "\n",
       "      OperationName OperationVersion    Category ResultType ResultSignature  \\\n",
       "0  Sign-in activity              1.0  SignInLogs          0            None   \n",
       "\n",
       "  ResultDescription  DurationMs                         CorrelationId  \\\n",
       "0                             0  be8f88b0-e9f1-47e5-9374-4309bff23d1c   \n",
       "\n",
       "           Resource     ResourceGroup ResourceProvider        Identity Level  \\\n",
       "0  Microsoft.aadiam  Microsoft.aadiam                   Kenyetta Elsea     4   \n",
       "\n",
       "  Location AlternateSignInName AppDisplayName  \\\n",
       "0       AU                            CAttack   \n",
       "\n",
       "                                  AppId  \\\n",
       "0  0d465159-840f-4192-a055-3e9141695cb9   \n",
       "\n",
       "                           AuthenticationContextClassReferences  \\\n",
       "0  [{\"id\":\"urn:microsoft:req1\",\"detail\":\"previouslySatisfied\"}]   \n",
       "\n",
       "  AuthenticationDetails AuthenticationMethodsUsed  \\\n",
       "0                    []                             \n",
       "\n",
       "                                                                       AuthenticationProcessingDetails  \\\n",
       "0  [{\"key\":\"Azure AD App Authentication Library\",\"value\":\"Family: MSAL Library: MSAL.NET 4.14.0.0 P...   \n",
       "\n",
       "   ...                      ResourceIdentity  \\\n",
       "0  ...  00000003-0000-0000-c000-000000000000   \n",
       "\n",
       "             ResourceServicePrincipalId ServicePrincipalId  \\\n",
       "0  f9d938f5-d874-41cd-b8bc-482617434b3d                      \n",
       "\n",
       "  ServicePrincipalName            Status TokenIssuerName TokenIssuerType  \\\n",
       "0                       {'errorCode': 0}                         AzureAD   \n",
       "\n",
       "   UserAgent UserDisplayName                                UserId  \\\n",
       "0             Kenyetta Elsea  f344d9bb-2a11-4ac9-a270-55b342399fcb   \n",
       "\n",
       "     UserPrincipalName                           AADTenantId UserType  \\\n",
       "0  kelsea@seccxp.ninja  4b2462a4-bbee-495a-a0e1-f23ae524cc9c   Member   \n",
       "\n",
       "  FlaggedForReview IPAddressFromResourceProvider SignInIdentifier  \\\n",
       "0             None                                                  \n",
       "\n",
       "  SignInIdentifierType                      ResourceTenantId  \\\n",
       "0                       4b2462a4-bbee-495a-a0e1-f23ae524cc9c   \n",
       "\n",
       "                           HomeTenantId  \\\n",
       "0  4b2462a4-bbee-495a-a0e1-f23ae524cc9c   \n",
       "\n",
       "                              UniqueTokenIdentifier SessionLifetimePolicies  \\\n",
       "0  N2YzMjNkZmMtYjhiOS00MTI3LWE1ZjgtNmJiNjJiMzRjNTAw                           \n",
       "\n",
       "  AutonomousSystemNumber        Type          AccountName  \\\n",
       "0                   8075  SigninLogs  kelsea@seccxp.ninja   \n",
       "\n",
       "                 Source  \n",
       "0  AzureActiveDirectory  \n",
       "\n",
       "[1 rows x 73 columns]"
      ]
     },
     "metadata": {},
     "output_type": "display_data"
    },
    {
     "data": {
      "text/html": [
       "<h3>Related alerts</h3><br><b>Found 7 different alert types related to this account</b><br>- (Preview) Anomalous user activities in office exchange, # Alerts: 1<br>- Activity from a Tor IP address, # Alerts: 1<br>- Email reported by user as malware or phish, # Alerts: 2<br>- Impossible Travel Activity by User, # Alerts: 2<br>- New Admin account activity seen which was not seen historically, # Alerts: 1<br>- Suspicious URL clicked, # Alerts: 1<br>- Suspicious inbox manipulation rule, # Alerts: 1<br><br>To show the alert timeline call the <b>display_alert_timeline()</b> method.<br>To browse the alerts call the <b>browse_alerts()</b> method."
      ],
      "text/plain": [
       "<IPython.core.display.HTML object>"
      ]
     },
     "metadata": {},
     "output_type": "display_data"
    },
    {
     "data": {
      "text/html": [
       "<br><b>No bookmarks for this account</b>"
      ],
      "text/plain": [
       "<IPython.core.display.HTML object>"
      ]
     },
     "metadata": {},
     "output_type": "display_data"
    },
    {
     "data": {
      "text/html": [
       "<p style=''><hr></p>"
      ],
      "text/plain": [
       "<IPython.core.display.HTML object>"
      ]
     },
     "metadata": {},
     "output_type": "display_data"
    },
    {
     "data": {
      "text/html": [
       "<p style=''><h3>Use <i>result.notebooklet.get_additional_data()</i> to retrieve more data.</p>"
      ],
      "text/plain": [
       "<IPython.core.display.HTML object>"
      ]
     },
     "metadata": {},
     "output_type": "display_data"
    },
    {
     "data": {
      "text/html": [
       "<p style=''>Additional methods for this class:<br>az_activity_timeline_by_ip - 'Display Azure activity timeline by IP address.'<br>az_activity_timeline_by_operation - 'Display Azure activity timeline by operation.'<br>az_activity_timeline_by_provider - 'Display Azure activity timeline by provider.'<br>browse_accounts - 'Return the accounts browser/viewer.'<br>browse_alerts - 'Return alert browser/viewer.'<br>browse_bookmarks - 'Return bookmark browser/viewer.'<br>display_alert_timeline - 'Display the alert timeline.'<br>get_additional_data - 'Find additional data for the selected account.'<br>get_geoip_map - 'Return Folium map of IP activity.'<br>host_logon_timeline - 'Display IP address summary.'<br>run - 'Return account activity summary.'<br>show_ip_summary - 'Display Azure activity timeline by operation.'</p>"
      ],
      "text/plain": [
       "<IPython.core.display.HTML object>"
      ]
     },
     "metadata": {},
     "output_type": "display_data"
    }
   ],
   "source": [
    "Account = entities.Account\n",
    "acc_result = Account.nblt.account_summary(\n",
    "    value=account_txt.value,\n",
    "    account_types=acct_types_select.value\n",
    ")"
   ]
  },
  {
   "cell_type": "code",
   "execution_count": 10,
   "metadata": {},
   "outputs": [
    {
     "data": {
      "text/html": [
       "<p style='font-weight: bold;;font-size: 130%'>Warning: Multiple matches found for account. Running on first listed account</p>"
      ],
      "text/plain": [
       "<IPython.core.display.HTML object>"
      ]
     },
     "metadata": {},
     "output_type": "display_data"
    }
   ],
   "source": [
    "if len(acc_result.account_selector.options) > 1:\n",
    "    md_warn(\"Multiple matches found for account. Running on first listed account\")"
   ]
  },
  {
   "cell_type": "markdown",
   "metadata": {},
   "source": [
    "# Retrieve additional data for the selected account\n",
    "\n",
    "The result returned from the last cell has a number of properties and methods that you can use\n",
    "to retrieve and view further information.\n",
    "\n",
    "The main one for this notebooklet is `get_additional_data`."
   ]
  },
  {
   "cell_type": "code",
   "execution_count": 11,
   "metadata": {},
   "outputs": [
    {
     "data": {
      "text/html": [
       "<p style=''>Getting data from AADSignin...</p>"
      ],
      "text/plain": [
       "<IPython.core.display.HTML object>"
      ]
     },
     "metadata": {},
     "output_type": "display_data"
    },
    {
     "data": {
      "text/html": [
       "<p style=''>Getting data from AzureActivity...</p>"
      ],
      "text/plain": [
       "<IPython.core.display.HTML object>"
      ]
     },
     "metadata": {},
     "output_type": "display_data"
    },
    {
     "data": {
      "text/html": [
       "<p style=''>Getting data from Office365Activity...</p>"
      ],
      "text/plain": [
       "<IPython.core.display.HTML object>"
      ]
     },
     "metadata": {},
     "output_type": "display_data"
    },
    {
     "data": {
      "text/html": [
       "\n",
       "    <div class=\"bk-root\">\n",
       "        <a href=\"https://bokeh.org\" target=\"_blank\" class=\"bk-logo bk-logo-small bk-logo-notebook\"></a>\n",
       "        <span id=\"1150\">Loading BokehJS ...</span>\n",
       "    </div>"
      ]
     },
     "metadata": {},
     "output_type": "display_data"
    },
    {
     "data": {
      "application/javascript": [
       "\n",
       "(function(root) {\n",
       "  function now() {\n",
       "    return new Date();\n",
       "  }\n",
       "\n",
       "  const force = true;\n",
       "\n",
       "  if (typeof root._bokeh_onload_callbacks === \"undefined\" || force === true) {\n",
       "    root._bokeh_onload_callbacks = [];\n",
       "    root._bokeh_is_loading = undefined;\n",
       "  }\n",
       "\n",
       "  const JS_MIME_TYPE = 'application/javascript';\n",
       "  const HTML_MIME_TYPE = 'text/html';\n",
       "  const EXEC_MIME_TYPE = 'application/vnd.bokehjs_exec.v0+json';\n",
       "  const CLASS_NAME = 'output_bokeh rendered_html';\n",
       "\n",
       "  /**\n",
       "   * Render data to the DOM node\n",
       "   */\n",
       "  function render(props, node) {\n",
       "    const script = document.createElement(\"script\");\n",
       "    node.appendChild(script);\n",
       "  }\n",
       "\n",
       "  /**\n",
       "   * Handle when an output is cleared or removed\n",
       "   */\n",
       "  function handleClearOutput(event, handle) {\n",
       "    const cell = handle.cell;\n",
       "\n",
       "    const id = cell.output_area._bokeh_element_id;\n",
       "    const server_id = cell.output_area._bokeh_server_id;\n",
       "    // Clean up Bokeh references\n",
       "    if (id != null && id in Bokeh.index) {\n",
       "      Bokeh.index[id].model.document.clear();\n",
       "      delete Bokeh.index[id];\n",
       "    }\n",
       "\n",
       "    if (server_id !== undefined) {\n",
       "      // Clean up Bokeh references\n",
       "      const cmd_clean = \"from bokeh.io.state import curstate; print(curstate().uuid_to_server['\" + server_id + \"'].get_sessions()[0].document.roots[0]._id)\";\n",
       "      cell.notebook.kernel.execute(cmd_clean, {\n",
       "        iopub: {\n",
       "          output: function(msg) {\n",
       "            const id = msg.content.text.trim();\n",
       "            if (id in Bokeh.index) {\n",
       "              Bokeh.index[id].model.document.clear();\n",
       "              delete Bokeh.index[id];\n",
       "            }\n",
       "          }\n",
       "        }\n",
       "      });\n",
       "      // Destroy server and session\n",
       "      const cmd_destroy = \"import bokeh.io.notebook as ion; ion.destroy_server('\" + server_id + \"')\";\n",
       "      cell.notebook.kernel.execute(cmd_destroy);\n",
       "    }\n",
       "  }\n",
       "\n",
       "  /**\n",
       "   * Handle when a new output is added\n",
       "   */\n",
       "  function handleAddOutput(event, handle) {\n",
       "    const output_area = handle.output_area;\n",
       "    const output = handle.output;\n",
       "\n",
       "    // limit handleAddOutput to display_data with EXEC_MIME_TYPE content only\n",
       "    if ((output.output_type != \"display_data\") || (!Object.prototype.hasOwnProperty.call(output.data, EXEC_MIME_TYPE))) {\n",
       "      return\n",
       "    }\n",
       "\n",
       "    const toinsert = output_area.element.find(\".\" + CLASS_NAME.split(' ')[0]);\n",
       "\n",
       "    if (output.metadata[EXEC_MIME_TYPE][\"id\"] !== undefined) {\n",
       "      toinsert[toinsert.length - 1].firstChild.textContent = output.data[JS_MIME_TYPE];\n",
       "      // store reference to embed id on output_area\n",
       "      output_area._bokeh_element_id = output.metadata[EXEC_MIME_TYPE][\"id\"];\n",
       "    }\n",
       "    if (output.metadata[EXEC_MIME_TYPE][\"server_id\"] !== undefined) {\n",
       "      const bk_div = document.createElement(\"div\");\n",
       "      bk_div.innerHTML = output.data[HTML_MIME_TYPE];\n",
       "      const script_attrs = bk_div.children[0].attributes;\n",
       "      for (let i = 0; i < script_attrs.length; i++) {\n",
       "        toinsert[toinsert.length - 1].firstChild.setAttribute(script_attrs[i].name, script_attrs[i].value);\n",
       "        toinsert[toinsert.length - 1].firstChild.textContent = bk_div.children[0].textContent\n",
       "      }\n",
       "      // store reference to server id on output_area\n",
       "      output_area._bokeh_server_id = output.metadata[EXEC_MIME_TYPE][\"server_id\"];\n",
       "    }\n",
       "  }\n",
       "\n",
       "  function register_renderer(events, OutputArea) {\n",
       "\n",
       "    function append_mime(data, metadata, element) {\n",
       "      // create a DOM node to render to\n",
       "      const toinsert = this.create_output_subarea(\n",
       "        metadata,\n",
       "        CLASS_NAME,\n",
       "        EXEC_MIME_TYPE\n",
       "      );\n",
       "      this.keyboard_manager.register_events(toinsert);\n",
       "      // Render to node\n",
       "      const props = {data: data, metadata: metadata[EXEC_MIME_TYPE]};\n",
       "      render(props, toinsert[toinsert.length - 1]);\n",
       "      element.append(toinsert);\n",
       "      return toinsert\n",
       "    }\n",
       "\n",
       "    /* Handle when an output is cleared or removed */\n",
       "    events.on('clear_output.CodeCell', handleClearOutput);\n",
       "    events.on('delete.Cell', handleClearOutput);\n",
       "\n",
       "    /* Handle when a new output is added */\n",
       "    events.on('output_added.OutputArea', handleAddOutput);\n",
       "\n",
       "    /**\n",
       "     * Register the mime type and append_mime function with output_area\n",
       "     */\n",
       "    OutputArea.prototype.register_mime_type(EXEC_MIME_TYPE, append_mime, {\n",
       "      /* Is output safe? */\n",
       "      safe: true,\n",
       "      /* Index of renderer in `output_area.display_order` */\n",
       "      index: 0\n",
       "    });\n",
       "  }\n",
       "\n",
       "  // register the mime type if in Jupyter Notebook environment and previously unregistered\n",
       "  if (root.Jupyter !== undefined) {\n",
       "    const events = require('base/js/events');\n",
       "    const OutputArea = require('notebook/js/outputarea').OutputArea;\n",
       "\n",
       "    if (OutputArea.prototype.mime_types().indexOf(EXEC_MIME_TYPE) == -1) {\n",
       "      register_renderer(events, OutputArea);\n",
       "    }\n",
       "  }\n",
       "\n",
       "  \n",
       "  if (typeof (root._bokeh_timeout) === \"undefined\" || force === true) {\n",
       "    root._bokeh_timeout = Date.now() + 5000;\n",
       "    root._bokeh_failed_load = false;\n",
       "  }\n",
       "\n",
       "  const NB_LOAD_WARNING = {'data': {'text/html':\n",
       "     \"<div style='background-color: #fdd'>\\n\"+\n",
       "     \"<p>\\n\"+\n",
       "     \"BokehJS does not appear to have successfully loaded. If loading BokehJS from CDN, this \\n\"+\n",
       "     \"may be due to a slow or bad network connection. Possible fixes:\\n\"+\n",
       "     \"</p>\\n\"+\n",
       "     \"<ul>\\n\"+\n",
       "     \"<li>re-rerun `output_notebook()` to attempt to load from CDN again, or</li>\\n\"+\n",
       "     \"<li>use INLINE resources instead, as so:</li>\\n\"+\n",
       "     \"</ul>\\n\"+\n",
       "     \"<code>\\n\"+\n",
       "     \"from bokeh.resources import INLINE\\n\"+\n",
       "     \"output_notebook(resources=INLINE)\\n\"+\n",
       "     \"</code>\\n\"+\n",
       "     \"</div>\"}};\n",
       "\n",
       "  function display_loaded() {\n",
       "    const el = document.getElementById(\"1150\");\n",
       "    if (el != null) {\n",
       "      el.textContent = \"BokehJS is loading...\";\n",
       "    }\n",
       "    if (root.Bokeh !== undefined) {\n",
       "      if (el != null) {\n",
       "        el.textContent = \"BokehJS \" + root.Bokeh.version + \" successfully loaded.\";\n",
       "      }\n",
       "    } else if (Date.now() < root._bokeh_timeout) {\n",
       "      setTimeout(display_loaded, 100)\n",
       "    }\n",
       "  }\n",
       "\n",
       "\n",
       "  function run_callbacks() {\n",
       "    try {\n",
       "      root._bokeh_onload_callbacks.forEach(function(callback) {\n",
       "        if (callback != null)\n",
       "          callback();\n",
       "      });\n",
       "    } finally {\n",
       "      delete root._bokeh_onload_callbacks\n",
       "    }\n",
       "    console.debug(\"Bokeh: all callbacks have finished\");\n",
       "  }\n",
       "\n",
       "  function load_libs(css_urls, js_urls, callback) {\n",
       "    if (css_urls == null) css_urls = [];\n",
       "    if (js_urls == null) js_urls = [];\n",
       "\n",
       "    root._bokeh_onload_callbacks.push(callback);\n",
       "    if (root._bokeh_is_loading > 0) {\n",
       "      console.debug(\"Bokeh: BokehJS is being loaded, scheduling callback at\", now());\n",
       "      return null;\n",
       "    }\n",
       "    if (js_urls == null || js_urls.length === 0) {\n",
       "      run_callbacks();\n",
       "      return null;\n",
       "    }\n",
       "    console.debug(\"Bokeh: BokehJS not loaded, scheduling load and callback at\", now());\n",
       "    root._bokeh_is_loading = css_urls.length + js_urls.length;\n",
       "\n",
       "    function on_load() {\n",
       "      root._bokeh_is_loading--;\n",
       "      if (root._bokeh_is_loading === 0) {\n",
       "        console.debug(\"Bokeh: all BokehJS libraries/stylesheets loaded\");\n",
       "        run_callbacks()\n",
       "      }\n",
       "    }\n",
       "\n",
       "    function on_error(url) {\n",
       "      console.error(\"failed to load \" + url);\n",
       "    }\n",
       "\n",
       "    for (let i = 0; i < css_urls.length; i++) {\n",
       "      const url = css_urls[i];\n",
       "      const element = document.createElement(\"link\");\n",
       "      element.onload = on_load;\n",
       "      element.onerror = on_error.bind(null, url);\n",
       "      element.rel = \"stylesheet\";\n",
       "      element.type = \"text/css\";\n",
       "      element.href = url;\n",
       "      console.debug(\"Bokeh: injecting link tag for BokehJS stylesheet: \", url);\n",
       "      document.body.appendChild(element);\n",
       "    }\n",
       "\n",
       "    for (let i = 0; i < js_urls.length; i++) {\n",
       "      const url = js_urls[i];\n",
       "      const element = document.createElement('script');\n",
       "      element.onload = on_load;\n",
       "      element.onerror = on_error.bind(null, url);\n",
       "      element.async = false;\n",
       "      element.src = url;\n",
       "      console.debug(\"Bokeh: injecting script tag for BokehJS library: \", url);\n",
       "      document.head.appendChild(element);\n",
       "    }\n",
       "  };\n",
       "\n",
       "  function inject_raw_css(css) {\n",
       "    const element = document.createElement(\"style\");\n",
       "    element.appendChild(document.createTextNode(css));\n",
       "    document.body.appendChild(element);\n",
       "  }\n",
       "\n",
       "  \n",
       "  const js_urls = [\"https://cdn.bokeh.org/bokeh/release/bokeh-2.4.2.min.js\", \"https://cdn.bokeh.org/bokeh/release/bokeh-gl-2.4.2.min.js\", \"https://cdn.bokeh.org/bokeh/release/bokeh-widgets-2.4.2.min.js\", \"https://cdn.bokeh.org/bokeh/release/bokeh-tables-2.4.2.min.js\", \"https://cdn.bokeh.org/bokeh/release/bokeh-mathjax-2.4.2.min.js\"];\n",
       "  const css_urls = [];\n",
       "  \n",
       "\n",
       "  const inline_js = [\n",
       "    function(Bokeh) {\n",
       "      Bokeh.set_log_level(\"info\");\n",
       "    },\n",
       "    function(Bokeh) {\n",
       "    \n",
       "    \n",
       "    }\n",
       "  ];\n",
       "\n",
       "  function run_inline_js() {\n",
       "    \n",
       "    if (root.Bokeh !== undefined || force === true) {\n",
       "      \n",
       "    for (let i = 0; i < inline_js.length; i++) {\n",
       "      inline_js[i].call(root, root.Bokeh);\n",
       "    }\n",
       "    if (force === true) {\n",
       "        display_loaded();\n",
       "      }} else if (Date.now() < root._bokeh_timeout) {\n",
       "      setTimeout(run_inline_js, 100);\n",
       "    } else if (!root._bokeh_failed_load) {\n",
       "      console.log(\"Bokeh: BokehJS failed to load within specified timeout.\");\n",
       "      root._bokeh_failed_load = true;\n",
       "    } else if (force !== true) {\n",
       "      const cell = $(document.getElementById(\"1150\")).parents('.cell').data().cell;\n",
       "      cell.output_area.append_execute_result(NB_LOAD_WARNING)\n",
       "    }\n",
       "\n",
       "  }\n",
       "\n",
       "  if (root._bokeh_is_loading === 0) {\n",
       "    console.debug(\"Bokeh: BokehJS loaded, going straight to plotting\");\n",
       "    run_inline_js();\n",
       "  } else {\n",
       "    load_libs(css_urls, js_urls, function() {\n",
       "      console.debug(\"Bokeh: BokehJS plotting callback run at\", now());\n",
       "      run_inline_js();\n",
       "    });\n",
       "  }\n",
       "}(window));"
      ],
      "application/vnd.bokehjs_load.v0+json": ""
     },
     "metadata": {},
     "output_type": "display_data"
    },
    {
     "data": {
      "text/html": [
       "\n",
       "\n",
       "\n",
       "\n",
       "\n",
       "\n",
       "  <div class=\"bk-root\" id=\"0989fc68-6ca7-45da-8b07-bef2f3e158d5\" data-root-id=\"1253\"></div>\n"
      ]
     },
     "metadata": {},
     "output_type": "display_data"
    },
    {
     "data": {
      "application/javascript": [
       "(function(root) {\n",
       "  function embed_document(root) {\n",
       "    \n",
       "  const docs_json = {\"834586aa-be04-474a-a705-544caf1d1156\":{\"defs\":[],\"roots\":{\"references\":[{\"attributes\":{\"children\":[{\"id\":\"1155\"},{\"id\":\"1187\"}]},\"id\":\"1253\",\"type\":\"Column\"},{\"attributes\":{\"base\":60,\"mantissas\":[1,2,5,10,15,20,30],\"max_interval\":1800000.0,\"min_interval\":1000.0,\"num_minor_ticks\":0},\"id\":\"1271\",\"type\":\"AdaptiveTicker\"},{\"attributes\":{\"base\":24,\"mantissas\":[1,2,4,6,8,12],\"max_interval\":43200000.0,\"min_interval\":3600000.0,\"num_minor_ticks\":0},\"id\":\"1272\",\"type\":\"AdaptiveTicker\"},{\"attributes\":{},\"id\":\"1262\",\"type\":\"AllLabels\"},{\"attributes\":{},\"id\":\"1263\",\"type\":\"UnionRenderers\"},{\"attributes\":{},\"id\":\"1264\",\"type\":\"Selection\"},{\"attributes\":{\"axis\":{\"id\":\"1198\"},\"coordinates\":null,\"group\":null,\"ticker\":null},\"id\":\"1201\",\"type\":\"Grid\"},{\"attributes\":{\"days\":[1,8,15,22]},\"id\":\"1275\",\"type\":\"DaysTicker\"},{\"attributes\":{},\"id\":\"1281\",\"type\":\"YearsTicker\"},{\"attributes\":{\"fill_alpha\":{\"value\":0.2},\"fill_color\":{\"value\":\"#208F8C\"},\"hatch_alpha\":{\"value\":0.2},\"hatch_color\":{\"value\":\"#208F8C\"},\"line_alpha\":{\"value\":0.2},\"line_color\":{\"value\":\"#208F8C\"},\"x\":{\"field\":\"TimeGenerated\"},\"y\":{\"field\":\"y_index\"}},\"id\":\"1215\",\"type\":\"Circle\"},{\"attributes\":{\"days\":[1,4,7,10,13,16,19,22,25,28]},\"id\":\"1274\",\"type\":\"DaysTicker\"},{\"attributes\":{\"days\":[1,2,3,4,5,6,7,8,9,10,11,12,13,14,15,16,17,18,19,20,21,22,23,24,25,26,27,28,29,30,31]},\"id\":\"1273\",\"type\":\"DaysTicker\"},{\"attributes\":{\"fill_color\":{\"value\":\"#440154\"},\"hatch_color\":{\"value\":\"#440154\"},\"line_color\":{\"value\":\"#440154\"},\"x\":{\"field\":\"TimeGenerated\"},\"y\":{\"field\":\"y_index\"}},\"id\":\"1207\",\"type\":\"Circle\"},{\"attributes\":{\"align\":\"right\",\"coordinates\":null,\"group\":null,\"text\":\"Drag the middle or edges of the selection box to change the range in the main chart\",\"text_font_size\":\"10px\"},\"id\":\"1203\",\"type\":\"Title\"},{\"attributes\":{\"months\":[0,6]},\"id\":\"1280\",\"type\":\"MonthsTicker\"},{\"attributes\":{\"days\":[1,15]},\"id\":\"1276\",\"type\":\"DaysTicker\"},{\"attributes\":{\"months\":[0,1,2,3,4,5,6,7,8,9,10,11]},\"id\":\"1277\",\"type\":\"MonthsTicker\"},{\"attributes\":{\"fill_alpha\":{\"value\":0.2},\"fill_color\":{\"value\":\"#FDE724\"},\"hatch_alpha\":{\"value\":0.2},\"hatch_color\":{\"value\":\"#FDE724\"},\"line_alpha\":{\"value\":0.2},\"line_color\":{\"value\":\"#FDE724\"},\"marker\":{\"value\":\"diamond\"},\"size\":{\"value\":10},\"x\":{\"field\":\"TimeGenerated\"},\"y\":{\"field\":\"y_index\"}},\"id\":\"1248\",\"type\":\"Scatter\"},{\"attributes\":{\"months\":[0,2,4,6,8,10]},\"id\":\"1278\",\"type\":\"MonthsTicker\"},{\"attributes\":{\"fill_alpha\":{\"value\":0.5},\"fill_color\":{\"value\":\"#440154\"},\"hatch_alpha\":{\"value\":0.5},\"hatch_color\":{\"value\":\"#440154\"},\"line_alpha\":{\"value\":0.5},\"line_color\":{\"value\":\"#440154\"},\"marker\":{\"value\":\"diamond\"},\"size\":{\"value\":10},\"x\":{\"field\":\"TimeGenerated\"},\"y\":{\"field\":\"y_index\"}},\"id\":\"1232\",\"type\":\"Scatter\"},{\"attributes\":{},\"id\":\"1265\",\"type\":\"UnionRenderers\"},{\"attributes\":{\"months\":[0,4,8]},\"id\":\"1279\",\"type\":\"MonthsTicker\"},{\"attributes\":{\"click_policy\":\"hide\",\"coordinates\":null,\"group\":null,\"items\":[{\"id\":\"1251\"},{\"id\":\"1244\"},{\"id\":\"1237\"}],\"label_text_font_size\":\"8pt\",\"location\":\"center\"},\"id\":\"1252\",\"type\":\"Legend\"},{\"attributes\":{\"coordinates\":null,\"data_source\":{\"id\":\"1153\"},\"glyph\":{\"id\":\"1219\"},\"group\":null,\"hover_glyph\":null,\"muted_glyph\":{\"id\":\"1221\"},\"nonselection_glyph\":{\"id\":\"1220\"},\"view\":{\"id\":\"1223\"}},\"id\":\"1222\",\"type\":\"GlyphRenderer\"},{\"attributes\":{},\"id\":\"1266\",\"type\":\"Selection\"},{\"attributes\":{\"coordinates\":null,\"fill_alpha\":0.2,\"fill_color\":\"navy\",\"group\":null,\"level\":\"overlay\",\"line_alpha\":1.0,\"line_color\":\"black\",\"line_dash\":[2,2],\"line_width\":0.5,\"syncable\":false},\"id\":\"1225\",\"type\":\"BoxAnnotation\"},{\"attributes\":{\"active_multi\":{\"id\":\"1224\"},\"tools\":[{\"id\":\"1224\"}]},\"id\":\"1202\",\"type\":\"Toolbar\"},{\"attributes\":{\"fill_alpha\":{\"value\":0.1},\"fill_color\":{\"value\":\"#440154\"},\"hatch_alpha\":{\"value\":0.1},\"hatch_color\":{\"value\":\"#440154\"},\"line_alpha\":{\"value\":0.1},\"line_color\":{\"value\":\"#440154\"},\"x\":{\"field\":\"TimeGenerated\"},\"y\":{\"field\":\"y_index\"}},\"id\":\"1208\",\"type\":\"Circle\"},{\"attributes\":{\"fill_color\":{\"value\":\"#FDE724\"},\"hatch_color\":{\"value\":\"#FDE724\"},\"line_color\":{\"value\":\"#FDE724\"},\"x\":{\"field\":\"TimeGenerated\"},\"y\":{\"field\":\"y_index\"}},\"id\":\"1219\",\"type\":\"Circle\"},{\"attributes\":{\"fill_alpha\":{\"value\":0.1},\"fill_color\":{\"value\":\"#FDE724\"},\"hatch_alpha\":{\"value\":0.1},\"hatch_color\":{\"value\":\"#FDE724\"},\"line_alpha\":{\"value\":0.1},\"line_color\":{\"value\":\"#FDE724\"},\"x\":{\"field\":\"TimeGenerated\"},\"y\":{\"field\":\"y_index\"}},\"id\":\"1220\",\"type\":\"Circle\"},{\"attributes\":{},\"id\":\"1260\",\"type\":\"AllLabels\"},{\"attributes\":{\"coordinates\":null,\"formatter\":{\"id\":\"1257\"},\"group\":null,\"major_label_policy\":{\"id\":\"1258\"},\"ticker\":{\"id\":\"1171\"},\"visible\":false},\"id\":\"1170\",\"type\":\"LinearAxis\"},{\"attributes\":{\"bottom_units\":\"screen\",\"coordinates\":null,\"fill_alpha\":0.5,\"fill_color\":\"lightgrey\",\"group\":null,\"left_units\":\"screen\",\"level\":\"overlay\",\"line_alpha\":1.0,\"line_color\":\"black\",\"line_dash\":[4,4],\"line_width\":2,\"right_units\":\"screen\",\"syncable\":false,\"top_units\":\"screen\"},\"id\":\"1179\",\"type\":\"BoxAnnotation\"},{\"attributes\":{\"dimensions\":\"width\"},\"id\":\"1178\",\"type\":\"PanTool\"},{\"attributes\":{\"coordinates\":null,\"data_source\":{\"id\":\"1153\"},\"glyph\":{\"id\":\"1246\"},\"group\":null,\"hover_glyph\":null,\"muted_glyph\":{\"id\":\"1248\"},\"nonselection_glyph\":{\"id\":\"1247\"},\"view\":{\"id\":\"1250\"}},\"id\":\"1249\",\"type\":\"GlyphRenderer\"},{\"attributes\":{},\"id\":\"1192\",\"type\":\"DataRange1d\"},{\"attributes\":{},\"id\":\"1177\",\"type\":\"SaveTool\"},{\"attributes\":{\"label\":{\"value\":\"Office 365 Exchange Online\"},\"renderers\":[{\"id\":\"1249\"}]},\"id\":\"1251\",\"type\":\"LegendItem\"},{\"attributes\":{\"source\":{\"id\":\"1152\"}},\"id\":\"1217\",\"type\":\"CDSView\"},{\"attributes\":{},\"id\":\"1176\",\"type\":\"ResetTool\"},{\"attributes\":{\"fill_alpha\":{\"value\":0.2},\"fill_color\":{\"value\":\"#440154\"},\"hatch_alpha\":{\"value\":0.2},\"hatch_color\":{\"value\":\"#440154\"},\"line_alpha\":{\"value\":0.2},\"line_color\":{\"value\":\"#440154\"},\"x\":{\"field\":\"TimeGenerated\"},\"y\":{\"field\":\"y_index\"}},\"id\":\"1209\",\"type\":\"Circle\"},{\"attributes\":{\"data\":{\"AppResourceProvider\":[\"Exchange\",\"Exchange\",\"Exchange\",\"Exchange\",\"Exchange\",\"Exchange\",\"Exchange\",\"Exchange\",\"Exchange\",\"Exchange\",\"Exchange\",\"Exchange\",\"Exchange\",\"Exchange\",\"Exchange\",\"Exchange\",\"Exchange\",\"Exchange\",\"Exchange\",\"Exchange\",\"Exchange\",\"Exchange\",\"Exchange\",\"Exchange\",\"Exchange\",\"Exchange\",\"Exchange\",\"Exchange\",\"Exchange\",\"Exchange\",\"Exchange\",\"Exchange\",\"Exchange\",\"Exchange\",\"Exchange\",\"Exchange\",\"Exchange\",\"Exchange\",\"Exchange\",\"Exchange\",\"Exchange\",\"Exchange\",\"Exchange\",\"Exchange\",\"Exchange\",\"Exchange\",\"Exchange\",\"Exchange\",\"Exchange\",\"Exchange\",\"Exchange\",\"Exchange\",\"Exchange\",\"Exchange\",\"Exchange\",\"Exchange\",\"Exchange\",\"Exchange\",\"Exchange\",\"Exchange\",\"Exchange\",\"Exchange\",\"Exchange\",\"Exchange\",\"Exchange\",\"Exchange\",\"Exchange\",\"Exchange\",\"Exchange\",\"Exchange\",\"Exchange\",\"Exchange\",\"Exchange\",\"Exchange\",\"Exchange\",\"Exchange\",\"Exchange\",\"Exchange\",\"Exchange\",\"Exchange\",\"Exchange\",\"Exchange\",\"Exchange\",\"Exchange\",\"Exchange\",\"Exchange\",\"Exchange\",\"Exchange\",\"Exchange\",\"Exchange\",\"Exchange\",\"Exchange\",\"Exchange\",\"Exchange\",\"Exchange\",\"Exchange\",\"Exchange\",\"Exchange\",\"Exchange\",\"Exchange\",\"Exchange\",\"Exchange\",\"Exchange\",\"Exchange\",\"Exchange\",\"Exchange\",\"Exchange\",\"Exchange\",\"Exchange\",\"Exchange\",\"Exchange\",\"Exchange\",\"Exchange\",\"Exchange\",\"Exchange\",\"Exchange\",\"Exchange\",\"Exchange\",\"Exchange\",\"Exchange\",\"Exchange\",\"Exchange\",\"Exchange\",\"Exchange\",\"Exchange\",\"Exchange\",\"Exchange\",\"Exchange\",\"Exchange\",\"Exchange\",\"Exchange\",\"Exchange\",\"Exchange\",\"Exchange\",\"Exchange\",\"Exchange\",\"Exchange\",\"Exchange\",\"Exchange\",\"Exchange\",\"Exchange\",\"Exchange\",\"Exchange\",\"Exchange\",\"Exchange\",\"Exchange\",\"Exchange\",\"Exchange\",\"Exchange\",\"Exchange\",\"Exchange\",\"Exchange\",\"Exchange\",\"Exchange\",\"Exchange\",\"Exchange\",\"Exchange\",\"Exchange\",\"Exchange\",\"Exchange\",\"Exchange\",\"Exchange\",\"Exchange\",\"Exchange\",\"Exchange\",\"Exchange\",\"Exchange\",\"Exchange\",\"Exchange\",\"Exchange\",\"Exchange\",\"Exchange\",\"Exchange\",\"Exchange\",\"Exchange\",\"Exchange\",\"Exchange\",\"Exchange\",\"Exchange\",\"Exchange\",\"Exchange\",\"Exchange\",\"Exchange\",\"Exchange\",\"Exchange\",\"Exchange\",\"Exchange\",\"Exchange\",\"Exchange\",\"Exchange\",\"Exchange\"],\"IPAddress\":[\"20.190.142.172\",\"20.190.142.170\",\"2603:10b6:408:16a::13\",\"20.190.142.169\",\"2603:10b6:408:16a::13\",\"20.190.142.172\",\"2603:10b6:408:16a::13\",\"20.190.142.170\",\"2603:10b6:408:16a::13\",\"20.190.142.172\",\"2603:10b6:408:131:cafe::74\",\"20.190.142.172\",\"2603:10b6:408:16a::13\",\"20.190.142.172\",\"2603:10b6:408:16a::13\",\"20.190.142.170\",\"2603:10b6:408:16a::13\",\"20.190.142.172\",\"20.190.142.169\",\"2603:10b6:208:350::7\",\"20.190.142.170\",\"2603:10b6:208:350::7\",\"20.190.142.169\",\"2603:10b6:408:16a::13\",\"20.190.142.170\",\"20.190.142.172\",\"20.190.142.172\",\"20.190.142.169\",\"20.190.142.170\",\"2603:10b6:408:16a::13\",\"20.190.142.172\",\"2603:10b6:408:16a::13\",\"20.190.142.170\",\"20.190.142.170\",\"2603:10b6:408:16a::13\",\"20.190.142.172\",\"2603:10b6:408:16a::13\",\"20.190.142.172\",\"2603:10b6:408:16a::13\",\"20.190.142.170\",\"20.190.142.169\",\"2603:10b6:408:16a::13\",\"20.190.142.170\",\"2603:10b6:408:16a::13\",\"20.190.142.169\",\"2603:10b6:408:16a::13\",\"52.96.203.21\",\"20.190.142.169\",\"2603:10b6:408:16a::13\",\"20.190.142.172\",\"2603:10b6:408:16a::13\",\"20.190.142.169\",\"2603:10b6:408:16a::13\",\"20.190.142.170\",\"2603:10b6:408:16a::13\",\"20.190.142.170\",\"2603:10b6:408:148::20\",\"20.190.142.172\",\"2603:10b6:408:16a::13\",\"20.190.142.172\",\"20.190.142.172\",\"2603:10b6:408:16a::13\",\"20.190.142.172\",\"2603:10b6:408:16a::13\",\"20.190.142.169\",\"2603:10b6:408:16a::13\",\"20.190.142.172\",\"2603:10b6:408:16a::13\",\"20.190.142.170\",\"2603:10b6:408:16a::13\",\"20.190.142.170\",\"2603:10b6:408:16a::13\",\"20.190.142.169\",\"20.190.142.170\",\"2603:10b6:408:16a::13\",\"20.190.142.172\",\"20.190.142.169\",\"2603:10b6:408:16a::13\",\"20.190.142.170\",\"2603:10b6:408:16a::13\",\"20.190.142.172\",\"2603:10b6:408:16a::13\",\"20.190.142.169\",\"20.190.142.169\",\"2603:10b6:408:16a::13\",\"20.190.142.172\",\"2603:10b6:408:16a::13\",\"20.190.142.170\",\"2603:10b6:408:16a::13\",\"20.190.142.170\",\"2603:10b6:408:16a::13\",\"20.190.142.172\",\"20.190.142.169\",\"2603:10b6:408:16a::13\",\"20.190.142.169\",\"2603:10b6:408:10d:cafe::a\",\"20.190.142.170\",\"2603:10b6:408:16a::13\",\"20.190.142.169\",\"2603:10b6:408:16a::13\",\"20.190.142.169\",\"2603:10b6:408:16a::13\",\"20.190.142.170\",\"2603:10b6:408:16a::13\",\"20.190.142.170\",\"20.190.142.169\",\"2603:10b6:408:16a::13\",\"20.190.142.170\",\"2603:10b6:408:16a::13\",\"20.190.142.172\",\"20.190.142.170\",\"2603:10b6:408:16a::13\",\"20.190.142.169\",\"2603:10b6:408:16a::13\",\"20.190.142.170\",\"2603:10b6:408:16a::13\",\"20.190.142.170\",\"2603:10b6:408:16a::13\",\"20.190.142.169\",\"20.190.142.172\",\"20.190.142.172\",\"2603:10b6:408:16a::13\",\"20.190.142.169\",\"20.190.142.172\",\"20.190.142.172\",\"2603:10b6:208:350::7\",\"20.190.142.170\",\"20.190.142.170\",\"2603:10b6:208:350::7\",\"20.190.142.172\",\"2603:10b6:208:357::21\",\"20.190.142.172\",\"2603:10b6:408:16a::13\",\"20.190.142.169\",\"2603:10b6:408:16a::13\",\"20.190.142.170\",\"2603:10b6:408:16a::13\",\"20.190.142.170\",\"2603:10b6:408:16a::13\",\"52.96.203.93\",\"20.190.142.170\",\"2603:10b6:408:16a::13\",\"20.190.142.170\",\"2603:10b6:408:16a::13\",\"20.190.142.169\",\"20.190.142.169\",\"2603:10b6:408:16a::13\",\"20.190.142.172\",\"2603:10b6:408:16a::13\",\"20.37.213.236:63603\",\"20.190.142.169\",\"2603:10b6:408:16a::13\",\"20.190.142.170\",\"2603:10b6:408:16a::13\",\"20.190.142.169\",\"2603:10b6:408:16a::13\",\"20.190.142.169\",\"2603:10b6:408:16a::13\",\"20.190.142.169\",\"20.190.142.169\",\"20.190.142.169\",\"2603:10b6:408:16a::13\",\"20.190.142.172\",\"2603:10b6:408:16a::13\",\"20.190.142.172\",\"2603:10b6:408:16a::13\",\"20.190.142.172\",\"20.190.142.170\",\"2603:10b6:408:16a::13\",\"20.190.142.169\",\"20.190.142.170\",\"2603:10b6:408:16a::13\",\"20.190.142.170\",\"2603:10b6:408:16a::13\",\"20.190.142.172\",\"2603:10b6:408:16a::13\",\"20.190.142.170\",\"20.190.142.170\",\"20.190.142.170\",\"20.190.142.170\",\"2603:10b6:408:16a::13\",\"20.190.142.170\",\"2603:10b6:408:16a::13\",\"20.190.142.170\",\"2603:10b6:408:16a::13\",\"20.190.142.170\",\"2603:10b6:408:16a::13\",\"20.190.142.169\",\"20.190.142.172\",\"20.190.142.172\",\"20.190.142.172\"],\"Operation\":[\"Send\",\"Send\",\"MailItemsAccessed\",\"Send\",\"MailItemsAccessed\",\"Send\",\"MailItemsAccessed\",\"Send\",\"MailItemsAccessed\",\"MailItemsAccessed\",\"Create\",\"Send\",\"MailItemsAccessed\",\"Send\",\"MailItemsAccessed\",\"Send\",\"MailItemsAccessed\",\"MailItemsAccessed\",\"Send\",\"MailItemsAccessed\",\"Send\",\"MailItemsAccessed\",\"Send\",\"MailItemsAccessed\",\"MailItemsAccessed\",\"MailItemsAccessed\",\"MailItemsAccessed\",\"MailItemsAccessed\",\"Send\",\"MailItemsAccessed\",\"Send\",\"MailItemsAccessed\",\"MailItemsAccessed\",\"Send\",\"MailItemsAccessed\",\"Send\",\"MailItemsAccessed\",\"Send\",\"MailItemsAccessed\",\"MailItemsAccessed\",\"Send\",\"MailItemsAccessed\",\"Send\",\"MailItemsAccessed\",\"Send\",\"MailItemsAccessed\",\"MailItemsAccessed\",\"Send\",\"MailItemsAccessed\",\"Send\",\"MailItemsAccessed\",\"Send\",\"MailItemsAccessed\",\"Send\",\"MailItemsAccessed\",\"Send\",\"MailItemsAccessed\",\"Send\",\"MailItemsAccessed\",\"MailItemsAccessed\",\"Send\",\"MailItemsAccessed\",\"Send\",\"MailItemsAccessed\",\"Send\",\"MailItemsAccessed\",\"Send\",\"MailItemsAccessed\",\"Send\",\"MailItemsAccessed\",\"Send\",\"MailItemsAccessed\",\"MailItemsAccessed\",\"Send\",\"MailItemsAccessed\",\"MailItemsAccessed\",\"Send\",\"MailItemsAccessed\",\"Send\",\"MailItemsAccessed\",\"Send\",\"MailItemsAccessed\",\"MailItemsAccessed\",\"Send\",\"MailItemsAccessed\",\"Send\",\"MailItemsAccessed\",\"Send\",\"MailItemsAccessed\",\"Send\",\"MailItemsAccessed\",\"MailItemsAccessed\",\"Send\",\"MailItemsAccessed\",\"MailItemsAccessed\",\"Create\",\"Send\",\"MailItemsAccessed\",\"Send\",\"MailItemsAccessed\",\"Send\",\"MailItemsAccessed\",\"Send\",\"MailItemsAccessed\",\"MailItemsAccessed\",\"Send\",\"MailItemsAccessed\",\"Send\",\"MailItemsAccessed\",\"MailItemsAccessed\",\"Send\",\"MailItemsAccessed\",\"Send\",\"MailItemsAccessed\",\"Send\",\"MailItemsAccessed\",\"Send\",\"MailItemsAccessed\",\"MailItemsAccessed\",\"MailItemsAccessed\",\"Send\",\"MailItemsAccessed\",\"MailItemsAccessed\",\"MailItemsAccessed\",\"Send\",\"MailItemsAccessed\",\"MailItemsAccessed\",\"Send\",\"MailItemsAccessed\",\"Send\",\"MailItemsAccessed\",\"Send\",\"MailItemsAccessed\",\"Send\",\"MailItemsAccessed\",\"Send\",\"MailItemsAccessed\",\"Send\",\"MailItemsAccessed\",\"MailItemsAccessed\",\"Send\",\"MailItemsAccessed\",\"Send\",\"MailItemsAccessed\",\"MailItemsAccessed\",\"Send\",\"MailItemsAccessed\",\"Send\",\"MailItemsAccessed\",\"Remove-InboxRule\",\"Send\",\"MailItemsAccessed\",\"Send\",\"MailItemsAccessed\",\"Send\",\"MailItemsAccessed\",\"Send\",\"MailItemsAccessed\",\"MailItemsAccessed\",\"Send\",\"Send\",\"MailItemsAccessed\",\"Send\",\"MailItemsAccessed\",\"Send\",\"MailItemsAccessed\",\"MailItemsAccessed\",\"Send\",\"MailItemsAccessed\",\"MailItemsAccessed\",\"Send\",\"MailItemsAccessed\",\"Send\",\"MailItemsAccessed\",\"Send\",\"MailItemsAccessed\",\"MailItemsAccessed\",\"Send\",\"Send\",\"Send\",\"MailItemsAccessed\",\"Send\",\"MailItemsAccessed\",\"Send\",\"MailItemsAccessed\",\"Send\",\"MailItemsAccessed\",\"Send\",\"Send\",\"Send\",\"Send\"],\"TimeGenerated\":{\"__ndarray__\":\"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\",\"dtype\":\"float64\",\"order\":\"little\",\"shape\":[191]},\"index\":[293,292,291,295,294,310,311,296,297,302,303,300,301,306,308,305,304,307,313,312,316,315,319,322,321,320,323,324,325,326,342,343,346,327,328,350,351,298,299,330,329,331,358,359,309,314,360,336,337,361,362,364,365,317,318,339,338,355,356,352,367,357,353,354,332,333,334,335,363,373,366,374,371,341,340,375,368,372,369,370,344,345,347,348,349,376,377,277,278,410,411,412,378,379,413,441,279,380,381,382,383,414,443,442,445,444,446,385,384,386,447,280,415,416,387,388,417,418,448,389,390,391,420,419,422,421,425,423,424,449,450,451,452,281,282,392,393,394,395,453,454,455,456,457,396,426,458,397,398,459,284,283,285,286,427,428,460,461,402,399,400,401,404,403,463,462,287,288,289,429,430,431,405,406,464,290,435,432,433,436,434,437,438,466,465,407,467,440,439,409,408],\"y_index\":[1,1,1,1,1,1,1,1,1,1,1,1,1,1,1,1,1,1,1,1,1,1,1,1,1,1,1,1,1,1,1,1,1,1,1,1,1,1,1,1,1,1,1,1,1,1,1,1,1,1,1,1,1,1,1,1,1,1,1,1,1,1,1,1,1,1,1,1,1,1,1,1,1,1,1,1,1,1,1,1,1,1,1,1,1,1,1,1,1,1,1,1,1,1,1,1,1,1,1,1,1,1,1,1,1,1,1,1,1,1,1,1,1,1,1,1,1,1,1,1,1,1,1,1,1,1,1,1,1,1,1,1,1,1,1,1,1,1,1,1,1,1,1,1,1,1,1,1,1,1,1,1,1,1,1,1,1,1,1,1,1,1,1,1,1,1,1,1,1,1,1,1,1,1,1,1,1,1,1,1,1,1,1,1,1,1,1,1,1,1,1]},\"selected\":{\"id\":\"1266\"},\"selection_policy\":{\"id\":\"1265\"}},\"id\":\"1152\",\"type\":\"ColumnDataSource\"},{\"attributes\":{\"overlay\":{\"id\":\"1179\"}},\"id\":\"1175\",\"type\":\"BoxZoomTool\"},{\"attributes\":{},\"id\":\"1267\",\"type\":\"UnionRenderers\"},{\"attributes\":{\"source\":{\"id\":\"1153\"}},\"id\":\"1250\",\"type\":\"CDSView\"},{\"attributes\":{\"dimensions\":\"width\"},\"id\":\"1174\",\"type\":\"WheelZoomTool\"},{\"attributes\":{},\"id\":\"1196\",\"type\":\"LinearScale\"},{\"attributes\":{\"num_minor_ticks\":10,\"tickers\":[{\"id\":\"1270\"},{\"id\":\"1271\"},{\"id\":\"1272\"},{\"id\":\"1273\"},{\"id\":\"1274\"},{\"id\":\"1275\"},{\"id\":\"1276\"},{\"id\":\"1277\"},{\"id\":\"1278\"},{\"id\":\"1279\"},{\"id\":\"1280\"},{\"id\":\"1281\"}]},\"id\":\"1167\",\"type\":\"DatetimeTicker\"},{\"attributes\":{},\"id\":\"1268\",\"type\":\"Selection\"},{\"attributes\":{\"coordinates\":null,\"data_source\":{\"id\":\"1151\"},\"glyph\":{\"id\":\"1232\"},\"group\":null,\"hover_glyph\":null,\"muted_glyph\":{\"id\":\"1234\"},\"nonselection_glyph\":{\"id\":\"1233\"},\"view\":{\"id\":\"1236\"}},\"id\":\"1235\",\"type\":\"GlyphRenderer\"},{\"attributes\":{\"end\":1649884221466.5999,\"start\":1649679015867.4},\"id\":\"1158\",\"type\":\"Range1d\"},{\"attributes\":{\"fill_alpha\":{\"value\":0.1},\"fill_color\":{\"value\":\"#208F8C\"},\"hatch_alpha\":{\"value\":0.1},\"hatch_color\":{\"value\":\"#208F8C\"},\"line_alpha\":{\"value\":0.1},\"line_color\":{\"value\":\"#208F8C\"},\"x\":{\"field\":\"TimeGenerated\"},\"y\":{\"field\":\"y_index\"}},\"id\":\"1214\",\"type\":\"Circle\"},{\"attributes\":{},\"id\":\"1258\",\"type\":\"AllLabels\"},{\"attributes\":{\"coordinates\":null,\"data_source\":{\"id\":\"1152\"},\"glyph\":{\"id\":\"1239\"},\"group\":null,\"hover_glyph\":null,\"muted_glyph\":{\"id\":\"1241\"},\"nonselection_glyph\":{\"id\":\"1240\"},\"view\":{\"id\":\"1243\"}},\"id\":\"1242\",\"type\":\"GlyphRenderer\"},{\"attributes\":{\"coordinates\":null,\"formatter\":{\"id\":\"1204\"},\"group\":null,\"major_label_policy\":{\"id\":\"1262\"},\"ticker\":{\"id\":\"1199\"}},\"id\":\"1198\",\"type\":\"DatetimeAxis\"},{\"attributes\":{\"data\":{\"AppResourceProvider\":[\"CAttack\",\"CAttack\",\"CAttack\",\"CAttack\",\"CAttack\",\"CAttack\",\"CAttack\",\"CAttack\",\"CAttack\",\"CAttack\",\"CAttack\",\"CAttack\",\"CAttack\",\"CAttack\",\"CAttack\",\"CAttack\",\"CAttack\",\"CAttack\",\"CAttack\",\"CAttack\",\"CAttack\",\"CAttack\",\"CAttack\",\"CAttack\",\"CAttack\",\"CAttack\",\"CAttack\",\"CAttack\",\"CAttack\",\"CAttack\",\"CAttack\",\"CAttack\",\"CAttack\",\"CAttack\",\"CAttack\",\"CAttack\",\"CAttack\",\"CAttack\",\"CAttack\",\"CAttack\",\"CAttack\",\"CAttack\",\"CAttack\",\"CAttack\",\"CAttack\",\"CAttack\",\"CAttack\",\"CAttack\",\"CAttack\",\"CAttack\",\"CAttack\",\"CAttack\",\"CAttack\",\"CAttack\",\"CAttack\",\"CAttack\",\"CAttack\",\"CAttack\",\"CAttack\",\"CAttack\",\"CAttack\",\"CAttack\",\"CAttack\",\"CAttack\",\"CAttack\",\"CAttack\",\"CAttack\",\"CAttack\",\"CAttack\",\"CAttack\",\"CAttack\",\"CAttack\",\"CAttack\",\"CAttack\",\"CAttack\",\"CAttack\",\"CAttack\",\"CAttack\",\"CAttack\",\"CAttack\",\"CAttack\",\"CAttack\",\"CAttack\",\"CAttack\",\"CAttack\",\"CAttack\",\"CAttack\",\"CAttack\",\"CAttack\",\"CAttack\",\"CAttack\",\"CAttack\",\"CAttack\",\"CAttack\",\"CAttack\",\"CAttack\",\"CAttack\",\"CAttack\",\"CAttack\",\"CAttack\",\"CAttack\",\"CAttack\",\"CAttack\",\"CAttack\",\"CAttack\",\"CAttack\",\"CAttack\",\"CAttack\",\"CAttack\",\"CAttack\",\"CAttack\",\"CAttack\",\"CAttack\",\"CAttack\",\"CAttack\",\"CAttack\",\"CAttack\",\"CAttack\",\"CAttack\",\"CAttack\",\"CAttack\",\"CAttack\",\"CAttack\",\"CAttack\",\"CAttack\",\"CAttack\",\"CAttack\",\"CAttack\",\"CAttack\",\"CAttack\",\"CAttack\",\"CAttack\",\"CAttack\",\"CAttack\",\"CAttack\",\"CAttack\",\"CAttack\",\"CAttack\",\"CAttack\",\"CAttack\",\"CAttack\",\"CAttack\",\"CAttack\",\"CAttack\",\"CAttack\",\"CAttack\",\"CAttack\",\"CAttack\",\"CAttack\",\"CAttack\",\"CAttack\",\"CAttack\",\"CAttack\",\"CAttack\",\"CAttack\",\"CAttack\",\"CAttack\",\"CAttack\",\"CAttack\",\"CAttack\",\"CAttack\",\"CAttack\",\"CAttack\",\"CAttack\",\"CAttack\",\"CAttack\",\"CAttack\",\"CAttack\",\"CAttack\",\"CAttack\",\"CAttack\",\"CAttack\",\"CAttack\",\"CAttack\",\"CAttack\",\"CAttack\",\"CAttack\",\"CAttack\",\"CAttack\",\"CAttack\",\"CAttack\",\"CAttack\",\"CAttack\",\"CAttack\",\"CAttack\",\"CAttack\",\"CAttack\",\"CAttack\",\"CAttack\",\"CAttack\",\"CAttack\",\"CAttack\",\"CAttack\",\"CAttack\",\"CAttack\",\"CAttack\",\"CAttack\",\"CAttack\",\"CAttack\",\"CAttack\",\"CAttack\",\"CAttack\",\"CAttack\",\"CAttack\",\"CAttack\",\"CAttack\",\"CAttack\",\"CAttack\",\"CAttack\",\"CAttack\",\"CAttack\",\"CAttack\",\"CAttack\",\"CAttack\",\"CAttack\",\"CAttack\",\"CAttack\",\"CAttack\",\"CAttack\",\"CAttack\",\"CAttack\",\"CAttack\",\"CAttack\",\"CAttack\",\"CAttack\",\"CAttack\",\"CAttack\",\"CAttack\",\"CAttack\",\"CAttack\",\"CAttack\",\"CAttack\",\"CAttack\",\"CAttack\",\"CAttack\",\"CAttack\",\"CAttack\",\"CAttack\",\"CAttack\",\"CAttack\",\"CAttack\",\"CAttack\",\"CAttack\",\"CAttack\",\"CAttack\",\"CAttack\",\"CAttack\",\"CAttack\",\"CAttack\",\"CAttack\",\"CAttack\",\"CAttack\",\"CAttack\",\"CAttack\",\"CAttack\",\"CAttack\",\"CAttack\",\"CAttack\",\"CAttack\",\"CAttack\",\"CAttack\",\"CAttack\",\"CAttack\",\"CAttack\",\"CAttack\",\"CAttack\",\"CAttack\",\"CAttack\",\"CAttack\",\"CAttack\",\"CAttack\",\"CAttack\",\"CAttack\",\"CAttack\",\"CAttack\",\"CAttack\"],\"IPAddress\":[\"20.37.212.69\",\"20.70.208.63\",\"20.37.253.233\",\"20.70.208.63\",\"20.70.208.63\",\"20.70.208.63\",\"20.37.212.69\",\"20.37.213.236\",\"20.70.208.63\",\"20.37.212.69\",\"20.37.212.69\",\"20.37.212.69\",\"20.37.255.76\",\"20.37.255.76\",\"20.37.212.69\",\"20.37.212.69\",\"20.70.208.63\",\"20.70.208.63\",\"20.37.213.236\",\"20.53.9.84\",\"20.53.9.84\",\"20.53.9.84\",\"20.37.213.236\",\"20.37.213.236\",\"20.37.213.236\",\"20.70.208.63\",\"20.37.212.69\",\"20.53.9.84\",\"20.53.9.84\",\"20.53.9.84\",\"20.37.213.236\",\"20.37.213.236\",\"20.37.253.233\",\"20.53.9.84\",\"20.70.208.63\",\"20.70.208.63\",\"20.37.213.236\",\"20.37.253.233\",\"20.37.213.236\",\"20.37.253.233\",\"20.37.253.233\",\"20.53.9.84\",\"20.37.253.233\",\"20.37.253.233\",\"20.37.212.69\",\"20.37.212.69\",\"20.37.212.69\",\"20.70.208.63\",\"20.70.208.63\",\"20.37.253.233\",\"20.53.9.84\",\"20.53.9.84\",\"20.37.212.69\",\"20.53.9.84\",\"20.53.9.84\",\"20.70.208.63\",\"20.37.212.69\",\"20.37.255.76\",\"20.37.212.69\",\"20.53.9.84\",\"20.53.9.84\",\"20.37.255.76\",\"20.37.212.69\",\"20.37.213.236\",\"20.37.255.76\",\"20.70.208.63\",\"20.37.255.76\",\"20.37.253.233\",\"20.37.213.236\",\"20.37.213.236\",\"20.53.9.84\",\"20.37.255.76\",\"20.70.208.63\",\"20.70.208.63\",\"20.37.255.76\",\"20.37.213.236\",\"20.53.9.84\",\"20.37.213.236\",\"20.70.208.63\",\"20.37.255.76\",\"20.70.208.63\",\"20.37.253.233\",\"20.37.213.236\",\"20.70.208.63\",\"20.37.212.69\",\"20.37.253.233\",\"20.37.213.236\",\"20.37.255.76\",\"20.37.213.236\",\"20.70.208.63\",\"20.37.253.233\",\"20.37.253.233\",\"20.70.208.63\",\"20.37.212.69\",\"20.37.253.233\",\"20.37.255.76\",\"20.37.253.233\",\"20.70.208.63\",\"20.37.253.233\",\"20.37.213.236\",\"20.53.9.84\",\"20.37.212.69\",\"20.37.253.233\",\"20.37.213.236\",\"20.37.255.76\",\"20.53.9.84\",\"20.70.208.63\",\"20.37.255.76\",\"20.70.208.63\",\"20.37.213.236\",\"20.53.9.84\",\"20.37.253.233\",\"20.70.208.63\",\"20.37.213.236\",\"20.37.213.236\",\"20.37.212.69\",\"20.37.253.233\",\"20.70.208.63\",\"20.37.212.69\",\"20.37.255.76\",\"20.37.253.233\",\"20.37.212.69\",\"20.37.255.76\",\"20.70.208.63\",\"20.37.255.76\",\"20.37.253.233\",\"20.37.255.76\",\"20.37.213.236\",\"20.37.213.236\",\"20.53.9.84\",\"20.37.213.236\",\"20.37.253.233\",\"20.37.253.233\",\"20.70.208.63\",\"20.70.208.63\",\"20.53.9.84\",\"20.53.9.84\",\"20.37.213.236\",\"20.37.253.233\",\"20.37.255.76\",\"20.37.212.69\",\"20.70.208.63\",\"20.37.213.236\",\"20.37.253.233\",\"20.70.208.63\",\"20.37.253.233\",\"20.37.213.236\",\"20.37.255.76\",\"20.53.9.84\",\"20.37.253.233\",\"20.37.212.69\",\"20.37.253.233\",\"20.37.253.233\",\"20.70.208.63\",\"20.70.208.63\",\"20.53.9.84\",\"20.53.9.84\",\"20.37.253.233\",\"20.53.9.84\",\"20.53.9.84\",\"20.37.212.69\",\"20.37.213.236\",\"20.37.213.236\",\"20.70.208.63\",\"20.37.255.76\",\"20.37.255.76\",\"20.37.255.76\",\"20.70.208.63\",\"20.53.9.84\",\"20.53.9.84\",\"20.37.213.236\",\"20.37.213.236\",\"20.37.213.236\",\"20.70.208.63\",\"20.37.253.233\",\"20.37.213.236\",\"20.53.9.84\",\"20.37.253.233\",\"20.37.253.233\",\"20.53.9.84\",\"20.53.9.84\",\"20.53.9.84\",\"20.70.208.63\",\"20.37.253.233\",\"20.37.253.233\",\"20.37.253.233\",\"20.37.212.69\",\"20.37.212.69\",\"20.37.255.76\",\"20.37.255.76\",\"20.37.255.76\",\"20.53.9.84\",\"20.53.9.84\",\"20.37.213.236\",\"20.53.9.84\",\"20.37.213.236\",\"20.37.253.233\",\"20.37.253.233\",\"20.37.253.233\",\"20.37.253.233\",\"20.37.213.236\",\"20.37.253.233\",\"20.53.9.84\",\"20.53.9.84\",\"20.37.255.76\",\"20.37.253.233\",\"20.37.255.76\",\"20.53.9.84\",\"20.53.9.84\",\"20.37.253.233\",\"20.37.253.233\",\"20.37.253.233\",\"20.37.213.236\",\"20.53.9.84\",\"20.37.212.69\",\"20.37.212.69\",\"20.37.253.233\",\"20.37.253.233\",\"20.70.208.63\",\"20.37.213.236\",\"20.53.9.84\",\"20.53.9.84\",\"20.37.253.233\",\"20.53.9.84\",\"20.53.9.84\",\"20.37.212.69\",\"20.53.9.84\",\"20.37.255.76\",\"20.37.255.76\",\"20.37.212.69\",\"20.37.213.236\",\"20.37.253.233\",\"20.37.253.233\",\"20.37.253.233\",\"20.37.213.236\",\"20.37.255.76\",\"20.37.213.236\",\"20.37.213.236\",\"20.53.9.84\",\"20.37.253.233\",\"20.37.253.233\",\"20.53.9.84\",\"20.53.9.84\",\"20.70.208.63\",\"20.70.208.63\",\"20.70.208.63\",\"20.70.208.63\",\"20.70.208.63\",\"20.37.255.76\",\"20.37.253.233\",\"20.37.255.76\",\"20.37.212.69\",\"20.37.255.76\",\"20.37.213.236\",\"20.37.213.236\",\"20.53.9.84\",\"20.70.208.63\",\"20.37.212.69\",\"20.37.213.236\",\"20.37.212.69\",\"20.37.253.233\",\"20.37.253.233\",\"20.37.253.233\",\"20.37.255.76\",\"20.70.208.63\",\"20.37.213.236\",\"20.37.213.236\",\"20.37.255.76\",\"20.70.208.63\",\"20.37.213.236\",\"20.37.253.233\",\"20.70.208.63\",\"20.37.255.76\",\"20.37.212.69\",\"20.37.212.69\",\"20.53.9.84\"],\"Operation\":[\"Sign-in activity\",\"Sign-in activity\",\"Sign-in activity\",\"Sign-in activity\",\"Sign-in activity\",\"Sign-in activity\",\"Sign-in activity\",\"Sign-in activity\",\"Sign-in activity\",\"Sign-in activity\",\"Sign-in activity\",\"Sign-in activity\",\"Sign-in activity\",\"Sign-in activity\",\"Sign-in activity\",\"Sign-in activity\",\"Sign-in activity\",\"Sign-in activity\",\"Sign-in activity\",\"Sign-in activity\",\"Sign-in activity\",\"Sign-in activity\",\"Sign-in activity\",\"Sign-in activity\",\"Sign-in activity\",\"Sign-in activity\",\"Sign-in activity\",\"Sign-in activity\",\"Sign-in activity\",\"Sign-in activity\",\"Sign-in activity\",\"Sign-in activity\",\"Sign-in activity\",\"Sign-in activity\",\"Sign-in activity\",\"Sign-in activity\",\"Sign-in activity\",\"Sign-in activity\",\"Sign-in activity\",\"Sign-in activity\",\"Sign-in activity\",\"Sign-in activity\",\"Sign-in activity\",\"Sign-in activity\",\"Sign-in activity\",\"Sign-in activity\",\"Sign-in activity\",\"Sign-in activity\",\"Sign-in activity\",\"Sign-in activity\",\"Sign-in activity\",\"Sign-in activity\",\"Sign-in activity\",\"Sign-in activity\",\"Sign-in activity\",\"Sign-in activity\",\"Sign-in activity\",\"Sign-in activity\",\"Sign-in activity\",\"Sign-in activity\",\"Sign-in activity\",\"Sign-in activity\",\"Sign-in activity\",\"Sign-in activity\",\"Sign-in activity\",\"Sign-in activity\",\"Sign-in activity\",\"Sign-in activity\",\"Sign-in activity\",\"Sign-in activity\",\"Sign-in activity\",\"Sign-in activity\",\"Sign-in activity\",\"Sign-in activity\",\"Sign-in activity\",\"Sign-in activity\",\"Sign-in activity\",\"Sign-in activity\",\"Sign-in activity\",\"Sign-in activity\",\"Sign-in activity\",\"Sign-in activity\",\"Sign-in activity\",\"Sign-in activity\",\"Sign-in activity\",\"Sign-in activity\",\"Sign-in activity\",\"Sign-in activity\",\"Sign-in activity\",\"Sign-in activity\",\"Sign-in activity\",\"Sign-in activity\",\"Sign-in activity\",\"Sign-in activity\",\"Sign-in activity\",\"Sign-in activity\",\"Sign-in activity\",\"Sign-in activity\",\"Sign-in activity\",\"Sign-in activity\",\"Sign-in activity\",\"Sign-in activity\",\"Sign-in activity\",\"Sign-in activity\",\"Sign-in activity\",\"Sign-in activity\",\"Sign-in activity\",\"Sign-in activity\",\"Sign-in activity\",\"Sign-in activity\",\"Sign-in activity\",\"Sign-in activity\",\"Sign-in activity\",\"Sign-in activity\",\"Sign-in activity\",\"Sign-in activity\",\"Sign-in activity\",\"Sign-in activity\",\"Sign-in activity\",\"Sign-in activity\",\"Sign-in activity\",\"Sign-in activity\",\"Sign-in activity\",\"Sign-in activity\",\"Sign-in activity\",\"Sign-in activity\",\"Sign-in activity\",\"Sign-in activity\",\"Sign-in activity\",\"Sign-in activity\",\"Sign-in activity\",\"Sign-in activity\",\"Sign-in activity\",\"Sign-in activity\",\"Sign-in activity\",\"Sign-in activity\",\"Sign-in activity\",\"Sign-in activity\",\"Sign-in activity\",\"Sign-in activity\",\"Sign-in activity\",\"Sign-in activity\",\"Sign-in activity\",\"Sign-in activity\",\"Sign-in activity\",\"Sign-in activity\",\"Sign-in activity\",\"Sign-in activity\",\"Sign-in activity\",\"Sign-in activity\",\"Sign-in activity\",\"Sign-in activity\",\"Sign-in activity\",\"Sign-in activity\",\"Sign-in activity\",\"Sign-in activity\",\"Sign-in activity\",\"Sign-in activity\",\"Sign-in activity\",\"Sign-in activity\",\"Sign-in activity\",\"Sign-in activity\",\"Sign-in activity\",\"Sign-in activity\",\"Sign-in activity\",\"Sign-in activity\",\"Sign-in activity\",\"Sign-in activity\",\"Sign-in activity\",\"Sign-in activity\",\"Sign-in activity\",\"Sign-in activity\",\"Sign-in activity\",\"Sign-in activity\",\"Sign-in activity\",\"Sign-in activity\",\"Sign-in activity\",\"Sign-in activity\",\"Sign-in activity\",\"Sign-in activity\",\"Sign-in activity\",\"Sign-in activity\",\"Sign-in activity\",\"Sign-in activity\",\"Sign-in activity\",\"Sign-in activity\",\"Sign-in activity\",\"Sign-in activity\",\"Sign-in activity\",\"Sign-in activity\",\"Sign-in activity\",\"Sign-in activity\",\"Sign-in activity\",\"Sign-in activity\",\"Sign-in activity\",\"Sign-in activity\",\"Sign-in activity\",\"Sign-in activity\",\"Sign-in activity\",\"Sign-in activity\",\"Sign-in activity\",\"Sign-in activity\",\"Sign-in activity\",\"Sign-in activity\",\"Sign-in activity\",\"Sign-in activity\",\"Sign-in activity\",\"Sign-in activity\",\"Sign-in activity\",\"Sign-in activity\",\"Sign-in activity\",\"Sign-in activity\",\"Sign-in activity\",\"Sign-in activity\",\"Sign-in activity\",\"Sign-in activity\",\"Sign-in activity\",\"Sign-in activity\",\"Sign-in activity\",\"Sign-in activity\",\"Sign-in activity\",\"Sign-in activity\",\"Sign-in activity\",\"Sign-in activity\",\"Sign-in activity\",\"Sign-in activity\",\"Sign-in activity\",\"Sign-in activity\",\"Sign-in activity\",\"Sign-in activity\",\"Sign-in activity\",\"Sign-in activity\",\"Sign-in activity\",\"Sign-in activity\",\"Sign-in activity\",\"Sign-in activity\",\"Sign-in activity\",\"Sign-in activity\",\"Sign-in activity\",\"Sign-in activity\",\"Sign-in activity\",\"Sign-in activity\",\"Sign-in activity\",\"Sign-in activity\",\"Sign-in activity\",\"Sign-in activity\",\"Sign-in activity\",\"Sign-in activity\",\"Sign-in activity\",\"Sign-in activity\",\"Sign-in activity\",\"Sign-in activity\",\"Sign-in activity\",\"Sign-in activity\",\"Sign-in activity\",\"Sign-in activity\",\"Sign-in activity\",\"Sign-in activity\",\"Sign-in activity\",\"Sign-in activity\",\"Sign-in activity\",\"Sign-in activity\",\"Sign-in activity\",\"Sign-in activity\",\"Sign-in activity\",\"Sign-in activity\",\"Sign-in activity\",\"Sign-in activity\",\"Sign-in activity\",\"Sign-in activity\",\"Sign-in activity\",\"Sign-in activity\",\"Sign-in activity\",\"Sign-in activity\",\"Sign-in activity\",\"Sign-in activity\"],\"TimeGenerated\":{\"__ndarray__\":\"AODm0JgBeEIAcPjRmAF4QgDQekWZAXhCAOBl8ZoBeEIA8ITymgF4QgAAPw2bAXhCAIDOn5sBeEIAsOf/nAF4QgDAWIWdAXhCAOBat54BeEIAoIHzoAF4QgCAVGihAXhCAICXv6EBeEIAALz6oQF4QgDgA52iAXhCAFD/naIBeEIAMP6jowF4QgDwOqWjAXhCAEB2paUBeEIA0C7RpQF4QgDQLtGlAXhCAJBA7qUBeEIAUNkqpgF4QgBgC72mAXhCAJC2eqcBeEIAIKjaqAF4QgAgiJqpAXhCAHDDzaoBeEIA8B0zqwF4QgCwPTSrAXhCALAyfasBeEIAgPCoqwF4QgBg+L6sAXhCAOAEBa4BeEIAsIxLrgF4QgDAl/+uAXhCAHD6orABeEIAoPKtsAF4QgBgzsuwAXhCAJD7zLABeEIAQAvOsAF4QgAQfDWxAXhCAOAcQ7EBeEIAABtEsQF4QgAQNWyxAXhCAMAXbbEBeEIAYKl8sQF4QgAAfNSxAXhCAKCG1bEBeEIAgBLisQF4QgBgovSxAXhCABCz9bEBeEIAwMcLsgF4QgBgjGeyAXhCAECqaLIBeEIAUKdpsgF4QgCgU3WyAXhCAGCuhrIBeEIAEPKUsgF4QgCQaq2yAXhCAKC9rrIBeEIAsDG9sgF4QgDg4xezAXhCAJBMUbMBeEIAAAx7swF4QgAQLXyzAXhCAGCNfLMBeEIAAF2uswF4QgBAQKm3AXhCADDD8rgBeEIA4AkRuQF4QgCgl8m7AXhCALBgs7wBeEIAsKm0vAF4QgBAXdG8AXhCAIDQ7rwBeEIAUNsqvQF4QgDQnfa9AXhCANC+Tb4BeEIAQF6pwAF4QgAgWeLAAXhCALChLMIBeEIAwAlTwwF4QgAAIXDDAXhCAEBrSsQBeEIAkAccxQF4QgDQZS7GAXhCACBn9cYBeEIAMNgLxwF4QgDgXSnHAXhCAFAht8oBeEIAMPzUygF4QgAAPf3KAXhCAMDRcssBeEIAwJaozAF4QgBQCdXMAXhCANAe2MwBeEIAsPb3zQF4QgCw5wnQAXhCABBSm9EBeEIAwBuk0QF4QgCwgAHSAXhCAPAdetIBeEIA4CAo0wF4QgAQaf/TAXhCAGBaSNQBeEIAMBUT1gF4QgBQpMfaAXhCAADudNsBeEIAAJzC2wF4QgBAr53eAXhCAPBZ0t8BeEIAkLwn4AF4QgCgLH/gAXhCANCCgOABeEIAUJTZ4AF4QgDAlVfiAXhCALDeKeQBeEIA8FSt5AF4QgCwExflAXhCAPDdx+UBeEIA0AB05gF4QgCAZUTnAXhCALBHcucBeEIAYES65wF4QgCAekLoAXhCAJBYkOkBeEIAIHlp7AF4QgCgWYvsAXhCANAzoO0BeEIAcLX87QF4QgDAqwfuAXhCAEDfCO4BeEIAIGEh7gF4QgAA+aXwAXhCAMD+qfABeEIAkE2r8AF4QgDwmUjxAXhCAAC+CvIBeEIAELwX8gF4QgBAExb0AXhCAAB0X/QBeEIAIKRt9AF4QgDgr6z0AXhCAIB0+vQBeEIAQP5r9QF4QgBARkr2AXhCABCCcvYBeEIA4B7T9wF4QgBgVlf4AXhCAHCKRvkBeEIAIKgE+gF4QgCwUC/6AXhCAICch/oBeEIAgLeI+gF4QgCgV0T7AXhCAECKRfsBeEIAcB37/AF4QgBQNQn9AXhCAEDzQ/0BeEIAQLyu/QF4QgBAUkj/AXhCAMClbQACeEIAEHmMAAJ4QgDQjkYBAnhCALCWRwECeEIAsMeAAQJ4QgDgF90BAnhCACD0MQICeEIAcP0yAgJ4QgBAWFECAnhCAPCUWwMCeEIAcIpcAwJ4QgCAemEDAnhCAFDJaQMCeEIAULV9AwJ4QgAw6S0EAnhCAGAsdwQCeEIAIFh4BAJ4QgDghosEAnhCANBDjAQCeEIAEG+kBAJ4QgAg9akEAnhCANCkvwQCeEIAcKzhBAJ4QgBQ1OIEAnhCAGCt5gQCeEIAAOHnBAJ4QgDQAegEAnhCAPCK7gQCeEIAcGfvBAJ4QgDg6BgFAnhCAPDPGQUCeEIAgEE1BQJ4QgAA2jUFAnhCAFCfNgUCeEIAcGVgBQJ4QgAQYGEFAnhCAGCMfgUCeEIAwAeABQJ4QgBAJ7YFAnhCAACLvAUCeEIAsCLKBQJ4QgDAqssFAnhCAJBjzgUCeEIAoMPaBQJ4QgCQJFMGAnhCANCsdQcCeEIA4MF2BwJ4QgDQPy8JAnhCAADyAw0CeEIAQNgMDQJ4QgCgYLENAnhCALCLmRACeEIA8NjIEAJ4QgAgtsoQAnhCAED/LxICeEIAkDi8EgJ4QgCw7jsUAnhCAODJBhUCeEIAUMdeFQJ4QgAgvl8VAnhCALAGjBUCeEIAUJmbFwJ4QgAwsRAYAnhCAEBA6xgCeEIAkHG5GQJ4QgBQS4YaAnhCAAB7hxoCeEIAYF/sGgJ4QgDwsskbAnhCAHBOAh0CeEIAwDA4HQJ4QgDwHnIdAnhCABBT2B0CeEIAsKrvHQJ4QgDwFsMeAnhCAIACvB8CeEIAsF4zIAJ4QgCg020gAnhCAHB45iACeEIAoIgcIgJ4QgAAVZQjAnhCAEAJZiQCeEIAEJOSJAJ4QgCANtskAnhCABA9ByUCeEIAQE8IJQJ4QgDQ5CAnAnhCAGDujigCeEIAEEIqKgJ4QgCAFNgqAnhCANAa4SsCeEIAIMJPLQJ4QgCAK+AtAnhCAIAtSS4CeEIAsPHDLgJ4QgBQQjIwAnhCADD/MjACeEIAsIgzMAJ4QgBQC7EwAnhCAGD4CDECeEIA0CVaMgJ4QgBgVWQzAnhCAEAF7DMCeEIAsN1gNAJ4QgDwR4A0AnhCAECk+DQCeEIAwM6rNgJ4QgAQiPY2AnhCAEA19zcCeEIAkF/8NwJ4QgBQLKA4AnhCAAAYMDkCeEIAcGExOQJ4QgCwIeQ7AnhC\",\"dtype\":\"float64\",\"order\":\"little\",\"shape\":[276]},\"index\":[221,220,225,230,229,231,222,232,223,237,233,235,238,239,236,224,234,226,227,240,241,242,228,116,117,118,123,122,121,124,119,120,125,127,126,128,131,132,139,134,136,144,130,133,135,137,138,142,143,145,148,129,146,150,153,152,151,154,156,157,149,158,159,161,141,167,140,147,175,176,155,183,169,170,172,162,160,173,174,163,185,165,187,181,164,186,166,188,168,171,177,178,179,180,182,184,191,192,195,196,190,198,189,194,199,200,193,202,197,209,214,206,201,204,205,207,203,215,208,217,210,216,212,213,219,218,211,8,9,0,1,2,3,4,13,11,10,12,5,17,26,6,7,16,14,22,20,27,25,29,30,32,31,28,33,34,35,42,44,38,46,47,40,49,60,52,65,15,70,41,43,21,18,19,23,24,68,77,76,79,82,81,85,86,51,54,58,56,57,55,75,61,62,64,88,63,69,67,71,90,37,36,72,39,73,45,92,48,50,53,100,99,59,89,80,66,83,84,94,103,96,95,87,74,93,98,105,108,97,102,78,101,109,110,113,112,104,114,115,91,106,107,261,262,263,252,243,244,264,245,253,254,271,265,266,246,272,247,255,273,274,248,256,257,249,267,268,269,258,270,275,259,250,251,260,276],\"y_index\":[0,0,0,0,0,0,0,0,0,0,0,0,0,0,0,0,0,0,0,0,0,0,0,0,0,0,0,0,0,0,0,0,0,0,0,0,0,0,0,0,0,0,0,0,0,0,0,0,0,0,0,0,0,0,0,0,0,0,0,0,0,0,0,0,0,0,0,0,0,0,0,0,0,0,0,0,0,0,0,0,0,0,0,0,0,0,0,0,0,0,0,0,0,0,0,0,0,0,0,0,0,0,0,0,0,0,0,0,0,0,0,0,0,0,0,0,0,0,0,0,0,0,0,0,0,0,0,0,0,0,0,0,0,0,0,0,0,0,0,0,0,0,0,0,0,0,0,0,0,0,0,0,0,0,0,0,0,0,0,0,0,0,0,0,0,0,0,0,0,0,0,0,0,0,0,0,0,0,0,0,0,0,0,0,0,0,0,0,0,0,0,0,0,0,0,0,0,0,0,0,0,0,0,0,0,0,0,0,0,0,0,0,0,0,0,0,0,0,0,0,0,0,0,0,0,0,0,0,0,0,0,0,0,0,0,0,0,0,0,0,0,0,0,0,0,0,0,0,0,0,0,0,0,0,0,0,0,0,0,0,0,0,0,0,0,0,0,0,0,0,0,0,0,0,0,0]},\"selected\":{\"id\":\"1264\"},\"selection_policy\":{\"id\":\"1263\"}},\"id\":\"1151\",\"type\":\"ColumnDataSource\"},{\"attributes\":{\"below\":[{\"id\":\"1198\"},{\"id\":\"1203\"}],\"center\":[{\"id\":\"1201\"}],\"height\":120,\"renderers\":[{\"id\":\"1210\"},{\"id\":\"1216\"},{\"id\":\"1222\"}],\"title\":{\"id\":\"1188\"},\"toolbar\":{\"id\":\"1202\"},\"toolbar_location\":null,\"width\":900,\"x_range\":{\"id\":\"1190\"},\"x_scale\":{\"id\":\"1194\"},\"y_range\":{\"id\":\"1192\"},\"y_scale\":{\"id\":\"1196\"}},\"id\":\"1187\",\"subtype\":\"Figure\",\"type\":\"Plot\"},{\"attributes\":{\"fill_alpha\":{\"value\":0.2},\"fill_color\":{\"value\":\"#208F8C\"},\"hatch_alpha\":{\"value\":0.2},\"hatch_color\":{\"value\":\"#208F8C\"},\"line_alpha\":{\"value\":0.2},\"line_color\":{\"value\":\"#208F8C\"},\"marker\":{\"value\":\"diamond\"},\"size\":{\"value\":10},\"x\":{\"field\":\"TimeGenerated\"},\"y\":{\"field\":\"y_index\"}},\"id\":\"1241\",\"type\":\"Scatter\"},{\"attributes\":{\"coordinates\":null,\"group\":null,\"text\":\"Timeline: Azure account activity by Provider\"},\"id\":\"1156\",\"type\":\"Title\"},{\"attributes\":{\"fill_alpha\":{\"value\":0.1},\"fill_color\":{\"value\":\"#FDE724\"},\"hatch_alpha\":{\"value\":0.1},\"hatch_color\":{\"value\":\"#FDE724\"},\"line_alpha\":{\"value\":0.1},\"line_color\":{\"value\":\"#FDE724\"},\"marker\":{\"value\":\"diamond\"},\"size\":{\"value\":10},\"x\":{\"field\":\"TimeGenerated\"},\"y\":{\"field\":\"y_index\"}},\"id\":\"1247\",\"type\":\"Scatter\"},{\"attributes\":{\"source\":{\"id\":\"1153\"}},\"id\":\"1223\",\"type\":\"CDSView\"},{\"attributes\":{\"overlay\":{\"id\":\"1225\"},\"x_range\":{\"id\":\"1158\"},\"y_range\":null},\"id\":\"1224\",\"type\":\"RangeTool\"},{\"attributes\":{\"fill_alpha\":{\"value\":0.5},\"fill_color\":{\"value\":\"#FDE724\"},\"hatch_alpha\":{\"value\":0.5},\"hatch_color\":{\"value\":\"#FDE724\"},\"line_alpha\":{\"value\":0.5},\"line_color\":{\"value\":\"#FDE724\"},\"marker\":{\"value\":\"diamond\"},\"size\":{\"value\":10},\"x\":{\"field\":\"TimeGenerated\"},\"y\":{\"field\":\"y_index\"}},\"id\":\"1246\",\"type\":\"Scatter\"},{\"attributes\":{\"source\":{\"id\":\"1151\"}},\"id\":\"1211\",\"type\":\"CDSView\"},{\"attributes\":{\"fill_color\":{\"value\":\"#208F8C\"},\"hatch_color\":{\"value\":\"#208F8C\"},\"line_color\":{\"value\":\"#208F8C\"},\"x\":{\"field\":\"TimeGenerated\"},\"y\":{\"field\":\"y_index\"}},\"id\":\"1213\",\"type\":\"Circle\"},{\"attributes\":{\"coordinates\":null,\"data_source\":{\"id\":\"1152\"},\"glyph\":{\"id\":\"1213\"},\"group\":null,\"hover_glyph\":null,\"muted_glyph\":{\"id\":\"1215\"},\"nonselection_glyph\":{\"id\":\"1214\"},\"view\":{\"id\":\"1217\"}},\"id\":\"1216\",\"type\":\"GlyphRenderer\"},{\"attributes\":{\"fill_alpha\":{\"value\":0.1},\"fill_color\":{\"value\":\"#208F8C\"},\"hatch_alpha\":{\"value\":0.1},\"hatch_color\":{\"value\":\"#208F8C\"},\"line_alpha\":{\"value\":0.1},\"line_color\":{\"value\":\"#208F8C\"},\"marker\":{\"value\":\"diamond\"},\"size\":{\"value\":10},\"x\":{\"field\":\"TimeGenerated\"},\"y\":{\"field\":\"y_index\"}},\"id\":\"1240\",\"type\":\"Scatter\"},{\"attributes\":{\"data\":{\"AppResourceProvider\":[\"Office 365 Exchange Online\"],\"IPAddress\":[\"20.37.213.236\"],\"Operation\":[\"Sign-in activity\"],\"TimeGenerated\":{\"__ndarray__\":\"ADBz2h0CeEI=\",\"dtype\":\"float64\",\"order\":\"little\",\"shape\":[1]},\"index\":[111],\"y_index\":[2]},\"selected\":{\"id\":\"1268\"},\"selection_policy\":{\"id\":\"1267\"}},\"id\":\"1153\",\"type\":\"ColumnDataSource\"},{\"attributes\":{\"num_minor_ticks\":5,\"tickers\":[{\"id\":\"1283\"},{\"id\":\"1284\"},{\"id\":\"1285\"},{\"id\":\"1286\"},{\"id\":\"1287\"},{\"id\":\"1288\"},{\"id\":\"1289\"},{\"id\":\"1290\"},{\"id\":\"1291\"},{\"id\":\"1292\"},{\"id\":\"1293\"},{\"id\":\"1294\"}]},\"id\":\"1199\",\"type\":\"DatetimeTicker\"},{\"attributes\":{\"days\":[\"%m-%d %H:%M\"],\"hours\":[\"%H:%M:%S\"],\"milliseconds\":[\"%H:%M:%S.%3N\"],\"minutes\":[\"%H:%M:%S\"],\"seconds\":[\"%H:%M:%S\"]},\"id\":\"1229\",\"type\":\"DatetimeTickFormatter\"},{\"attributes\":{\"fill_alpha\":{\"value\":0.1},\"fill_color\":{\"value\":\"#440154\"},\"hatch_alpha\":{\"value\":0.1},\"hatch_color\":{\"value\":\"#440154\"},\"line_alpha\":{\"value\":0.1},\"line_color\":{\"value\":\"#440154\"},\"marker\":{\"value\":\"diamond\"},\"size\":{\"value\":10},\"x\":{\"field\":\"TimeGenerated\"},\"y\":{\"field\":\"y_index\"}},\"id\":\"1233\",\"type\":\"Scatter\"},{\"attributes\":{\"coordinates\":null,\"group\":null,\"text\":\"Range Selector\"},\"id\":\"1188\",\"type\":\"Title\"},{\"attributes\":{\"fill_alpha\":{\"value\":0.2},\"fill_color\":{\"value\":\"#440154\"},\"hatch_alpha\":{\"value\":0.2},\"hatch_color\":{\"value\":\"#440154\"},\"line_alpha\":{\"value\":0.2},\"line_color\":{\"value\":\"#440154\"},\"marker\":{\"value\":\"diamond\"},\"size\":{\"value\":10},\"x\":{\"field\":\"TimeGenerated\"},\"y\":{\"field\":\"y_index\"}},\"id\":\"1234\",\"type\":\"Scatter\"},{\"attributes\":{\"tools\":[{\"id\":\"1154\"},{\"id\":\"1174\"},{\"id\":\"1175\"},{\"id\":\"1176\"},{\"id\":\"1177\"},{\"id\":\"1178\"}]},\"id\":\"1180\",\"type\":\"Toolbar\"},{\"attributes\":{},\"id\":\"1164\",\"type\":\"LinearScale\"},{\"attributes\":{\"label\":{\"value\":\"Exchange\"},\"renderers\":[{\"id\":\"1242\"}]},\"id\":\"1244\",\"type\":\"LegendItem\"},{\"attributes\":{\"fill_alpha\":{\"value\":0.5},\"fill_color\":{\"value\":\"#208F8C\"},\"hatch_alpha\":{\"value\":0.5},\"hatch_color\":{\"value\":\"#208F8C\"},\"line_alpha\":{\"value\":0.5},\"line_color\":{\"value\":\"#208F8C\"},\"marker\":{\"value\":\"diamond\"},\"size\":{\"value\":10},\"x\":{\"field\":\"TimeGenerated\"},\"y\":{\"field\":\"y_index\"}},\"id\":\"1239\",\"type\":\"Scatter\"},{\"attributes\":{\"axis_label\":\"Event Time\",\"coordinates\":null,\"formatter\":{\"id\":\"1229\"},\"group\":null,\"major_label_policy\":{\"id\":\"1260\"},\"ticker\":{\"id\":\"1167\"}},\"id\":\"1166\",\"type\":\"DatetimeAxis\"},{\"attributes\":{\"fill_alpha\":{\"value\":0.2},\"fill_color\":{\"value\":\"#FDE724\"},\"hatch_alpha\":{\"value\":0.2},\"hatch_color\":{\"value\":\"#FDE724\"},\"line_alpha\":{\"value\":0.2},\"line_color\":{\"value\":\"#FDE724\"},\"x\":{\"field\":\"TimeGenerated\"},\"y\":{\"field\":\"y_index\"}},\"id\":\"1221\",\"type\":\"Circle\"},{\"attributes\":{\"mantissas\":[1,2,5],\"max_interval\":500.0,\"num_minor_ticks\":0},\"id\":\"1283\",\"type\":\"AdaptiveTicker\"},{\"attributes\":{\"base\":60,\"mantissas\":[1,2,5,10,15,20,30],\"max_interval\":1800000.0,\"min_interval\":1000.0,\"num_minor_ticks\":0},\"id\":\"1284\",\"type\":\"AdaptiveTicker\"},{\"attributes\":{},\"id\":\"1171\",\"type\":\"BasicTicker\"},{\"attributes\":{\"base\":24,\"mantissas\":[1,2,4,6,8,12],\"max_interval\":43200000.0,\"min_interval\":3600000.0,\"num_minor_ticks\":0},\"id\":\"1285\",\"type\":\"AdaptiveTicker\"},{\"attributes\":{\"below\":[{\"id\":\"1166\"}],\"center\":[{\"id\":\"1169\"},{\"id\":\"1173\"}],\"height\":300,\"left\":[{\"id\":\"1170\"},{\"id\":\"1252\"}],\"min_border_left\":50,\"renderers\":[{\"id\":\"1235\"},{\"id\":\"1242\"},{\"id\":\"1249\"}],\"title\":{\"id\":\"1156\"},\"toolbar\":{\"id\":\"1180\"},\"width\":900,\"x_range\":{\"id\":\"1158\"},\"x_scale\":{\"id\":\"1162\"},\"y_range\":{\"id\":\"1160\"},\"y_scale\":{\"id\":\"1164\"}},\"id\":\"1155\",\"subtype\":\"Figure\",\"type\":\"Plot\"},{\"attributes\":{},\"id\":\"1294\",\"type\":\"YearsTicker\"},{\"attributes\":{},\"id\":\"1257\",\"type\":\"BasicTickFormatter\"},{\"attributes\":{\"months\":[0,1,2,3,4,5,6,7,8,9,10,11]},\"id\":\"1290\",\"type\":\"MonthsTicker\"},{\"attributes\":{\"source\":{\"id\":\"1152\"}},\"id\":\"1243\",\"type\":\"CDSView\"},{\"attributes\":{\"days\":[1,15]},\"id\":\"1289\",\"type\":\"DaysTicker\"},{\"attributes\":{\"axis\":{\"id\":\"1170\"},\"coordinates\":null,\"dimension\":1,\"grid_line_color\":null,\"group\":null,\"ticker\":null},\"id\":\"1173\",\"type\":\"Grid\"},{\"attributes\":{\"coordinates\":null,\"data_source\":{\"id\":\"1151\"},\"glyph\":{\"id\":\"1207\"},\"group\":null,\"hover_glyph\":null,\"muted_glyph\":{\"id\":\"1209\"},\"nonselection_glyph\":{\"id\":\"1208\"},\"view\":{\"id\":\"1211\"}},\"id\":\"1210\",\"type\":\"GlyphRenderer\"},{\"attributes\":{\"callback\":null,\"tooltips\":[[\"AppResourceProvider\",\"@AppResourceProvider\"],[\"Operation\",\"@Operation\"],[\"TimeGenerated\",\"@TimeGenerated\"],[\"IPAddress\",\"@IPAddress\"]]},\"id\":\"1154\",\"type\":\"HoverTool\"},{\"attributes\":{\"days\":[1,2,3,4,5,6,7,8,9,10,11,12,13,14,15,16,17,18,19,20,21,22,23,24,25,26,27,28,29,30,31]},\"id\":\"1286\",\"type\":\"DaysTicker\"},{\"attributes\":{\"days\":[1,4,7,10,13,16,19,22,25,28]},\"id\":\"1287\",\"type\":\"DaysTicker\"},{\"attributes\":{\"end\":1649892771699.9,\"start\":1649670465634.0999},\"id\":\"1190\",\"type\":\"Range1d\"},{\"attributes\":{\"days\":[1,8,15,22]},\"id\":\"1288\",\"type\":\"DaysTicker\"},{\"attributes\":{\"axis\":{\"id\":\"1166\"},\"coordinates\":null,\"group\":null,\"minor_grid_line_alpha\":0.3,\"minor_grid_line_color\":\"navy\",\"ticker\":null},\"id\":\"1169\",\"type\":\"Grid\"},{\"attributes\":{\"months\":[0,6]},\"id\":\"1293\",\"type\":\"MonthsTicker\"},{\"attributes\":{\"months\":[0,2,4,6,8,10]},\"id\":\"1291\",\"type\":\"MonthsTicker\"},{\"attributes\":{\"end\":2.3333333333333335,\"start\":-0.3333333333333333},\"id\":\"1160\",\"type\":\"Range1d\"},{\"attributes\":{\"label\":{\"value\":\"CAttack\"},\"renderers\":[{\"id\":\"1235\"}]},\"id\":\"1237\",\"type\":\"LegendItem\"},{\"attributes\":{\"mantissas\":[1,2,5],\"max_interval\":500.0,\"num_minor_ticks\":0},\"id\":\"1270\",\"type\":\"AdaptiveTicker\"},{\"attributes\":{},\"id\":\"1162\",\"type\":\"LinearScale\"},{\"attributes\":{\"source\":{\"id\":\"1151\"}},\"id\":\"1236\",\"type\":\"CDSView\"},{\"attributes\":{\"months\":[0,4,8]},\"id\":\"1292\",\"type\":\"MonthsTicker\"},{\"attributes\":{},\"id\":\"1194\",\"type\":\"LinearScale\"},{\"attributes\":{\"days\":[\"%m-%d %H:%M\"],\"hours\":[\"%H:%M:%S\"],\"milliseconds\":[\"%H:%M:%S.%3N\"],\"minutes\":[\"%H:%M:%S\"],\"seconds\":[\"%H:%M:%S\"]},\"id\":\"1204\",\"type\":\"DatetimeTickFormatter\"}],\"root_ids\":[\"1253\"]},\"title\":\"Bokeh Application\",\"version\":\"2.4.2\"}};\n",
       "  const render_items = [{\"docid\":\"834586aa-be04-474a-a705-544caf1d1156\",\"root_ids\":[\"1253\"],\"roots\":{\"1253\":\"0989fc68-6ca7-45da-8b07-bef2f3e158d5\"}}];\n",
       "  root.Bokeh.embed.embed_items_notebook(docs_json, render_items);\n",
       "\n",
       "  }\n",
       "  if (root.Bokeh !== undefined) {\n",
       "    embed_document(root);\n",
       "  } else {\n",
       "    let attempts = 0;\n",
       "    const timer = setInterval(function(root) {\n",
       "      if (root.Bokeh !== undefined) {\n",
       "        clearInterval(timer);\n",
       "        embed_document(root);\n",
       "      } else {\n",
       "        attempts++;\n",
       "        if (attempts > 100) {\n",
       "          clearInterval(timer);\n",
       "          console.log(\"Bokeh: ERROR: Unable to run BokehJS code because BokehJS library is missing\");\n",
       "        }\n",
       "      }\n",
       "    }, 10, root)\n",
       "  }\n",
       "})(window);"
      ],
      "application/vnd.bokehjs_exec.v0+json": ""
     },
     "metadata": {
      "application/vnd.bokehjs_exec.v0+json": {
       "id": "1253"
      }
     },
     "output_type": "display_data"
    },
    {
     "data": {
      "text/html": [
       "\n",
       "    <div class=\"bk-root\">\n",
       "        <a href=\"https://bokeh.org\" target=\"_blank\" class=\"bk-logo bk-logo-small bk-logo-notebook\"></a>\n",
       "        <span id=\"1500\">Loading BokehJS ...</span>\n",
       "    </div>"
      ]
     },
     "metadata": {},
     "output_type": "display_data"
    },
    {
     "data": {
      "application/javascript": [
       "\n",
       "(function(root) {\n",
       "  function now() {\n",
       "    return new Date();\n",
       "  }\n",
       "\n",
       "  const force = true;\n",
       "\n",
       "  if (typeof root._bokeh_onload_callbacks === \"undefined\" || force === true) {\n",
       "    root._bokeh_onload_callbacks = [];\n",
       "    root._bokeh_is_loading = undefined;\n",
       "  }\n",
       "\n",
       "  const JS_MIME_TYPE = 'application/javascript';\n",
       "  const HTML_MIME_TYPE = 'text/html';\n",
       "  const EXEC_MIME_TYPE = 'application/vnd.bokehjs_exec.v0+json';\n",
       "  const CLASS_NAME = 'output_bokeh rendered_html';\n",
       "\n",
       "  /**\n",
       "   * Render data to the DOM node\n",
       "   */\n",
       "  function render(props, node) {\n",
       "    const script = document.createElement(\"script\");\n",
       "    node.appendChild(script);\n",
       "  }\n",
       "\n",
       "  /**\n",
       "   * Handle when an output is cleared or removed\n",
       "   */\n",
       "  function handleClearOutput(event, handle) {\n",
       "    const cell = handle.cell;\n",
       "\n",
       "    const id = cell.output_area._bokeh_element_id;\n",
       "    const server_id = cell.output_area._bokeh_server_id;\n",
       "    // Clean up Bokeh references\n",
       "    if (id != null && id in Bokeh.index) {\n",
       "      Bokeh.index[id].model.document.clear();\n",
       "      delete Bokeh.index[id];\n",
       "    }\n",
       "\n",
       "    if (server_id !== undefined) {\n",
       "      // Clean up Bokeh references\n",
       "      const cmd_clean = \"from bokeh.io.state import curstate; print(curstate().uuid_to_server['\" + server_id + \"'].get_sessions()[0].document.roots[0]._id)\";\n",
       "      cell.notebook.kernel.execute(cmd_clean, {\n",
       "        iopub: {\n",
       "          output: function(msg) {\n",
       "            const id = msg.content.text.trim();\n",
       "            if (id in Bokeh.index) {\n",
       "              Bokeh.index[id].model.document.clear();\n",
       "              delete Bokeh.index[id];\n",
       "            }\n",
       "          }\n",
       "        }\n",
       "      });\n",
       "      // Destroy server and session\n",
       "      const cmd_destroy = \"import bokeh.io.notebook as ion; ion.destroy_server('\" + server_id + \"')\";\n",
       "      cell.notebook.kernel.execute(cmd_destroy);\n",
       "    }\n",
       "  }\n",
       "\n",
       "  /**\n",
       "   * Handle when a new output is added\n",
       "   */\n",
       "  function handleAddOutput(event, handle) {\n",
       "    const output_area = handle.output_area;\n",
       "    const output = handle.output;\n",
       "\n",
       "    // limit handleAddOutput to display_data with EXEC_MIME_TYPE content only\n",
       "    if ((output.output_type != \"display_data\") || (!Object.prototype.hasOwnProperty.call(output.data, EXEC_MIME_TYPE))) {\n",
       "      return\n",
       "    }\n",
       "\n",
       "    const toinsert = output_area.element.find(\".\" + CLASS_NAME.split(' ')[0]);\n",
       "\n",
       "    if (output.metadata[EXEC_MIME_TYPE][\"id\"] !== undefined) {\n",
       "      toinsert[toinsert.length - 1].firstChild.textContent = output.data[JS_MIME_TYPE];\n",
       "      // store reference to embed id on output_area\n",
       "      output_area._bokeh_element_id = output.metadata[EXEC_MIME_TYPE][\"id\"];\n",
       "    }\n",
       "    if (output.metadata[EXEC_MIME_TYPE][\"server_id\"] !== undefined) {\n",
       "      const bk_div = document.createElement(\"div\");\n",
       "      bk_div.innerHTML = output.data[HTML_MIME_TYPE];\n",
       "      const script_attrs = bk_div.children[0].attributes;\n",
       "      for (let i = 0; i < script_attrs.length; i++) {\n",
       "        toinsert[toinsert.length - 1].firstChild.setAttribute(script_attrs[i].name, script_attrs[i].value);\n",
       "        toinsert[toinsert.length - 1].firstChild.textContent = bk_div.children[0].textContent\n",
       "      }\n",
       "      // store reference to server id on output_area\n",
       "      output_area._bokeh_server_id = output.metadata[EXEC_MIME_TYPE][\"server_id\"];\n",
       "    }\n",
       "  }\n",
       "\n",
       "  function register_renderer(events, OutputArea) {\n",
       "\n",
       "    function append_mime(data, metadata, element) {\n",
       "      // create a DOM node to render to\n",
       "      const toinsert = this.create_output_subarea(\n",
       "        metadata,\n",
       "        CLASS_NAME,\n",
       "        EXEC_MIME_TYPE\n",
       "      );\n",
       "      this.keyboard_manager.register_events(toinsert);\n",
       "      // Render to node\n",
       "      const props = {data: data, metadata: metadata[EXEC_MIME_TYPE]};\n",
       "      render(props, toinsert[toinsert.length - 1]);\n",
       "      element.append(toinsert);\n",
       "      return toinsert\n",
       "    }\n",
       "\n",
       "    /* Handle when an output is cleared or removed */\n",
       "    events.on('clear_output.CodeCell', handleClearOutput);\n",
       "    events.on('delete.Cell', handleClearOutput);\n",
       "\n",
       "    /* Handle when a new output is added */\n",
       "    events.on('output_added.OutputArea', handleAddOutput);\n",
       "\n",
       "    /**\n",
       "     * Register the mime type and append_mime function with output_area\n",
       "     */\n",
       "    OutputArea.prototype.register_mime_type(EXEC_MIME_TYPE, append_mime, {\n",
       "      /* Is output safe? */\n",
       "      safe: true,\n",
       "      /* Index of renderer in `output_area.display_order` */\n",
       "      index: 0\n",
       "    });\n",
       "  }\n",
       "\n",
       "  // register the mime type if in Jupyter Notebook environment and previously unregistered\n",
       "  if (root.Jupyter !== undefined) {\n",
       "    const events = require('base/js/events');\n",
       "    const OutputArea = require('notebook/js/outputarea').OutputArea;\n",
       "\n",
       "    if (OutputArea.prototype.mime_types().indexOf(EXEC_MIME_TYPE) == -1) {\n",
       "      register_renderer(events, OutputArea);\n",
       "    }\n",
       "  }\n",
       "\n",
       "  \n",
       "  if (typeof (root._bokeh_timeout) === \"undefined\" || force === true) {\n",
       "    root._bokeh_timeout = Date.now() + 5000;\n",
       "    root._bokeh_failed_load = false;\n",
       "  }\n",
       "\n",
       "  const NB_LOAD_WARNING = {'data': {'text/html':\n",
       "     \"<div style='background-color: #fdd'>\\n\"+\n",
       "     \"<p>\\n\"+\n",
       "     \"BokehJS does not appear to have successfully loaded. If loading BokehJS from CDN, this \\n\"+\n",
       "     \"may be due to a slow or bad network connection. Possible fixes:\\n\"+\n",
       "     \"</p>\\n\"+\n",
       "     \"<ul>\\n\"+\n",
       "     \"<li>re-rerun `output_notebook()` to attempt to load from CDN again, or</li>\\n\"+\n",
       "     \"<li>use INLINE resources instead, as so:</li>\\n\"+\n",
       "     \"</ul>\\n\"+\n",
       "     \"<code>\\n\"+\n",
       "     \"from bokeh.resources import INLINE\\n\"+\n",
       "     \"output_notebook(resources=INLINE)\\n\"+\n",
       "     \"</code>\\n\"+\n",
       "     \"</div>\"}};\n",
       "\n",
       "  function display_loaded() {\n",
       "    const el = document.getElementById(\"1500\");\n",
       "    if (el != null) {\n",
       "      el.textContent = \"BokehJS is loading...\";\n",
       "    }\n",
       "    if (root.Bokeh !== undefined) {\n",
       "      if (el != null) {\n",
       "        el.textContent = \"BokehJS \" + root.Bokeh.version + \" successfully loaded.\";\n",
       "      }\n",
       "    } else if (Date.now() < root._bokeh_timeout) {\n",
       "      setTimeout(display_loaded, 100)\n",
       "    }\n",
       "  }\n",
       "\n",
       "\n",
       "  function run_callbacks() {\n",
       "    try {\n",
       "      root._bokeh_onload_callbacks.forEach(function(callback) {\n",
       "        if (callback != null)\n",
       "          callback();\n",
       "      });\n",
       "    } finally {\n",
       "      delete root._bokeh_onload_callbacks\n",
       "    }\n",
       "    console.debug(\"Bokeh: all callbacks have finished\");\n",
       "  }\n",
       "\n",
       "  function load_libs(css_urls, js_urls, callback) {\n",
       "    if (css_urls == null) css_urls = [];\n",
       "    if (js_urls == null) js_urls = [];\n",
       "\n",
       "    root._bokeh_onload_callbacks.push(callback);\n",
       "    if (root._bokeh_is_loading > 0) {\n",
       "      console.debug(\"Bokeh: BokehJS is being loaded, scheduling callback at\", now());\n",
       "      return null;\n",
       "    }\n",
       "    if (js_urls == null || js_urls.length === 0) {\n",
       "      run_callbacks();\n",
       "      return null;\n",
       "    }\n",
       "    console.debug(\"Bokeh: BokehJS not loaded, scheduling load and callback at\", now());\n",
       "    root._bokeh_is_loading = css_urls.length + js_urls.length;\n",
       "\n",
       "    function on_load() {\n",
       "      root._bokeh_is_loading--;\n",
       "      if (root._bokeh_is_loading === 0) {\n",
       "        console.debug(\"Bokeh: all BokehJS libraries/stylesheets loaded\");\n",
       "        run_callbacks()\n",
       "      }\n",
       "    }\n",
       "\n",
       "    function on_error(url) {\n",
       "      console.error(\"failed to load \" + url);\n",
       "    }\n",
       "\n",
       "    for (let i = 0; i < css_urls.length; i++) {\n",
       "      const url = css_urls[i];\n",
       "      const element = document.createElement(\"link\");\n",
       "      element.onload = on_load;\n",
       "      element.onerror = on_error.bind(null, url);\n",
       "      element.rel = \"stylesheet\";\n",
       "      element.type = \"text/css\";\n",
       "      element.href = url;\n",
       "      console.debug(\"Bokeh: injecting link tag for BokehJS stylesheet: \", url);\n",
       "      document.body.appendChild(element);\n",
       "    }\n",
       "\n",
       "    for (let i = 0; i < js_urls.length; i++) {\n",
       "      const url = js_urls[i];\n",
       "      const element = document.createElement('script');\n",
       "      element.onload = on_load;\n",
       "      element.onerror = on_error.bind(null, url);\n",
       "      element.async = false;\n",
       "      element.src = url;\n",
       "      console.debug(\"Bokeh: injecting script tag for BokehJS library: \", url);\n",
       "      document.head.appendChild(element);\n",
       "    }\n",
       "  };\n",
       "\n",
       "  function inject_raw_css(css) {\n",
       "    const element = document.createElement(\"style\");\n",
       "    element.appendChild(document.createTextNode(css));\n",
       "    document.body.appendChild(element);\n",
       "  }\n",
       "\n",
       "  \n",
       "  const js_urls = [\"https://cdn.bokeh.org/bokeh/release/bokeh-2.4.2.min.js\", \"https://cdn.bokeh.org/bokeh/release/bokeh-gl-2.4.2.min.js\", \"https://cdn.bokeh.org/bokeh/release/bokeh-widgets-2.4.2.min.js\", \"https://cdn.bokeh.org/bokeh/release/bokeh-tables-2.4.2.min.js\", \"https://cdn.bokeh.org/bokeh/release/bokeh-mathjax-2.4.2.min.js\"];\n",
       "  const css_urls = [];\n",
       "  \n",
       "\n",
       "  const inline_js = [\n",
       "    function(Bokeh) {\n",
       "      Bokeh.set_log_level(\"info\");\n",
       "    },\n",
       "    function(Bokeh) {\n",
       "    \n",
       "    \n",
       "    }\n",
       "  ];\n",
       "\n",
       "  function run_inline_js() {\n",
       "    \n",
       "    if (root.Bokeh !== undefined || force === true) {\n",
       "      \n",
       "    for (let i = 0; i < inline_js.length; i++) {\n",
       "      inline_js[i].call(root, root.Bokeh);\n",
       "    }\n",
       "    if (force === true) {\n",
       "        display_loaded();\n",
       "      }} else if (Date.now() < root._bokeh_timeout) {\n",
       "      setTimeout(run_inline_js, 100);\n",
       "    } else if (!root._bokeh_failed_load) {\n",
       "      console.log(\"Bokeh: BokehJS failed to load within specified timeout.\");\n",
       "      root._bokeh_failed_load = true;\n",
       "    } else if (force !== true) {\n",
       "      const cell = $(document.getElementById(\"1500\")).parents('.cell').data().cell;\n",
       "      cell.output_area.append_execute_result(NB_LOAD_WARNING)\n",
       "    }\n",
       "\n",
       "  }\n",
       "\n",
       "  if (root._bokeh_is_loading === 0) {\n",
       "    console.debug(\"Bokeh: BokehJS loaded, going straight to plotting\");\n",
       "    run_inline_js();\n",
       "  } else {\n",
       "    load_libs(css_urls, js_urls, function() {\n",
       "      console.debug(\"Bokeh: BokehJS plotting callback run at\", now());\n",
       "      run_inline_js();\n",
       "    });\n",
       "  }\n",
       "}(window));"
      ],
      "application/vnd.bokehjs_load.v0+json": ""
     },
     "metadata": {},
     "output_type": "display_data"
    },
    {
     "data": {
      "text/html": [
       "\n",
       "\n",
       "\n",
       "\n",
       "\n",
       "\n",
       "  <div class=\"bk-root\" id=\"caae7fd2-cf85-4ea4-9f8f-7cb9b754f79f\" data-root-id=\"1813\"></div>\n"
      ]
     },
     "metadata": {},
     "output_type": "display_data"
    },
    {
     "data": {
      "application/javascript": [
       "(function(root) {\n",
       "  function embed_document(root) {\n",
       "    \n",
       "  const docs_json = {\"845d9d84-957f-4523-9b03-39d3592ea078\":{\"defs\":[],\"roots\":{\"references\":[{\"attributes\":{\"children\":[{\"id\":\"1520\"},{\"id\":\"1552\"}]},\"id\":\"1813\",\"type\":\"Column\"},{\"attributes\":{\"days\":[\"%m-%d %H:%M\"],\"hours\":[\"%H:%M:%S\"],\"milliseconds\":[\"%H:%M:%S.%3N\"],\"minutes\":[\"%H:%M:%S\"],\"seconds\":[\"%H:%M:%S\"]},\"id\":\"1684\",\"type\":\"DatetimeTickFormatter\"},{\"attributes\":{\"fill_alpha\":{\"value\":0.1},\"fill_color\":{\"value\":\"#208F8C\"},\"hatch_alpha\":{\"value\":0.1},\"hatch_color\":{\"value\":\"#208F8C\"},\"line_alpha\":{\"value\":0.1},\"line_color\":{\"value\":\"#208F8C\"},\"x\":{\"field\":\"TimeGenerated\"},\"y\":{\"field\":\"y_index\"}},\"id\":\"1633\",\"type\":\"Circle\"},{\"attributes\":{\"fill_alpha\":{\"value\":0.2},\"fill_color\":{\"value\":\"#208F8C\"},\"hatch_alpha\":{\"value\":0.2},\"hatch_color\":{\"value\":\"#208F8C\"},\"line_alpha\":{\"value\":0.2},\"line_color\":{\"value\":\"#208F8C\"},\"x\":{\"field\":\"TimeGenerated\"},\"y\":{\"field\":\"y_index\"}},\"id\":\"1634\",\"type\":\"Circle\"},{\"attributes\":{\"fill_color\":{\"value\":\"#1E9B89\"},\"hatch_color\":{\"value\":\"#1E9B89\"},\"line_color\":{\"value\":\"#1E9B89\"},\"x\":{\"field\":\"TimeGenerated\"},\"y\":{\"field\":\"y_index\"}},\"id\":\"1638\",\"type\":\"Circle\"},{\"attributes\":{\"source\":{\"id\":\"1511\"}},\"id\":\"1636\",\"type\":\"CDSView\"},{\"attributes\":{\"fill_alpha\":{\"value\":0.1},\"fill_color\":{\"value\":\"#1E9B89\"},\"hatch_alpha\":{\"value\":0.1},\"hatch_color\":{\"value\":\"#1E9B89\"},\"line_alpha\":{\"value\":0.1},\"line_color\":{\"value\":\"#1E9B89\"},\"x\":{\"field\":\"TimeGenerated\"},\"y\":{\"field\":\"y_index\"}},\"id\":\"1639\",\"type\":\"Circle\"},{\"attributes\":{\"coordinates\":null,\"data_source\":{\"id\":\"1511\"},\"glyph\":{\"id\":\"1632\"},\"group\":null,\"hover_glyph\":null,\"muted_glyph\":{\"id\":\"1634\"},\"nonselection_glyph\":{\"id\":\"1633\"},\"view\":{\"id\":\"1636\"}},\"id\":\"1635\",\"type\":\"GlyphRenderer\"},{\"attributes\":{\"label\":{\"value\":\"20.37.212.69\"},\"renderers\":[{\"id\":\"1711\"}]},\"id\":\"1713\",\"type\":\"LegendItem\"},{\"attributes\":{\"fill_alpha\":{\"value\":0.2},\"fill_color\":{\"value\":\"#1E9B89\"},\"hatch_alpha\":{\"value\":0.2},\"hatch_color\":{\"value\":\"#1E9B89\"},\"line_alpha\":{\"value\":0.2},\"line_color\":{\"value\":\"#1E9B89\"},\"x\":{\"field\":\"TimeGenerated\"},\"y\":{\"field\":\"y_index\"}},\"id\":\"1640\",\"type\":\"Circle\"},{\"attributes\":{\"fill_color\":{\"value\":\"#22A784\"},\"hatch_color\":{\"value\":\"#22A784\"},\"line_color\":{\"value\":\"#22A784\"},\"x\":{\"field\":\"TimeGenerated\"},\"y\":{\"field\":\"y_index\"}},\"id\":\"1644\",\"type\":\"Circle\"},{\"attributes\":{\"source\":{\"id\":\"1512\"}},\"id\":\"1642\",\"type\":\"CDSView\"},{\"attributes\":{\"fill_alpha\":{\"value\":0.1},\"fill_color\":{\"value\":\"#22A784\"},\"hatch_alpha\":{\"value\":0.1},\"hatch_color\":{\"value\":\"#22A784\"},\"line_alpha\":{\"value\":0.1},\"line_color\":{\"value\":\"#22A784\"},\"x\":{\"field\":\"TimeGenerated\"},\"y\":{\"field\":\"y_index\"}},\"id\":\"1645\",\"type\":\"Circle\"},{\"attributes\":{\"coordinates\":null,\"data_source\":{\"id\":\"1512\"},\"glyph\":{\"id\":\"1638\"},\"group\":null,\"hover_glyph\":null,\"muted_glyph\":{\"id\":\"1640\"},\"nonselection_glyph\":{\"id\":\"1639\"},\"view\":{\"id\":\"1642\"}},\"id\":\"1641\",\"type\":\"GlyphRenderer\"},{\"attributes\":{\"source\":{\"id\":\"1504\"}},\"id\":\"1712\",\"type\":\"CDSView\"},{\"attributes\":{\"fill_alpha\":{\"value\":0.5},\"fill_color\":{\"value\":\"#404387\"},\"hatch_alpha\":{\"value\":0.5},\"hatch_color\":{\"value\":\"#404387\"},\"line_alpha\":{\"value\":0.5},\"line_color\":{\"value\":\"#404387\"},\"marker\":{\"value\":\"diamond\"},\"size\":{\"value\":10},\"x\":{\"field\":\"TimeGenerated\"},\"y\":{\"field\":\"y_index\"}},\"id\":\"1715\",\"type\":\"Scatter\"},{\"attributes\":{\"fill_alpha\":{\"value\":0.2},\"fill_color\":{\"value\":\"#22A784\"},\"hatch_alpha\":{\"value\":0.2},\"hatch_color\":{\"value\":\"#22A784\"},\"line_alpha\":{\"value\":0.2},\"line_color\":{\"value\":\"#22A784\"},\"x\":{\"field\":\"TimeGenerated\"},\"y\":{\"field\":\"y_index\"}},\"id\":\"1646\",\"type\":\"Circle\"},{\"attributes\":{\"fill_color\":{\"value\":\"#2EB27C\"},\"hatch_color\":{\"value\":\"#2EB27C\"},\"line_color\":{\"value\":\"#2EB27C\"},\"x\":{\"field\":\"TimeGenerated\"},\"y\":{\"field\":\"y_index\"}},\"id\":\"1650\",\"type\":\"Circle\"},{\"attributes\":{\"source\":{\"id\":\"1513\"}},\"id\":\"1648\",\"type\":\"CDSView\"},{\"attributes\":{\"fill_alpha\":{\"value\":0.1},\"fill_color\":{\"value\":\"#2EB27C\"},\"hatch_alpha\":{\"value\":0.1},\"hatch_color\":{\"value\":\"#2EB27C\"},\"line_alpha\":{\"value\":0.1},\"line_color\":{\"value\":\"#2EB27C\"},\"x\":{\"field\":\"TimeGenerated\"},\"y\":{\"field\":\"y_index\"}},\"id\":\"1651\",\"type\":\"Circle\"},{\"attributes\":{\"coordinates\":null,\"data_source\":{\"id\":\"1513\"},\"glyph\":{\"id\":\"1644\"},\"group\":null,\"hover_glyph\":null,\"muted_glyph\":{\"id\":\"1646\"},\"nonselection_glyph\":{\"id\":\"1645\"},\"view\":{\"id\":\"1648\"}},\"id\":\"1647\",\"type\":\"GlyphRenderer\"},{\"attributes\":{\"coordinates\":null,\"data_source\":{\"id\":\"1504\"},\"glyph\":{\"id\":\"1708\"},\"group\":null,\"hover_glyph\":null,\"muted_glyph\":{\"id\":\"1710\"},\"nonselection_glyph\":{\"id\":\"1709\"},\"view\":{\"id\":\"1712\"}},\"id\":\"1711\",\"type\":\"GlyphRenderer\"},{\"attributes\":{\"fill_alpha\":{\"value\":0.2},\"fill_color\":{\"value\":\"#2EB27C\"},\"hatch_alpha\":{\"value\":0.2},\"hatch_color\":{\"value\":\"#2EB27C\"},\"line_alpha\":{\"value\":0.2},\"line_color\":{\"value\":\"#2EB27C\"},\"x\":{\"field\":\"TimeGenerated\"},\"y\":{\"field\":\"y_index\"}},\"id\":\"1652\",\"type\":\"Circle\"},{\"attributes\":{\"fill_color\":{\"value\":\"#42BE71\"},\"hatch_color\":{\"value\":\"#42BE71\"},\"line_color\":{\"value\":\"#42BE71\"},\"x\":{\"field\":\"TimeGenerated\"},\"y\":{\"field\":\"y_index\"}},\"id\":\"1656\",\"type\":\"Circle\"},{\"attributes\":{\"source\":{\"id\":\"1514\"}},\"id\":\"1654\",\"type\":\"CDSView\"},{\"attributes\":{\"fill_alpha\":{\"value\":0.1},\"fill_color\":{\"value\":\"#42BE71\"},\"hatch_alpha\":{\"value\":0.1},\"hatch_color\":{\"value\":\"#42BE71\"},\"line_alpha\":{\"value\":0.1},\"line_color\":{\"value\":\"#42BE71\"},\"x\":{\"field\":\"TimeGenerated\"},\"y\":{\"field\":\"y_index\"}},\"id\":\"1657\",\"type\":\"Circle\"},{\"attributes\":{\"coordinates\":null,\"data_source\":{\"id\":\"1514\"},\"glyph\":{\"id\":\"1650\"},\"group\":null,\"hover_glyph\":null,\"muted_glyph\":{\"id\":\"1652\"},\"nonselection_glyph\":{\"id\":\"1651\"},\"view\":{\"id\":\"1654\"}},\"id\":\"1653\",\"type\":\"GlyphRenderer\"},{\"attributes\":{\"fill_alpha\":{\"value\":0.2},\"fill_color\":{\"value\":\"#45347F\"},\"hatch_alpha\":{\"value\":0.2},\"hatch_color\":{\"value\":\"#45347F\"},\"line_alpha\":{\"value\":0.2},\"line_color\":{\"value\":\"#45347F\"},\"marker\":{\"value\":\"diamond\"},\"size\":{\"value\":10},\"x\":{\"field\":\"TimeGenerated\"},\"y\":{\"field\":\"y_index\"}},\"id\":\"1710\",\"type\":\"Scatter\"},{\"attributes\":{\"fill_alpha\":{\"value\":0.2},\"fill_color\":{\"value\":\"#42BE71\"},\"hatch_alpha\":{\"value\":0.2},\"hatch_color\":{\"value\":\"#42BE71\"},\"line_alpha\":{\"value\":0.2},\"line_color\":{\"value\":\"#42BE71\"},\"x\":{\"field\":\"TimeGenerated\"},\"y\":{\"field\":\"y_index\"}},\"id\":\"1658\",\"type\":\"Circle\"},{\"attributes\":{\"fill_color\":{\"value\":\"#5BC862\"},\"hatch_color\":{\"value\":\"#5BC862\"},\"line_color\":{\"value\":\"#5BC862\"},\"x\":{\"field\":\"TimeGenerated\"},\"y\":{\"field\":\"y_index\"}},\"id\":\"1662\",\"type\":\"Circle\"},{\"attributes\":{\"source\":{\"id\":\"1515\"}},\"id\":\"1660\",\"type\":\"CDSView\"},{\"attributes\":{\"fill_alpha\":{\"value\":0.1},\"fill_color\":{\"value\":\"#5BC862\"},\"hatch_alpha\":{\"value\":0.1},\"hatch_color\":{\"value\":\"#5BC862\"},\"line_alpha\":{\"value\":0.1},\"line_color\":{\"value\":\"#5BC862\"},\"x\":{\"field\":\"TimeGenerated\"},\"y\":{\"field\":\"y_index\"}},\"id\":\"1663\",\"type\":\"Circle\"},{\"attributes\":{\"coordinates\":null,\"data_source\":{\"id\":\"1515\"},\"glyph\":{\"id\":\"1656\"},\"group\":null,\"hover_glyph\":null,\"muted_glyph\":{\"id\":\"1658\"},\"nonselection_glyph\":{\"id\":\"1657\"},\"view\":{\"id\":\"1660\"}},\"id\":\"1659\",\"type\":\"GlyphRenderer\"},{\"attributes\":{\"fill_alpha\":{\"value\":0.5},\"fill_color\":{\"value\":\"#45347F\"},\"hatch_alpha\":{\"value\":0.5},\"hatch_color\":{\"value\":\"#45347F\"},\"line_alpha\":{\"value\":0.5},\"line_color\":{\"value\":\"#45347F\"},\"marker\":{\"value\":\"diamond\"},\"size\":{\"value\":10},\"x\":{\"field\":\"TimeGenerated\"},\"y\":{\"field\":\"y_index\"}},\"id\":\"1708\",\"type\":\"Scatter\"},{\"attributes\":{\"fill_alpha\":{\"value\":0.2},\"fill_color\":{\"value\":\"#5BC862\"},\"hatch_alpha\":{\"value\":0.2},\"hatch_color\":{\"value\":\"#5BC862\"},\"line_alpha\":{\"value\":0.2},\"line_color\":{\"value\":\"#5BC862\"},\"x\":{\"field\":\"TimeGenerated\"},\"y\":{\"field\":\"y_index\"}},\"id\":\"1664\",\"type\":\"Circle\"},{\"attributes\":{\"fill_color\":{\"value\":\"#79D151\"},\"hatch_color\":{\"value\":\"#79D151\"},\"line_color\":{\"value\":\"#79D151\"},\"x\":{\"field\":\"TimeGenerated\"},\"y\":{\"field\":\"y_index\"}},\"id\":\"1668\",\"type\":\"Circle\"},{\"attributes\":{\"source\":{\"id\":\"1516\"}},\"id\":\"1666\",\"type\":\"CDSView\"},{\"attributes\":{\"fill_alpha\":{\"value\":0.1},\"fill_color\":{\"value\":\"#79D151\"},\"hatch_alpha\":{\"value\":0.1},\"hatch_color\":{\"value\":\"#79D151\"},\"line_alpha\":{\"value\":0.1},\"line_color\":{\"value\":\"#79D151\"},\"x\":{\"field\":\"TimeGenerated\"},\"y\":{\"field\":\"y_index\"}},\"id\":\"1669\",\"type\":\"Circle\"},{\"attributes\":{\"coordinates\":null,\"data_source\":{\"id\":\"1516\"},\"glyph\":{\"id\":\"1662\"},\"group\":null,\"hover_glyph\":null,\"muted_glyph\":{\"id\":\"1664\"},\"nonselection_glyph\":{\"id\":\"1663\"},\"view\":{\"id\":\"1666\"}},\"id\":\"1665\",\"type\":\"GlyphRenderer\"},{\"attributes\":{\"source\":{\"id\":\"1503\"}},\"id\":\"1705\",\"type\":\"CDSView\"},{\"attributes\":{\"coordinates\":null,\"data_source\":{\"id\":\"1503\"},\"glyph\":{\"id\":\"1701\"},\"group\":null,\"hover_glyph\":null,\"muted_glyph\":{\"id\":\"1703\"},\"nonselection_glyph\":{\"id\":\"1702\"},\"view\":{\"id\":\"1705\"}},\"id\":\"1704\",\"type\":\"GlyphRenderer\"},{\"attributes\":{\"fill_alpha\":{\"value\":0.2},\"fill_color\":{\"value\":\"#79D151\"},\"hatch_alpha\":{\"value\":0.2},\"hatch_color\":{\"value\":\"#79D151\"},\"line_alpha\":{\"value\":0.2},\"line_color\":{\"value\":\"#79D151\"},\"x\":{\"field\":\"TimeGenerated\"},\"y\":{\"field\":\"y_index\"}},\"id\":\"1670\",\"type\":\"Circle\"},{\"attributes\":{\"fill_color\":{\"value\":\"#97D83E\"},\"hatch_color\":{\"value\":\"#97D83E\"},\"line_color\":{\"value\":\"#97D83E\"},\"x\":{\"field\":\"TimeGenerated\"},\"y\":{\"field\":\"y_index\"}},\"id\":\"1674\",\"type\":\"Circle\"},{\"attributes\":{\"source\":{\"id\":\"1517\"}},\"id\":\"1672\",\"type\":\"CDSView\"},{\"attributes\":{\"fill_alpha\":{\"value\":0.1},\"fill_color\":{\"value\":\"#97D83E\"},\"hatch_alpha\":{\"value\":0.1},\"hatch_color\":{\"value\":\"#97D83E\"},\"line_alpha\":{\"value\":0.1},\"line_color\":{\"value\":\"#97D83E\"},\"x\":{\"field\":\"TimeGenerated\"},\"y\":{\"field\":\"y_index\"}},\"id\":\"1675\",\"type\":\"Circle\"},{\"attributes\":{\"coordinates\":null,\"data_source\":{\"id\":\"1517\"},\"glyph\":{\"id\":\"1668\"},\"group\":null,\"hover_glyph\":null,\"muted_glyph\":{\"id\":\"1670\"},\"nonselection_glyph\":{\"id\":\"1669\"},\"view\":{\"id\":\"1672\"}},\"id\":\"1671\",\"type\":\"GlyphRenderer\"},{\"attributes\":{\"fill_alpha\":{\"value\":0.2},\"fill_color\":{\"value\":\"#482374\"},\"hatch_alpha\":{\"value\":0.2},\"hatch_color\":{\"value\":\"#482374\"},\"line_alpha\":{\"value\":0.2},\"line_color\":{\"value\":\"#482374\"},\"marker\":{\"value\":\"diamond\"},\"size\":{\"value\":10},\"x\":{\"field\":\"TimeGenerated\"},\"y\":{\"field\":\"y_index\"}},\"id\":\"1703\",\"type\":\"Scatter\"},{\"attributes\":{\"fill_alpha\":{\"value\":0.2},\"fill_color\":{\"value\":\"#97D83E\"},\"hatch_alpha\":{\"value\":0.2},\"hatch_color\":{\"value\":\"#97D83E\"},\"line_alpha\":{\"value\":0.2},\"line_color\":{\"value\":\"#97D83E\"},\"x\":{\"field\":\"TimeGenerated\"},\"y\":{\"field\":\"y_index\"}},\"id\":\"1676\",\"type\":\"Circle\"},{\"attributes\":{\"overlay\":{\"id\":\"1680\"},\"x_range\":{\"id\":\"1523\"},\"y_range\":null},\"id\":\"1679\",\"type\":\"RangeTool\"},{\"attributes\":{\"source\":{\"id\":\"1518\"}},\"id\":\"1678\",\"type\":\"CDSView\"},{\"attributes\":{\"coordinates\":null,\"data_source\":{\"id\":\"1518\"},\"glyph\":{\"id\":\"1674\"},\"group\":null,\"hover_glyph\":null,\"muted_glyph\":{\"id\":\"1676\"},\"nonselection_glyph\":{\"id\":\"1675\"},\"view\":{\"id\":\"1678\"}},\"id\":\"1677\",\"type\":\"GlyphRenderer\"},{\"attributes\":{\"coordinates\":null,\"fill_alpha\":0.2,\"fill_color\":\"navy\",\"group\":null,\"level\":\"overlay\",\"line_alpha\":1.0,\"line_color\":\"black\",\"line_dash\":[2,2],\"line_width\":0.5,\"syncable\":false},\"id\":\"1680\",\"type\":\"BoxAnnotation\"},{\"attributes\":{\"fill_alpha\":{\"value\":0.5},\"fill_color\":{\"value\":\"#440154\"},\"hatch_alpha\":{\"value\":0.5},\"hatch_color\":{\"value\":\"#440154\"},\"line_alpha\":{\"value\":0.5},\"line_color\":{\"value\":\"#440154\"},\"marker\":{\"value\":\"diamond\"},\"size\":{\"value\":10},\"x\":{\"field\":\"TimeGenerated\"},\"y\":{\"field\":\"y_index\"}},\"id\":\"1687\",\"type\":\"Scatter\"},{\"attributes\":{\"coordinates\":null,\"data_source\":{\"id\":\"1501\"},\"glyph\":{\"id\":\"1687\"},\"group\":null,\"hover_glyph\":null,\"muted_glyph\":{\"id\":\"1689\"},\"nonselection_glyph\":{\"id\":\"1688\"},\"view\":{\"id\":\"1691\"}},\"id\":\"1690\",\"type\":\"GlyphRenderer\"},{\"attributes\":{\"fill_alpha\":{\"value\":0.1},\"fill_color\":{\"value\":\"#482374\"},\"hatch_alpha\":{\"value\":0.1},\"hatch_color\":{\"value\":\"#482374\"},\"line_alpha\":{\"value\":0.1},\"line_color\":{\"value\":\"#482374\"},\"marker\":{\"value\":\"diamond\"},\"size\":{\"value\":10},\"x\":{\"field\":\"TimeGenerated\"},\"y\":{\"field\":\"y_index\"}},\"id\":\"1702\",\"type\":\"Scatter\"},{\"attributes\":{\"fill_alpha\":{\"value\":0.1},\"fill_color\":{\"value\":\"#440154\"},\"hatch_alpha\":{\"value\":0.1},\"hatch_color\":{\"value\":\"#440154\"},\"line_alpha\":{\"value\":0.1},\"line_color\":{\"value\":\"#440154\"},\"marker\":{\"value\":\"diamond\"},\"size\":{\"value\":10},\"x\":{\"field\":\"TimeGenerated\"},\"y\":{\"field\":\"y_index\"}},\"id\":\"1688\",\"type\":\"Scatter\"},{\"attributes\":{\"fill_alpha\":{\"value\":0.2},\"fill_color\":{\"value\":\"#440154\"},\"hatch_alpha\":{\"value\":0.2},\"hatch_color\":{\"value\":\"#440154\"},\"line_alpha\":{\"value\":0.2},\"line_color\":{\"value\":\"#440154\"},\"marker\":{\"value\":\"diamond\"},\"size\":{\"value\":10},\"x\":{\"field\":\"TimeGenerated\"},\"y\":{\"field\":\"y_index\"}},\"id\":\"1689\",\"type\":\"Scatter\"},{\"attributes\":{\"fill_alpha\":{\"value\":0.1},\"fill_color\":{\"value\":\"#45347F\"},\"hatch_alpha\":{\"value\":0.1},\"hatch_color\":{\"value\":\"#45347F\"},\"line_alpha\":{\"value\":0.1},\"line_color\":{\"value\":\"#45347F\"},\"marker\":{\"value\":\"diamond\"},\"size\":{\"value\":10},\"x\":{\"field\":\"TimeGenerated\"},\"y\":{\"field\":\"y_index\"}},\"id\":\"1709\",\"type\":\"Scatter\"},{\"attributes\":{\"label\":{\"value\":\"20.190.142.169\"},\"renderers\":[{\"id\":\"1690\"}]},\"id\":\"1692\",\"type\":\"LegendItem\"},{\"attributes\":{\"label\":{\"value\":\"20.190.142.172\"},\"renderers\":[{\"id\":\"1704\"}]},\"id\":\"1706\",\"type\":\"LegendItem\"},{\"attributes\":{\"source\":{\"id\":\"1501\"}},\"id\":\"1691\",\"type\":\"CDSView\"},{\"attributes\":{\"fill_alpha\":{\"value\":0.1},\"fill_color\":{\"value\":\"#471265\"},\"hatch_alpha\":{\"value\":0.1},\"hatch_color\":{\"value\":\"#471265\"},\"line_alpha\":{\"value\":0.1},\"line_color\":{\"value\":\"#471265\"},\"marker\":{\"value\":\"diamond\"},\"size\":{\"value\":10},\"x\":{\"field\":\"TimeGenerated\"},\"y\":{\"field\":\"y_index\"}},\"id\":\"1695\",\"type\":\"Scatter\"},{\"attributes\":{\"fill_alpha\":{\"value\":0.5},\"fill_color\":{\"value\":\"#471265\"},\"hatch_alpha\":{\"value\":0.5},\"hatch_color\":{\"value\":\"#471265\"},\"line_alpha\":{\"value\":0.5},\"line_color\":{\"value\":\"#471265\"},\"marker\":{\"value\":\"diamond\"},\"size\":{\"value\":10},\"x\":{\"field\":\"TimeGenerated\"},\"y\":{\"field\":\"y_index\"}},\"id\":\"1694\",\"type\":\"Scatter\"},{\"attributes\":{\"fill_alpha\":{\"value\":0.2},\"fill_color\":{\"value\":\"#471265\"},\"hatch_alpha\":{\"value\":0.2},\"hatch_color\":{\"value\":\"#471265\"},\"line_alpha\":{\"value\":0.2},\"line_color\":{\"value\":\"#471265\"},\"marker\":{\"value\":\"diamond\"},\"size\":{\"value\":10},\"x\":{\"field\":\"TimeGenerated\"},\"y\":{\"field\":\"y_index\"}},\"id\":\"1696\",\"type\":\"Scatter\"},{\"attributes\":{\"fill_alpha\":{\"value\":0.5},\"fill_color\":{\"value\":\"#482374\"},\"hatch_alpha\":{\"value\":0.5},\"hatch_color\":{\"value\":\"#482374\"},\"line_alpha\":{\"value\":0.5},\"line_color\":{\"value\":\"#482374\"},\"marker\":{\"value\":\"diamond\"},\"size\":{\"value\":10},\"x\":{\"field\":\"TimeGenerated\"},\"y\":{\"field\":\"y_index\"}},\"id\":\"1701\",\"type\":\"Scatter\"},{\"attributes\":{\"source\":{\"id\":\"1502\"}},\"id\":\"1698\",\"type\":\"CDSView\"},{\"attributes\":{\"label\":{\"value\":\"20.190.142.170\"},\"renderers\":[{\"id\":\"1697\"}]},\"id\":\"1699\",\"type\":\"LegendItem\"},{\"attributes\":{\"coordinates\":null,\"data_source\":{\"id\":\"1502\"},\"glyph\":{\"id\":\"1694\"},\"group\":null,\"hover_glyph\":null,\"muted_glyph\":{\"id\":\"1696\"},\"nonselection_glyph\":{\"id\":\"1695\"},\"view\":{\"id\":\"1698\"}},\"id\":\"1697\",\"type\":\"GlyphRenderer\"},{\"attributes\":{\"end\":1649884221466.5999,\"start\":1649679015867.4},\"id\":\"1523\",\"type\":\"Range1d\"},{\"attributes\":{\"below\":[{\"id\":\"1531\"}],\"center\":[{\"id\":\"1534\"},{\"id\":\"1538\"}],\"height\":450,\"left\":[{\"id\":\"1535\"},{\"id\":\"1812\"}],\"min_border_left\":50,\"renderers\":[{\"id\":\"1690\"},{\"id\":\"1697\"},{\"id\":\"1704\"},{\"id\":\"1711\"},{\"id\":\"1718\"},{\"id\":\"1725\"},{\"id\":\"1732\"},{\"id\":\"1739\"},{\"id\":\"1746\"},{\"id\":\"1753\"},{\"id\":\"1760\"},{\"id\":\"1767\"},{\"id\":\"1774\"},{\"id\":\"1781\"},{\"id\":\"1788\"},{\"id\":\"1795\"},{\"id\":\"1802\"},{\"id\":\"1809\"}],\"title\":{\"id\":\"1521\"},\"toolbar\":{\"id\":\"1545\"},\"width\":900,\"x_range\":{\"id\":\"1523\"},\"x_scale\":{\"id\":\"1527\"},\"y_range\":{\"id\":\"1525\"},\"y_scale\":{\"id\":\"1529\"}},\"id\":\"1520\",\"subtype\":\"Figure\",\"type\":\"Plot\"},{\"attributes\":{},\"id\":\"1843\",\"type\":\"UnionRenderers\"},{\"attributes\":{\"data\":{\"AppResourceProvider\":[\"CAttack\",\"CAttack\",\"CAttack\",\"CAttack\",\"CAttack\",\"CAttack\",\"CAttack\",\"CAttack\",\"CAttack\",\"CAttack\",\"CAttack\",\"CAttack\",\"CAttack\",\"CAttack\",\"CAttack\",\"CAttack\",\"CAttack\",\"CAttack\",\"CAttack\",\"CAttack\",\"CAttack\",\"CAttack\",\"CAttack\",\"CAttack\",\"CAttack\",\"CAttack\",\"CAttack\",\"CAttack\",\"CAttack\",\"CAttack\",\"CAttack\",\"CAttack\",\"CAttack\",\"CAttack\",\"CAttack\",\"CAttack\",\"CAttack\",\"CAttack\",\"CAttack\",\"CAttack\",\"CAttack\",\"CAttack\",\"CAttack\",\"CAttack\",\"CAttack\",\"CAttack\",\"CAttack\",\"CAttack\",\"CAttack\",\"CAttack\",\"CAttack\"],\"IPAddress\":[\"20.53.9.84\",\"20.53.9.84\",\"20.53.9.84\",\"20.53.9.84\",\"20.53.9.84\",\"20.53.9.84\",\"20.53.9.84\",\"20.53.9.84\",\"20.53.9.84\",\"20.53.9.84\",\"20.53.9.84\",\"20.53.9.84\",\"20.53.9.84\",\"20.53.9.84\",\"20.53.9.84\",\"20.53.9.84\",\"20.53.9.84\",\"20.53.9.84\",\"20.53.9.84\",\"20.53.9.84\",\"20.53.9.84\",\"20.53.9.84\",\"20.53.9.84\",\"20.53.9.84\",\"20.53.9.84\",\"20.53.9.84\",\"20.53.9.84\",\"20.53.9.84\",\"20.53.9.84\",\"20.53.9.84\",\"20.53.9.84\",\"20.53.9.84\",\"20.53.9.84\",\"20.53.9.84\",\"20.53.9.84\",\"20.53.9.84\",\"20.53.9.84\",\"20.53.9.84\",\"20.53.9.84\",\"20.53.9.84\",\"20.53.9.84\",\"20.53.9.84\",\"20.53.9.84\",\"20.53.9.84\",\"20.53.9.84\",\"20.53.9.84\",\"20.53.9.84\",\"20.53.9.84\",\"20.53.9.84\",\"20.53.9.84\",\"20.53.9.84\"],\"Operation\":[\"Sign-in activity\",\"Sign-in activity\",\"Sign-in activity\",\"Sign-in activity\",\"Sign-in activity\",\"Sign-in activity\",\"Sign-in activity\",\"Sign-in activity\",\"Sign-in activity\",\"Sign-in activity\",\"Sign-in activity\",\"Sign-in activity\",\"Sign-in activity\",\"Sign-in activity\",\"Sign-in activity\",\"Sign-in activity\",\"Sign-in activity\",\"Sign-in activity\",\"Sign-in activity\",\"Sign-in activity\",\"Sign-in activity\",\"Sign-in activity\",\"Sign-in activity\",\"Sign-in activity\",\"Sign-in activity\",\"Sign-in activity\",\"Sign-in activity\",\"Sign-in activity\",\"Sign-in activity\",\"Sign-in activity\",\"Sign-in activity\",\"Sign-in activity\",\"Sign-in activity\",\"Sign-in activity\",\"Sign-in activity\",\"Sign-in activity\",\"Sign-in activity\",\"Sign-in activity\",\"Sign-in activity\",\"Sign-in activity\",\"Sign-in activity\",\"Sign-in activity\",\"Sign-in activity\",\"Sign-in activity\",\"Sign-in activity\",\"Sign-in activity\",\"Sign-in activity\",\"Sign-in activity\",\"Sign-in activity\",\"Sign-in activity\",\"Sign-in activity\"],\"TimeGenerated\":{\"__ndarray__\":\"ANAu0aUBeEIA0C7RpQF4QgCQQO6lAXhCAHDDzaoBeEIA8B0zqwF4QgCwPTSrAXhCAOAEBa4BeEIAEHw1sQF4QgBgovSxAXhCABCz9bEBeEIAYIxnsgF4QgBAqmiyAXhCAJBqrbIBeEIAoL2usgF4QgDgCRG5AXhCAFDbKr0BeEIAwBuk0QF4QgBgWkjUAXhCAECvnd4BeEIA0DOg7QF4QgDA/qnwAXhCAJBNq/ABeEIA4B7T9wF4QgCgV0T7AXhCAECKRfsBeEIAUDUJ/QF4QgBA80P9AXhCACD0MQICeEIAcP0yAgJ4QgAw6S0EAnhCAOCGiwQCeEIA0EOMBAJ4QgAQb6QEAnhCAODoGAUCeEIA8M8ZBQJ4QgAA2jUFAnhCALAiygUCeEIAwKrLBQJ4QgDQrHUHAnhCAODBdgcCeEIAsIuZEAJ4QgBQx14VAnhCACC+XxUCeEIAUJmbFwJ4QgAwsRAYAnhCAJBxuRkCeEIAsF4zIAJ4QgCgiBwiAnhCAABVlCMCeEIAgC1JLgJ4QgCwIeQ7AnhC\",\"dtype\":\"float64\",\"order\":\"little\",\"shape\":[51]},\"index\":[240,241,242,122,121,124,127,144,148,129,150,153,157,149,155,160,190,200,214,0,11,10,25,34,35,44,38,70,41,68,79,82,81,61,62,88,72,39,48,50,89,96,95,74,93,105,115,107,261,246,276],\"y_index\":[8,8,8,8,8,8,8,8,8,8,8,8,8,8,8,8,8,8,8,8,8,8,8,8,8,8,8,8,8,8,8,8,8,8,8,8,8,8,8,8,8,8,8,8,8,8,8,8,8,8,8]},\"selected\":{\"id\":\"1840\"},\"selection_policy\":{\"id\":\"1839\"}},\"id\":\"1509\",\"type\":\"ColumnDataSource\"},{\"attributes\":{},\"id\":\"1844\",\"type\":\"Selection\"},{\"attributes\":{\"below\":[{\"id\":\"1563\"},{\"id\":\"1568\"}],\"center\":[{\"id\":\"1566\"}],\"height\":120,\"renderers\":[{\"id\":\"1575\"},{\"id\":\"1581\"},{\"id\":\"1587\"},{\"id\":\"1593\"},{\"id\":\"1599\"},{\"id\":\"1605\"},{\"id\":\"1611\"},{\"id\":\"1617\"},{\"id\":\"1623\"},{\"id\":\"1629\"},{\"id\":\"1635\"},{\"id\":\"1641\"},{\"id\":\"1647\"},{\"id\":\"1653\"},{\"id\":\"1659\"},{\"id\":\"1665\"},{\"id\":\"1671\"},{\"id\":\"1677\"}],\"title\":{\"id\":\"1553\"},\"toolbar\":{\"id\":\"1567\"},\"toolbar_location\":null,\"width\":900,\"x_range\":{\"id\":\"1555\"},\"x_scale\":{\"id\":\"1559\"},\"y_range\":{\"id\":\"1557\"},\"y_scale\":{\"id\":\"1561\"}},\"id\":\"1552\",\"subtype\":\"Figure\",\"type\":\"Plot\"},{\"attributes\":{\"end\":17.055555555555557,\"start\":-0.05555555555555555},\"id\":\"1525\",\"type\":\"Range1d\"},{\"attributes\":{\"data\":{\"AppResourceProvider\":[\"Exchange\"],\"IPAddress\":[\"20.37.213.236:63603\"],\"Operation\":[\"Remove-InboxRule\"],\"TimeGenerated\":{\"__ndarray__\":\"AABY3h0CeEI=\",\"dtype\":\"float64\",\"order\":\"little\",\"shape\":[1]},\"index\":[459],\"y_index\":[5]},\"selected\":{\"id\":\"1834\"},\"selection_policy\":{\"id\":\"1833\"}},\"id\":\"1506\",\"type\":\"ColumnDataSource\"},{\"attributes\":{},\"id\":\"1845\",\"type\":\"UnionRenderers\"},{\"attributes\":{},\"id\":\"1846\",\"type\":\"Selection\"},{\"attributes\":{\"days\":[\"%m-%d %H:%M\"],\"hours\":[\"%H:%M:%S\"],\"milliseconds\":[\"%H:%M:%S.%3N\"],\"minutes\":[\"%H:%M:%S\"],\"seconds\":[\"%H:%M:%S\"]},\"id\":\"1569\",\"type\":\"DatetimeTickFormatter\"},{\"attributes\":{},\"id\":\"1847\",\"type\":\"UnionRenderers\"},{\"attributes\":{},\"id\":\"1848\",\"type\":\"Selection\"},{\"attributes\":{\"data\":{\"AppResourceProvider\":[\"CAttack\",\"CAttack\",\"CAttack\",\"CAttack\",\"CAttack\",\"CAttack\",\"CAttack\",\"CAttack\",\"CAttack\",\"CAttack\",\"CAttack\",\"CAttack\",\"CAttack\",\"CAttack\",\"CAttack\",\"CAttack\",\"CAttack\",\"CAttack\",\"CAttack\",\"CAttack\",\"CAttack\",\"CAttack\",\"CAttack\",\"CAttack\",\"CAttack\",\"CAttack\",\"CAttack\",\"CAttack\",\"CAttack\",\"CAttack\",\"CAttack\",\"CAttack\",\"CAttack\",\"CAttack\",\"CAttack\",\"CAttack\",\"CAttack\",\"CAttack\",\"CAttack\",\"CAttack\",\"CAttack\",\"CAttack\",\"CAttack\",\"CAttack\",\"CAttack\",\"CAttack\",\"CAttack\"],\"IPAddress\":[\"20.70.208.63\",\"20.70.208.63\",\"20.70.208.63\",\"20.70.208.63\",\"20.70.208.63\",\"20.70.208.63\",\"20.70.208.63\",\"20.70.208.63\",\"20.70.208.63\",\"20.70.208.63\",\"20.70.208.63\",\"20.70.208.63\",\"20.70.208.63\",\"20.70.208.63\",\"20.70.208.63\",\"20.70.208.63\",\"20.70.208.63\",\"20.70.208.63\",\"20.70.208.63\",\"20.70.208.63\",\"20.70.208.63\",\"20.70.208.63\",\"20.70.208.63\",\"20.70.208.63\",\"20.70.208.63\",\"20.70.208.63\",\"20.70.208.63\",\"20.70.208.63\",\"20.70.208.63\",\"20.70.208.63\",\"20.70.208.63\",\"20.70.208.63\",\"20.70.208.63\",\"20.70.208.63\",\"20.70.208.63\",\"20.70.208.63\",\"20.70.208.63\",\"20.70.208.63\",\"20.70.208.63\",\"20.70.208.63\",\"20.70.208.63\",\"20.70.208.63\",\"20.70.208.63\",\"20.70.208.63\",\"20.70.208.63\",\"20.70.208.63\",\"20.70.208.63\"],\"Operation\":[\"Sign-in activity\",\"Sign-in activity\",\"Sign-in activity\",\"Sign-in activity\",\"Sign-in activity\",\"Sign-in activity\",\"Sign-in activity\",\"Sign-in activity\",\"Sign-in activity\",\"Sign-in activity\",\"Sign-in activity\",\"Sign-in activity\",\"Sign-in activity\",\"Sign-in activity\",\"Sign-in activity\",\"Sign-in activity\",\"Sign-in activity\",\"Sign-in activity\",\"Sign-in activity\",\"Sign-in activity\",\"Sign-in activity\",\"Sign-in activity\",\"Sign-in activity\",\"Sign-in activity\",\"Sign-in activity\",\"Sign-in activity\",\"Sign-in activity\",\"Sign-in activity\",\"Sign-in activity\",\"Sign-in activity\",\"Sign-in activity\",\"Sign-in activity\",\"Sign-in activity\",\"Sign-in activity\",\"Sign-in activity\",\"Sign-in activity\",\"Sign-in activity\",\"Sign-in activity\",\"Sign-in activity\",\"Sign-in activity\",\"Sign-in activity\",\"Sign-in activity\",\"Sign-in activity\",\"Sign-in activity\",\"Sign-in activity\",\"Sign-in activity\",\"Sign-in activity\"],\"TimeGenerated\":{\"__ndarray__\":\"AHD40ZgBeEIA4GXxmgF4QgDwhPKaAXhCAAA/DZsBeEIAwFiFnQF4QgAw/qOjAXhCAPA6paMBeEIAIKjaqAF4QgCwjEuuAXhCAMCX/64BeEIAAHzUsQF4QgCghtWxAXhCAFCnabIBeEIAEC18swF4QgCwYLO8AXhCALCptLwBeEIA0L5NvgF4QgAgWeLAAXhCAAAhcMMBeEIA4F0pxwF4QgAAPf3KAXhCALD2980BeEIAMBUT1gF4QgAA7nTbAXhCAJC8J+ABeEIAsN4p5AF4QgCwR3LnAXhCACBhIe4BeEIAAPml8AF4QgAAdF/0AXhCAIB0+vQBeEIAgJyH+gF4QgCAt4j6AXhCABB5jAACeEIA4BfdAQJ4QgCAemEDAnhCACD1qQQCeEIAsO47FAJ4QgBACWYkAnhCABCTkiQCeEIAgDbbJAJ4QgAQPQclAnhCAEBPCCUCeEIAsPHDLgJ4QgBABewzAnhCAMDOqzYCeEIAkF/8NwJ4Qg==\",\"dtype\":\"float64\",\"order\":\"little\",\"shape\":[47]},\"index\":[220,230,229,231,223,234,226,118,126,128,142,143,152,167,169,170,174,185,181,171,179,192,193,197,201,215,213,4,13,6,14,28,33,49,15,19,85,94,262,263,252,243,244,272,249,258,259],\"y_index\":[9,9,9,9,9,9,9,9,9,9,9,9,9,9,9,9,9,9,9,9,9,9,9,9,9,9,9,9,9,9,9,9,9,9,9,9,9,9,9,9,9,9,9,9,9,9,9]},\"selected\":{\"id\":\"1842\"},\"selection_policy\":{\"id\":\"1841\"}},\"id\":\"1510\",\"type\":\"ColumnDataSource\"},{\"attributes\":{\"data\":{\"AppResourceProvider\":[\"CAttack\",\"CAttack\",\"CAttack\",\"CAttack\",\"CAttack\",\"CAttack\",\"CAttack\",\"CAttack\",\"CAttack\",\"CAttack\",\"CAttack\",\"CAttack\",\"CAttack\",\"CAttack\",\"CAttack\",\"CAttack\",\"CAttack\",\"CAttack\",\"CAttack\",\"CAttack\",\"CAttack\",\"CAttack\",\"CAttack\",\"CAttack\",\"CAttack\",\"CAttack\",\"CAttack\",\"CAttack\",\"CAttack\",\"CAttack\",\"CAttack\",\"CAttack\",\"CAttack\",\"CAttack\",\"CAttack\",\"CAttack\"],\"IPAddress\":[\"20.37.255.76\",\"20.37.255.76\",\"20.37.255.76\",\"20.37.255.76\",\"20.37.255.76\",\"20.37.255.76\",\"20.37.255.76\",\"20.37.255.76\",\"20.37.255.76\",\"20.37.255.76\",\"20.37.255.76\",\"20.37.255.76\",\"20.37.255.76\",\"20.37.255.76\",\"20.37.255.76\",\"20.37.255.76\",\"20.37.255.76\",\"20.37.255.76\",\"20.37.255.76\",\"20.37.255.76\",\"20.37.255.76\",\"20.37.255.76\",\"20.37.255.76\",\"20.37.255.76\",\"20.37.255.76\",\"20.37.255.76\",\"20.37.255.76\",\"20.37.255.76\",\"20.37.255.76\",\"20.37.255.76\",\"20.37.255.76\",\"20.37.255.76\",\"20.37.255.76\",\"20.37.255.76\",\"20.37.255.76\",\"20.37.255.76\"],\"Operation\":[\"Sign-in activity\",\"Sign-in activity\",\"Sign-in activity\",\"Sign-in activity\",\"Sign-in activity\",\"Sign-in activity\",\"Sign-in activity\",\"Sign-in activity\",\"Sign-in activity\",\"Sign-in activity\",\"Sign-in activity\",\"Sign-in activity\",\"Sign-in activity\",\"Sign-in activity\",\"Sign-in activity\",\"Sign-in activity\",\"Sign-in activity\",\"Sign-in activity\",\"Sign-in activity\",\"Sign-in activity\",\"Sign-in activity\",\"Sign-in activity\",\"Sign-in activity\",\"Sign-in activity\",\"Sign-in activity\",\"Sign-in activity\",\"Sign-in activity\",\"Sign-in activity\",\"Sign-in activity\",\"Sign-in activity\",\"Sign-in activity\",\"Sign-in activity\",\"Sign-in activity\",\"Sign-in activity\",\"Sign-in activity\",\"Sign-in activity\"],\"TimeGenerated\":{\"__ndarray__\":\"AICXv6EBeEIAALz6oQF4QgBgroayAXhCALAxvbIBeEIAAAx7swF4QgBgjXyzAXhCAKCXybsBeEIAQF3RvAF4QgBAXqnAAXhCACBn9cYBeEIAUAnVzAF4QgAQaf/TAXhCAFCkx9oBeEIAsBMX5QF4QgCAZUTnAXhCAGBEuucBeEIAkFiQ6QF4QgAQvBfyAXhCABCCcvYBeEIA0I5GAQJ4QgCwlkcBAnhCALDHgAECeEIA0AHoBAJ4QgDwiu4EAnhCAHBn7wQCeEIAkGPOBQJ4QgCQJFMGAnhCAFBLhhoCeEIAAHuHGgJ4QgCwqu8dAnhCANDkICcCeEIAEEIqKgJ4QgDQGuErAnhCAGBVZDMCeEIAQKT4NAJ4QgBQLKA4AnhC\",\"dtype\":\"float64\",\"order\":\"little\",\"shape\":[36]},\"index\":[238,239,154,158,141,140,183,172,163,188,184,199,202,217,212,219,211,17,27,60,52,65,57,55,75,73,92,108,97,112,264,253,271,257,269,250],\"y_index\":[7,7,7,7,7,7,7,7,7,7,7,7,7,7,7,7,7,7,7,7,7,7,7,7,7,7,7,7,7,7,7,7,7,7,7,7]},\"selected\":{\"id\":\"1838\"},\"selection_policy\":{\"id\":\"1837\"}},\"id\":\"1508\",\"type\":\"ColumnDataSource\"},{\"attributes\":{},\"id\":\"1527\",\"type\":\"LinearScale\"},{\"attributes\":{},\"id\":\"1849\",\"type\":\"UnionRenderers\"},{\"attributes\":{},\"id\":\"1850\",\"type\":\"Selection\"},{\"attributes\":{\"data\":{\"AppResourceProvider\":[\"Exchange\"],\"IPAddress\":[\"52.96.203.21\"],\"Operation\":[\"MailItemsAccessed\"],\"TimeGenerated\":{\"__ndarray__\":\"AAAoi8QBeEI=\",\"dtype\":\"float64\",\"order\":\"little\",\"shape\":[1]},\"index\":[360],\"y_index\":[16]},\"selected\":{\"id\":\"1856\"},\"selection_policy\":{\"id\":\"1855\"}},\"id\":\"1517\",\"type\":\"ColumnDataSource\"},{\"attributes\":{\"data\":{\"AppResourceProvider\":[\"Exchange\",\"Exchange\",\"Exchange\",\"Exchange\",\"Exchange\",\"Exchange\",\"Exchange\",\"Exchange\",\"Exchange\",\"Exchange\",\"Exchange\",\"Exchange\",\"Exchange\",\"Exchange\",\"Exchange\",\"Exchange\",\"Exchange\",\"Exchange\",\"Exchange\",\"Exchange\",\"Exchange\",\"Exchange\",\"Exchange\",\"Exchange\",\"Exchange\",\"Exchange\",\"Exchange\",\"Exchange\",\"Exchange\",\"Exchange\",\"Exchange\",\"Exchange\",\"Exchange\",\"Exchange\",\"Exchange\",\"Exchange\",\"Exchange\",\"Exchange\",\"Exchange\",\"Exchange\",\"Exchange\",\"Exchange\"],\"IPAddress\":[\"20.190.142.170\",\"20.190.142.170\",\"20.190.142.170\",\"20.190.142.170\",\"20.190.142.170\",\"20.190.142.170\",\"20.190.142.170\",\"20.190.142.170\",\"20.190.142.170\",\"20.190.142.170\",\"20.190.142.170\",\"20.190.142.170\",\"20.190.142.170\",\"20.190.142.170\",\"20.190.142.170\",\"20.190.142.170\",\"20.190.142.170\",\"20.190.142.170\",\"20.190.142.170\",\"20.190.142.170\",\"20.190.142.170\",\"20.190.142.170\",\"20.190.142.170\",\"20.190.142.170\",\"20.190.142.170\",\"20.190.142.170\",\"20.190.142.170\",\"20.190.142.170\",\"20.190.142.170\",\"20.190.142.170\",\"20.190.142.170\",\"20.190.142.170\",\"20.190.142.170\",\"20.190.142.170\",\"20.190.142.170\",\"20.190.142.170\",\"20.190.142.170\",\"20.190.142.170\",\"20.190.142.170\",\"20.190.142.170\",\"20.190.142.170\",\"20.190.142.170\"],\"Operation\":[\"Send\",\"Send\",\"Send\",\"Send\",\"MailItemsAccessed\",\"Send\",\"MailItemsAccessed\",\"Send\",\"MailItemsAccessed\",\"Send\",\"Send\",\"Send\",\"Send\",\"Send\",\"Send\",\"Send\",\"Send\",\"Send\",\"Send\",\"Send\",\"MailItemsAccessed\",\"Send\",\"Send\",\"Send\",\"Send\",\"MailItemsAccessed\",\"Send\",\"Send\",\"Send\",\"Send\",\"Send\",\"Send\",\"Send\",\"Send\",\"Send\",\"MailItemsAccessed\",\"Send\",\"Send\",\"Send\",\"Send\",\"Send\",\"Send\"],\"TimeGenerated\":{\"__ndarray__\":\"AADG0pgBeEIAAGvAoQF4QgAARM+qAXhCAIBDAK8BeEIAADKusAF4QgCAAXayAXhCAICMqbcBeEIAAGLzuAF4QgCA1Pa9AXhCAIBxLcIBeEIAgHdzywF4QgAAOPnNAXhCAICxnt4BeEIAADra4AF4QgCAnSrkAXhCAADMdOYBeEIAAEJJ8QF4QgCAiBjyAXhCAAD/SvYBeEIAAChH+QF4QgCA2gT6AXhCAIAh/PwBeEIAAJOv/QF4QgCAdG4AAnhCAIBbgQECeEIAgIG2BQJ4QgCAV70FAnhCAIDXMBICeEIAAHaMFQJ4QgCA/OsYAnhCAABJuhkCeEIAAJhuIAJ4QgAAGdkqAnhCAIC74C0CeEIAgDNKLgJ4QgAAV+wzAnhCAABR7TMCeEIAAM7tMwJ4QgCAie4zAnhCAICD7zMCeEIAAMeANAJ4QgAAJvc2AnhC\",\"dtype\":\"float64\",\"order\":\"little\",\"shape\":[42]},\"index\":[292,296,305,316,321,325,346,327,330,358,317,339,363,366,341,369,277,410,279,443,445,385,447,387,417,425,423,392,394,454,456,285,288,430,405,435,432,433,436,437,466,407],\"y_index\":[1,1,1,1,1,1,1,1,1,1,1,1,1,1,1,1,1,1,1,1,1,1,1,1,1,1,1,1,1,1,1,1,1,1,1,1,1,1,1,1,1,1]},\"selected\":{\"id\":\"1826\"},\"selection_policy\":{\"id\":\"1825\"}},\"id\":\"1502\",\"type\":\"ColumnDataSource\"},{\"attributes\":{\"data\":{\"AppResourceProvider\":[\"Exchange\",\"Exchange\",\"Exchange\",\"Exchange\",\"Exchange\",\"Exchange\",\"Exchange\",\"Exchange\",\"Exchange\",\"Exchange\",\"Exchange\",\"Exchange\",\"Exchange\",\"Exchange\",\"Exchange\",\"Exchange\",\"Exchange\",\"Exchange\",\"Exchange\",\"Exchange\",\"Exchange\",\"Exchange\",\"Exchange\",\"Exchange\",\"Exchange\",\"Exchange\",\"Exchange\",\"Exchange\",\"Exchange\",\"Exchange\",\"Exchange\",\"Exchange\"],\"IPAddress\":[\"20.190.142.169\",\"20.190.142.169\",\"20.190.142.169\",\"20.190.142.169\",\"20.190.142.169\",\"20.190.142.169\",\"20.190.142.169\",\"20.190.142.169\",\"20.190.142.169\",\"20.190.142.169\",\"20.190.142.169\",\"20.190.142.169\",\"20.190.142.169\",\"20.190.142.169\",\"20.190.142.169\",\"20.190.142.169\",\"20.190.142.169\",\"20.190.142.169\",\"20.190.142.169\",\"20.190.142.169\",\"20.190.142.169\",\"20.190.142.169\",\"20.190.142.169\",\"20.190.142.169\",\"20.190.142.169\",\"20.190.142.169\",\"20.190.142.169\",\"20.190.142.169\",\"20.190.142.169\",\"20.190.142.169\",\"20.190.142.169\",\"20.190.142.169\"],\"Operation\":[\"Send\",\"Send\",\"Send\",\"MailItemsAccessed\",\"Send\",\"Send\",\"Send\",\"Send\",\"Send\",\"MailItemsAccessed\",\"Send\",\"MailItemsAccessed\",\"Send\",\"Send\",\"MailItemsAccessed\",\"Send\",\"Send\",\"Send\",\"Send\",\"MailItemsAccessed\",\"MailItemsAccessed\",\"Send\",\"MailItemsAccessed\",\"Send\",\"Send\",\"Send\",\"Send\",\"MailItemsAccessed\",\"Send\",\"Send\",\"MailItemsAccessed\",\"Send\"],\"TimeGenerated\":{\"__ndarray__\":\"AAANuJ4BeEIAgBZMrgF4QgAA8aOwAXhCAIAMDLIBeEIAAHpOvgF4QgAA7nDDAXhCAAAOKscBeEIAAAn+ygF4QgCAnHXbAXhCAAAQWOIBeEIAgOsX5QF4QgCAdXLnAXhCAAD4uucBeEIAAGyt9AF4QgCA0Pr0AXhCAAAJc/YBeEIAgCRY+AF4QgAAETD6AXhCAID/SP8BeEIAAGbdAQJ4QgAA06QEAnhCAABhBA0CeEIAgK7sGgJ4QgAAGwMdAnhCAADcvB8CeEIAgP2UIwJ4QgAAtWYkAnhCAIDlkiQCeEIAgN+TJAJ4QgCA2ZQkAnhCAICA4SsCeEIAgDr4NwJ4Qg==\",\"dtype\":\"float64\",\"order\":\"little\",\"shape\":[32]},\"index\":[295,313,319,324,329,309,336,364,332,371,368,347,348,378,413,381,383,444,415,448,420,281,396,426,284,427,460,402,399,400,429,440],\"y_index\":[0,0,0,0,0,0,0,0,0,0,0,0,0,0,0,0,0,0,0,0,0,0,0,0,0,0,0,0,0,0,0,0]},\"selected\":{\"id\":\"1824\"},\"selection_policy\":{\"id\":\"1823\"}},\"id\":\"1501\",\"type\":\"ColumnDataSource\"},{\"attributes\":{},\"id\":\"1817\",\"type\":\"BasicTickFormatter\"},{\"attributes\":{\"mantissas\":[1,2,5],\"max_interval\":500.0,\"num_minor_ticks\":0},\"id\":\"1873\",\"type\":\"AdaptiveTicker\"},{\"attributes\":{},\"id\":\"1818\",\"type\":\"AllLabels\"},{\"attributes\":{\"base\":60,\"mantissas\":[1,2,5,10,15,20,30],\"max_interval\":1800000.0,\"min_interval\":1000.0,\"num_minor_ticks\":0},\"id\":\"1874\",\"type\":\"AdaptiveTicker\"},{\"attributes\":{\"base\":24,\"mantissas\":[1,2,4,6,8,12],\"max_interval\":43200000.0,\"min_interval\":3600000.0,\"num_minor_ticks\":0},\"id\":\"1875\",\"type\":\"AdaptiveTicker\"},{\"attributes\":{},\"id\":\"1884\",\"type\":\"YearsTicker\"},{\"attributes\":{\"months\":[0,1,2,3,4,5,6,7,8,9,10,11]},\"id\":\"1880\",\"type\":\"MonthsTicker\"},{\"attributes\":{},\"id\":\"1820\",\"type\":\"AllLabels\"},{\"attributes\":{\"days\":[1,15]},\"id\":\"1879\",\"type\":\"DaysTicker\"},{\"attributes\":{},\"id\":\"1822\",\"type\":\"AllLabels\"},{\"attributes\":{\"days\":[1,2,3,4,5,6,7,8,9,10,11,12,13,14,15,16,17,18,19,20,21,22,23,24,25,26,27,28,29,30,31]},\"id\":\"1876\",\"type\":\"DaysTicker\"},{\"attributes\":{\"days\":[1,4,7,10,13,16,19,22,25,28]},\"id\":\"1877\",\"type\":\"DaysTicker\"},{\"attributes\":{\"days\":[1,8,15,22]},\"id\":\"1878\",\"type\":\"DaysTicker\"},{\"attributes\":{\"months\":[0,6]},\"id\":\"1883\",\"type\":\"MonthsTicker\"},{\"attributes\":{\"months\":[0,2,4,6,8,10]},\"id\":\"1881\",\"type\":\"MonthsTicker\"},{\"attributes\":{\"months\":[0,4,8]},\"id\":\"1882\",\"type\":\"MonthsTicker\"},{\"attributes\":{\"data\":{\"AppResourceProvider\":[\"Exchange\"],\"IPAddress\":[\"52.96.203.93\"],\"Operation\":[\"MailItemsAccessed\"],\"TimeGenerated\":{\"__ndarray__\":\"AIAZixYCeEI=\",\"dtype\":\"float64\",\"order\":\"little\",\"shape\":[1]},\"index\":[453],\"y_index\":[17]},\"selected\":{\"id\":\"1858\"},\"selection_policy\":{\"id\":\"1857\"}},\"id\":\"1518\",\"type\":\"ColumnDataSource\"},{\"attributes\":{},\"id\":\"1823\",\"type\":\"UnionRenderers\"},{\"attributes\":{},\"id\":\"1824\",\"type\":\"Selection\"},{\"attributes\":{},\"id\":\"1825\",\"type\":\"UnionRenderers\"},{\"attributes\":{},\"id\":\"1826\",\"type\":\"Selection\"},{\"attributes\":{\"fill_alpha\":{\"value\":0.1},\"fill_color\":{\"value\":\"#3B518A\"},\"hatch_alpha\":{\"value\":0.1},\"hatch_color\":{\"value\":\"#3B518A\"},\"line_alpha\":{\"value\":0.1},\"line_color\":{\"value\":\"#3B518A\"},\"marker\":{\"value\":\"diamond\"},\"size\":{\"value\":10},\"x\":{\"field\":\"TimeGenerated\"},\"y\":{\"field\":\"y_index\"}},\"id\":\"1723\",\"type\":\"Scatter\"},{\"attributes\":{\"coordinates\":null,\"data_source\":{\"id\":\"1508\"},\"glyph\":{\"id\":\"1614\"},\"group\":null,\"hover_glyph\":null,\"muted_glyph\":{\"id\":\"1616\"},\"nonselection_glyph\":{\"id\":\"1615\"},\"view\":{\"id\":\"1618\"}},\"id\":\"1617\",\"type\":\"GlyphRenderer\"},{\"attributes\":{\"coordinates\":null,\"data_source\":{\"id\":\"1507\"},\"glyph\":{\"id\":\"1608\"},\"group\":null,\"hover_glyph\":null,\"muted_glyph\":{\"id\":\"1610\"},\"nonselection_glyph\":{\"id\":\"1609\"},\"view\":{\"id\":\"1612\"}},\"id\":\"1611\",\"type\":\"GlyphRenderer\"},{\"attributes\":{\"label\":{\"value\":\"52.96.203.21\"},\"renderers\":[{\"id\":\"1802\"}]},\"id\":\"1804\",\"type\":\"LegendItem\"},{\"attributes\":{\"fill_alpha\":{\"value\":0.2},\"fill_color\":{\"value\":\"#3B518A\"},\"hatch_alpha\":{\"value\":0.2},\"hatch_color\":{\"value\":\"#3B518A\"},\"line_alpha\":{\"value\":0.2},\"line_color\":{\"value\":\"#3B518A\"},\"marker\":{\"value\":\"diamond\"},\"size\":{\"value\":10},\"x\":{\"field\":\"TimeGenerated\"},\"y\":{\"field\":\"y_index\"}},\"id\":\"1724\",\"type\":\"Scatter\"},{\"attributes\":{\"coordinates\":null,\"data_source\":{\"id\":\"1506\"},\"glyph\":{\"id\":\"1722\"},\"group\":null,\"hover_glyph\":null,\"muted_glyph\":{\"id\":\"1724\"},\"nonselection_glyph\":{\"id\":\"1723\"},\"view\":{\"id\":\"1726\"}},\"id\":\"1725\",\"type\":\"GlyphRenderer\"},{\"attributes\":{\"fill_alpha\":{\"value\":0.5},\"fill_color\":{\"value\":\"#345E8D\"},\"hatch_alpha\":{\"value\":0.5},\"hatch_color\":{\"value\":\"#345E8D\"},\"line_alpha\":{\"value\":0.5},\"line_color\":{\"value\":\"#345E8D\"},\"marker\":{\"value\":\"diamond\"},\"size\":{\"value\":10},\"x\":{\"field\":\"TimeGenerated\"},\"y\":{\"field\":\"y_index\"}},\"id\":\"1729\",\"type\":\"Scatter\"},{\"attributes\":{\"fill_color\":{\"value\":\"#440154\"},\"hatch_color\":{\"value\":\"#440154\"},\"line_color\":{\"value\":\"#440154\"},\"x\":{\"field\":\"TimeGenerated\"},\"y\":{\"field\":\"y_index\"}},\"id\":\"1572\",\"type\":\"Circle\"},{\"attributes\":{\"label\":{\"value\":\"20.37.213.236:63603\"},\"renderers\":[{\"id\":\"1725\"}]},\"id\":\"1727\",\"type\":\"LegendItem\"},{\"attributes\":{\"source\":{\"id\":\"1506\"}},\"id\":\"1726\",\"type\":\"CDSView\"},{\"attributes\":{\"callback\":null,\"tooltips\":[[\"AppResourceProvider\",\"@AppResourceProvider\"],[\"Operation\",\"@Operation\"],[\"TimeGenerated\",\"@TimeGenerated\"],[\"IPAddress\",\"@IPAddress\"]]},\"id\":\"1519\",\"type\":\"HoverTool\"},{\"attributes\":{\"fill_color\":{\"value\":\"#25838D\"},\"hatch_color\":{\"value\":\"#25838D\"},\"line_color\":{\"value\":\"#25838D\"},\"x\":{\"field\":\"TimeGenerated\"},\"y\":{\"field\":\"y_index\"}},\"id\":\"1626\",\"type\":\"Circle\"},{\"attributes\":{\"fill_alpha\":{\"value\":0.1},\"fill_color\":{\"value\":\"#345E8D\"},\"hatch_alpha\":{\"value\":0.1},\"hatch_color\":{\"value\":\"#345E8D\"},\"line_alpha\":{\"value\":0.1},\"line_color\":{\"value\":\"#345E8D\"},\"marker\":{\"value\":\"diamond\"},\"size\":{\"value\":10},\"x\":{\"field\":\"TimeGenerated\"},\"y\":{\"field\":\"y_index\"}},\"id\":\"1730\",\"type\":\"Scatter\"},{\"attributes\":{\"coordinates\":null,\"data_source\":{\"id\":\"1517\"},\"glyph\":{\"id\":\"1799\"},\"group\":null,\"hover_glyph\":null,\"muted_glyph\":{\"id\":\"1801\"},\"nonselection_glyph\":{\"id\":\"1800\"},\"view\":{\"id\":\"1803\"}},\"id\":\"1802\",\"type\":\"GlyphRenderer\"},{\"attributes\":{\"fill_alpha\":{\"value\":0.1},\"fill_color\":{\"value\":\"#404387\"},\"hatch_alpha\":{\"value\":0.1},\"hatch_color\":{\"value\":\"#404387\"},\"line_alpha\":{\"value\":0.1},\"line_color\":{\"value\":\"#404387\"},\"x\":{\"field\":\"TimeGenerated\"},\"y\":{\"field\":\"y_index\"}},\"id\":\"1597\",\"type\":\"Circle\"},{\"attributes\":{\"fill_alpha\":{\"value\":0.2},\"fill_color\":{\"value\":\"#345E8D\"},\"hatch_alpha\":{\"value\":0.2},\"hatch_color\":{\"value\":\"#345E8D\"},\"line_alpha\":{\"value\":0.2},\"line_color\":{\"value\":\"#345E8D\"},\"marker\":{\"value\":\"diamond\"},\"size\":{\"value\":10},\"x\":{\"field\":\"TimeGenerated\"},\"y\":{\"field\":\"y_index\"}},\"id\":\"1731\",\"type\":\"Scatter\"},{\"attributes\":{},\"id\":\"1827\",\"type\":\"UnionRenderers\"},{\"attributes\":{\"source\":{\"id\":\"1503\"}},\"id\":\"1588\",\"type\":\"CDSView\"},{\"attributes\":{\"coordinates\":null,\"data_source\":{\"id\":\"1507\"},\"glyph\":{\"id\":\"1729\"},\"group\":null,\"hover_glyph\":null,\"muted_glyph\":{\"id\":\"1731\"},\"nonselection_glyph\":{\"id\":\"1730\"},\"view\":{\"id\":\"1733\"}},\"id\":\"1732\",\"type\":\"GlyphRenderer\"},{\"attributes\":{},\"id\":\"1828\",\"type\":\"Selection\"},{\"attributes\":{\"fill_alpha\":{\"value\":0.5},\"fill_color\":{\"value\":\"#2E6B8E\"},\"hatch_alpha\":{\"value\":0.5},\"hatch_color\":{\"value\":\"#2E6B8E\"},\"line_alpha\":{\"value\":0.5},\"line_color\":{\"value\":\"#2E6B8E\"},\"marker\":{\"value\":\"diamond\"},\"size\":{\"value\":10},\"x\":{\"field\":\"TimeGenerated\"},\"y\":{\"field\":\"y_index\"}},\"id\":\"1736\",\"type\":\"Scatter\"},{\"attributes\":{\"label\":{\"value\":\"20.37.253.233\"},\"renderers\":[{\"id\":\"1732\"}]},\"id\":\"1734\",\"type\":\"LegendItem\"},{\"attributes\":{\"coordinates\":null,\"data_source\":{\"id\":\"1501\"},\"glyph\":{\"id\":\"1572\"},\"group\":null,\"hover_glyph\":null,\"muted_glyph\":{\"id\":\"1574\"},\"nonselection_glyph\":{\"id\":\"1573\"},\"view\":{\"id\":\"1576\"}},\"id\":\"1575\",\"type\":\"GlyphRenderer\"},{\"attributes\":{\"source\":{\"id\":\"1507\"}},\"id\":\"1733\",\"type\":\"CDSView\"},{\"attributes\":{\"source\":{\"id\":\"1501\"}},\"id\":\"1576\",\"type\":\"CDSView\"},{\"attributes\":{\"fill_alpha\":{\"value\":0.1},\"fill_color\":{\"value\":\"#2E6B8E\"},\"hatch_alpha\":{\"value\":0.1},\"hatch_color\":{\"value\":\"#2E6B8E\"},\"line_alpha\":{\"value\":0.1},\"line_color\":{\"value\":\"#2E6B8E\"},\"marker\":{\"value\":\"diamond\"},\"size\":{\"value\":10},\"x\":{\"field\":\"TimeGenerated\"},\"y\":{\"field\":\"y_index\"}},\"id\":\"1737\",\"type\":\"Scatter\"},{\"attributes\":{\"num_minor_ticks\":5,\"tickers\":[{\"id\":\"1873\"},{\"id\":\"1874\"},{\"id\":\"1875\"},{\"id\":\"1876\"},{\"id\":\"1877\"},{\"id\":\"1878\"},{\"id\":\"1879\"},{\"id\":\"1880\"},{\"id\":\"1881\"},{\"id\":\"1882\"},{\"id\":\"1883\"},{\"id\":\"1884\"}]},\"id\":\"1564\",\"type\":\"DatetimeTicker\"},{\"attributes\":{\"axis\":{\"id\":\"1563\"},\"coordinates\":null,\"group\":null,\"ticker\":null},\"id\":\"1566\",\"type\":\"Grid\"},{\"attributes\":{\"fill_alpha\":{\"value\":0.2},\"fill_color\":{\"value\":\"#2E6B8E\"},\"hatch_alpha\":{\"value\":0.2},\"hatch_color\":{\"value\":\"#2E6B8E\"},\"line_alpha\":{\"value\":0.2},\"line_color\":{\"value\":\"#2E6B8E\"},\"marker\":{\"value\":\"diamond\"},\"size\":{\"value\":10},\"x\":{\"field\":\"TimeGenerated\"},\"y\":{\"field\":\"y_index\"}},\"id\":\"1738\",\"type\":\"Scatter\"},{\"attributes\":{\"fill_alpha\":{\"value\":0.5},\"fill_color\":{\"value\":\"#97D83E\"},\"hatch_alpha\":{\"value\":0.5},\"hatch_color\":{\"value\":\"#97D83E\"},\"line_alpha\":{\"value\":0.5},\"line_color\":{\"value\":\"#97D83E\"},\"marker\":{\"value\":\"diamond\"},\"size\":{\"value\":10},\"x\":{\"field\":\"TimeGenerated\"},\"y\":{\"field\":\"y_index\"}},\"id\":\"1806\",\"type\":\"Scatter\"},{\"attributes\":{\"coordinates\":null,\"data_source\":{\"id\":\"1508\"},\"glyph\":{\"id\":\"1736\"},\"group\":null,\"hover_glyph\":null,\"muted_glyph\":{\"id\":\"1738\"},\"nonselection_glyph\":{\"id\":\"1737\"},\"view\":{\"id\":\"1740\"}},\"id\":\"1739\",\"type\":\"GlyphRenderer\"},{\"attributes\":{\"fill_alpha\":{\"value\":0.1},\"fill_color\":{\"value\":\"#29788E\"},\"hatch_alpha\":{\"value\":0.1},\"hatch_color\":{\"value\":\"#29788E\"},\"line_alpha\":{\"value\":0.1},\"line_color\":{\"value\":\"#29788E\"},\"marker\":{\"value\":\"diamond\"},\"size\":{\"value\":10},\"x\":{\"field\":\"TimeGenerated\"},\"y\":{\"field\":\"y_index\"}},\"id\":\"1744\",\"type\":\"Scatter\"},{\"attributes\":{\"label\":{\"value\":\"20.37.255.76\"},\"renderers\":[{\"id\":\"1739\"}]},\"id\":\"1741\",\"type\":\"LegendItem\"},{\"attributes\":{\"fill_color\":{\"value\":\"#471265\"},\"hatch_color\":{\"value\":\"#471265\"},\"line_color\":{\"value\":\"#471265\"},\"x\":{\"field\":\"TimeGenerated\"},\"y\":{\"field\":\"y_index\"}},\"id\":\"1578\",\"type\":\"Circle\"},{\"attributes\":{\"fill_alpha\":{\"value\":0.5},\"fill_color\":{\"value\":\"#29788E\"},\"hatch_alpha\":{\"value\":0.5},\"hatch_color\":{\"value\":\"#29788E\"},\"line_alpha\":{\"value\":0.5},\"line_color\":{\"value\":\"#29788E\"},\"marker\":{\"value\":\"diamond\"},\"size\":{\"value\":10},\"x\":{\"field\":\"TimeGenerated\"},\"y\":{\"field\":\"y_index\"}},\"id\":\"1743\",\"type\":\"Scatter\"},{\"attributes\":{\"source\":{\"id\":\"1508\"}},\"id\":\"1740\",\"type\":\"CDSView\"},{\"attributes\":{\"fill_alpha\":{\"value\":0.2},\"fill_color\":{\"value\":\"#404387\"},\"hatch_alpha\":{\"value\":0.2},\"hatch_color\":{\"value\":\"#404387\"},\"line_alpha\":{\"value\":0.2},\"line_color\":{\"value\":\"#404387\"},\"x\":{\"field\":\"TimeGenerated\"},\"y\":{\"field\":\"y_index\"}},\"id\":\"1598\",\"type\":\"Circle\"},{\"attributes\":{\"coordinates\":null,\"data_source\":{\"id\":\"1505\"},\"glyph\":{\"id\":\"1715\"},\"group\":null,\"hover_glyph\":null,\"muted_glyph\":{\"id\":\"1717\"},\"nonselection_glyph\":{\"id\":\"1716\"},\"view\":{\"id\":\"1719\"}},\"id\":\"1718\",\"type\":\"GlyphRenderer\"},{\"attributes\":{\"fill_alpha\":{\"value\":0.1},\"fill_color\":{\"value\":\"#79D151\"},\"hatch_alpha\":{\"value\":0.1},\"hatch_color\":{\"value\":\"#79D151\"},\"line_alpha\":{\"value\":0.1},\"line_color\":{\"value\":\"#79D151\"},\"marker\":{\"value\":\"diamond\"},\"size\":{\"value\":10},\"x\":{\"field\":\"TimeGenerated\"},\"y\":{\"field\":\"y_index\"}},\"id\":\"1800\",\"type\":\"Scatter\"},{\"attributes\":{\"source\":{\"id\":\"1510\"}},\"id\":\"1630\",\"type\":\"CDSView\"},{\"attributes\":{\"source\":{\"id\":\"1516\"}},\"id\":\"1796\",\"type\":\"CDSView\"},{\"attributes\":{\"fill_color\":{\"value\":\"#3B518A\"},\"hatch_color\":{\"value\":\"#3B518A\"},\"line_color\":{\"value\":\"#3B518A\"},\"x\":{\"field\":\"TimeGenerated\"},\"y\":{\"field\":\"y_index\"}},\"id\":\"1602\",\"type\":\"Circle\"},{\"attributes\":{\"fill_alpha\":{\"value\":0.5},\"fill_color\":{\"value\":\"#3B518A\"},\"hatch_alpha\":{\"value\":0.5},\"hatch_color\":{\"value\":\"#3B518A\"},\"line_alpha\":{\"value\":0.5},\"line_color\":{\"value\":\"#3B518A\"},\"marker\":{\"value\":\"diamond\"},\"size\":{\"value\":10},\"x\":{\"field\":\"TimeGenerated\"},\"y\":{\"field\":\"y_index\"}},\"id\":\"1722\",\"type\":\"Scatter\"},{\"attributes\":{\"fill_alpha\":{\"value\":0.2},\"fill_color\":{\"value\":\"#29788E\"},\"hatch_alpha\":{\"value\":0.2},\"hatch_color\":{\"value\":\"#29788E\"},\"line_alpha\":{\"value\":0.2},\"line_color\":{\"value\":\"#29788E\"},\"marker\":{\"value\":\"diamond\"},\"size\":{\"value\":10},\"x\":{\"field\":\"TimeGenerated\"},\"y\":{\"field\":\"y_index\"}},\"id\":\"1745\",\"type\":\"Scatter\"},{\"attributes\":{},\"id\":\"1829\",\"type\":\"UnionRenderers\"},{\"attributes\":{\"data\":{\"AppResourceProvider\":[\"CAttack\",\"CAttack\",\"CAttack\",\"CAttack\",\"CAttack\",\"CAttack\",\"CAttack\",\"CAttack\",\"CAttack\",\"CAttack\",\"CAttack\",\"CAttack\",\"CAttack\",\"CAttack\",\"CAttack\",\"CAttack\",\"CAttack\",\"CAttack\",\"CAttack\",\"CAttack\",\"CAttack\",\"CAttack\",\"CAttack\",\"CAttack\",\"CAttack\",\"CAttack\",\"CAttack\",\"CAttack\",\"CAttack\",\"CAttack\",\"CAttack\",\"CAttack\",\"CAttack\",\"CAttack\",\"CAttack\",\"CAttack\",\"CAttack\",\"CAttack\",\"CAttack\",\"CAttack\",\"CAttack\",\"Office 365 Exchange Online\",\"CAttack\",\"CAttack\",\"CAttack\",\"CAttack\",\"CAttack\",\"CAttack\",\"CAttack\",\"CAttack\"],\"IPAddress\":[\"20.37.213.236\",\"20.37.213.236\",\"20.37.213.236\",\"20.37.213.236\",\"20.37.213.236\",\"20.37.213.236\",\"20.37.213.236\",\"20.37.213.236\",\"20.37.213.236\",\"20.37.213.236\",\"20.37.213.236\",\"20.37.213.236\",\"20.37.213.236\",\"20.37.213.236\",\"20.37.213.236\",\"20.37.213.236\",\"20.37.213.236\",\"20.37.213.236\",\"20.37.213.236\",\"20.37.213.236\",\"20.37.213.236\",\"20.37.213.236\",\"20.37.213.236\",\"20.37.213.236\",\"20.37.213.236\",\"20.37.213.236\",\"20.37.213.236\",\"20.37.213.236\",\"20.37.213.236\",\"20.37.213.236\",\"20.37.213.236\",\"20.37.213.236\",\"20.37.213.236\",\"20.37.213.236\",\"20.37.213.236\",\"20.37.213.236\",\"20.37.213.236\",\"20.37.213.236\",\"20.37.213.236\",\"20.37.213.236\",\"20.37.213.236\",\"20.37.213.236\",\"20.37.213.236\",\"20.37.213.236\",\"20.37.213.236\",\"20.37.213.236\",\"20.37.213.236\",\"20.37.213.236\",\"20.37.213.236\",\"20.37.213.236\"],\"Operation\":[\"Sign-in activity\",\"Sign-in activity\",\"Sign-in activity\",\"Sign-in activity\",\"Sign-in activity\",\"Sign-in activity\",\"Sign-in activity\",\"Sign-in activity\",\"Sign-in activity\",\"Sign-in activity\",\"Sign-in activity\",\"Sign-in activity\",\"Sign-in activity\",\"Sign-in activity\",\"Sign-in activity\",\"Sign-in activity\",\"Sign-in activity\",\"Sign-in activity\",\"Sign-in activity\",\"Sign-in activity\",\"Sign-in activity\",\"Sign-in activity\",\"Sign-in activity\",\"Sign-in activity\",\"Sign-in activity\",\"Sign-in activity\",\"Sign-in activity\",\"Sign-in activity\",\"Sign-in activity\",\"Sign-in activity\",\"Sign-in activity\",\"Sign-in activity\",\"Sign-in activity\",\"Sign-in activity\",\"Sign-in activity\",\"Sign-in activity\",\"Sign-in activity\",\"Sign-in activity\",\"Sign-in activity\",\"Sign-in activity\",\"Sign-in activity\",\"Sign-in activity\",\"Sign-in activity\",\"Sign-in activity\",\"Sign-in activity\",\"Sign-in activity\",\"Sign-in activity\",\"Sign-in activity\",\"Sign-in activity\",\"Sign-in activity\"],\"TimeGenerated\":{\"__ndarray__\":\"ALDn/5wBeEIAQHalpQF4QgBQ2SqmAXhCAGALvaYBeEIAkLZ6pwF4QgCwMn2rAXhCAIDwqKsBeEIAcPqisAF4QgBgzsuwAXhCAJBMUbMBeEIAQECptwF4QgAww/K4AXhCAIDQ7rwBeEIA0J32vQF4QgDACVPDAXhCANBlLsYBeEIAMNgLxwF4QgAQUpvRAXhCAOAgKNMBeEIAAJzC2wF4QgCgLH/gAXhCANCCgOABeEIAIHlp7AF4QgCgWYvsAXhCAHC1/O0BeEIA8JlI8QF4QgAgpG30AXhCAEBGSvYBeEIAQFJI/wF4QgDApW0AAnhCAEBYUQICeEIA8JRbAwJ4QgBwilwDAnhCAFC1fQMCeEIAgEE1BQJ4QgBQnzYFAnhCAEAntgUCeEIAoGCxDQJ4QgDgyQYVAnhCAPCyyRsCeEIAEFPYHQJ4QgAwc9odAnhCAPAWwx4CeEIAgAK8HwJ4QgAgwk8tAnhCAIAr4C0CeEIAMP8yMAJ4QgCw3WA0AnhCAPBHgDQCeEIAEIj2NgJ4Qg==\",\"dtype\":\"float64\",\"order\":\"little\",\"shape\":[50]},\"index\":[232,227,228,116,117,119,120,131,139,161,175,176,162,173,187,166,168,196,194,209,204,205,8,9,1,12,7,20,47,40,43,21,18,24,64,63,37,59,103,78,113,111,104,114,265,266,255,267,268,270],\"y_index\":[4,4,4,4,4,4,4,4,4,4,4,4,4,4,4,4,4,4,4,4,4,4,4,4,4,4,4,4,4,4,4,4,4,4,4,4,4,4,4,4,4,4,4,4,4,4,4,4,4,4]},\"selected\":{\"id\":\"1832\"},\"selection_policy\":{\"id\":\"1831\"}},\"id\":\"1505\",\"type\":\"ColumnDataSource\"},{\"attributes\":{\"fill_alpha\":{\"value\":0.2},\"fill_color\":{\"value\":\"#79D151\"},\"hatch_alpha\":{\"value\":0.2},\"hatch_color\":{\"value\":\"#79D151\"},\"line_alpha\":{\"value\":0.2},\"line_color\":{\"value\":\"#79D151\"},\"marker\":{\"value\":\"diamond\"},\"size\":{\"value\":10},\"x\":{\"field\":\"TimeGenerated\"},\"y\":{\"field\":\"y_index\"}},\"id\":\"1801\",\"type\":\"Scatter\"},{\"attributes\":{\"fill_alpha\":{\"value\":0.1},\"fill_color\":{\"value\":\"#471265\"},\"hatch_alpha\":{\"value\":0.1},\"hatch_color\":{\"value\":\"#471265\"},\"line_alpha\":{\"value\":0.1},\"line_color\":{\"value\":\"#471265\"},\"x\":{\"field\":\"TimeGenerated\"},\"y\":{\"field\":\"y_index\"}},\"id\":\"1579\",\"type\":\"Circle\"},{\"attributes\":{},\"id\":\"1830\",\"type\":\"Selection\"},{\"attributes\":{\"coordinates\":null,\"data_source\":{\"id\":\"1509\"},\"glyph\":{\"id\":\"1743\"},\"group\":null,\"hover_glyph\":null,\"muted_glyph\":{\"id\":\"1745\"},\"nonselection_glyph\":{\"id\":\"1744\"},\"view\":{\"id\":\"1747\"}},\"id\":\"1746\",\"type\":\"GlyphRenderer\"},{\"attributes\":{\"label\":{\"value\":\"20.37.213.236\"},\"renderers\":[{\"id\":\"1718\"}]},\"id\":\"1720\",\"type\":\"LegendItem\"},{\"attributes\":{\"fill_alpha\":{\"value\":0.1},\"fill_color\":{\"value\":\"#25838D\"},\"hatch_alpha\":{\"value\":0.1},\"hatch_color\":{\"value\":\"#25838D\"},\"line_alpha\":{\"value\":0.1},\"line_color\":{\"value\":\"#25838D\"},\"marker\":{\"value\":\"diamond\"},\"size\":{\"value\":10},\"x\":{\"field\":\"TimeGenerated\"},\"y\":{\"field\":\"y_index\"}},\"id\":\"1751\",\"type\":\"Scatter\"},{\"attributes\":{\"coordinates\":null,\"data_source\":{\"id\":\"1505\"},\"glyph\":{\"id\":\"1596\"},\"group\":null,\"hover_glyph\":null,\"muted_glyph\":{\"id\":\"1598\"},\"nonselection_glyph\":{\"id\":\"1597\"},\"view\":{\"id\":\"1600\"}},\"id\":\"1599\",\"type\":\"GlyphRenderer\"},{\"attributes\":{\"label\":{\"value\":\"20.53.9.84\"},\"renderers\":[{\"id\":\"1746\"}]},\"id\":\"1748\",\"type\":\"LegendItem\"},{\"attributes\":{\"source\":{\"id\":\"1508\"}},\"id\":\"1618\",\"type\":\"CDSView\"},{\"attributes\":{\"source\":{\"id\":\"1509\"}},\"id\":\"1747\",\"type\":\"CDSView\"},{\"attributes\":{\"fill_alpha\":{\"value\":0.5},\"fill_color\":{\"value\":\"#79D151\"},\"hatch_alpha\":{\"value\":0.5},\"hatch_color\":{\"value\":\"#79D151\"},\"line_alpha\":{\"value\":0.5},\"line_color\":{\"value\":\"#79D151\"},\"marker\":{\"value\":\"diamond\"},\"size\":{\"value\":10},\"x\":{\"field\":\"TimeGenerated\"},\"y\":{\"field\":\"y_index\"}},\"id\":\"1799\",\"type\":\"Scatter\"},{\"attributes\":{\"fill_alpha\":{\"value\":0.5},\"fill_color\":{\"value\":\"#25838D\"},\"hatch_alpha\":{\"value\":0.5},\"hatch_color\":{\"value\":\"#25838D\"},\"line_alpha\":{\"value\":0.5},\"line_color\":{\"value\":\"#25838D\"},\"marker\":{\"value\":\"diamond\"},\"size\":{\"value\":10},\"x\":{\"field\":\"TimeGenerated\"},\"y\":{\"field\":\"y_index\"}},\"id\":\"1750\",\"type\":\"Scatter\"},{\"attributes\":{\"source\":{\"id\":\"1509\"}},\"id\":\"1624\",\"type\":\"CDSView\"},{\"attributes\":{\"source\":{\"id\":\"1505\"}},\"id\":\"1600\",\"type\":\"CDSView\"},{\"attributes\":{\"coordinates\":null,\"data_source\":{\"id\":\"1504\"},\"glyph\":{\"id\":\"1590\"},\"group\":null,\"hover_glyph\":null,\"muted_glyph\":{\"id\":\"1592\"},\"nonselection_glyph\":{\"id\":\"1591\"},\"view\":{\"id\":\"1594\"}},\"id\":\"1593\",\"type\":\"GlyphRenderer\"},{\"attributes\":{\"fill_alpha\":{\"value\":0.2},\"fill_color\":{\"value\":\"#25838D\"},\"hatch_alpha\":{\"value\":0.2},\"hatch_color\":{\"value\":\"#25838D\"},\"line_alpha\":{\"value\":0.2},\"line_color\":{\"value\":\"#25838D\"},\"marker\":{\"value\":\"diamond\"},\"size\":{\"value\":10},\"x\":{\"field\":\"TimeGenerated\"},\"y\":{\"field\":\"y_index\"}},\"id\":\"1752\",\"type\":\"Scatter\"},{\"attributes\":{\"fill_alpha\":{\"value\":0.2},\"fill_color\":{\"value\":\"#345E8D\"},\"hatch_alpha\":{\"value\":0.2},\"hatch_color\":{\"value\":\"#345E8D\"},\"line_alpha\":{\"value\":0.2},\"line_color\":{\"value\":\"#345E8D\"},\"x\":{\"field\":\"TimeGenerated\"},\"y\":{\"field\":\"y_index\"}},\"id\":\"1610\",\"type\":\"Circle\"},{\"attributes\":{\"coordinates\":null,\"data_source\":{\"id\":\"1516\"},\"glyph\":{\"id\":\"1792\"},\"group\":null,\"hover_glyph\":null,\"muted_glyph\":{\"id\":\"1794\"},\"nonselection_glyph\":{\"id\":\"1793\"},\"view\":{\"id\":\"1796\"}},\"id\":\"1795\",\"type\":\"GlyphRenderer\"},{\"attributes\":{\"coordinates\":null,\"data_source\":{\"id\":\"1503\"},\"glyph\":{\"id\":\"1584\"},\"group\":null,\"hover_glyph\":null,\"muted_glyph\":{\"id\":\"1586\"},\"nonselection_glyph\":{\"id\":\"1585\"},\"view\":{\"id\":\"1588\"}},\"id\":\"1587\",\"type\":\"GlyphRenderer\"},{\"attributes\":{\"coordinates\":null,\"data_source\":{\"id\":\"1510\"},\"glyph\":{\"id\":\"1750\"},\"group\":null,\"hover_glyph\":null,\"muted_glyph\":{\"id\":\"1752\"},\"nonselection_glyph\":{\"id\":\"1751\"},\"view\":{\"id\":\"1754\"}},\"id\":\"1753\",\"type\":\"GlyphRenderer\"},{\"attributes\":{\"fill_alpha\":{\"value\":0.2},\"fill_color\":{\"value\":\"#29788E\"},\"hatch_alpha\":{\"value\":0.2},\"hatch_color\":{\"value\":\"#29788E\"},\"line_alpha\":{\"value\":0.2},\"line_color\":{\"value\":\"#29788E\"},\"x\":{\"field\":\"TimeGenerated\"},\"y\":{\"field\":\"y_index\"}},\"id\":\"1622\",\"type\":\"Circle\"},{\"attributes\":{\"fill_alpha\":{\"value\":0.1},\"fill_color\":{\"value\":\"#208F8C\"},\"hatch_alpha\":{\"value\":0.1},\"hatch_color\":{\"value\":\"#208F8C\"},\"line_alpha\":{\"value\":0.1},\"line_color\":{\"value\":\"#208F8C\"},\"marker\":{\"value\":\"diamond\"},\"size\":{\"value\":10},\"x\":{\"field\":\"TimeGenerated\"},\"y\":{\"field\":\"y_index\"}},\"id\":\"1758\",\"type\":\"Scatter\"},{\"attributes\":{\"fill_alpha\":{\"value\":0.2},\"fill_color\":{\"value\":\"#440154\"},\"hatch_alpha\":{\"value\":0.2},\"hatch_color\":{\"value\":\"#440154\"},\"line_alpha\":{\"value\":0.2},\"line_color\":{\"value\":\"#440154\"},\"x\":{\"field\":\"TimeGenerated\"},\"y\":{\"field\":\"y_index\"}},\"id\":\"1574\",\"type\":\"Circle\"},{\"attributes\":{\"label\":{\"value\":\"20.70.208.63\"},\"renderers\":[{\"id\":\"1753\"}]},\"id\":\"1755\",\"type\":\"LegendItem\"},{\"attributes\":{\"fill_alpha\":{\"value\":0.2},\"fill_color\":{\"value\":\"#25838D\"},\"hatch_alpha\":{\"value\":0.2},\"hatch_color\":{\"value\":\"#25838D\"},\"line_alpha\":{\"value\":0.2},\"line_color\":{\"value\":\"#25838D\"},\"x\":{\"field\":\"TimeGenerated\"},\"y\":{\"field\":\"y_index\"}},\"id\":\"1628\",\"type\":\"Circle\"},{\"attributes\":{\"coordinates\":null,\"data_source\":{\"id\":\"1502\"},\"glyph\":{\"id\":\"1578\"},\"group\":null,\"hover_glyph\":null,\"muted_glyph\":{\"id\":\"1580\"},\"nonselection_glyph\":{\"id\":\"1579\"},\"view\":{\"id\":\"1582\"}},\"id\":\"1581\",\"type\":\"GlyphRenderer\"},{\"attributes\":{\"source\":{\"id\":\"1510\"}},\"id\":\"1754\",\"type\":\"CDSView\"},{\"attributes\":{\"fill_alpha\":{\"value\":0.5},\"fill_color\":{\"value\":\"#208F8C\"},\"hatch_alpha\":{\"value\":0.5},\"hatch_color\":{\"value\":\"#208F8C\"},\"line_alpha\":{\"value\":0.5},\"line_color\":{\"value\":\"#208F8C\"},\"marker\":{\"value\":\"diamond\"},\"size\":{\"value\":10},\"x\":{\"field\":\"TimeGenerated\"},\"y\":{\"field\":\"y_index\"}},\"id\":\"1757\",\"type\":\"Scatter\"},{\"attributes\":{\"fill_alpha\":{\"value\":0.1},\"fill_color\":{\"value\":\"#482374\"},\"hatch_alpha\":{\"value\":0.1},\"hatch_color\":{\"value\":\"#482374\"},\"line_alpha\":{\"value\":0.1},\"line_color\":{\"value\":\"#482374\"},\"x\":{\"field\":\"TimeGenerated\"},\"y\":{\"field\":\"y_index\"}},\"id\":\"1585\",\"type\":\"Circle\"},{\"attributes\":{\"fill_alpha\":{\"value\":0.1},\"fill_color\":{\"value\":\"#345E8D\"},\"hatch_alpha\":{\"value\":0.1},\"hatch_color\":{\"value\":\"#345E8D\"},\"line_alpha\":{\"value\":0.1},\"line_color\":{\"value\":\"#345E8D\"},\"x\":{\"field\":\"TimeGenerated\"},\"y\":{\"field\":\"y_index\"}},\"id\":\"1609\",\"type\":\"Circle\"},{\"attributes\":{\"fill_alpha\":{\"value\":0.2},\"fill_color\":{\"value\":\"#208F8C\"},\"hatch_alpha\":{\"value\":0.2},\"hatch_color\":{\"value\":\"#208F8C\"},\"line_alpha\":{\"value\":0.2},\"line_color\":{\"value\":\"#208F8C\"},\"marker\":{\"value\":\"diamond\"},\"size\":{\"value\":10},\"x\":{\"field\":\"TimeGenerated\"},\"y\":{\"field\":\"y_index\"}},\"id\":\"1759\",\"type\":\"Scatter\"},{\"attributes\":{\"label\":{\"value\":\"2603:10b6:408:16a::13\"},\"renderers\":[{\"id\":\"1795\"}]},\"id\":\"1797\",\"type\":\"LegendItem\"},{\"attributes\":{\"fill_alpha\":{\"value\":0.2},\"fill_color\":{\"value\":\"#471265\"},\"hatch_alpha\":{\"value\":0.2},\"hatch_color\":{\"value\":\"#471265\"},\"line_alpha\":{\"value\":0.2},\"line_color\":{\"value\":\"#471265\"},\"x\":{\"field\":\"TimeGenerated\"},\"y\":{\"field\":\"y_index\"}},\"id\":\"1580\",\"type\":\"Circle\"},{\"attributes\":{},\"id\":\"1831\",\"type\":\"UnionRenderers\"},{\"attributes\":{\"coordinates\":null,\"data_source\":{\"id\":\"1511\"},\"glyph\":{\"id\":\"1757\"},\"group\":null,\"hover_glyph\":null,\"muted_glyph\":{\"id\":\"1759\"},\"nonselection_glyph\":{\"id\":\"1758\"},\"view\":{\"id\":\"1761\"}},\"id\":\"1760\",\"type\":\"GlyphRenderer\"},{\"attributes\":{\"fill_alpha\":{\"value\":0.2},\"fill_color\":{\"value\":\"#404387\"},\"hatch_alpha\":{\"value\":0.2},\"hatch_color\":{\"value\":\"#404387\"},\"line_alpha\":{\"value\":0.2},\"line_color\":{\"value\":\"#404387\"},\"marker\":{\"value\":\"diamond\"},\"size\":{\"value\":10},\"x\":{\"field\":\"TimeGenerated\"},\"y\":{\"field\":\"y_index\"}},\"id\":\"1717\",\"type\":\"Scatter\"},{\"attributes\":{\"fill_alpha\":{\"value\":0.1},\"fill_color\":{\"value\":\"#1E9B89\"},\"hatch_alpha\":{\"value\":0.1},\"hatch_color\":{\"value\":\"#1E9B89\"},\"line_alpha\":{\"value\":0.1},\"line_color\":{\"value\":\"#1E9B89\"},\"marker\":{\"value\":\"diamond\"},\"size\":{\"value\":10},\"x\":{\"field\":\"TimeGenerated\"},\"y\":{\"field\":\"y_index\"}},\"id\":\"1765\",\"type\":\"Scatter\"},{\"attributes\":{\"fill_color\":{\"value\":\"#29788E\"},\"hatch_color\":{\"value\":\"#29788E\"},\"line_color\":{\"value\":\"#29788E\"},\"x\":{\"field\":\"TimeGenerated\"},\"y\":{\"field\":\"y_index\"}},\"id\":\"1620\",\"type\":\"Circle\"},{\"attributes\":{},\"id\":\"1832\",\"type\":\"Selection\"},{\"attributes\":{\"label\":{\"value\":\"2603:10b6:208:350::7\"},\"renderers\":[{\"id\":\"1760\"}]},\"id\":\"1762\",\"type\":\"LegendItem\"},{\"attributes\":{\"source\":{\"id\":\"1504\"}},\"id\":\"1594\",\"type\":\"CDSView\"},{\"attributes\":{\"fill_alpha\":{\"value\":0.1},\"fill_color\":{\"value\":\"#25838D\"},\"hatch_alpha\":{\"value\":0.1},\"hatch_color\":{\"value\":\"#25838D\"},\"line_alpha\":{\"value\":0.1},\"line_color\":{\"value\":\"#25838D\"},\"x\":{\"field\":\"TimeGenerated\"},\"y\":{\"field\":\"y_index\"}},\"id\":\"1627\",\"type\":\"Circle\"},{\"attributes\":{\"source\":{\"id\":\"1511\"}},\"id\":\"1761\",\"type\":\"CDSView\"},{\"attributes\":{\"fill_alpha\":{\"value\":0.1},\"fill_color\":{\"value\":\"#440154\"},\"hatch_alpha\":{\"value\":0.1},\"hatch_color\":{\"value\":\"#440154\"},\"line_alpha\":{\"value\":0.1},\"line_color\":{\"value\":\"#440154\"},\"x\":{\"field\":\"TimeGenerated\"},\"y\":{\"field\":\"y_index\"}},\"id\":\"1573\",\"type\":\"Circle\"},{\"attributes\":{\"fill_alpha\":{\"value\":0.1},\"fill_color\":{\"value\":\"#404387\"},\"hatch_alpha\":{\"value\":0.1},\"hatch_color\":{\"value\":\"#404387\"},\"line_alpha\":{\"value\":0.1},\"line_color\":{\"value\":\"#404387\"},\"marker\":{\"value\":\"diamond\"},\"size\":{\"value\":10},\"x\":{\"field\":\"TimeGenerated\"},\"y\":{\"field\":\"y_index\"}},\"id\":\"1716\",\"type\":\"Scatter\"},{\"attributes\":{\"fill_alpha\":{\"value\":0.5},\"fill_color\":{\"value\":\"#1E9B89\"},\"hatch_alpha\":{\"value\":0.5},\"hatch_color\":{\"value\":\"#1E9B89\"},\"line_alpha\":{\"value\":0.5},\"line_color\":{\"value\":\"#1E9B89\"},\"marker\":{\"value\":\"diamond\"},\"size\":{\"value\":10},\"x\":{\"field\":\"TimeGenerated\"},\"y\":{\"field\":\"y_index\"}},\"id\":\"1764\",\"type\":\"Scatter\"},{\"attributes\":{\"active_multi\":{\"id\":\"1679\"},\"tools\":[{\"id\":\"1679\"}]},\"id\":\"1567\",\"type\":\"Toolbar\"},{\"attributes\":{\"fill_alpha\":{\"value\":0.2},\"fill_color\":{\"value\":\"#5BC862\"},\"hatch_alpha\":{\"value\":0.2},\"hatch_color\":{\"value\":\"#5BC862\"},\"line_alpha\":{\"value\":0.2},\"line_color\":{\"value\":\"#5BC862\"},\"marker\":{\"value\":\"diamond\"},\"size\":{\"value\":10},\"x\":{\"field\":\"TimeGenerated\"},\"y\":{\"field\":\"y_index\"}},\"id\":\"1794\",\"type\":\"Scatter\"},{\"attributes\":{\"fill_alpha\":{\"value\":0.1},\"fill_color\":{\"value\":\"#29788E\"},\"hatch_alpha\":{\"value\":0.1},\"hatch_color\":{\"value\":\"#29788E\"},\"line_alpha\":{\"value\":0.1},\"line_color\":{\"value\":\"#29788E\"},\"x\":{\"field\":\"TimeGenerated\"},\"y\":{\"field\":\"y_index\"}},\"id\":\"1621\",\"type\":\"Circle\"},{\"attributes\":{\"fill_color\":{\"value\":\"#208F8C\"},\"hatch_color\":{\"value\":\"#208F8C\"},\"line_color\":{\"value\":\"#208F8C\"},\"x\":{\"field\":\"TimeGenerated\"},\"y\":{\"field\":\"y_index\"}},\"id\":\"1632\",\"type\":\"Circle\"},{\"attributes\":{\"fill_alpha\":{\"value\":0.2},\"fill_color\":{\"value\":\"#1E9B89\"},\"hatch_alpha\":{\"value\":0.2},\"hatch_color\":{\"value\":\"#1E9B89\"},\"line_alpha\":{\"value\":0.2},\"line_color\":{\"value\":\"#1E9B89\"},\"marker\":{\"value\":\"diamond\"},\"size\":{\"value\":10},\"x\":{\"field\":\"TimeGenerated\"},\"y\":{\"field\":\"y_index\"}},\"id\":\"1766\",\"type\":\"Scatter\"},{\"attributes\":{\"source\":{\"id\":\"1517\"}},\"id\":\"1803\",\"type\":\"CDSView\"},{\"attributes\":{\"fill_alpha\":{\"value\":0.1},\"fill_color\":{\"value\":\"#45347F\"},\"hatch_alpha\":{\"value\":0.1},\"hatch_color\":{\"value\":\"#45347F\"},\"line_alpha\":{\"value\":0.1},\"line_color\":{\"value\":\"#45347F\"},\"x\":{\"field\":\"TimeGenerated\"},\"y\":{\"field\":\"y_index\"}},\"id\":\"1591\",\"type\":\"Circle\"},{\"attributes\":{\"coordinates\":null,\"data_source\":{\"id\":\"1512\"},\"glyph\":{\"id\":\"1764\"},\"group\":null,\"hover_glyph\":null,\"muted_glyph\":{\"id\":\"1766\"},\"nonselection_glyph\":{\"id\":\"1765\"},\"view\":{\"id\":\"1768\"}},\"id\":\"1767\",\"type\":\"GlyphRenderer\"},{\"attributes\":{\"coordinates\":null,\"data_source\":{\"id\":\"1509\"},\"glyph\":{\"id\":\"1620\"},\"group\":null,\"hover_glyph\":null,\"muted_glyph\":{\"id\":\"1622\"},\"nonselection_glyph\":{\"id\":\"1621\"},\"view\":{\"id\":\"1624\"}},\"id\":\"1623\",\"type\":\"GlyphRenderer\"},{\"attributes\":{\"fill_alpha\":{\"value\":0.1},\"fill_color\":{\"value\":\"#22A784\"},\"hatch_alpha\":{\"value\":0.1},\"hatch_color\":{\"value\":\"#22A784\"},\"line_alpha\":{\"value\":0.1},\"line_color\":{\"value\":\"#22A784\"},\"marker\":{\"value\":\"diamond\"},\"size\":{\"value\":10},\"x\":{\"field\":\"TimeGenerated\"},\"y\":{\"field\":\"y_index\"}},\"id\":\"1772\",\"type\":\"Scatter\"},{\"attributes\":{\"coordinates\":null,\"data_source\":{\"id\":\"1510\"},\"glyph\":{\"id\":\"1626\"},\"group\":null,\"hover_glyph\":null,\"muted_glyph\":{\"id\":\"1628\"},\"nonselection_glyph\":{\"id\":\"1627\"},\"view\":{\"id\":\"1630\"}},\"id\":\"1629\",\"type\":\"GlyphRenderer\"},{\"attributes\":{\"label\":{\"value\":\"2603:10b6:208:357::21\"},\"renderers\":[{\"id\":\"1767\"}]},\"id\":\"1769\",\"type\":\"LegendItem\"},{\"attributes\":{\"fill_alpha\":{\"value\":0.1},\"fill_color\":{\"value\":\"#2E6B8E\"},\"hatch_alpha\":{\"value\":0.1},\"hatch_color\":{\"value\":\"#2E6B8E\"},\"line_alpha\":{\"value\":0.1},\"line_color\":{\"value\":\"#2E6B8E\"},\"x\":{\"field\":\"TimeGenerated\"},\"y\":{\"field\":\"y_index\"}},\"id\":\"1615\",\"type\":\"Circle\"},{\"attributes\":{\"fill_alpha\":{\"value\":0.2},\"fill_color\":{\"value\":\"#2E6B8E\"},\"hatch_alpha\":{\"value\":0.2},\"hatch_color\":{\"value\":\"#2E6B8E\"},\"line_alpha\":{\"value\":0.2},\"line_color\":{\"value\":\"#2E6B8E\"},\"x\":{\"field\":\"TimeGenerated\"},\"y\":{\"field\":\"y_index\"}},\"id\":\"1616\",\"type\":\"Circle\"},{\"attributes\":{\"source\":{\"id\":\"1512\"}},\"id\":\"1768\",\"type\":\"CDSView\"},{\"attributes\":{\"fill_alpha\":{\"value\":0.5},\"fill_color\":{\"value\":\"#22A784\"},\"hatch_alpha\":{\"value\":0.5},\"hatch_color\":{\"value\":\"#22A784\"},\"line_alpha\":{\"value\":0.5},\"line_color\":{\"value\":\"#22A784\"},\"marker\":{\"value\":\"diamond\"},\"size\":{\"value\":10},\"x\":{\"field\":\"TimeGenerated\"},\"y\":{\"field\":\"y_index\"}},\"id\":\"1771\",\"type\":\"Scatter\"},{\"attributes\":{\"fill_color\":{\"value\":\"#482374\"},\"hatch_color\":{\"value\":\"#482374\"},\"line_color\":{\"value\":\"#482374\"},\"x\":{\"field\":\"TimeGenerated\"},\"y\":{\"field\":\"y_index\"}},\"id\":\"1584\",\"type\":\"Circle\"},{\"attributes\":{\"source\":{\"id\":\"1507\"}},\"id\":\"1612\",\"type\":\"CDSView\"},{\"attributes\":{\"fill_alpha\":{\"value\":0.5},\"fill_color\":{\"value\":\"#5BC862\"},\"hatch_alpha\":{\"value\":0.5},\"hatch_color\":{\"value\":\"#5BC862\"},\"line_alpha\":{\"value\":0.5},\"line_color\":{\"value\":\"#5BC862\"},\"marker\":{\"value\":\"diamond\"},\"size\":{\"value\":10},\"x\":{\"field\":\"TimeGenerated\"},\"y\":{\"field\":\"y_index\"}},\"id\":\"1792\",\"type\":\"Scatter\"},{\"attributes\":{\"fill_alpha\":{\"value\":0.2},\"fill_color\":{\"value\":\"#482374\"},\"hatch_alpha\":{\"value\":0.2},\"hatch_color\":{\"value\":\"#482374\"},\"line_alpha\":{\"value\":0.2},\"line_color\":{\"value\":\"#482374\"},\"x\":{\"field\":\"TimeGenerated\"},\"y\":{\"field\":\"y_index\"}},\"id\":\"1586\",\"type\":\"Circle\"},{\"attributes\":{\"fill_alpha\":{\"value\":0.2},\"fill_color\":{\"value\":\"#22A784\"},\"hatch_alpha\":{\"value\":0.2},\"hatch_color\":{\"value\":\"#22A784\"},\"line_alpha\":{\"value\":0.2},\"line_color\":{\"value\":\"#22A784\"},\"marker\":{\"value\":\"diamond\"},\"size\":{\"value\":10},\"x\":{\"field\":\"TimeGenerated\"},\"y\":{\"field\":\"y_index\"}},\"id\":\"1773\",\"type\":\"Scatter\"},{\"attributes\":{\"fill_alpha\":{\"value\":0.1},\"fill_color\":{\"value\":\"#5BC862\"},\"hatch_alpha\":{\"value\":0.1},\"hatch_color\":{\"value\":\"#5BC862\"},\"line_alpha\":{\"value\":0.1},\"line_color\":{\"value\":\"#5BC862\"},\"marker\":{\"value\":\"diamond\"},\"size\":{\"value\":10},\"x\":{\"field\":\"TimeGenerated\"},\"y\":{\"field\":\"y_index\"}},\"id\":\"1793\",\"type\":\"Scatter\"},{\"attributes\":{\"fill_color\":{\"value\":\"#45347F\"},\"hatch_color\":{\"value\":\"#45347F\"},\"line_color\":{\"value\":\"#45347F\"},\"x\":{\"field\":\"TimeGenerated\"},\"y\":{\"field\":\"y_index\"}},\"id\":\"1590\",\"type\":\"Circle\"},{\"attributes\":{\"coordinates\":null,\"data_source\":{\"id\":\"1513\"},\"glyph\":{\"id\":\"1771\"},\"group\":null,\"hover_glyph\":null,\"muted_glyph\":{\"id\":\"1773\"},\"nonselection_glyph\":{\"id\":\"1772\"},\"view\":{\"id\":\"1775\"}},\"id\":\"1774\",\"type\":\"GlyphRenderer\"},{\"attributes\":{\"source\":{\"id\":\"1505\"}},\"id\":\"1719\",\"type\":\"CDSView\"},{\"attributes\":{},\"id\":\"1833\",\"type\":\"UnionRenderers\"},{\"attributes\":{\"fill_alpha\":{\"value\":0.5},\"fill_color\":{\"value\":\"#2EB27C\"},\"hatch_alpha\":{\"value\":0.5},\"hatch_color\":{\"value\":\"#2EB27C\"},\"line_alpha\":{\"value\":0.5},\"line_color\":{\"value\":\"#2EB27C\"},\"marker\":{\"value\":\"diamond\"},\"size\":{\"value\":10},\"x\":{\"field\":\"TimeGenerated\"},\"y\":{\"field\":\"y_index\"}},\"id\":\"1778\",\"type\":\"Scatter\"},{\"attributes\":{\"source\":{\"id\":\"1502\"}},\"id\":\"1582\",\"type\":\"CDSView\"},{\"attributes\":{\"source\":{\"id\":\"1513\"}},\"id\":\"1775\",\"type\":\"CDSView\"},{\"attributes\":{\"fill_color\":{\"value\":\"#404387\"},\"hatch_color\":{\"value\":\"#404387\"},\"line_color\":{\"value\":\"#404387\"},\"x\":{\"field\":\"TimeGenerated\"},\"y\":{\"field\":\"y_index\"}},\"id\":\"1596\",\"type\":\"Circle\"},{\"attributes\":{},\"id\":\"1834\",\"type\":\"Selection\"},{\"attributes\":{\"fill_alpha\":{\"value\":0.2},\"fill_color\":{\"value\":\"#45347F\"},\"hatch_alpha\":{\"value\":0.2},\"hatch_color\":{\"value\":\"#45347F\"},\"line_alpha\":{\"value\":0.2},\"line_color\":{\"value\":\"#45347F\"},\"x\":{\"field\":\"TimeGenerated\"},\"y\":{\"field\":\"y_index\"}},\"id\":\"1592\",\"type\":\"Circle\"},{\"attributes\":{\"label\":{\"value\":\"2603:10b6:408:10d:cafe::a\"},\"renderers\":[{\"id\":\"1774\"}]},\"id\":\"1776\",\"type\":\"LegendItem\"},{\"attributes\":{\"fill_color\":{\"value\":\"#2E6B8E\"},\"hatch_color\":{\"value\":\"#2E6B8E\"},\"line_color\":{\"value\":\"#2E6B8E\"},\"x\":{\"field\":\"TimeGenerated\"},\"y\":{\"field\":\"y_index\"}},\"id\":\"1614\",\"type\":\"Circle\"},{\"attributes\":{\"data\":{\"AppResourceProvider\":[\"Exchange\",\"Exchange\",\"Exchange\",\"Exchange\"],\"IPAddress\":[\"2603:10b6:208:350::7\",\"2603:10b6:208:350::7\",\"2603:10b6:208:350::7\",\"2603:10b6:208:350::7\"],\"Operation\":[\"MailItemsAccessed\",\"MailItemsAccessed\",\"MailItemsAccessed\",\"MailItemsAccessed\"],\"TimeGenerated\":{\"__ndarray__\":\"AABJTq4BeEIAAHYCrwF4QgAAoOsEAnhCAIBLvwUCeEI=\",\"dtype\":\"float64\",\"order\":\"little\",\"shape\":[4]},\"index\":[312,315,421,424],\"y_index\":[10,10,10,10]},\"selected\":{\"id\":\"1844\"},\"selection_policy\":{\"id\":\"1843\"}},\"id\":\"1511\",\"type\":\"ColumnDataSource\"},{\"attributes\":{\"days\":[1,15]},\"id\":\"1866\",\"type\":\"DaysTicker\"},{\"attributes\":{\"months\":[0,1,2,3,4,5,6,7,8,9,10,11]},\"id\":\"1867\",\"type\":\"MonthsTicker\"},{\"attributes\":{\"days\":[1,4,7,10,13,16,19,22,25,28]},\"id\":\"1864\",\"type\":\"DaysTicker\"},{\"attributes\":{\"data\":{\"AppResourceProvider\":[\"CAttack\",\"CAttack\",\"CAttack\",\"CAttack\",\"CAttack\",\"CAttack\",\"CAttack\",\"CAttack\",\"CAttack\",\"CAttack\",\"CAttack\",\"CAttack\",\"CAttack\",\"CAttack\",\"CAttack\",\"CAttack\",\"CAttack\",\"CAttack\",\"CAttack\",\"CAttack\",\"CAttack\",\"CAttack\",\"CAttack\",\"CAttack\",\"CAttack\",\"CAttack\",\"CAttack\",\"CAttack\",\"CAttack\",\"CAttack\",\"CAttack\",\"CAttack\",\"CAttack\",\"CAttack\",\"CAttack\"],\"IPAddress\":[\"20.37.212.69\",\"20.37.212.69\",\"20.37.212.69\",\"20.37.212.69\",\"20.37.212.69\",\"20.37.212.69\",\"20.37.212.69\",\"20.37.212.69\",\"20.37.212.69\",\"20.37.212.69\",\"20.37.212.69\",\"20.37.212.69\",\"20.37.212.69\",\"20.37.212.69\",\"20.37.212.69\",\"20.37.212.69\",\"20.37.212.69\",\"20.37.212.69\",\"20.37.212.69\",\"20.37.212.69\",\"20.37.212.69\",\"20.37.212.69\",\"20.37.212.69\",\"20.37.212.69\",\"20.37.212.69\",\"20.37.212.69\",\"20.37.212.69\",\"20.37.212.69\",\"20.37.212.69\",\"20.37.212.69\",\"20.37.212.69\",\"20.37.212.69\",\"20.37.212.69\",\"20.37.212.69\",\"20.37.212.69\"],\"Operation\":[\"Sign-in activity\",\"Sign-in activity\",\"Sign-in activity\",\"Sign-in activity\",\"Sign-in activity\",\"Sign-in activity\",\"Sign-in activity\",\"Sign-in activity\",\"Sign-in activity\",\"Sign-in activity\",\"Sign-in activity\",\"Sign-in activity\",\"Sign-in activity\",\"Sign-in activity\",\"Sign-in activity\",\"Sign-in activity\",\"Sign-in activity\",\"Sign-in activity\",\"Sign-in activity\",\"Sign-in activity\",\"Sign-in activity\",\"Sign-in activity\",\"Sign-in activity\",\"Sign-in activity\",\"Sign-in activity\",\"Sign-in activity\",\"Sign-in activity\",\"Sign-in activity\",\"Sign-in activity\",\"Sign-in activity\",\"Sign-in activity\",\"Sign-in activity\",\"Sign-in activity\",\"Sign-in activity\",\"Sign-in activity\"],\"TimeGenerated\":{\"__ndarray__\":\"AODm0JgBeEIAgM6fmwF4QgDgWreeAXhCAKCB86ABeEIAgFRooQF4QgDgA52iAXhCAFD/naIBeEIAIIiaqQF4QgAQNWyxAXhCAMAXbbEBeEIAYKl8sQF4QgDAxwuyAXhCAKBTdbIBeEIAEPKUsgF4QgDg4xezAXhCAEBrSsQBeEIAwNFyywF4QgCwgAHSAXhCAFCU2eABeEIA8FSt5AF4QgDQAHTmAXhCAEATFvQBeEIAcIpG+QF4QgBAvK79AXhCAGCt5gQCeEIAAOHnBAJ4QgDw2MgQAnhCACC2yhACeEIAQEDrGAJ4QgBgX+waAnhCAIAU2CoCeEIAUEIyMAJ4QgCwiDMwAnhCAAAYMDkCeEIAcGExOQJ4Qg==\",\"dtype\":\"float64\",\"order\":\"little\",\"shape\":[35]},\"index\":[221,222,237,233,235,236,224,123,135,137,138,146,151,156,159,164,180,198,207,208,216,26,30,46,58,56,80,66,98,102,254,247,273,251,260],\"y_index\":[3,3,3,3,3,3,3,3,3,3,3,3,3,3,3,3,3,3,3,3,3,3,3,3,3,3,3,3,3,3,3,3,3,3,3]},\"selected\":{\"id\":\"1830\"},\"selection_policy\":{\"id\":\"1829\"}},\"id\":\"1504\",\"type\":\"ColumnDataSource\"},{\"attributes\":{},\"id\":\"1871\",\"type\":\"YearsTicker\"},{\"attributes\":{\"days\":[1,8,15,22]},\"id\":\"1865\",\"type\":\"DaysTicker\"},{\"attributes\":{\"months\":[0,6]},\"id\":\"1870\",\"type\":\"MonthsTicker\"},{\"attributes\":{\"months\":[0,2,4,6,8,10]},\"id\":\"1868\",\"type\":\"MonthsTicker\"},{\"attributes\":{\"months\":[0,4,8]},\"id\":\"1869\",\"type\":\"MonthsTicker\"},{\"attributes\":{},\"id\":\"1835\",\"type\":\"UnionRenderers\"},{\"attributes\":{},\"id\":\"1836\",\"type\":\"Selection\"},{\"attributes\":{},\"id\":\"1837\",\"type\":\"UnionRenderers\"},{\"attributes\":{},\"id\":\"1838\",\"type\":\"Selection\"},{\"attributes\":{\"num_minor_ticks\":10,\"tickers\":[{\"id\":\"1860\"},{\"id\":\"1861\"},{\"id\":\"1862\"},{\"id\":\"1863\"},{\"id\":\"1864\"},{\"id\":\"1865\"},{\"id\":\"1866\"},{\"id\":\"1867\"},{\"id\":\"1868\"},{\"id\":\"1869\"},{\"id\":\"1870\"},{\"id\":\"1871\"}]},\"id\":\"1532\",\"type\":\"DatetimeTicker\"},{\"attributes\":{},\"id\":\"1839\",\"type\":\"UnionRenderers\"},{\"attributes\":{},\"id\":\"1840\",\"type\":\"Selection\"},{\"attributes\":{},\"id\":\"1529\",\"type\":\"LinearScale\"},{\"attributes\":{\"axis\":{\"id\":\"1531\"},\"coordinates\":null,\"group\":null,\"minor_grid_line_alpha\":0.3,\"minor_grid_line_color\":\"navy\",\"ticker\":null},\"id\":\"1534\",\"type\":\"Grid\"},{\"attributes\":{\"data\":{\"AppResourceProvider\":[\"CAttack\",\"CAttack\",\"CAttack\",\"CAttack\",\"CAttack\",\"CAttack\",\"CAttack\",\"CAttack\",\"CAttack\",\"CAttack\",\"CAttack\",\"CAttack\",\"CAttack\",\"CAttack\",\"CAttack\",\"CAttack\",\"CAttack\",\"CAttack\",\"CAttack\",\"CAttack\",\"CAttack\",\"CAttack\",\"CAttack\",\"CAttack\",\"CAttack\",\"CAttack\",\"CAttack\",\"CAttack\",\"CAttack\",\"CAttack\",\"CAttack\",\"CAttack\",\"CAttack\",\"CAttack\",\"CAttack\",\"CAttack\",\"CAttack\",\"CAttack\",\"CAttack\",\"CAttack\",\"CAttack\",\"CAttack\",\"CAttack\",\"CAttack\",\"CAttack\",\"CAttack\",\"CAttack\",\"CAttack\",\"CAttack\",\"CAttack\",\"CAttack\",\"CAttack\",\"CAttack\",\"CAttack\",\"CAttack\",\"CAttack\",\"CAttack\",\"CAttack\"],\"IPAddress\":[\"20.37.253.233\",\"20.37.253.233\",\"20.37.253.233\",\"20.37.253.233\",\"20.37.253.233\",\"20.37.253.233\",\"20.37.253.233\",\"20.37.253.233\",\"20.37.253.233\",\"20.37.253.233\",\"20.37.253.233\",\"20.37.253.233\",\"20.37.253.233\",\"20.37.253.233\",\"20.37.253.233\",\"20.37.253.233\",\"20.37.253.233\",\"20.37.253.233\",\"20.37.253.233\",\"20.37.253.233\",\"20.37.253.233\",\"20.37.253.233\",\"20.37.253.233\",\"20.37.253.233\",\"20.37.253.233\",\"20.37.253.233\",\"20.37.253.233\",\"20.37.253.233\",\"20.37.253.233\",\"20.37.253.233\",\"20.37.253.233\",\"20.37.253.233\",\"20.37.253.233\",\"20.37.253.233\",\"20.37.253.233\",\"20.37.253.233\",\"20.37.253.233\",\"20.37.253.233\",\"20.37.253.233\",\"20.37.253.233\",\"20.37.253.233\",\"20.37.253.233\",\"20.37.253.233\",\"20.37.253.233\",\"20.37.253.233\",\"20.37.253.233\",\"20.37.253.233\",\"20.37.253.233\",\"20.37.253.233\",\"20.37.253.233\",\"20.37.253.233\",\"20.37.253.233\",\"20.37.253.233\",\"20.37.253.233\",\"20.37.253.233\",\"20.37.253.233\",\"20.37.253.233\",\"20.37.253.233\"],\"Operation\":[\"Sign-in activity\",\"Sign-in activity\",\"Sign-in activity\",\"Sign-in activity\",\"Sign-in activity\",\"Sign-in activity\",\"Sign-in activity\",\"Sign-in activity\",\"Sign-in activity\",\"Sign-in activity\",\"Sign-in activity\",\"Sign-in activity\",\"Sign-in activity\",\"Sign-in activity\",\"Sign-in activity\",\"Sign-in activity\",\"Sign-in activity\",\"Sign-in activity\",\"Sign-in activity\",\"Sign-in activity\",\"Sign-in activity\",\"Sign-in activity\",\"Sign-in activity\",\"Sign-in activity\",\"Sign-in activity\",\"Sign-in activity\",\"Sign-in activity\",\"Sign-in activity\",\"Sign-in activity\",\"Sign-in activity\",\"Sign-in activity\",\"Sign-in activity\",\"Sign-in activity\",\"Sign-in activity\",\"Sign-in activity\",\"Sign-in activity\",\"Sign-in activity\",\"Sign-in activity\",\"Sign-in activity\",\"Sign-in activity\",\"Sign-in activity\",\"Sign-in activity\",\"Sign-in activity\",\"Sign-in activity\",\"Sign-in activity\",\"Sign-in activity\",\"Sign-in activity\",\"Sign-in activity\",\"Sign-in activity\",\"Sign-in activity\",\"Sign-in activity\",\"Sign-in activity\",\"Sign-in activity\",\"Sign-in activity\",\"Sign-in activity\",\"Sign-in activity\",\"Sign-in activity\",\"Sign-in activity\"],\"TimeGenerated\":{\"__ndarray__\":\"ANB6RZkBeEIAYPi+rAF4QgCg8q2wAXhCAJD7zLABeEIAQAvOsAF4QgDgHEOxAXhCAAAbRLEBeEIAgBLisQF4QgAAXa6zAXhCALChLMIBeEIAkAccxQF4QgBQIbfKAXhCADD81MoBeEIAwJaozAF4QgDQHtjMAXhCALDnCdABeEIA8B160gF4QgDwWdLfAXhCAMCVV+IBeEIA8N3H5QF4QgCAekLoAXhCAMCrB+4BeEIAQN8I7gF4QgAAvgryAXhCAOCvrPQBeEIAQP5r9QF4QgBgVlf4AXhCACCoBPoBeEIAsFAv+gF4QgBwHfv8AXhCAFDJaQMCeEIAYCx3BAJ4QgAgWHgEAnhCANCkvwQCeEIAcKzhBAJ4QgBQ1OIEAnhCAHBlYAUCeEIAEGBhBQJ4QgBgjH4FAnhCAMAHgAUCeEIAAIu8BQJ4QgCgw9oFAnhCANA/LwkCeEIAAPIDDQJ4QgBA2AwNAnhCAED/LxICeEIAkDi8EgJ4QgCwBowVAnhCAHBOAh0CeEIAwDA4HQJ4QgDwHnIdAnhCAKDTbSACeEIAcHjmIAJ4QgBg7o4oAnhCAFALsTACeEIAYPgIMQJ4QgDQJVoyAnhCAEA19zcCeEI=\",\"dtype\":\"float64\",\"order\":\"little\",\"shape\":[58]},\"index\":[225,125,132,134,136,130,133,145,147,165,186,177,178,182,191,195,189,206,203,210,218,2,3,5,16,22,29,32,31,42,23,77,76,86,51,54,69,67,71,90,36,45,53,100,99,83,84,87,101,109,110,91,106,245,274,248,256,275],\"y_index\":[6,6,6,6,6,6,6,6,6,6,6,6,6,6,6,6,6,6,6,6,6,6,6,6,6,6,6,6,6,6,6,6,6,6,6,6,6,6,6,6,6,6,6,6,6,6,6,6,6,6,6,6,6,6,6,6,6,6]},\"selected\":{\"id\":\"1836\"},\"selection_policy\":{\"id\":\"1835\"}},\"id\":\"1507\",\"type\":\"ColumnDataSource\"},{\"attributes\":{\"data\":{\"AppResourceProvider\":[\"Exchange\",\"Exchange\",\"Exchange\",\"Exchange\",\"Exchange\",\"Exchange\",\"Exchange\",\"Exchange\",\"Exchange\",\"Exchange\",\"Exchange\",\"Exchange\",\"Exchange\",\"Exchange\",\"Exchange\",\"Exchange\",\"Exchange\",\"Exchange\",\"Exchange\",\"Exchange\",\"Exchange\",\"Exchange\",\"Exchange\",\"Exchange\",\"Exchange\",\"Exchange\",\"Exchange\",\"Exchange\",\"Exchange\",\"Exchange\",\"Exchange\",\"Exchange\",\"Exchange\",\"Exchange\",\"Exchange\",\"Exchange\"],\"IPAddress\":[\"20.190.142.172\",\"20.190.142.172\",\"20.190.142.172\",\"20.190.142.172\",\"20.190.142.172\",\"20.190.142.172\",\"20.190.142.172\",\"20.190.142.172\",\"20.190.142.172\",\"20.190.142.172\",\"20.190.142.172\",\"20.190.142.172\",\"20.190.142.172\",\"20.190.142.172\",\"20.190.142.172\",\"20.190.142.172\",\"20.190.142.172\",\"20.190.142.172\",\"20.190.142.172\",\"20.190.142.172\",\"20.190.142.172\",\"20.190.142.172\",\"20.190.142.172\",\"20.190.142.172\",\"20.190.142.172\",\"20.190.142.172\",\"20.190.142.172\",\"20.190.142.172\",\"20.190.142.172\",\"20.190.142.172\",\"20.190.142.172\",\"20.190.142.172\",\"20.190.142.172\",\"20.190.142.172\",\"20.190.142.172\",\"20.190.142.172\"],\"Operation\":[\"Send\",\"Send\",\"MailItemsAccessed\",\"Send\",\"Send\",\"MailItemsAccessed\",\"MailItemsAccessed\",\"MailItemsAccessed\",\"Send\",\"Send\",\"Send\",\"Send\",\"Send\",\"MailItemsAccessed\",\"Send\",\"Send\",\"Send\",\"MailItemsAccessed\",\"Send\",\"Send\",\"MailItemsAccessed\",\"MailItemsAccessed\",\"MailItemsAccessed\",\"Send\",\"MailItemsAccessed\",\"Send\",\"Send\",\"Send\",\"Send\",\"Send\",\"Send\",\"MailItemsAccessed\",\"Send\",\"Send\",\"Send\",\"Send\"],\"TimeGenerated\":{\"__ndarray__\":\"AICN0ZgBeEIAAARpoQF4QgAARyumAXhCAADDvaYBeEIAgOqaqQF4QgAAXL+sAXhCAAD7y7ABeEIAgPt8sQF4QgCAmhizAXhCAAAb0rwBeEIAgDcrvQF4QgCA97fKAXhCAIDCCtABeEIAgG2k0QF4QgCALQLSAXhCAAAwANQBeEIAAAHD2wF4QgAAuK3kAXhCAIAMRecBeEIAAKmm8AF4QgAA8m30AXhCAACPCf0BeEIAgCBqAwJ4QgAAZH4DAnhCAAAyqgQCeEIAAKzpBAJ4QgAAfVMGAnhCAADpLwkCeEIAAGlzHQJ4QgAA5dskAnhCAICuIScCeEIAACmPKAJ4QgAA+VoyAnhCAIAc/TcCeEIAgJnlOwJ4QgCAFuY7AnhC\",\"dtype\":\"float64\",\"order\":\"little\",\"shape\":[36]},\"index\":[293,310,302,300,306,307,320,323,342,350,298,361,355,352,367,353,334,375,344,376,412,386,389,390,419,422,449,451,397,404,463,287,464,439,409,408],\"y_index\":[2,2,2,2,2,2,2,2,2,2,2,2,2,2,2,2,2,2,2,2,2,2,2,2,2,2,2,2,2,2,2,2,2,2,2,2]},\"selected\":{\"id\":\"1828\"},\"selection_policy\":{\"id\":\"1827\"}},\"id\":\"1503\",\"type\":\"ColumnDataSource\"},{\"attributes\":{\"axis_label\":\"Event Time\",\"coordinates\":null,\"formatter\":{\"id\":\"1684\"},\"group\":null,\"major_label_policy\":{\"id\":\"1820\"},\"ticker\":{\"id\":\"1532\"}},\"id\":\"1531\",\"type\":\"DatetimeAxis\"},{\"attributes\":{\"mantissas\":[1,2,5],\"max_interval\":500.0,\"num_minor_ticks\":0},\"id\":\"1860\",\"type\":\"AdaptiveTicker\"},{\"attributes\":{},\"id\":\"1841\",\"type\":\"UnionRenderers\"},{\"attributes\":{\"base\":60,\"mantissas\":[1,2,5,10,15,20,30],\"max_interval\":1800000.0,\"min_interval\":1000.0,\"num_minor_ticks\":0},\"id\":\"1861\",\"type\":\"AdaptiveTicker\"},{\"attributes\":{},\"id\":\"1842\",\"type\":\"Selection\"},{\"attributes\":{\"base\":24,\"mantissas\":[1,2,4,6,8,12],\"max_interval\":43200000.0,\"min_interval\":3600000.0,\"num_minor_ticks\":0},\"id\":\"1862\",\"type\":\"AdaptiveTicker\"},{\"attributes\":{\"days\":[1,2,3,4,5,6,7,8,9,10,11,12,13,14,15,16,17,18,19,20,21,22,23,24,25,26,27,28,29,30,31]},\"id\":\"1863\",\"type\":\"DaysTicker\"},{\"attributes\":{\"coordinates\":null,\"group\":null,\"text\":\"Timeline: Azure Operations by Source IP\"},\"id\":\"1521\",\"type\":\"Title\"},{\"attributes\":{\"fill_alpha\":{\"value\":0.1},\"fill_color\":{\"value\":\"#2EB27C\"},\"hatch_alpha\":{\"value\":0.1},\"hatch_color\":{\"value\":\"#2EB27C\"},\"line_alpha\":{\"value\":0.1},\"line_color\":{\"value\":\"#2EB27C\"},\"marker\":{\"value\":\"diamond\"},\"size\":{\"value\":10},\"x\":{\"field\":\"TimeGenerated\"},\"y\":{\"field\":\"y_index\"}},\"id\":\"1779\",\"type\":\"Scatter\"},{\"attributes\":{\"fill_alpha\":{\"value\":0.2},\"fill_color\":{\"value\":\"#2EB27C\"},\"hatch_alpha\":{\"value\":0.2},\"hatch_color\":{\"value\":\"#2EB27C\"},\"line_alpha\":{\"value\":0.2},\"line_color\":{\"value\":\"#2EB27C\"},\"marker\":{\"value\":\"diamond\"},\"size\":{\"value\":10},\"x\":{\"field\":\"TimeGenerated\"},\"y\":{\"field\":\"y_index\"}},\"id\":\"1780\",\"type\":\"Scatter\"},{\"attributes\":{\"coordinates\":null,\"data_source\":{\"id\":\"1514\"},\"glyph\":{\"id\":\"1778\"},\"group\":null,\"hover_glyph\":null,\"muted_glyph\":{\"id\":\"1780\"},\"nonselection_glyph\":{\"id\":\"1779\"},\"view\":{\"id\":\"1782\"}},\"id\":\"1781\",\"type\":\"GlyphRenderer\"},{\"attributes\":{\"fill_alpha\":{\"value\":0.1},\"fill_color\":{\"value\":\"#42BE71\"},\"hatch_alpha\":{\"value\":0.1},\"hatch_color\":{\"value\":\"#42BE71\"},\"line_alpha\":{\"value\":0.1},\"line_color\":{\"value\":\"#42BE71\"},\"marker\":{\"value\":\"diamond\"},\"size\":{\"value\":10},\"x\":{\"field\":\"TimeGenerated\"},\"y\":{\"field\":\"y_index\"}},\"id\":\"1786\",\"type\":\"Scatter\"},{\"attributes\":{},\"id\":\"1541\",\"type\":\"ResetTool\"},{\"attributes\":{\"label\":{\"value\":\"2603:10b6:408:131:cafe::74\"},\"renderers\":[{\"id\":\"1781\"}]},\"id\":\"1783\",\"type\":\"LegendItem\"},{\"attributes\":{\"source\":{\"id\":\"1514\"}},\"id\":\"1782\",\"type\":\"CDSView\"},{\"attributes\":{\"fill_alpha\":{\"value\":0.5},\"fill_color\":{\"value\":\"#42BE71\"},\"hatch_alpha\":{\"value\":0.5},\"hatch_color\":{\"value\":\"#42BE71\"},\"line_alpha\":{\"value\":0.5},\"line_color\":{\"value\":\"#42BE71\"},\"marker\":{\"value\":\"diamond\"},\"size\":{\"value\":10},\"x\":{\"field\":\"TimeGenerated\"},\"y\":{\"field\":\"y_index\"}},\"id\":\"1785\",\"type\":\"Scatter\"},{\"attributes\":{\"fill_alpha\":{\"value\":0.2},\"fill_color\":{\"value\":\"#42BE71\"},\"hatch_alpha\":{\"value\":0.2},\"hatch_color\":{\"value\":\"#42BE71\"},\"line_alpha\":{\"value\":0.2},\"line_color\":{\"value\":\"#42BE71\"},\"marker\":{\"value\":\"diamond\"},\"size\":{\"value\":10},\"x\":{\"field\":\"TimeGenerated\"},\"y\":{\"field\":\"y_index\"}},\"id\":\"1787\",\"type\":\"Scatter\"},{\"attributes\":{\"fill_alpha\":{\"value\":0.1},\"fill_color\":{\"value\":\"#3B518A\"},\"hatch_alpha\":{\"value\":0.1},\"hatch_color\":{\"value\":\"#3B518A\"},\"line_alpha\":{\"value\":0.1},\"line_color\":{\"value\":\"#3B518A\"},\"x\":{\"field\":\"TimeGenerated\"},\"y\":{\"field\":\"y_index\"}},\"id\":\"1603\",\"type\":\"Circle\"},{\"attributes\":{\"coordinates\":null,\"data_source\":{\"id\":\"1515\"},\"glyph\":{\"id\":\"1785\"},\"group\":null,\"hover_glyph\":null,\"muted_glyph\":{\"id\":\"1787\"},\"nonselection_glyph\":{\"id\":\"1786\"},\"view\":{\"id\":\"1789\"}},\"id\":\"1788\",\"type\":\"GlyphRenderer\"},{\"attributes\":{\"label\":{\"value\":\"2603:10b6:408:148::20\"},\"renderers\":[{\"id\":\"1788\"}]},\"id\":\"1790\",\"type\":\"LegendItem\"},{\"attributes\":{\"source\":{\"id\":\"1515\"}},\"id\":\"1789\",\"type\":\"CDSView\"},{\"attributes\":{\"fill_alpha\":{\"value\":0.1},\"fill_color\":{\"value\":\"#97D83E\"},\"hatch_alpha\":{\"value\":0.1},\"hatch_color\":{\"value\":\"#97D83E\"},\"line_alpha\":{\"value\":0.1},\"line_color\":{\"value\":\"#97D83E\"},\"marker\":{\"value\":\"diamond\"},\"size\":{\"value\":10},\"x\":{\"field\":\"TimeGenerated\"},\"y\":{\"field\":\"y_index\"}},\"id\":\"1807\",\"type\":\"Scatter\"},{\"attributes\":{\"fill_color\":{\"value\":\"#345E8D\"},\"hatch_color\":{\"value\":\"#345E8D\"},\"line_color\":{\"value\":\"#345E8D\"},\"x\":{\"field\":\"TimeGenerated\"},\"y\":{\"field\":\"y_index\"}},\"id\":\"1608\",\"type\":\"Circle\"},{\"attributes\":{\"fill_alpha\":{\"value\":0.2},\"fill_color\":{\"value\":\"#97D83E\"},\"hatch_alpha\":{\"value\":0.2},\"hatch_color\":{\"value\":\"#97D83E\"},\"line_alpha\":{\"value\":0.2},\"line_color\":{\"value\":\"#97D83E\"},\"marker\":{\"value\":\"diamond\"},\"size\":{\"value\":10},\"x\":{\"field\":\"TimeGenerated\"},\"y\":{\"field\":\"y_index\"}},\"id\":\"1808\",\"type\":\"Scatter\"},{\"attributes\":{\"source\":{\"id\":\"1518\"}},\"id\":\"1810\",\"type\":\"CDSView\"},{\"attributes\":{\"coordinates\":null,\"data_source\":{\"id\":\"1518\"},\"glyph\":{\"id\":\"1806\"},\"group\":null,\"hover_glyph\":null,\"muted_glyph\":{\"id\":\"1808\"},\"nonselection_glyph\":{\"id\":\"1807\"},\"view\":{\"id\":\"1810\"}},\"id\":\"1809\",\"type\":\"GlyphRenderer\"},{\"attributes\":{},\"id\":\"1559\",\"type\":\"LinearScale\"},{\"attributes\":{\"label\":{\"value\":\"52.96.203.93\"},\"renderers\":[{\"id\":\"1809\"}]},\"id\":\"1811\",\"type\":\"LegendItem\"},{\"attributes\":{\"click_policy\":\"hide\",\"coordinates\":null,\"group\":null,\"items\":[{\"id\":\"1811\"},{\"id\":\"1804\"},{\"id\":\"1797\"},{\"id\":\"1790\"},{\"id\":\"1783\"},{\"id\":\"1776\"},{\"id\":\"1769\"},{\"id\":\"1762\"},{\"id\":\"1755\"},{\"id\":\"1748\"},{\"id\":\"1741\"},{\"id\":\"1734\"},{\"id\":\"1727\"},{\"id\":\"1720\"},{\"id\":\"1713\"},{\"id\":\"1706\"},{\"id\":\"1699\"},{\"id\":\"1692\"}],\"label_text_font_size\":\"8pt\",\"location\":\"center\"},\"id\":\"1812\",\"type\":\"Legend\"},{\"attributes\":{\"source\":{\"id\":\"1506\"}},\"id\":\"1606\",\"type\":\"CDSView\"},{\"attributes\":{\"bottom_units\":\"screen\",\"coordinates\":null,\"fill_alpha\":0.5,\"fill_color\":\"lightgrey\",\"group\":null,\"left_units\":\"screen\",\"level\":\"overlay\",\"line_alpha\":1.0,\"line_color\":\"black\",\"line_dash\":[4,4],\"line_width\":2,\"right_units\":\"screen\",\"syncable\":false,\"top_units\":\"screen\"},\"id\":\"1544\",\"type\":\"BoxAnnotation\"},{\"attributes\":{\"data\":{\"AppResourceProvider\":[\"Exchange\"],\"IPAddress\":[\"2603:10b6:408:148::20\"],\"Operation\":[\"MailItemsAccessed\"],\"TimeGenerated\":{\"__ndarray__\":\"AIBq+80BeEI=\",\"dtype\":\"float64\",\"order\":\"little\",\"shape\":[1]},\"index\":[338],\"y_index\":[14]},\"selected\":{\"id\":\"1852\"},\"selection_policy\":{\"id\":\"1851\"}},\"id\":\"1515\",\"type\":\"ColumnDataSource\"},{\"attributes\":{\"end\":1649892771699.9,\"start\":1649670465634.0999},\"id\":\"1555\",\"type\":\"Range1d\"},{\"attributes\":{},\"id\":\"1557\",\"type\":\"DataRange1d\"},{\"attributes\":{\"dimensions\":\"width\"},\"id\":\"1539\",\"type\":\"WheelZoomTool\"},{\"attributes\":{\"coordinates\":null,\"formatter\":{\"id\":\"1569\"},\"group\":null,\"major_label_policy\":{\"id\":\"1822\"},\"ticker\":{\"id\":\"1564\"}},\"id\":\"1563\",\"type\":\"DatetimeAxis\"},{\"attributes\":{\"coordinates\":null,\"data_source\":{\"id\":\"1506\"},\"glyph\":{\"id\":\"1602\"},\"group\":null,\"hover_glyph\":null,\"muted_glyph\":{\"id\":\"1604\"},\"nonselection_glyph\":{\"id\":\"1603\"},\"view\":{\"id\":\"1606\"}},\"id\":\"1605\",\"type\":\"GlyphRenderer\"},{\"attributes\":{\"dimensions\":\"width\"},\"id\":\"1543\",\"type\":\"PanTool\"},{\"attributes\":{\"data\":{\"AppResourceProvider\":[\"Exchange\"],\"IPAddress\":[\"2603:10b6:408:10d:cafe::a\"],\"Operation\":[\"Create\"],\"TimeGenerated\":{\"__ndarray__\":\"AABi/PUBeEI=\",\"dtype\":\"float64\",\"order\":\"little\",\"shape\":[1]},\"index\":[441],\"y_index\":[12]},\"selected\":{\"id\":\"1848\"},\"selection_policy\":{\"id\":\"1847\"}},\"id\":\"1513\",\"type\":\"ColumnDataSource\"},{\"attributes\":{},\"id\":\"1561\",\"type\":\"LinearScale\"},{\"attributes\":{\"overlay\":{\"id\":\"1544\"}},\"id\":\"1540\",\"type\":\"BoxZoomTool\"},{\"attributes\":{\"data\":{\"AppResourceProvider\":[\"Exchange\"],\"IPAddress\":[\"2603:10b6:408:131:cafe::74\"],\"Operation\":[\"Create\"],\"TimeGenerated\":{\"__ndarray__\":\"AABAQaYBeEI=\",\"dtype\":\"float64\",\"order\":\"little\",\"shape\":[1]},\"index\":[303],\"y_index\":[13]},\"selected\":{\"id\":\"1850\"},\"selection_policy\":{\"id\":\"1849\"}},\"id\":\"1514\",\"type\":\"ColumnDataSource\"},{\"attributes\":{\"axis\":{\"id\":\"1535\"},\"coordinates\":null,\"dimension\":1,\"grid_line_color\":null,\"group\":null,\"ticker\":null},\"id\":\"1538\",\"type\":\"Grid\"},{\"attributes\":{\"fill_alpha\":{\"value\":0.2},\"fill_color\":{\"value\":\"#3B518A\"},\"hatch_alpha\":{\"value\":0.2},\"hatch_color\":{\"value\":\"#3B518A\"},\"line_alpha\":{\"value\":0.2},\"line_color\":{\"value\":\"#3B518A\"},\"x\":{\"field\":\"TimeGenerated\"},\"y\":{\"field\":\"y_index\"}},\"id\":\"1604\",\"type\":\"Circle\"},{\"attributes\":{\"coordinates\":null,\"group\":null,\"text\":\"Range Selector\"},\"id\":\"1553\",\"type\":\"Title\"},{\"attributes\":{\"data\":{\"AppResourceProvider\":[\"Exchange\",\"Exchange\",\"Exchange\",\"Exchange\",\"Exchange\",\"Exchange\",\"Exchange\",\"Exchange\",\"Exchange\",\"Exchange\",\"Exchange\",\"Exchange\",\"Exchange\",\"Exchange\",\"Exchange\",\"Exchange\",\"Exchange\",\"Exchange\",\"Exchange\",\"Exchange\",\"Exchange\",\"Exchange\",\"Exchange\",\"Exchange\",\"Exchange\",\"Exchange\",\"Exchange\",\"Exchange\",\"Exchange\",\"Exchange\",\"Exchange\",\"Exchange\",\"Exchange\",\"Exchange\",\"Exchange\",\"Exchange\",\"Exchange\",\"Exchange\",\"Exchange\",\"Exchange\",\"Exchange\",\"Exchange\",\"Exchange\",\"Exchange\",\"Exchange\",\"Exchange\",\"Exchange\",\"Exchange\",\"Exchange\",\"Exchange\",\"Exchange\",\"Exchange\",\"Exchange\",\"Exchange\",\"Exchange\",\"Exchange\",\"Exchange\",\"Exchange\",\"Exchange\",\"Exchange\",\"Exchange\",\"Exchange\",\"Exchange\",\"Exchange\",\"Exchange\",\"Exchange\",\"Exchange\",\"Exchange\",\"Exchange\",\"Exchange\"],\"IPAddress\":[\"2603:10b6:408:16a::13\",\"2603:10b6:408:16a::13\",\"2603:10b6:408:16a::13\",\"2603:10b6:408:16a::13\",\"2603:10b6:408:16a::13\",\"2603:10b6:408:16a::13\",\"2603:10b6:408:16a::13\",\"2603:10b6:408:16a::13\",\"2603:10b6:408:16a::13\",\"2603:10b6:408:16a::13\",\"2603:10b6:408:16a::13\",\"2603:10b6:408:16a::13\",\"2603:10b6:408:16a::13\",\"2603:10b6:408:16a::13\",\"2603:10b6:408:16a::13\",\"2603:10b6:408:16a::13\",\"2603:10b6:408:16a::13\",\"2603:10b6:408:16a::13\",\"2603:10b6:408:16a::13\",\"2603:10b6:408:16a::13\",\"2603:10b6:408:16a::13\",\"2603:10b6:408:16a::13\",\"2603:10b6:408:16a::13\",\"2603:10b6:408:16a::13\",\"2603:10b6:408:16a::13\",\"2603:10b6:408:16a::13\",\"2603:10b6:408:16a::13\",\"2603:10b6:408:16a::13\",\"2603:10b6:408:16a::13\",\"2603:10b6:408:16a::13\",\"2603:10b6:408:16a::13\",\"2603:10b6:408:16a::13\",\"2603:10b6:408:16a::13\",\"2603:10b6:408:16a::13\",\"2603:10b6:408:16a::13\",\"2603:10b6:408:16a::13\",\"2603:10b6:408:16a::13\",\"2603:10b6:408:16a::13\",\"2603:10b6:408:16a::13\",\"2603:10b6:408:16a::13\",\"2603:10b6:408:16a::13\",\"2603:10b6:408:16a::13\",\"2603:10b6:408:16a::13\",\"2603:10b6:408:16a::13\",\"2603:10b6:408:16a::13\",\"2603:10b6:408:16a::13\",\"2603:10b6:408:16a::13\",\"2603:10b6:408:16a::13\",\"2603:10b6:408:16a::13\",\"2603:10b6:408:16a::13\",\"2603:10b6:408:16a::13\",\"2603:10b6:408:16a::13\",\"2603:10b6:408:16a::13\",\"2603:10b6:408:16a::13\",\"2603:10b6:408:16a::13\",\"2603:10b6:408:16a::13\",\"2603:10b6:408:16a::13\",\"2603:10b6:408:16a::13\",\"2603:10b6:408:16a::13\",\"2603:10b6:408:16a::13\",\"2603:10b6:408:16a::13\",\"2603:10b6:408:16a::13\",\"2603:10b6:408:16a::13\",\"2603:10b6:408:16a::13\",\"2603:10b6:408:16a::13\",\"2603:10b6:408:16a::13\",\"2603:10b6:408:16a::13\",\"2603:10b6:408:16a::13\",\"2603:10b6:408:16a::13\",\"2603:10b6:408:16a::13\"],\"Operation\":[\"MailItemsAccessed\",\"MailItemsAccessed\",\"MailItemsAccessed\",\"MailItemsAccessed\",\"MailItemsAccessed\",\"MailItemsAccessed\",\"MailItemsAccessed\",\"MailItemsAccessed\",\"MailItemsAccessed\",\"MailItemsAccessed\",\"MailItemsAccessed\",\"MailItemsAccessed\",\"MailItemsAccessed\",\"MailItemsAccessed\",\"MailItemsAccessed\",\"MailItemsAccessed\",\"MailItemsAccessed\",\"MailItemsAccessed\",\"MailItemsAccessed\",\"MailItemsAccessed\",\"MailItemsAccessed\",\"MailItemsAccessed\",\"MailItemsAccessed\",\"MailItemsAccessed\",\"MailItemsAccessed\",\"MailItemsAccessed\",\"MailItemsAccessed\",\"MailItemsAccessed\",\"MailItemsAccessed\",\"MailItemsAccessed\",\"MailItemsAccessed\",\"MailItemsAccessed\",\"MailItemsAccessed\",\"MailItemsAccessed\",\"MailItemsAccessed\",\"MailItemsAccessed\",\"MailItemsAccessed\",\"MailItemsAccessed\",\"MailItemsAccessed\",\"MailItemsAccessed\",\"MailItemsAccessed\",\"MailItemsAccessed\",\"MailItemsAccessed\",\"MailItemsAccessed\",\"MailItemsAccessed\",\"MailItemsAccessed\",\"MailItemsAccessed\",\"MailItemsAccessed\",\"MailItemsAccessed\",\"MailItemsAccessed\",\"MailItemsAccessed\",\"MailItemsAccessed\",\"MailItemsAccessed\",\"MailItemsAccessed\",\"MailItemsAccessed\",\"MailItemsAccessed\",\"MailItemsAccessed\",\"MailItemsAccessed\",\"MailItemsAccessed\",\"MailItemsAccessed\",\"MailItemsAccessed\",\"MailItemsAccessed\",\"MailItemsAccessed\",\"MailItemsAccessed\",\"MailItemsAccessed\",\"MailItemsAccessed\",\"MailItemsAccessed\",\"MailItemsAccessed\",\"MailItemsAccessed\",\"MailItemsAccessed\"],\"TimeGenerated\":{\"__ndarray__\":\"AADA05gBeEIAgD+6ngF4QgAA+GqhAXhCAABfwqEBeEIAgPW/pgF4QgAAHZ2pAXhCAIB20aoBeEIAAOWlsAF4QgCA9XeyAXhCAADNGrMBeEIAAFb1uAF4QgCATdS8AXhCAABqLb0BeEIAgKxQvgF4QgAApC/CAXhCAIAgc8MBeEIAAAIsxwF4QgCA67nKAXhCAIA7AMsBeEIAgGt1ywF4QgAA9QzQAXhCAABgBNIBeEIAgGIC1AF4QgCAkHfbAXhCAIAzxdsBeEIAAOSg3gF4QgCAbNzgAXhCAADQLOQBeEIAAB4a5QF4QgCA/nbmAXhCAAA/R+cBeEIAgCq95wF4QgCA26jwAXhCAIB0S/EBeEIAgHwa8gF4QgAAYK/0AXhCAADzTPYBeEIAgDt19gF4QgCAGFr4AXhCAIBaSfkBeEIAAIIy+gF4QgAAVP78AXhCAIDFsf0BeEIAADJL/wF4QgAAp3AAAnhCAACOgwECeEIAgJaAAwJ4QgAAWjIJAnhCAICTBg0CeEIAgMsyEgJ4QgCAqI4VAnhCAAAv7hgCeEIAgHu8GQJ4QgCATQUdAnhCAABddR0CeEIAgA6/HwJ4QgAAjHAgAnhCAAAwlyMCeEIAgOdoJAJ4QgAAEpYkAnhCAIAX3iQCeEIAAOEjJwJ4QgCAS9sqAnhCAADu4i0CeEIAgCdMLgJ4QgAA7VwyAnhCAABF7zMCeEIAALzwMwJ4QgCA+YI0AnhCAIBY+TYCeEI=\",\"dtype\":\"float64\",\"order\":\"little\",\"shape\":[70]},\"index\":[291,294,311,297,301,308,304,322,326,343,328,351,299,331,359,314,337,362,365,318,356,357,354,333,335,373,374,340,372,370,345,349,377,278,411,379,380,382,414,442,446,384,280,416,388,418,391,452,282,393,395,455,457,458,398,283,286,428,461,401,403,462,289,431,406,290,434,438,465,467],\"y_index\":[15,15,15,15,15,15,15,15,15,15,15,15,15,15,15,15,15,15,15,15,15,15,15,15,15,15,15,15,15,15,15,15,15,15,15,15,15,15,15,15,15,15,15,15,15,15,15,15,15,15,15,15,15,15,15,15,15,15,15,15,15,15,15,15,15,15,15,15,15,15]},\"selected\":{\"id\":\"1854\"},\"selection_policy\":{\"id\":\"1853\"}},\"id\":\"1516\",\"type\":\"ColumnDataSource\"},{\"attributes\":{},\"id\":\"1542\",\"type\":\"SaveTool\"},{\"attributes\":{\"align\":\"right\",\"coordinates\":null,\"group\":null,\"text\":\"Drag the middle or edges of the selection box to change the range in the main chart\",\"text_font_size\":\"10px\"},\"id\":\"1568\",\"type\":\"Title\"},{\"attributes\":{\"tools\":[{\"id\":\"1519\"},{\"id\":\"1539\"},{\"id\":\"1540\"},{\"id\":\"1541\"},{\"id\":\"1542\"},{\"id\":\"1543\"}]},\"id\":\"1545\",\"type\":\"Toolbar\"},{\"attributes\":{},\"id\":\"1851\",\"type\":\"UnionRenderers\"},{\"attributes\":{},\"id\":\"1852\",\"type\":\"Selection\"},{\"attributes\":{\"coordinates\":null,\"formatter\":{\"id\":\"1817\"},\"group\":null,\"major_label_policy\":{\"id\":\"1818\"},\"ticker\":{\"id\":\"1536\"},\"visible\":false},\"id\":\"1535\",\"type\":\"LinearAxis\"},{\"attributes\":{},\"id\":\"1853\",\"type\":\"UnionRenderers\"},{\"attributes\":{},\"id\":\"1854\",\"type\":\"Selection\"},{\"attributes\":{},\"id\":\"1855\",\"type\":\"UnionRenderers\"},{\"attributes\":{},\"id\":\"1856\",\"type\":\"Selection\"},{\"attributes\":{},\"id\":\"1536\",\"type\":\"BasicTicker\"},{\"attributes\":{\"data\":{\"AppResourceProvider\":[\"Exchange\"],\"IPAddress\":[\"2603:10b6:208:357::21\"],\"Operation\":[\"MailItemsAccessed\"],\"TimeGenerated\":{\"__ndarray__\":\"AADuVQYCeEI=\",\"dtype\":\"float64\",\"order\":\"little\",\"shape\":[1]},\"index\":[450],\"y_index\":[11]},\"selected\":{\"id\":\"1846\"},\"selection_policy\":{\"id\":\"1845\"}},\"id\":\"1512\",\"type\":\"ColumnDataSource\"},{\"attributes\":{},\"id\":\"1857\",\"type\":\"UnionRenderers\"},{\"attributes\":{},\"id\":\"1858\",\"type\":\"Selection\"}],\"root_ids\":[\"1813\"]},\"title\":\"Bokeh Application\",\"version\":\"2.4.2\"}};\n",
       "  const render_items = [{\"docid\":\"845d9d84-957f-4523-9b03-39d3592ea078\",\"root_ids\":[\"1813\"],\"roots\":{\"1813\":\"caae7fd2-cf85-4ea4-9f8f-7cb9b754f79f\"}}];\n",
       "  root.Bokeh.embed.embed_items_notebook(docs_json, render_items);\n",
       "\n",
       "  }\n",
       "  if (root.Bokeh !== undefined) {\n",
       "    embed_document(root);\n",
       "  } else {\n",
       "    let attempts = 0;\n",
       "    const timer = setInterval(function(root) {\n",
       "      if (root.Bokeh !== undefined) {\n",
       "        clearInterval(timer);\n",
       "        embed_document(root);\n",
       "      } else {\n",
       "        attempts++;\n",
       "        if (attempts > 100) {\n",
       "          clearInterval(timer);\n",
       "          console.log(\"Bokeh: ERROR: Unable to run BokehJS code because BokehJS library is missing\");\n",
       "        }\n",
       "      }\n",
       "    }, 10, root)\n",
       "  }\n",
       "})(window);"
      ],
      "application/vnd.bokehjs_exec.v0+json": ""
     },
     "metadata": {
      "application/vnd.bokehjs_exec.v0+json": {
       "id": "1813"
      }
     },
     "output_type": "display_data"
    },
    {
     "data": {
      "text/html": [
       "\n",
       "    <div class=\"bk-root\">\n",
       "        <a href=\"https://bokeh.org\" target=\"_blank\" class=\"bk-logo bk-logo-small bk-logo-notebook\"></a>\n",
       "        <span id=\"2240\">Loading BokehJS ...</span>\n",
       "    </div>"
      ]
     },
     "metadata": {},
     "output_type": "display_data"
    },
    {
     "data": {
      "application/javascript": [
       "\n",
       "(function(root) {\n",
       "  function now() {\n",
       "    return new Date();\n",
       "  }\n",
       "\n",
       "  const force = true;\n",
       "\n",
       "  if (typeof root._bokeh_onload_callbacks === \"undefined\" || force === true) {\n",
       "    root._bokeh_onload_callbacks = [];\n",
       "    root._bokeh_is_loading = undefined;\n",
       "  }\n",
       "\n",
       "  const JS_MIME_TYPE = 'application/javascript';\n",
       "  const HTML_MIME_TYPE = 'text/html';\n",
       "  const EXEC_MIME_TYPE = 'application/vnd.bokehjs_exec.v0+json';\n",
       "  const CLASS_NAME = 'output_bokeh rendered_html';\n",
       "\n",
       "  /**\n",
       "   * Render data to the DOM node\n",
       "   */\n",
       "  function render(props, node) {\n",
       "    const script = document.createElement(\"script\");\n",
       "    node.appendChild(script);\n",
       "  }\n",
       "\n",
       "  /**\n",
       "   * Handle when an output is cleared or removed\n",
       "   */\n",
       "  function handleClearOutput(event, handle) {\n",
       "    const cell = handle.cell;\n",
       "\n",
       "    const id = cell.output_area._bokeh_element_id;\n",
       "    const server_id = cell.output_area._bokeh_server_id;\n",
       "    // Clean up Bokeh references\n",
       "    if (id != null && id in Bokeh.index) {\n",
       "      Bokeh.index[id].model.document.clear();\n",
       "      delete Bokeh.index[id];\n",
       "    }\n",
       "\n",
       "    if (server_id !== undefined) {\n",
       "      // Clean up Bokeh references\n",
       "      const cmd_clean = \"from bokeh.io.state import curstate; print(curstate().uuid_to_server['\" + server_id + \"'].get_sessions()[0].document.roots[0]._id)\";\n",
       "      cell.notebook.kernel.execute(cmd_clean, {\n",
       "        iopub: {\n",
       "          output: function(msg) {\n",
       "            const id = msg.content.text.trim();\n",
       "            if (id in Bokeh.index) {\n",
       "              Bokeh.index[id].model.document.clear();\n",
       "              delete Bokeh.index[id];\n",
       "            }\n",
       "          }\n",
       "        }\n",
       "      });\n",
       "      // Destroy server and session\n",
       "      const cmd_destroy = \"import bokeh.io.notebook as ion; ion.destroy_server('\" + server_id + \"')\";\n",
       "      cell.notebook.kernel.execute(cmd_destroy);\n",
       "    }\n",
       "  }\n",
       "\n",
       "  /**\n",
       "   * Handle when a new output is added\n",
       "   */\n",
       "  function handleAddOutput(event, handle) {\n",
       "    const output_area = handle.output_area;\n",
       "    const output = handle.output;\n",
       "\n",
       "    // limit handleAddOutput to display_data with EXEC_MIME_TYPE content only\n",
       "    if ((output.output_type != \"display_data\") || (!Object.prototype.hasOwnProperty.call(output.data, EXEC_MIME_TYPE))) {\n",
       "      return\n",
       "    }\n",
       "\n",
       "    const toinsert = output_area.element.find(\".\" + CLASS_NAME.split(' ')[0]);\n",
       "\n",
       "    if (output.metadata[EXEC_MIME_TYPE][\"id\"] !== undefined) {\n",
       "      toinsert[toinsert.length - 1].firstChild.textContent = output.data[JS_MIME_TYPE];\n",
       "      // store reference to embed id on output_area\n",
       "      output_area._bokeh_element_id = output.metadata[EXEC_MIME_TYPE][\"id\"];\n",
       "    }\n",
       "    if (output.metadata[EXEC_MIME_TYPE][\"server_id\"] !== undefined) {\n",
       "      const bk_div = document.createElement(\"div\");\n",
       "      bk_div.innerHTML = output.data[HTML_MIME_TYPE];\n",
       "      const script_attrs = bk_div.children[0].attributes;\n",
       "      for (let i = 0; i < script_attrs.length; i++) {\n",
       "        toinsert[toinsert.length - 1].firstChild.setAttribute(script_attrs[i].name, script_attrs[i].value);\n",
       "        toinsert[toinsert.length - 1].firstChild.textContent = bk_div.children[0].textContent\n",
       "      }\n",
       "      // store reference to server id on output_area\n",
       "      output_area._bokeh_server_id = output.metadata[EXEC_MIME_TYPE][\"server_id\"];\n",
       "    }\n",
       "  }\n",
       "\n",
       "  function register_renderer(events, OutputArea) {\n",
       "\n",
       "    function append_mime(data, metadata, element) {\n",
       "      // create a DOM node to render to\n",
       "      const toinsert = this.create_output_subarea(\n",
       "        metadata,\n",
       "        CLASS_NAME,\n",
       "        EXEC_MIME_TYPE\n",
       "      );\n",
       "      this.keyboard_manager.register_events(toinsert);\n",
       "      // Render to node\n",
       "      const props = {data: data, metadata: metadata[EXEC_MIME_TYPE]};\n",
       "      render(props, toinsert[toinsert.length - 1]);\n",
       "      element.append(toinsert);\n",
       "      return toinsert\n",
       "    }\n",
       "\n",
       "    /* Handle when an output is cleared or removed */\n",
       "    events.on('clear_output.CodeCell', handleClearOutput);\n",
       "    events.on('delete.Cell', handleClearOutput);\n",
       "\n",
       "    /* Handle when a new output is added */\n",
       "    events.on('output_added.OutputArea', handleAddOutput);\n",
       "\n",
       "    /**\n",
       "     * Register the mime type and append_mime function with output_area\n",
       "     */\n",
       "    OutputArea.prototype.register_mime_type(EXEC_MIME_TYPE, append_mime, {\n",
       "      /* Is output safe? */\n",
       "      safe: true,\n",
       "      /* Index of renderer in `output_area.display_order` */\n",
       "      index: 0\n",
       "    });\n",
       "  }\n",
       "\n",
       "  // register the mime type if in Jupyter Notebook environment and previously unregistered\n",
       "  if (root.Jupyter !== undefined) {\n",
       "    const events = require('base/js/events');\n",
       "    const OutputArea = require('notebook/js/outputarea').OutputArea;\n",
       "\n",
       "    if (OutputArea.prototype.mime_types().indexOf(EXEC_MIME_TYPE) == -1) {\n",
       "      register_renderer(events, OutputArea);\n",
       "    }\n",
       "  }\n",
       "\n",
       "  \n",
       "  if (typeof (root._bokeh_timeout) === \"undefined\" || force === true) {\n",
       "    root._bokeh_timeout = Date.now() + 5000;\n",
       "    root._bokeh_failed_load = false;\n",
       "  }\n",
       "\n",
       "  const NB_LOAD_WARNING = {'data': {'text/html':\n",
       "     \"<div style='background-color: #fdd'>\\n\"+\n",
       "     \"<p>\\n\"+\n",
       "     \"BokehJS does not appear to have successfully loaded. If loading BokehJS from CDN, this \\n\"+\n",
       "     \"may be due to a slow or bad network connection. Possible fixes:\\n\"+\n",
       "     \"</p>\\n\"+\n",
       "     \"<ul>\\n\"+\n",
       "     \"<li>re-rerun `output_notebook()` to attempt to load from CDN again, or</li>\\n\"+\n",
       "     \"<li>use INLINE resources instead, as so:</li>\\n\"+\n",
       "     \"</ul>\\n\"+\n",
       "     \"<code>\\n\"+\n",
       "     \"from bokeh.resources import INLINE\\n\"+\n",
       "     \"output_notebook(resources=INLINE)\\n\"+\n",
       "     \"</code>\\n\"+\n",
       "     \"</div>\"}};\n",
       "\n",
       "  function display_loaded() {\n",
       "    const el = document.getElementById(\"2240\");\n",
       "    if (el != null) {\n",
       "      el.textContent = \"BokehJS is loading...\";\n",
       "    }\n",
       "    if (root.Bokeh !== undefined) {\n",
       "      if (el != null) {\n",
       "        el.textContent = \"BokehJS \" + root.Bokeh.version + \" successfully loaded.\";\n",
       "      }\n",
       "    } else if (Date.now() < root._bokeh_timeout) {\n",
       "      setTimeout(display_loaded, 100)\n",
       "    }\n",
       "  }\n",
       "\n",
       "\n",
       "  function run_callbacks() {\n",
       "    try {\n",
       "      root._bokeh_onload_callbacks.forEach(function(callback) {\n",
       "        if (callback != null)\n",
       "          callback();\n",
       "      });\n",
       "    } finally {\n",
       "      delete root._bokeh_onload_callbacks\n",
       "    }\n",
       "    console.debug(\"Bokeh: all callbacks have finished\");\n",
       "  }\n",
       "\n",
       "  function load_libs(css_urls, js_urls, callback) {\n",
       "    if (css_urls == null) css_urls = [];\n",
       "    if (js_urls == null) js_urls = [];\n",
       "\n",
       "    root._bokeh_onload_callbacks.push(callback);\n",
       "    if (root._bokeh_is_loading > 0) {\n",
       "      console.debug(\"Bokeh: BokehJS is being loaded, scheduling callback at\", now());\n",
       "      return null;\n",
       "    }\n",
       "    if (js_urls == null || js_urls.length === 0) {\n",
       "      run_callbacks();\n",
       "      return null;\n",
       "    }\n",
       "    console.debug(\"Bokeh: BokehJS not loaded, scheduling load and callback at\", now());\n",
       "    root._bokeh_is_loading = css_urls.length + js_urls.length;\n",
       "\n",
       "    function on_load() {\n",
       "      root._bokeh_is_loading--;\n",
       "      if (root._bokeh_is_loading === 0) {\n",
       "        console.debug(\"Bokeh: all BokehJS libraries/stylesheets loaded\");\n",
       "        run_callbacks()\n",
       "      }\n",
       "    }\n",
       "\n",
       "    function on_error(url) {\n",
       "      console.error(\"failed to load \" + url);\n",
       "    }\n",
       "\n",
       "    for (let i = 0; i < css_urls.length; i++) {\n",
       "      const url = css_urls[i];\n",
       "      const element = document.createElement(\"link\");\n",
       "      element.onload = on_load;\n",
       "      element.onerror = on_error.bind(null, url);\n",
       "      element.rel = \"stylesheet\";\n",
       "      element.type = \"text/css\";\n",
       "      element.href = url;\n",
       "      console.debug(\"Bokeh: injecting link tag for BokehJS stylesheet: \", url);\n",
       "      document.body.appendChild(element);\n",
       "    }\n",
       "\n",
       "    for (let i = 0; i < js_urls.length; i++) {\n",
       "      const url = js_urls[i];\n",
       "      const element = document.createElement('script');\n",
       "      element.onload = on_load;\n",
       "      element.onerror = on_error.bind(null, url);\n",
       "      element.async = false;\n",
       "      element.src = url;\n",
       "      console.debug(\"Bokeh: injecting script tag for BokehJS library: \", url);\n",
       "      document.head.appendChild(element);\n",
       "    }\n",
       "  };\n",
       "\n",
       "  function inject_raw_css(css) {\n",
       "    const element = document.createElement(\"style\");\n",
       "    element.appendChild(document.createTextNode(css));\n",
       "    document.body.appendChild(element);\n",
       "  }\n",
       "\n",
       "  \n",
       "  const js_urls = [\"https://cdn.bokeh.org/bokeh/release/bokeh-2.4.2.min.js\", \"https://cdn.bokeh.org/bokeh/release/bokeh-gl-2.4.2.min.js\", \"https://cdn.bokeh.org/bokeh/release/bokeh-widgets-2.4.2.min.js\", \"https://cdn.bokeh.org/bokeh/release/bokeh-tables-2.4.2.min.js\", \"https://cdn.bokeh.org/bokeh/release/bokeh-mathjax-2.4.2.min.js\"];\n",
       "  const css_urls = [];\n",
       "  \n",
       "\n",
       "  const inline_js = [\n",
       "    function(Bokeh) {\n",
       "      Bokeh.set_log_level(\"info\");\n",
       "    },\n",
       "    function(Bokeh) {\n",
       "    \n",
       "    \n",
       "    }\n",
       "  ];\n",
       "\n",
       "  function run_inline_js() {\n",
       "    \n",
       "    if (root.Bokeh !== undefined || force === true) {\n",
       "      \n",
       "    for (let i = 0; i < inline_js.length; i++) {\n",
       "      inline_js[i].call(root, root.Bokeh);\n",
       "    }\n",
       "    if (force === true) {\n",
       "        display_loaded();\n",
       "      }} else if (Date.now() < root._bokeh_timeout) {\n",
       "      setTimeout(run_inline_js, 100);\n",
       "    } else if (!root._bokeh_failed_load) {\n",
       "      console.log(\"Bokeh: BokehJS failed to load within specified timeout.\");\n",
       "      root._bokeh_failed_load = true;\n",
       "    } else if (force !== true) {\n",
       "      const cell = $(document.getElementById(\"2240\")).parents('.cell').data().cell;\n",
       "      cell.output_area.append_execute_result(NB_LOAD_WARNING)\n",
       "    }\n",
       "\n",
       "  }\n",
       "\n",
       "  if (root._bokeh_is_loading === 0) {\n",
       "    console.debug(\"Bokeh: BokehJS loaded, going straight to plotting\");\n",
       "    run_inline_js();\n",
       "  } else {\n",
       "    load_libs(css_urls, js_urls, function() {\n",
       "      console.debug(\"Bokeh: BokehJS plotting callback run at\", now());\n",
       "      run_inline_js();\n",
       "    });\n",
       "  }\n",
       "}(window));"
      ],
      "application/vnd.bokehjs_load.v0+json": ""
     },
     "metadata": {},
     "output_type": "display_data"
    },
    {
     "data": {
      "text/html": [
       "\n",
       "\n",
       "\n",
       "\n",
       "\n",
       "\n",
       "  <div class=\"bk-root\" id=\"487bd4bf-a389-4723-8f45-a50f63a263fd\" data-root-id=\"2371\"></div>\n"
      ]
     },
     "metadata": {},
     "output_type": "display_data"
    },
    {
     "data": {
      "application/javascript": [
       "(function(root) {\n",
       "  function embed_document(root) {\n",
       "    \n",
       "  const docs_json = {\"78f2d5ae-9ebf-4164-acf9-80afbeacc921\":{\"defs\":[],\"roots\":{\"references\":[{\"attributes\":{\"children\":[{\"id\":\"2247\"},{\"id\":\"2279\"}]},\"id\":\"2371\",\"type\":\"Column\"},{\"attributes\":{\"fill_alpha\":{\"value\":0.5},\"fill_color\":{\"value\":\"#29788E\"},\"hatch_alpha\":{\"value\":0.5},\"hatch_color\":{\"value\":\"#29788E\"},\"line_alpha\":{\"value\":0.5},\"line_color\":{\"value\":\"#29788E\"},\"marker\":{\"value\":\"diamond\"},\"size\":{\"value\":10},\"x\":{\"field\":\"TimeGenerated\"},\"y\":{\"field\":\"y_index\"}},\"id\":\"2350\",\"type\":\"Scatter\"},{\"attributes\":{\"callback\":null,\"tooltips\":[[\"AppResourceProvider\",\"@AppResourceProvider\"],[\"Operation\",\"@Operation\"],[\"TimeGenerated\",\"@TimeGenerated\"],[\"IPAddress\",\"@IPAddress\"]]},\"id\":\"2246\",\"type\":\"HoverTool\"},{\"attributes\":{},\"id\":\"2383\",\"type\":\"UnionRenderers\"},{\"attributes\":{\"fill_alpha\":{\"value\":0.2},\"fill_color\":{\"value\":\"#29788E\"},\"hatch_alpha\":{\"value\":0.2},\"hatch_color\":{\"value\":\"#29788E\"},\"line_alpha\":{\"value\":0.2},\"line_color\":{\"value\":\"#29788E\"},\"x\":{\"field\":\"TimeGenerated\"},\"y\":{\"field\":\"y_index\"}},\"id\":\"2313\",\"type\":\"Circle\"},{\"attributes\":{\"label\":{\"value\":\"Create\"},\"renderers\":[{\"id\":\"2339\"}]},\"id\":\"2341\",\"type\":\"LegendItem\"},{\"attributes\":{\"fill_alpha\":{\"value\":0.2},\"fill_color\":{\"value\":\"#440154\"},\"hatch_alpha\":{\"value\":0.2},\"hatch_color\":{\"value\":\"#440154\"},\"line_alpha\":{\"value\":0.2},\"line_color\":{\"value\":\"#440154\"},\"x\":{\"field\":\"TimeGenerated\"},\"y\":{\"field\":\"y_index\"}},\"id\":\"2301\",\"type\":\"Circle\"},{\"attributes\":{\"coordinates\":null,\"data_source\":{\"id\":\"2243\"},\"glyph\":{\"id\":\"2311\"},\"group\":null,\"hover_glyph\":null,\"muted_glyph\":{\"id\":\"2313\"},\"nonselection_glyph\":{\"id\":\"2312\"},\"view\":{\"id\":\"2315\"}},\"id\":\"2314\",\"type\":\"GlyphRenderer\"},{\"attributes\":{\"fill_alpha\":{\"value\":0.1},\"fill_color\":{\"value\":\"#404387\"},\"hatch_alpha\":{\"value\":0.1},\"hatch_color\":{\"value\":\"#404387\"},\"line_alpha\":{\"value\":0.1},\"line_color\":{\"value\":\"#404387\"},\"marker\":{\"value\":\"diamond\"},\"size\":{\"value\":10},\"x\":{\"field\":\"TimeGenerated\"},\"y\":{\"field\":\"y_index\"}},\"id\":\"2344\",\"type\":\"Scatter\"},{\"attributes\":{},\"id\":\"2385\",\"type\":\"UnionRenderers\"},{\"attributes\":{},\"id\":\"2384\",\"type\":\"Selection\"},{\"attributes\":{\"source\":{\"id\":\"2241\"}},\"id\":\"2340\",\"type\":\"CDSView\"},{\"attributes\":{},\"id\":\"2386\",\"type\":\"Selection\"},{\"attributes\":{\"fill_alpha\":{\"value\":0.5},\"fill_color\":{\"value\":\"#404387\"},\"hatch_alpha\":{\"value\":0.5},\"hatch_color\":{\"value\":\"#404387\"},\"line_alpha\":{\"value\":0.5},\"line_color\":{\"value\":\"#404387\"},\"marker\":{\"value\":\"diamond\"},\"size\":{\"value\":10},\"x\":{\"field\":\"TimeGenerated\"},\"y\":{\"field\":\"y_index\"}},\"id\":\"2343\",\"type\":\"Scatter\"},{\"attributes\":{\"source\":{\"id\":\"2241\"}},\"id\":\"2303\",\"type\":\"CDSView\"},{\"attributes\":{\"fill_alpha\":{\"value\":0.1},\"fill_color\":{\"value\":\"#29788E\"},\"hatch_alpha\":{\"value\":0.1},\"hatch_color\":{\"value\":\"#29788E\"},\"line_alpha\":{\"value\":0.1},\"line_color\":{\"value\":\"#29788E\"},\"x\":{\"field\":\"TimeGenerated\"},\"y\":{\"field\":\"y_index\"}},\"id\":\"2312\",\"type\":\"Circle\"},{\"attributes\":{\"fill_alpha\":{\"value\":0.1},\"fill_color\":{\"value\":\"#404387\"},\"hatch_alpha\":{\"value\":0.1},\"hatch_color\":{\"value\":\"#404387\"},\"line_alpha\":{\"value\":0.1},\"line_color\":{\"value\":\"#404387\"},\"x\":{\"field\":\"TimeGenerated\"},\"y\":{\"field\":\"y_index\"}},\"id\":\"2306\",\"type\":\"Circle\"},{\"attributes\":{\"coordinates\":null,\"data_source\":{\"id\":\"2241\"},\"glyph\":{\"id\":\"2299\"},\"group\":null,\"hover_glyph\":null,\"muted_glyph\":{\"id\":\"2301\"},\"nonselection_glyph\":{\"id\":\"2300\"},\"view\":{\"id\":\"2303\"}},\"id\":\"2302\",\"type\":\"GlyphRenderer\"},{\"attributes\":{},\"id\":\"2387\",\"type\":\"UnionRenderers\"},{\"attributes\":{\"source\":{\"id\":\"2242\"}},\"id\":\"2347\",\"type\":\"CDSView\"},{\"attributes\":{\"data\":{\"AppResourceProvider\":[\"CAttack\",\"CAttack\",\"CAttack\",\"CAttack\",\"CAttack\",\"CAttack\",\"CAttack\",\"CAttack\",\"CAttack\",\"CAttack\",\"CAttack\",\"CAttack\",\"CAttack\",\"CAttack\",\"CAttack\",\"CAttack\",\"CAttack\",\"CAttack\",\"CAttack\",\"CAttack\",\"CAttack\",\"CAttack\",\"CAttack\",\"CAttack\",\"CAttack\",\"CAttack\",\"CAttack\",\"CAttack\",\"CAttack\",\"CAttack\",\"CAttack\",\"CAttack\",\"CAttack\",\"CAttack\",\"CAttack\",\"CAttack\",\"CAttack\",\"CAttack\",\"CAttack\",\"CAttack\",\"CAttack\",\"CAttack\",\"CAttack\",\"CAttack\",\"CAttack\",\"CAttack\",\"CAttack\",\"CAttack\",\"CAttack\",\"CAttack\",\"CAttack\",\"CAttack\",\"CAttack\",\"CAttack\",\"CAttack\",\"CAttack\",\"CAttack\",\"CAttack\",\"CAttack\",\"CAttack\",\"CAttack\",\"CAttack\",\"CAttack\",\"CAttack\",\"CAttack\",\"CAttack\",\"CAttack\",\"CAttack\",\"CAttack\",\"CAttack\",\"CAttack\",\"CAttack\",\"CAttack\",\"CAttack\",\"CAttack\",\"CAttack\",\"CAttack\",\"CAttack\",\"CAttack\",\"CAttack\",\"CAttack\",\"CAttack\",\"CAttack\",\"CAttack\",\"CAttack\",\"CAttack\",\"CAttack\",\"CAttack\",\"CAttack\",\"CAttack\",\"CAttack\",\"CAttack\",\"CAttack\",\"CAttack\",\"CAttack\",\"CAttack\",\"CAttack\",\"CAttack\",\"CAttack\",\"CAttack\",\"CAttack\",\"CAttack\",\"CAttack\",\"CAttack\",\"CAttack\",\"CAttack\",\"CAttack\",\"CAttack\",\"CAttack\",\"CAttack\",\"CAttack\",\"CAttack\",\"CAttack\",\"CAttack\",\"CAttack\",\"CAttack\",\"CAttack\",\"CAttack\",\"CAttack\",\"CAttack\",\"CAttack\",\"CAttack\",\"CAttack\",\"CAttack\",\"CAttack\",\"CAttack\",\"CAttack\",\"CAttack\",\"CAttack\",\"CAttack\",\"CAttack\",\"CAttack\",\"CAttack\",\"CAttack\",\"CAttack\",\"CAttack\",\"CAttack\",\"CAttack\",\"CAttack\",\"CAttack\",\"CAttack\",\"CAttack\",\"CAttack\",\"CAttack\",\"CAttack\",\"CAttack\",\"CAttack\",\"CAttack\",\"CAttack\",\"CAttack\",\"CAttack\",\"CAttack\",\"CAttack\",\"CAttack\",\"CAttack\",\"CAttack\",\"CAttack\",\"CAttack\",\"CAttack\",\"CAttack\",\"CAttack\",\"CAttack\",\"CAttack\",\"CAttack\",\"CAttack\",\"CAttack\",\"CAttack\",\"CAttack\",\"CAttack\",\"CAttack\",\"CAttack\",\"CAttack\",\"CAttack\",\"CAttack\",\"CAttack\",\"CAttack\",\"CAttack\",\"CAttack\",\"CAttack\",\"CAttack\",\"CAttack\",\"CAttack\",\"CAttack\",\"CAttack\",\"CAttack\",\"CAttack\",\"CAttack\",\"CAttack\",\"CAttack\",\"CAttack\",\"CAttack\",\"CAttack\",\"CAttack\",\"CAttack\",\"CAttack\",\"CAttack\",\"CAttack\",\"CAttack\",\"CAttack\",\"CAttack\",\"CAttack\",\"CAttack\",\"CAttack\",\"CAttack\",\"CAttack\",\"CAttack\",\"CAttack\",\"CAttack\",\"CAttack\",\"CAttack\",\"CAttack\",\"CAttack\",\"CAttack\",\"CAttack\",\"CAttack\",\"CAttack\",\"CAttack\",\"CAttack\",\"CAttack\",\"CAttack\",\"CAttack\",\"CAttack\",\"CAttack\",\"CAttack\",\"CAttack\",\"CAttack\",\"CAttack\",\"CAttack\",\"CAttack\",\"CAttack\",\"CAttack\",\"CAttack\",\"CAttack\",\"CAttack\",\"CAttack\",\"Office 365 Exchange Online\",\"CAttack\",\"CAttack\",\"CAttack\",\"CAttack\",\"CAttack\",\"CAttack\",\"CAttack\",\"CAttack\",\"CAttack\",\"CAttack\",\"CAttack\",\"CAttack\",\"CAttack\",\"CAttack\",\"CAttack\",\"CAttack\",\"CAttack\",\"CAttack\",\"CAttack\",\"CAttack\",\"CAttack\",\"CAttack\",\"CAttack\",\"CAttack\",\"CAttack\",\"CAttack\",\"CAttack\",\"CAttack\",\"CAttack\",\"CAttack\",\"CAttack\",\"CAttack\",\"CAttack\",\"CAttack\",\"CAttack\",\"CAttack\",\"CAttack\",\"CAttack\",\"CAttack\",\"CAttack\",\"CAttack\"],\"IPAddress\":[\"20.37.212.69\",\"20.70.208.63\",\"20.37.253.233\",\"20.70.208.63\",\"20.70.208.63\",\"20.70.208.63\",\"20.37.212.69\",\"20.37.213.236\",\"20.70.208.63\",\"20.37.212.69\",\"20.37.212.69\",\"20.37.212.69\",\"20.37.255.76\",\"20.37.255.76\",\"20.37.212.69\",\"20.37.212.69\",\"20.70.208.63\",\"20.70.208.63\",\"20.37.213.236\",\"20.53.9.84\",\"20.53.9.84\",\"20.53.9.84\",\"20.37.213.236\",\"20.37.213.236\",\"20.37.213.236\",\"20.70.208.63\",\"20.37.212.69\",\"20.53.9.84\",\"20.53.9.84\",\"20.53.9.84\",\"20.37.213.236\",\"20.37.213.236\",\"20.37.253.233\",\"20.53.9.84\",\"20.70.208.63\",\"20.70.208.63\",\"20.37.213.236\",\"20.37.253.233\",\"20.37.213.236\",\"20.37.253.233\",\"20.37.253.233\",\"20.53.9.84\",\"20.37.253.233\",\"20.37.253.233\",\"20.37.212.69\",\"20.37.212.69\",\"20.37.212.69\",\"20.70.208.63\",\"20.70.208.63\",\"20.37.253.233\",\"20.53.9.84\",\"20.53.9.84\",\"20.37.212.69\",\"20.53.9.84\",\"20.53.9.84\",\"20.70.208.63\",\"20.37.212.69\",\"20.37.255.76\",\"20.37.212.69\",\"20.53.9.84\",\"20.53.9.84\",\"20.37.255.76\",\"20.37.212.69\",\"20.37.213.236\",\"20.37.255.76\",\"20.70.208.63\",\"20.37.255.76\",\"20.37.253.233\",\"20.37.213.236\",\"20.37.213.236\",\"20.53.9.84\",\"20.37.255.76\",\"20.70.208.63\",\"20.70.208.63\",\"20.37.255.76\",\"20.37.213.236\",\"20.53.9.84\",\"20.37.213.236\",\"20.70.208.63\",\"20.37.255.76\",\"20.70.208.63\",\"20.37.253.233\",\"20.37.213.236\",\"20.70.208.63\",\"20.37.212.69\",\"20.37.253.233\",\"20.37.213.236\",\"20.37.255.76\",\"20.37.213.236\",\"20.70.208.63\",\"20.37.253.233\",\"20.37.253.233\",\"20.70.208.63\",\"20.37.212.69\",\"20.37.253.233\",\"20.37.255.76\",\"20.37.253.233\",\"20.70.208.63\",\"20.37.253.233\",\"20.37.213.236\",\"20.53.9.84\",\"20.37.212.69\",\"20.37.253.233\",\"20.37.213.236\",\"20.37.255.76\",\"20.53.9.84\",\"20.70.208.63\",\"20.37.255.76\",\"20.70.208.63\",\"20.37.213.236\",\"20.53.9.84\",\"20.37.253.233\",\"20.70.208.63\",\"20.37.213.236\",\"20.37.213.236\",\"20.37.212.69\",\"20.37.253.233\",\"20.70.208.63\",\"20.37.212.69\",\"20.37.255.76\",\"20.37.253.233\",\"20.37.212.69\",\"20.37.255.76\",\"20.70.208.63\",\"20.37.255.76\",\"20.37.253.233\",\"20.37.255.76\",\"20.37.213.236\",\"20.37.213.236\",\"20.53.9.84\",\"20.37.213.236\",\"20.37.253.233\",\"20.37.253.233\",\"20.70.208.63\",\"20.70.208.63\",\"20.53.9.84\",\"20.53.9.84\",\"20.37.213.236\",\"20.37.253.233\",\"20.37.255.76\",\"20.37.212.69\",\"20.70.208.63\",\"20.37.213.236\",\"20.37.253.233\",\"20.70.208.63\",\"20.37.253.233\",\"20.37.213.236\",\"20.37.255.76\",\"20.53.9.84\",\"20.37.253.233\",\"20.37.212.69\",\"20.37.253.233\",\"20.37.253.233\",\"20.70.208.63\",\"20.70.208.63\",\"20.53.9.84\",\"20.53.9.84\",\"20.37.253.233\",\"20.53.9.84\",\"20.53.9.84\",\"20.37.212.69\",\"20.37.213.236\",\"20.37.213.236\",\"20.70.208.63\",\"20.37.255.76\",\"20.37.255.76\",\"20.37.255.76\",\"20.70.208.63\",\"20.53.9.84\",\"20.53.9.84\",\"20.37.213.236\",\"20.37.213.236\",\"20.37.213.236\",\"20.70.208.63\",\"20.37.253.233\",\"20.37.213.236\",\"20.53.9.84\",\"20.37.253.233\",\"20.37.253.233\",\"20.53.9.84\",\"20.53.9.84\",\"20.53.9.84\",\"20.70.208.63\",\"20.37.253.233\",\"20.37.253.233\",\"20.37.253.233\",\"20.37.212.69\",\"20.37.212.69\",\"20.37.255.76\",\"20.37.255.76\",\"20.37.255.76\",\"20.53.9.84\",\"20.53.9.84\",\"20.37.213.236\",\"20.53.9.84\",\"20.37.213.236\",\"20.37.253.233\",\"20.37.253.233\",\"20.37.253.233\",\"20.37.253.233\",\"20.37.213.236\",\"20.37.253.233\",\"20.53.9.84\",\"20.53.9.84\",\"20.37.255.76\",\"20.37.253.233\",\"20.37.255.76\",\"20.53.9.84\",\"20.53.9.84\",\"20.37.253.233\",\"20.37.253.233\",\"20.37.253.233\",\"20.37.213.236\",\"20.53.9.84\",\"20.37.212.69\",\"20.37.212.69\",\"20.37.253.233\",\"20.37.253.233\",\"20.70.208.63\",\"20.37.213.236\",\"20.53.9.84\",\"20.53.9.84\",\"20.37.253.233\",\"20.53.9.84\",\"20.53.9.84\",\"20.37.212.69\",\"20.53.9.84\",\"20.37.255.76\",\"20.37.255.76\",\"20.37.212.69\",\"20.37.213.236\",\"20.37.253.233\",\"20.37.253.233\",\"20.37.253.233\",\"20.37.213.236\",\"20.37.213.236\",\"20.37.255.76\",\"20.37.213.236\",\"20.37.213.236\",\"20.53.9.84\",\"20.37.253.233\",\"20.37.253.233\",\"20.53.9.84\",\"20.53.9.84\",\"20.70.208.63\",\"20.70.208.63\",\"20.70.208.63\",\"20.70.208.63\",\"20.70.208.63\",\"20.37.255.76\",\"20.37.253.233\",\"20.37.255.76\",\"20.37.212.69\",\"20.37.255.76\",\"20.37.213.236\",\"20.37.213.236\",\"20.53.9.84\",\"20.70.208.63\",\"20.37.212.69\",\"20.37.213.236\",\"20.37.212.69\",\"20.37.253.233\",\"20.37.253.233\",\"20.37.253.233\",\"20.37.255.76\",\"20.70.208.63\",\"20.37.213.236\",\"20.37.213.236\",\"20.37.255.76\",\"20.70.208.63\",\"20.37.213.236\",\"20.37.253.233\",\"20.70.208.63\",\"20.37.255.76\",\"20.37.212.69\",\"20.37.212.69\",\"20.53.9.84\"],\"Operation\":[\"Sign-in activity\",\"Sign-in activity\",\"Sign-in activity\",\"Sign-in activity\",\"Sign-in activity\",\"Sign-in activity\",\"Sign-in activity\",\"Sign-in activity\",\"Sign-in activity\",\"Sign-in activity\",\"Sign-in activity\",\"Sign-in activity\",\"Sign-in activity\",\"Sign-in activity\",\"Sign-in activity\",\"Sign-in activity\",\"Sign-in activity\",\"Sign-in activity\",\"Sign-in activity\",\"Sign-in activity\",\"Sign-in activity\",\"Sign-in activity\",\"Sign-in activity\",\"Sign-in activity\",\"Sign-in activity\",\"Sign-in activity\",\"Sign-in activity\",\"Sign-in activity\",\"Sign-in activity\",\"Sign-in activity\",\"Sign-in activity\",\"Sign-in activity\",\"Sign-in activity\",\"Sign-in activity\",\"Sign-in activity\",\"Sign-in activity\",\"Sign-in activity\",\"Sign-in activity\",\"Sign-in activity\",\"Sign-in activity\",\"Sign-in activity\",\"Sign-in activity\",\"Sign-in activity\",\"Sign-in activity\",\"Sign-in activity\",\"Sign-in activity\",\"Sign-in activity\",\"Sign-in activity\",\"Sign-in activity\",\"Sign-in activity\",\"Sign-in activity\",\"Sign-in activity\",\"Sign-in activity\",\"Sign-in activity\",\"Sign-in activity\",\"Sign-in activity\",\"Sign-in activity\",\"Sign-in activity\",\"Sign-in activity\",\"Sign-in activity\",\"Sign-in activity\",\"Sign-in activity\",\"Sign-in activity\",\"Sign-in activity\",\"Sign-in activity\",\"Sign-in activity\",\"Sign-in activity\",\"Sign-in activity\",\"Sign-in activity\",\"Sign-in activity\",\"Sign-in activity\",\"Sign-in activity\",\"Sign-in activity\",\"Sign-in activity\",\"Sign-in activity\",\"Sign-in activity\",\"Sign-in activity\",\"Sign-in activity\",\"Sign-in activity\",\"Sign-in activity\",\"Sign-in activity\",\"Sign-in activity\",\"Sign-in activity\",\"Sign-in activity\",\"Sign-in activity\",\"Sign-in activity\",\"Sign-in activity\",\"Sign-in activity\",\"Sign-in activity\",\"Sign-in activity\",\"Sign-in activity\",\"Sign-in activity\",\"Sign-in activity\",\"Sign-in activity\",\"Sign-in activity\",\"Sign-in activity\",\"Sign-in activity\",\"Sign-in activity\",\"Sign-in activity\",\"Sign-in activity\",\"Sign-in activity\",\"Sign-in activity\",\"Sign-in activity\",\"Sign-in activity\",\"Sign-in activity\",\"Sign-in activity\",\"Sign-in activity\",\"Sign-in activity\",\"Sign-in activity\",\"Sign-in activity\",\"Sign-in activity\",\"Sign-in activity\",\"Sign-in activity\",\"Sign-in activity\",\"Sign-in activity\",\"Sign-in activity\",\"Sign-in activity\",\"Sign-in activity\",\"Sign-in activity\",\"Sign-in activity\",\"Sign-in activity\",\"Sign-in activity\",\"Sign-in activity\",\"Sign-in activity\",\"Sign-in activity\",\"Sign-in activity\",\"Sign-in activity\",\"Sign-in activity\",\"Sign-in activity\",\"Sign-in activity\",\"Sign-in activity\",\"Sign-in activity\",\"Sign-in activity\",\"Sign-in activity\",\"Sign-in activity\",\"Sign-in activity\",\"Sign-in activity\",\"Sign-in activity\",\"Sign-in activity\",\"Sign-in activity\",\"Sign-in activity\",\"Sign-in activity\",\"Sign-in activity\",\"Sign-in activity\",\"Sign-in activity\",\"Sign-in activity\",\"Sign-in activity\",\"Sign-in activity\",\"Sign-in activity\",\"Sign-in activity\",\"Sign-in activity\",\"Sign-in activity\",\"Sign-in activity\",\"Sign-in activity\",\"Sign-in activity\",\"Sign-in activity\",\"Sign-in activity\",\"Sign-in activity\",\"Sign-in activity\",\"Sign-in activity\",\"Sign-in activity\",\"Sign-in activity\",\"Sign-in activity\",\"Sign-in activity\",\"Sign-in activity\",\"Sign-in activity\",\"Sign-in activity\",\"Sign-in activity\",\"Sign-in activity\",\"Sign-in activity\",\"Sign-in activity\",\"Sign-in activity\",\"Sign-in activity\",\"Sign-in activity\",\"Sign-in activity\",\"Sign-in activity\",\"Sign-in activity\",\"Sign-in activity\",\"Sign-in activity\",\"Sign-in activity\",\"Sign-in activity\",\"Sign-in activity\",\"Sign-in activity\",\"Sign-in activity\",\"Sign-in activity\",\"Sign-in activity\",\"Sign-in activity\",\"Sign-in activity\",\"Sign-in activity\",\"Sign-in activity\",\"Sign-in activity\",\"Sign-in activity\",\"Sign-in activity\",\"Sign-in activity\",\"Sign-in activity\",\"Sign-in activity\",\"Sign-in activity\",\"Sign-in activity\",\"Sign-in activity\",\"Sign-in activity\",\"Sign-in activity\",\"Sign-in activity\",\"Sign-in activity\",\"Sign-in activity\",\"Sign-in activity\",\"Sign-in activity\",\"Sign-in activity\",\"Sign-in activity\",\"Sign-in activity\",\"Sign-in activity\",\"Sign-in activity\",\"Sign-in activity\",\"Sign-in activity\",\"Sign-in activity\",\"Sign-in activity\",\"Sign-in activity\",\"Sign-in activity\",\"Sign-in activity\",\"Sign-in activity\",\"Sign-in activity\",\"Sign-in activity\",\"Sign-in activity\",\"Sign-in activity\",\"Sign-in activity\",\"Sign-in activity\",\"Sign-in activity\",\"Sign-in activity\",\"Sign-in activity\",\"Sign-in activity\",\"Sign-in activity\",\"Sign-in activity\",\"Sign-in activity\",\"Sign-in activity\",\"Sign-in activity\",\"Sign-in activity\",\"Sign-in activity\",\"Sign-in activity\",\"Sign-in activity\",\"Sign-in activity\",\"Sign-in activity\",\"Sign-in activity\",\"Sign-in activity\",\"Sign-in activity\",\"Sign-in activity\",\"Sign-in activity\",\"Sign-in activity\",\"Sign-in activity\",\"Sign-in activity\",\"Sign-in activity\",\"Sign-in activity\",\"Sign-in activity\",\"Sign-in activity\",\"Sign-in activity\",\"Sign-in activity\",\"Sign-in activity\",\"Sign-in activity\",\"Sign-in activity\",\"Sign-in activity\",\"Sign-in activity\",\"Sign-in activity\",\"Sign-in activity\",\"Sign-in activity\",\"Sign-in activity\",\"Sign-in activity\",\"Sign-in activity\",\"Sign-in activity\",\"Sign-in activity\",\"Sign-in activity\",\"Sign-in activity\",\"Sign-in activity\",\"Sign-in activity\",\"Sign-in activity\",\"Sign-in activity\",\"Sign-in activity\",\"Sign-in activity\",\"Sign-in activity\",\"Sign-in activity\"],\"TimeGenerated\":{\"__ndarray__\":\"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\",\"dtype\":\"float64\",\"order\":\"little\",\"shape\":[277]},\"index\":[221,220,225,230,229,231,222,232,223,237,233,235,238,239,236,224,234,226,227,240,241,242,228,116,117,118,123,122,121,124,119,120,125,127,126,128,131,132,139,134,136,144,130,133,135,137,138,142,143,145,148,129,146,150,153,152,151,154,156,157,149,158,159,161,141,167,140,147,175,176,155,183,169,170,172,162,160,173,174,163,185,165,187,181,164,186,166,188,168,171,177,178,179,180,182,184,191,192,195,196,190,198,189,194,199,200,193,202,197,209,214,206,201,204,205,207,203,215,208,217,210,216,212,213,219,218,211,8,9,0,1,2,3,4,13,11,10,12,5,17,26,6,7,16,14,22,20,27,25,29,30,32,31,28,33,34,35,42,44,38,46,47,40,49,60,52,65,15,70,41,43,21,18,19,23,24,68,77,76,79,82,81,85,86,51,54,58,56,57,55,75,61,62,64,88,63,69,67,71,90,37,36,72,39,73,45,92,48,50,53,100,99,59,89,80,66,83,84,94,103,96,95,87,74,93,98,105,108,97,102,78,101,109,110,113,111,112,104,114,115,91,106,107,261,262,263,252,243,244,264,245,253,254,271,265,266,246,272,247,255,273,274,248,256,257,249,267,268,269,258,270,275,259,250,251,260,276],\"y_index\":[4,4,4,4,4,4,4,4,4,4,4,4,4,4,4,4,4,4,4,4,4,4,4,4,4,4,4,4,4,4,4,4,4,4,4,4,4,4,4,4,4,4,4,4,4,4,4,4,4,4,4,4,4,4,4,4,4,4,4,4,4,4,4,4,4,4,4,4,4,4,4,4,4,4,4,4,4,4,4,4,4,4,4,4,4,4,4,4,4,4,4,4,4,4,4,4,4,4,4,4,4,4,4,4,4,4,4,4,4,4,4,4,4,4,4,4,4,4,4,4,4,4,4,4,4,4,4,4,4,4,4,4,4,4,4,4,4,4,4,4,4,4,4,4,4,4,4,4,4,4,4,4,4,4,4,4,4,4,4,4,4,4,4,4,4,4,4,4,4,4,4,4,4,4,4,4,4,4,4,4,4,4,4,4,4,4,4,4,4,4,4,4,4,4,4,4,4,4,4,4,4,4,4,4,4,4,4,4,4,4,4,4,4,4,4,4,4,4,4,4,4,4,4,4,4,4,4,4,4,4,4,4,4,4,4,4,4,4,4,4,4,4,4,4,4,4,4,4,4,4,4,4,4,4,4,4,4,4,4,4,4,4,4,4,4,4,4,4,4,4,4,4,4,4,4,4,4]},\"selected\":{\"id\":\"2390\"},\"selection_policy\":{\"id\":\"2389\"}},\"id\":\"2245\",\"type\":\"ColumnDataSource\"},{\"attributes\":{},\"id\":\"2388\",\"type\":\"Selection\"},{\"attributes\":{\"fill_alpha\":{\"value\":0.2},\"fill_color\":{\"value\":\"#404387\"},\"hatch_alpha\":{\"value\":0.2},\"hatch_color\":{\"value\":\"#404387\"},\"line_alpha\":{\"value\":0.2},\"line_color\":{\"value\":\"#404387\"},\"x\":{\"field\":\"TimeGenerated\"},\"y\":{\"field\":\"y_index\"}},\"id\":\"2307\",\"type\":\"Circle\"},{\"attributes\":{\"source\":{\"id\":\"2242\"}},\"id\":\"2309\",\"type\":\"CDSView\"},{\"attributes\":{\"fill_color\":{\"value\":\"#29788E\"},\"hatch_color\":{\"value\":\"#29788E\"},\"line_color\":{\"value\":\"#29788E\"},\"x\":{\"field\":\"TimeGenerated\"},\"y\":{\"field\":\"y_index\"}},\"id\":\"2311\",\"type\":\"Circle\"},{\"attributes\":{\"fill_alpha\":{\"value\":0.5},\"fill_color\":{\"value\":\"#440154\"},\"hatch_alpha\":{\"value\":0.5},\"hatch_color\":{\"value\":\"#440154\"},\"line_alpha\":{\"value\":0.5},\"line_color\":{\"value\":\"#440154\"},\"marker\":{\"value\":\"diamond\"},\"size\":{\"value\":10},\"x\":{\"field\":\"TimeGenerated\"},\"y\":{\"field\":\"y_index\"}},\"id\":\"2336\",\"type\":\"Scatter\"},{\"attributes\":{\"fill_alpha\":{\"value\":0.1},\"fill_color\":{\"value\":\"#440154\"},\"hatch_alpha\":{\"value\":0.1},\"hatch_color\":{\"value\":\"#440154\"},\"line_alpha\":{\"value\":0.1},\"line_color\":{\"value\":\"#440154\"},\"x\":{\"field\":\"TimeGenerated\"},\"y\":{\"field\":\"y_index\"}},\"id\":\"2300\",\"type\":\"Circle\"},{\"attributes\":{\"coordinates\":null,\"data_source\":{\"id\":\"2242\"},\"glyph\":{\"id\":\"2305\"},\"group\":null,\"hover_glyph\":null,\"muted_glyph\":{\"id\":\"2307\"},\"nonselection_glyph\":{\"id\":\"2306\"},\"view\":{\"id\":\"2309\"}},\"id\":\"2308\",\"type\":\"GlyphRenderer\"},{\"attributes\":{\"data\":{\"AppResourceProvider\":[\"Exchange\"],\"IPAddress\":[\"20.37.213.236:63603\"],\"Operation\":[\"Remove-InboxRule\"],\"TimeGenerated\":{\"__ndarray__\":\"AABY3h0CeEI=\",\"dtype\":\"float64\",\"order\":\"little\",\"shape\":[1]},\"index\":[459],\"y_index\":[2]},\"selected\":{\"id\":\"2386\"},\"selection_policy\":{\"id\":\"2385\"}},\"id\":\"2243\",\"type\":\"ColumnDataSource\"},{\"attributes\":{},\"id\":\"2389\",\"type\":\"UnionRenderers\"},{\"attributes\":{\"data\":{\"AppResourceProvider\":[\"Exchange\",\"Exchange\",\"Exchange\",\"Exchange\",\"Exchange\",\"Exchange\",\"Exchange\",\"Exchange\",\"Exchange\",\"Exchange\",\"Exchange\",\"Exchange\",\"Exchange\",\"Exchange\",\"Exchange\",\"Exchange\",\"Exchange\",\"Exchange\",\"Exchange\",\"Exchange\",\"Exchange\",\"Exchange\",\"Exchange\",\"Exchange\",\"Exchange\",\"Exchange\",\"Exchange\",\"Exchange\",\"Exchange\",\"Exchange\",\"Exchange\",\"Exchange\",\"Exchange\",\"Exchange\",\"Exchange\",\"Exchange\",\"Exchange\",\"Exchange\",\"Exchange\",\"Exchange\",\"Exchange\",\"Exchange\",\"Exchange\",\"Exchange\",\"Exchange\",\"Exchange\",\"Exchange\",\"Exchange\",\"Exchange\",\"Exchange\",\"Exchange\",\"Exchange\",\"Exchange\",\"Exchange\",\"Exchange\",\"Exchange\",\"Exchange\",\"Exchange\",\"Exchange\",\"Exchange\",\"Exchange\",\"Exchange\",\"Exchange\",\"Exchange\",\"Exchange\",\"Exchange\",\"Exchange\",\"Exchange\",\"Exchange\",\"Exchange\",\"Exchange\",\"Exchange\",\"Exchange\",\"Exchange\",\"Exchange\",\"Exchange\",\"Exchange\",\"Exchange\",\"Exchange\",\"Exchange\",\"Exchange\",\"Exchange\",\"Exchange\",\"Exchange\",\"Exchange\",\"Exchange\",\"Exchange\",\"Exchange\",\"Exchange\",\"Exchange\",\"Exchange\",\"Exchange\",\"Exchange\",\"Exchange\",\"Exchange\",\"Exchange\",\"Exchange\",\"Exchange\",\"Exchange\",\"Exchange\",\"Exchange\",\"Exchange\",\"Exchange\",\"Exchange\"],\"IPAddress\":[\"2603:10b6:408:16a::13\",\"2603:10b6:408:16a::13\",\"2603:10b6:408:16a::13\",\"2603:10b6:408:16a::13\",\"20.190.142.172\",\"2603:10b6:408:16a::13\",\"2603:10b6:408:16a::13\",\"2603:10b6:408:16a::13\",\"20.190.142.172\",\"2603:10b6:208:350::7\",\"2603:10b6:208:350::7\",\"2603:10b6:408:16a::13\",\"20.190.142.170\",\"20.190.142.172\",\"20.190.142.172\",\"20.190.142.169\",\"2603:10b6:408:16a::13\",\"2603:10b6:408:16a::13\",\"20.190.142.170\",\"2603:10b6:408:16a::13\",\"2603:10b6:408:16a::13\",\"2603:10b6:408:16a::13\",\"20.190.142.170\",\"2603:10b6:408:16a::13\",\"2603:10b6:408:16a::13\",\"2603:10b6:408:16a::13\",\"52.96.203.21\",\"2603:10b6:408:16a::13\",\"2603:10b6:408:16a::13\",\"2603:10b6:408:16a::13\",\"2603:10b6:408:16a::13\",\"2603:10b6:408:148::20\",\"2603:10b6:408:16a::13\",\"20.190.142.172\",\"2603:10b6:408:16a::13\",\"2603:10b6:408:16a::13\",\"2603:10b6:408:16a::13\",\"2603:10b6:408:16a::13\",\"2603:10b6:408:16a::13\",\"2603:10b6:408:16a::13\",\"20.190.142.169\",\"2603:10b6:408:16a::13\",\"20.190.142.172\",\"2603:10b6:408:16a::13\",\"2603:10b6:408:16a::13\",\"2603:10b6:408:16a::13\",\"20.190.142.169\",\"2603:10b6:408:16a::13\",\"2603:10b6:408:16a::13\",\"2603:10b6:408:16a::13\",\"2603:10b6:408:16a::13\",\"20.190.142.172\",\"2603:10b6:408:16a::13\",\"20.190.142.169\",\"2603:10b6:408:16a::13\",\"2603:10b6:408:16a::13\",\"2603:10b6:408:16a::13\",\"2603:10b6:408:16a::13\",\"20.190.142.170\",\"2603:10b6:408:16a::13\",\"2603:10b6:408:16a::13\",\"20.190.142.172\",\"2603:10b6:408:16a::13\",\"2603:10b6:408:16a::13\",\"2603:10b6:408:16a::13\",\"2603:10b6:408:16a::13\",\"20.190.142.169\",\"20.190.142.172\",\"2603:10b6:408:16a::13\",\"20.190.142.169\",\"20.190.142.172\",\"2603:10b6:208:350::7\",\"20.190.142.170\",\"2603:10b6:208:350::7\",\"2603:10b6:208:357::21\",\"2603:10b6:408:16a::13\",\"2603:10b6:408:16a::13\",\"2603:10b6:408:16a::13\",\"2603:10b6:408:16a::13\",\"52.96.203.93\",\"2603:10b6:408:16a::13\",\"2603:10b6:408:16a::13\",\"20.190.142.169\",\"2603:10b6:408:16a::13\",\"2603:10b6:408:16a::13\",\"2603:10b6:408:16a::13\",\"2603:10b6:408:16a::13\",\"2603:10b6:408:16a::13\",\"2603:10b6:408:16a::13\",\"20.190.142.169\",\"2603:10b6:408:16a::13\",\"2603:10b6:408:16a::13\",\"2603:10b6:408:16a::13\",\"20.190.142.172\",\"2603:10b6:408:16a::13\",\"20.190.142.169\",\"2603:10b6:408:16a::13\",\"2603:10b6:408:16a::13\",\"2603:10b6:408:16a::13\",\"20.190.142.170\",\"2603:10b6:408:16a::13\",\"2603:10b6:408:16a::13\",\"2603:10b6:408:16a::13\",\"2603:10b6:408:16a::13\"],\"Operation\":[\"MailItemsAccessed\",\"MailItemsAccessed\",\"MailItemsAccessed\",\"MailItemsAccessed\",\"MailItemsAccessed\",\"MailItemsAccessed\",\"MailItemsAccessed\",\"MailItemsAccessed\",\"MailItemsAccessed\",\"MailItemsAccessed\",\"MailItemsAccessed\",\"MailItemsAccessed\",\"MailItemsAccessed\",\"MailItemsAccessed\",\"MailItemsAccessed\",\"MailItemsAccessed\",\"MailItemsAccessed\",\"MailItemsAccessed\",\"MailItemsAccessed\",\"MailItemsAccessed\",\"MailItemsAccessed\",\"MailItemsAccessed\",\"MailItemsAccessed\",\"MailItemsAccessed\",\"MailItemsAccessed\",\"MailItemsAccessed\",\"MailItemsAccessed\",\"MailItemsAccessed\",\"MailItemsAccessed\",\"MailItemsAccessed\",\"MailItemsAccessed\",\"MailItemsAccessed\",\"MailItemsAccessed\",\"MailItemsAccessed\",\"MailItemsAccessed\",\"MailItemsAccessed\",\"MailItemsAccessed\",\"MailItemsAccessed\",\"MailItemsAccessed\",\"MailItemsAccessed\",\"MailItemsAccessed\",\"MailItemsAccessed\",\"MailItemsAccessed\",\"MailItemsAccessed\",\"MailItemsAccessed\",\"MailItemsAccessed\",\"MailItemsAccessed\",\"MailItemsAccessed\",\"MailItemsAccessed\",\"MailItemsAccessed\",\"MailItemsAccessed\",\"MailItemsAccessed\",\"MailItemsAccessed\",\"MailItemsAccessed\",\"MailItemsAccessed\",\"MailItemsAccessed\",\"MailItemsAccessed\",\"MailItemsAccessed\",\"MailItemsAccessed\",\"MailItemsAccessed\",\"MailItemsAccessed\",\"MailItemsAccessed\",\"MailItemsAccessed\",\"MailItemsAccessed\",\"MailItemsAccessed\",\"MailItemsAccessed\",\"MailItemsAccessed\",\"MailItemsAccessed\",\"MailItemsAccessed\",\"MailItemsAccessed\",\"MailItemsAccessed\",\"MailItemsAccessed\",\"MailItemsAccessed\",\"MailItemsAccessed\",\"MailItemsAccessed\",\"MailItemsAccessed\",\"MailItemsAccessed\",\"MailItemsAccessed\",\"MailItemsAccessed\",\"MailItemsAccessed\",\"MailItemsAccessed\",\"MailItemsAccessed\",\"MailItemsAccessed\",\"MailItemsAccessed\",\"MailItemsAccessed\",\"MailItemsAccessed\",\"MailItemsAccessed\",\"MailItemsAccessed\",\"MailItemsAccessed\",\"MailItemsAccessed\",\"MailItemsAccessed\",\"MailItemsAccessed\",\"MailItemsAccessed\",\"MailItemsAccessed\",\"MailItemsAccessed\",\"MailItemsAccessed\",\"MailItemsAccessed\",\"MailItemsAccessed\",\"MailItemsAccessed\",\"MailItemsAccessed\",\"MailItemsAccessed\",\"MailItemsAccessed\",\"MailItemsAccessed\",\"MailItemsAccessed\"],\"TimeGenerated\":{\"__ndarray__\":\"AADA05gBeEIAgD+6ngF4QgAA+GqhAXhCAABfwqEBeEIAAEcrpgF4QgCA9b+mAXhCAAAdnakBeEIAgHbRqgF4QgAAXL+sAXhCAABJTq4BeEIAAHYCrwF4QgAA5aWwAXhCAAAyrrABeEIAAPvLsAF4QgCA+3yxAXhCAIAMDLIBeEIAgPV3sgF4QgAAzRqzAXhCAICMqbcBeEIAAFb1uAF4QgCATdS8AXhCAABqLb0BeEIAgNT2vQF4QgCArFC+AXhCAACkL8IBeEIAgCBzwwF4QgAAKIvEAXhCAAACLMcBeEIAgOu5ygF4QgCAOwDLAXhCAIBrdcsBeEIAgGr7zQF4QgAA9QzQAXhCAIBtpNEBeEIAAGAE0gF4QgCAYgLUAXhCAICQd9sBeEIAgDPF2wF4QgAA5KDeAXhCAIBs3OABeEIAABBY4gF4QgAA0CzkAXhCAAC4reQBeEIAAB4a5QF4QgCA/nbmAXhCAAA/R+cBeEIAgHVy5wF4QgCAKr3nAXhCAIDbqPABeEIAgHRL8QF4QgCAfBryAXhCAADybfQBeEIAAGCv9AF4QgCA0Pr0AXhCAADzTPYBeEIAgDt19gF4QgCAGFr4AXhCAIBaSfkBeEIAgNoE+gF4QgAAgjL6AXhCAABU/vwBeEIAAI8J/QF4QgCAxbH9AXhCAAAyS/8BeEIAAKdwAAJ4QgAAjoMBAnhCAABm3QECeEIAgCBqAwJ4QgCAloADAnhCAADTpAQCeEIAADKqBAJ4QgAAoOsEAnhCAICBtgUCeEIAgEu/BQJ4QgAA7lUGAnhCAABaMgkCeEIAgJMGDQJ4QgCAyzISAnhCAICojhUCeEIAgBmLFgJ4QgAAL+4YAnhCAIB7vBkCeEIAgK7sGgJ4QgCATQUdAnhCAABddR0CeEIAgA6/HwJ4QgAAjHAgAnhCAAAwlyMCeEIAgOdoJAJ4QgCA5ZIkAnhCAAASliQCeEIAgBfeJAJ4QgAA4SMnAnhCAAApjygCeEIAgEvbKgJ4QgCAgOErAnhCAADu4i0CeEIAgCdMLgJ4QgAA7VwyAnhCAABX7DMCeEIAAEXvMwJ4QgAAvPAzAnhCAID5gjQCeEIAgFj5NgJ4Qg==\",\"dtype\":\"float64\",\"order\":\"little\",\"shape\":[104]},\"index\":[291,294,311,297,302,301,308,304,307,312,315,322,321,320,323,324,326,343,346,328,351,299,330,331,359,314,360,337,362,365,318,338,356,352,357,354,333,335,373,374,371,340,375,372,370,345,347,349,377,278,411,412,379,413,380,382,414,442,445,446,384,386,280,416,388,418,448,389,391,420,419,421,425,424,450,452,282,393,395,453,455,457,396,458,398,283,286,428,461,402,401,403,462,287,289,429,431,406,290,435,434,438,465,467],\"y_index\":[1,1,1,1,1,1,1,1,1,1,1,1,1,1,1,1,1,1,1,1,1,1,1,1,1,1,1,1,1,1,1,1,1,1,1,1,1,1,1,1,1,1,1,1,1,1,1,1,1,1,1,1,1,1,1,1,1,1,1,1,1,1,1,1,1,1,1,1,1,1,1,1,1,1,1,1,1,1,1,1,1,1,1,1,1,1,1,1,1,1,1,1,1,1,1,1,1,1,1,1,1,1,1,1]},\"selected\":{\"id\":\"2384\"},\"selection_policy\":{\"id\":\"2383\"}},\"id\":\"2242\",\"type\":\"ColumnDataSource\"},{\"attributes\":{},\"id\":\"2390\",\"type\":\"Selection\"},{\"attributes\":{\"fill_alpha\":{\"value\":0.1},\"fill_color\":{\"value\":\"#440154\"},\"hatch_alpha\":{\"value\":0.1},\"hatch_color\":{\"value\":\"#440154\"},\"line_alpha\":{\"value\":0.1},\"line_color\":{\"value\":\"#440154\"},\"marker\":{\"value\":\"diamond\"},\"size\":{\"value\":10},\"x\":{\"field\":\"TimeGenerated\"},\"y\":{\"field\":\"y_index\"}},\"id\":\"2337\",\"type\":\"Scatter\"},{\"attributes\":{\"label\":{\"value\":\"MailItemsAccessed\"},\"renderers\":[{\"id\":\"2346\"}]},\"id\":\"2348\",\"type\":\"LegendItem\"},{\"attributes\":{\"fill_alpha\":{\"value\":0.2},\"fill_color\":{\"value\":\"#404387\"},\"hatch_alpha\":{\"value\":0.2},\"hatch_color\":{\"value\":\"#404387\"},\"line_alpha\":{\"value\":0.2},\"line_color\":{\"value\":\"#404387\"},\"marker\":{\"value\":\"diamond\"},\"size\":{\"value\":10},\"x\":{\"field\":\"TimeGenerated\"},\"y\":{\"field\":\"y_index\"}},\"id\":\"2345\",\"type\":\"Scatter\"},{\"attributes\":{\"fill_color\":{\"value\":\"#404387\"},\"hatch_color\":{\"value\":\"#404387\"},\"line_color\":{\"value\":\"#404387\"},\"x\":{\"field\":\"TimeGenerated\"},\"y\":{\"field\":\"y_index\"}},\"id\":\"2305\",\"type\":\"Circle\"},{\"attributes\":{\"coordinates\":null,\"data_source\":{\"id\":\"2241\"},\"glyph\":{\"id\":\"2336\"},\"group\":null,\"hover_glyph\":null,\"muted_glyph\":{\"id\":\"2338\"},\"nonselection_glyph\":{\"id\":\"2337\"},\"view\":{\"id\":\"2340\"}},\"id\":\"2339\",\"type\":\"GlyphRenderer\"},{\"attributes\":{\"coordinates\":null,\"data_source\":{\"id\":\"2242\"},\"glyph\":{\"id\":\"2343\"},\"group\":null,\"hover_glyph\":null,\"muted_glyph\":{\"id\":\"2345\"},\"nonselection_glyph\":{\"id\":\"2344\"},\"view\":{\"id\":\"2347\"}},\"id\":\"2346\",\"type\":\"GlyphRenderer\"},{\"attributes\":{\"fill_alpha\":{\"value\":0.2},\"fill_color\":{\"value\":\"#440154\"},\"hatch_alpha\":{\"value\":0.2},\"hatch_color\":{\"value\":\"#440154\"},\"line_alpha\":{\"value\":0.2},\"line_color\":{\"value\":\"#440154\"},\"marker\":{\"value\":\"diamond\"},\"size\":{\"value\":10},\"x\":{\"field\":\"TimeGenerated\"},\"y\":{\"field\":\"y_index\"}},\"id\":\"2338\",\"type\":\"Scatter\"},{\"attributes\":{\"axis_label\":\"Event Time\",\"coordinates\":null,\"formatter\":{\"id\":\"2333\"},\"group\":null,\"major_label_policy\":{\"id\":\"2378\"},\"ticker\":{\"id\":\"2259\"}},\"id\":\"2258\",\"type\":\"DatetimeAxis\"},{\"attributes\":{\"coordinates\":null,\"data_source\":{\"id\":\"2244\"},\"glyph\":{\"id\":\"2357\"},\"group\":null,\"hover_glyph\":null,\"muted_glyph\":{\"id\":\"2359\"},\"nonselection_glyph\":{\"id\":\"2358\"},\"view\":{\"id\":\"2361\"}},\"id\":\"2360\",\"type\":\"GlyphRenderer\"},{\"attributes\":{},\"id\":\"2263\",\"type\":\"BasicTicker\"},{\"attributes\":{\"tools\":[{\"id\":\"2246\"},{\"id\":\"2266\"},{\"id\":\"2267\"},{\"id\":\"2268\"},{\"id\":\"2269\"},{\"id\":\"2270\"}]},\"id\":\"2272\",\"type\":\"Toolbar\"},{\"attributes\":{},\"id\":\"2269\",\"type\":\"SaveTool\"},{\"attributes\":{\"below\":[{\"id\":\"2290\"},{\"id\":\"2295\"}],\"center\":[{\"id\":\"2293\"}],\"height\":120,\"renderers\":[{\"id\":\"2302\"},{\"id\":\"2308\"},{\"id\":\"2314\"},{\"id\":\"2320\"},{\"id\":\"2326\"}],\"title\":{\"id\":\"2280\"},\"toolbar\":{\"id\":\"2294\"},\"toolbar_location\":null,\"width\":900,\"x_range\":{\"id\":\"2282\"},\"x_scale\":{\"id\":\"2286\"},\"y_range\":{\"id\":\"2284\"},\"y_scale\":{\"id\":\"2288\"}},\"id\":\"2279\",\"subtype\":\"Figure\",\"type\":\"Plot\"},{\"attributes\":{\"end\":1649892771699.9,\"start\":1649670465634.0999},\"id\":\"2282\",\"type\":\"Range1d\"},{\"attributes\":{\"bottom_units\":\"screen\",\"coordinates\":null,\"fill_alpha\":0.5,\"fill_color\":\"lightgrey\",\"group\":null,\"left_units\":\"screen\",\"level\":\"overlay\",\"line_alpha\":1.0,\"line_color\":\"black\",\"line_dash\":[4,4],\"line_width\":2,\"right_units\":\"screen\",\"syncable\":false,\"top_units\":\"screen\"},\"id\":\"2271\",\"type\":\"BoxAnnotation\"},{\"attributes\":{\"fill_color\":{\"value\":\"#440154\"},\"hatch_color\":{\"value\":\"#440154\"},\"line_color\":{\"value\":\"#440154\"},\"x\":{\"field\":\"TimeGenerated\"},\"y\":{\"field\":\"y_index\"}},\"id\":\"2299\",\"type\":\"Circle\"},{\"attributes\":{\"coordinates\":null,\"fill_alpha\":0.2,\"fill_color\":\"navy\",\"group\":null,\"level\":\"overlay\",\"line_alpha\":1.0,\"line_color\":\"black\",\"line_dash\":[2,2],\"line_width\":0.5,\"syncable\":false},\"id\":\"2329\",\"type\":\"BoxAnnotation\"},{\"attributes\":{},\"id\":\"2256\",\"type\":\"LinearScale\"},{\"attributes\":{},\"id\":\"2254\",\"type\":\"LinearScale\"},{\"attributes\":{\"fill_alpha\":{\"value\":0.1},\"fill_color\":{\"value\":\"#79D151\"},\"hatch_alpha\":{\"value\":0.1},\"hatch_color\":{\"value\":\"#79D151\"},\"line_alpha\":{\"value\":0.1},\"line_color\":{\"value\":\"#79D151\"},\"x\":{\"field\":\"TimeGenerated\"},\"y\":{\"field\":\"y_index\"}},\"id\":\"2324\",\"type\":\"Circle\"},{\"attributes\":{\"coordinates\":null,\"group\":null,\"text\":\"Timeline: Azure Operations by Operation\"},\"id\":\"2248\",\"type\":\"Title\"},{\"attributes\":{\"source\":{\"id\":\"2243\"}},\"id\":\"2315\",\"type\":\"CDSView\"},{\"attributes\":{\"coordinates\":null,\"data_source\":{\"id\":\"2245\"},\"glyph\":{\"id\":\"2323\"},\"group\":null,\"hover_glyph\":null,\"muted_glyph\":{\"id\":\"2325\"},\"nonselection_glyph\":{\"id\":\"2324\"},\"view\":{\"id\":\"2327\"}},\"id\":\"2326\",\"type\":\"GlyphRenderer\"},{\"attributes\":{},\"id\":\"2376\",\"type\":\"AllLabels\"},{\"attributes\":{\"num_minor_ticks\":10,\"tickers\":[{\"id\":\"2392\"},{\"id\":\"2393\"},{\"id\":\"2394\"},{\"id\":\"2395\"},{\"id\":\"2396\"},{\"id\":\"2397\"},{\"id\":\"2398\"},{\"id\":\"2399\"},{\"id\":\"2400\"},{\"id\":\"2401\"},{\"id\":\"2402\"},{\"id\":\"2403\"}]},\"id\":\"2259\",\"type\":\"DatetimeTicker\"},{\"attributes\":{\"fill_alpha\":{\"value\":0.1},\"fill_color\":{\"value\":\"#22A784\"},\"hatch_alpha\":{\"value\":0.1},\"hatch_color\":{\"value\":\"#22A784\"},\"line_alpha\":{\"value\":0.1},\"line_color\":{\"value\":\"#22A784\"},\"x\":{\"field\":\"TimeGenerated\"},\"y\":{\"field\":\"y_index\"}},\"id\":\"2318\",\"type\":\"Circle\"},{\"attributes\":{\"fill_alpha\":{\"value\":0.2},\"fill_color\":{\"value\":\"#29788E\"},\"hatch_alpha\":{\"value\":0.2},\"hatch_color\":{\"value\":\"#29788E\"},\"line_alpha\":{\"value\":0.2},\"line_color\":{\"value\":\"#29788E\"},\"marker\":{\"value\":\"diamond\"},\"size\":{\"value\":10},\"x\":{\"field\":\"TimeGenerated\"},\"y\":{\"field\":\"y_index\"}},\"id\":\"2352\",\"type\":\"Scatter\"},{\"attributes\":{\"overlay\":{\"id\":\"2329\"},\"x_range\":{\"id\":\"2250\"},\"y_range\":null},\"id\":\"2328\",\"type\":\"RangeTool\"},{\"attributes\":{\"end\":1649884221466.5999,\"start\":1649679015867.4},\"id\":\"2250\",\"type\":\"Range1d\"},{\"attributes\":{\"axis\":{\"id\":\"2258\"},\"coordinates\":null,\"group\":null,\"minor_grid_line_alpha\":0.3,\"minor_grid_line_color\":\"navy\",\"ticker\":null},\"id\":\"2261\",\"type\":\"Grid\"},{\"attributes\":{\"fill_alpha\":{\"value\":0.5},\"fill_color\":{\"value\":\"#79D151\"},\"hatch_alpha\":{\"value\":0.5},\"hatch_color\":{\"value\":\"#79D151\"},\"line_alpha\":{\"value\":0.5},\"line_color\":{\"value\":\"#79D151\"},\"marker\":{\"value\":\"diamond\"},\"size\":{\"value\":10},\"x\":{\"field\":\"TimeGenerated\"},\"y\":{\"field\":\"y_index\"}},\"id\":\"2364\",\"type\":\"Scatter\"},{\"attributes\":{\"overlay\":{\"id\":\"2271\"}},\"id\":\"2267\",\"type\":\"BoxZoomTool\"},{\"attributes\":{\"days\":[\"%m-%d %H:%M\"],\"hours\":[\"%H:%M:%S\"],\"milliseconds\":[\"%H:%M:%S.%3N\"],\"minutes\":[\"%H:%M:%S\"],\"seconds\":[\"%H:%M:%S\"]},\"id\":\"2333\",\"type\":\"DatetimeTickFormatter\"},{\"attributes\":{\"mantissas\":[1,2,5],\"max_interval\":500.0,\"num_minor_ticks\":0},\"id\":\"2392\",\"type\":\"AdaptiveTicker\"},{\"attributes\":{\"days\":[\"%m-%d %H:%M\"],\"hours\":[\"%H:%M:%S\"],\"milliseconds\":[\"%H:%M:%S.%3N\"],\"minutes\":[\"%H:%M:%S\"],\"seconds\":[\"%H:%M:%S\"]},\"id\":\"2296\",\"type\":\"DatetimeTickFormatter\"},{\"attributes\":{\"axis\":{\"id\":\"2262\"},\"coordinates\":null,\"dimension\":1,\"grid_line_color\":null,\"group\":null,\"ticker\":null},\"id\":\"2265\",\"type\":\"Grid\"},{\"attributes\":{\"fill_alpha\":{\"value\":0.1},\"fill_color\":{\"value\":\"#79D151\"},\"hatch_alpha\":{\"value\":0.1},\"hatch_color\":{\"value\":\"#79D151\"},\"line_alpha\":{\"value\":0.1},\"line_color\":{\"value\":\"#79D151\"},\"marker\":{\"value\":\"diamond\"},\"size\":{\"value\":10},\"x\":{\"field\":\"TimeGenerated\"},\"y\":{\"field\":\"y_index\"}},\"id\":\"2365\",\"type\":\"Scatter\"},{\"attributes\":{\"base\":60,\"mantissas\":[1,2,5,10,15,20,30],\"max_interval\":1800000.0,\"min_interval\":1000.0,\"num_minor_ticks\":0},\"id\":\"2393\",\"type\":\"AdaptiveTicker\"},{\"attributes\":{\"end\":4.2,\"start\":-0.2},\"id\":\"2252\",\"type\":\"Range1d\"},{\"attributes\":{\"base\":24,\"mantissas\":[1,2,4,6,8,12],\"max_interval\":43200000.0,\"min_interval\":3600000.0,\"num_minor_ticks\":0},\"id\":\"2394\",\"type\":\"AdaptiveTicker\"},{\"attributes\":{},\"id\":\"2403\",\"type\":\"YearsTicker\"},{\"attributes\":{\"num_minor_ticks\":5,\"tickers\":[{\"id\":\"2405\"},{\"id\":\"2406\"},{\"id\":\"2407\"},{\"id\":\"2408\"},{\"id\":\"2409\"},{\"id\":\"2410\"},{\"id\":\"2411\"},{\"id\":\"2412\"},{\"id\":\"2413\"},{\"id\":\"2414\"},{\"id\":\"2415\"},{\"id\":\"2416\"}]},\"id\":\"2291\",\"type\":\"DatetimeTicker\"},{\"attributes\":{\"months\":[0,1,2,3,4,5,6,7,8,9,10,11]},\"id\":\"2399\",\"type\":\"MonthsTicker\"},{\"attributes\":{\"days\":[1,15]},\"id\":\"2398\",\"type\":\"DaysTicker\"},{\"attributes\":{\"days\":[1,2,3,4,5,6,7,8,9,10,11,12,13,14,15,16,17,18,19,20,21,22,23,24,25,26,27,28,29,30,31]},\"id\":\"2395\",\"type\":\"DaysTicker\"},{\"attributes\":{\"days\":[1,4,7,10,13,16,19,22,25,28]},\"id\":\"2396\",\"type\":\"DaysTicker\"},{\"attributes\":{\"align\":\"right\",\"coordinates\":null,\"group\":null,\"text\":\"Drag the middle or edges of the selection box to change the range in the main chart\",\"text_font_size\":\"10px\"},\"id\":\"2295\",\"type\":\"Title\"},{\"attributes\":{\"fill_alpha\":{\"value\":0.5},\"fill_color\":{\"value\":\"#22A784\"},\"hatch_alpha\":{\"value\":0.5},\"hatch_color\":{\"value\":\"#22A784\"},\"line_alpha\":{\"value\":0.5},\"line_color\":{\"value\":\"#22A784\"},\"marker\":{\"value\":\"diamond\"},\"size\":{\"value\":10},\"x\":{\"field\":\"TimeGenerated\"},\"y\":{\"field\":\"y_index\"}},\"id\":\"2357\",\"type\":\"Scatter\"},{\"attributes\":{},\"id\":\"2268\",\"type\":\"ResetTool\"},{\"attributes\":{\"coordinates\":null,\"data_source\":{\"id\":\"2243\"},\"glyph\":{\"id\":\"2350\"},\"group\":null,\"hover_glyph\":null,\"muted_glyph\":{\"id\":\"2352\"},\"nonselection_glyph\":{\"id\":\"2351\"},\"view\":{\"id\":\"2354\"}},\"id\":\"2353\",\"type\":\"GlyphRenderer\"},{\"attributes\":{\"fill_alpha\":{\"value\":0.2},\"fill_color\":{\"value\":\"#79D151\"},\"hatch_alpha\":{\"value\":0.2},\"hatch_color\":{\"value\":\"#79D151\"},\"line_alpha\":{\"value\":0.2},\"line_color\":{\"value\":\"#79D151\"},\"x\":{\"field\":\"TimeGenerated\"},\"y\":{\"field\":\"y_index\"}},\"id\":\"2325\",\"type\":\"Circle\"},{\"attributes\":{\"days\":[1,8,15,22]},\"id\":\"2397\",\"type\":\"DaysTicker\"},{\"attributes\":{\"months\":[0,2,4,6,8,10]},\"id\":\"2400\",\"type\":\"MonthsTicker\"},{\"attributes\":{\"months\":[0,6]},\"id\":\"2402\",\"type\":\"MonthsTicker\"},{\"attributes\":{\"label\":{\"value\":\"Send\"},\"renderers\":[{\"id\":\"2360\"}]},\"id\":\"2362\",\"type\":\"LegendItem\"},{\"attributes\":{\"fill_color\":{\"value\":\"#79D151\"},\"hatch_color\":{\"value\":\"#79D151\"},\"line_color\":{\"value\":\"#79D151\"},\"x\":{\"field\":\"TimeGenerated\"},\"y\":{\"field\":\"y_index\"}},\"id\":\"2323\",\"type\":\"Circle\"},{\"attributes\":{\"coordinates\":null,\"group\":null,\"text\":\"Range Selector\"},\"id\":\"2280\",\"type\":\"Title\"},{\"attributes\":{\"months\":[0,4,8]},\"id\":\"2401\",\"type\":\"MonthsTicker\"},{\"attributes\":{\"dimensions\":\"width\"},\"id\":\"2266\",\"type\":\"WheelZoomTool\"},{\"attributes\":{},\"id\":\"2288\",\"type\":\"LinearScale\"},{\"attributes\":{\"data\":{\"AppResourceProvider\":[\"Exchange\",\"Exchange\",\"Exchange\",\"Exchange\",\"Exchange\",\"Exchange\",\"Exchange\",\"Exchange\",\"Exchange\",\"Exchange\",\"Exchange\",\"Exchange\",\"Exchange\",\"Exchange\",\"Exchange\",\"Exchange\",\"Exchange\",\"Exchange\",\"Exchange\",\"Exchange\",\"Exchange\",\"Exchange\",\"Exchange\",\"Exchange\",\"Exchange\",\"Exchange\",\"Exchange\",\"Exchange\",\"Exchange\",\"Exchange\",\"Exchange\",\"Exchange\",\"Exchange\",\"Exchange\",\"Exchange\",\"Exchange\",\"Exchange\",\"Exchange\",\"Exchange\",\"Exchange\",\"Exchange\",\"Exchange\",\"Exchange\",\"Exchange\",\"Exchange\",\"Exchange\",\"Exchange\",\"Exchange\",\"Exchange\",\"Exchange\",\"Exchange\",\"Exchange\",\"Exchange\",\"Exchange\",\"Exchange\",\"Exchange\",\"Exchange\",\"Exchange\",\"Exchange\",\"Exchange\",\"Exchange\",\"Exchange\",\"Exchange\",\"Exchange\",\"Exchange\",\"Exchange\",\"Exchange\",\"Exchange\",\"Exchange\",\"Exchange\",\"Exchange\",\"Exchange\",\"Exchange\",\"Exchange\",\"Exchange\",\"Exchange\",\"Exchange\",\"Exchange\",\"Exchange\",\"Exchange\",\"Exchange\",\"Exchange\",\"Exchange\",\"Exchange\"],\"IPAddress\":[\"20.190.142.172\",\"20.190.142.170\",\"20.190.142.169\",\"20.190.142.172\",\"20.190.142.170\",\"20.190.142.172\",\"20.190.142.172\",\"20.190.142.170\",\"20.190.142.169\",\"20.190.142.170\",\"20.190.142.169\",\"20.190.142.170\",\"20.190.142.172\",\"20.190.142.170\",\"20.190.142.172\",\"20.190.142.172\",\"20.190.142.169\",\"20.190.142.170\",\"20.190.142.169\",\"20.190.142.169\",\"20.190.142.172\",\"20.190.142.169\",\"20.190.142.170\",\"20.190.142.170\",\"20.190.142.172\",\"20.190.142.172\",\"20.190.142.172\",\"20.190.142.169\",\"20.190.142.172\",\"20.190.142.170\",\"20.190.142.170\",\"20.190.142.170\",\"20.190.142.169\",\"20.190.142.170\",\"20.190.142.172\",\"20.190.142.169\",\"20.190.142.172\",\"20.190.142.170\",\"20.190.142.170\",\"20.190.142.169\",\"20.190.142.170\",\"20.190.142.169\",\"20.190.142.169\",\"20.190.142.170\",\"20.190.142.169\",\"20.190.142.170\",\"20.190.142.170\",\"20.190.142.169\",\"20.190.142.170\",\"20.190.142.170\",\"20.190.142.172\",\"20.190.142.172\",\"20.190.142.170\",\"20.190.142.172\",\"20.190.142.172\",\"20.190.142.169\",\"20.190.142.170\",\"20.190.142.170\",\"20.190.142.170\",\"20.190.142.170\",\"20.190.142.169\",\"20.190.142.172\",\"20.190.142.169\",\"20.190.142.170\",\"20.190.142.169\",\"20.190.142.169\",\"20.190.142.169\",\"20.190.142.169\",\"20.190.142.172\",\"20.190.142.172\",\"20.190.142.170\",\"20.190.142.170\",\"20.190.142.170\",\"20.190.142.172\",\"20.190.142.170\",\"20.190.142.170\",\"20.190.142.170\",\"20.190.142.170\",\"20.190.142.170\",\"20.190.142.170\",\"20.190.142.169\",\"20.190.142.172\",\"20.190.142.172\",\"20.190.142.172\"],\"Operation\":[\"Send\",\"Send\",\"Send\",\"Send\",\"Send\",\"Send\",\"Send\",\"Send\",\"Send\",\"Send\",\"Send\",\"Send\",\"Send\",\"Send\",\"Send\",\"Send\",\"Send\",\"Send\",\"Send\",\"Send\",\"Send\",\"Send\",\"Send\",\"Send\",\"Send\",\"Send\",\"Send\",\"Send\",\"Send\",\"Send\",\"Send\",\"Send\",\"Send\",\"Send\",\"Send\",\"Send\",\"Send\",\"Send\",\"Send\",\"Send\",\"Send\",\"Send\",\"Send\",\"Send\",\"Send\",\"Send\",\"Send\",\"Send\",\"Send\",\"Send\",\"Send\",\"Send\",\"Send\",\"Send\",\"Send\",\"Send\",\"Send\",\"Send\",\"Send\",\"Send\",\"Send\",\"Send\",\"Send\",\"Send\",\"Send\",\"Send\",\"Send\",\"Send\",\"Send\",\"Send\",\"Send\",\"Send\",\"Send\",\"Send\",\"Send\",\"Send\",\"Send\",\"Send\",\"Send\",\"Send\",\"Send\",\"Send\",\"Send\",\"Send\"],\"TimeGenerated\":{\"__ndarray__\":\"AICN0ZgBeEIAAMbSmAF4QgAADbieAXhCAAAEaaEBeEIAAGvAoQF4QgAAw72mAXhCAIDqmqkBeEIAAETPqgF4QgCAFkyuAXhCAIBDAK8BeEIAAPGjsAF4QgCAAXayAXhCAICaGLMBeEIAAGLzuAF4QgAAG9K8AXhCAIA3K70BeEIAAHpOvgF4QgCAcS3CAXhCAADucMMBeEIAAA4qxwF4QgCA97fKAXhCAAAJ/soBeEIAgHdzywF4QgAAOPnNAXhCAIDCCtABeEIAgC0C0gF4QgAAMADUAXhCAICcddsBeEIAAAHD2wF4QgCAsZ7eAXhCAAA62uABeEIAgJ0q5AF4QgCA6xflAXhCAADMdOYBeEIAgAxF5wF4QgAA+LrnAXhCAACppvABeEIAAEJJ8QF4QgCAiBjyAXhCAABsrfQBeEIAAP9K9gF4QgAACXP2AXhCAIAkWPgBeEIAAChH+QF4QgAAETD6AXhCAIAh/PwBeEIAAJOv/QF4QgCA/0j/AXhCAIB0bgACeEIAgFuBAQJ4QgAAZH4DAnhCAACs6QQCeEIAgFe9BQJ4QgAAfVMGAnhCAADpLwkCeEIAAGEEDQJ4QgCA1zASAnhCAAB2jBUCeEIAgPzrGAJ4QgAASboZAnhCAAAbAx0CeEIAAGlzHQJ4QgAA3LwfAnhCAACYbiACeEIAgP2UIwJ4QgAAtWYkAnhCAIDfkyQCeEIAgNmUJAJ4QgAA5dskAnhCAICuIScCeEIAABnZKgJ4QgCAu+AtAnhCAIAzSi4CeEIAAPlaMgJ4QgAAUe0zAnhCAADO7TMCeEIAgInuMwJ4QgCAg+8zAnhCAADHgDQCeEIAACb3NgJ4QgCAOvg3AnhCAIAc/TcCeEIAgJnlOwJ4QgCAFuY7AnhC\",\"dtype\":\"float64\",\"order\":\"little\",\"shape\":[84]},\"index\":[293,292,295,310,296,300,306,305,313,316,319,325,342,327,350,298,329,358,309,336,361,364,317,339,355,367,353,332,334,363,366,341,368,369,344,348,376,277,410,378,279,381,383,443,444,385,447,415,387,417,390,422,423,449,451,281,392,394,454,456,426,397,284,285,427,460,399,400,404,463,288,430,405,464,432,433,436,437,466,407,440,439,409,408],\"y_index\":[3,3,3,3,3,3,3,3,3,3,3,3,3,3,3,3,3,3,3,3,3,3,3,3,3,3,3,3,3,3,3,3,3,3,3,3,3,3,3,3,3,3,3,3,3,3,3,3,3,3,3,3,3,3,3,3,3,3,3,3,3,3,3,3,3,3,3,3,3,3,3,3,3,3,3,3,3,3,3,3,3,3,3,3]},\"selected\":{\"id\":\"2388\"},\"selection_policy\":{\"id\":\"2387\"}},\"id\":\"2244\",\"type\":\"ColumnDataSource\"},{\"attributes\":{\"fill_alpha\":{\"value\":0.1},\"fill_color\":{\"value\":\"#22A784\"},\"hatch_alpha\":{\"value\":0.1},\"hatch_color\":{\"value\":\"#22A784\"},\"line_alpha\":{\"value\":0.1},\"line_color\":{\"value\":\"#22A784\"},\"marker\":{\"value\":\"diamond\"},\"size\":{\"value\":10},\"x\":{\"field\":\"TimeGenerated\"},\"y\":{\"field\":\"y_index\"}},\"id\":\"2358\",\"type\":\"Scatter\"},{\"attributes\":{\"mantissas\":[1,2,5],\"max_interval\":500.0,\"num_minor_ticks\":0},\"id\":\"2405\",\"type\":\"AdaptiveTicker\"},{\"attributes\":{\"base\":60,\"mantissas\":[1,2,5,10,15,20,30],\"max_interval\":1800000.0,\"min_interval\":1000.0,\"num_minor_ticks\":0},\"id\":\"2406\",\"type\":\"AdaptiveTicker\"},{\"attributes\":{\"base\":24,\"mantissas\":[1,2,4,6,8,12],\"max_interval\":43200000.0,\"min_interval\":3600000.0,\"num_minor_ticks\":0},\"id\":\"2407\",\"type\":\"AdaptiveTicker\"},{\"attributes\":{\"active_multi\":{\"id\":\"2328\"},\"tools\":[{\"id\":\"2328\"}]},\"id\":\"2294\",\"type\":\"Toolbar\"},{\"attributes\":{\"source\":{\"id\":\"2244\"}},\"id\":\"2321\",\"type\":\"CDSView\"},{\"attributes\":{},\"id\":\"2381\",\"type\":\"UnionRenderers\"},{\"attributes\":{\"source\":{\"id\":\"2245\"}},\"id\":\"2327\",\"type\":\"CDSView\"},{\"attributes\":{},\"id\":\"2416\",\"type\":\"YearsTicker\"},{\"attributes\":{\"source\":{\"id\":\"2245\"}},\"id\":\"2368\",\"type\":\"CDSView\"},{\"attributes\":{\"months\":[0,1,2,3,4,5,6,7,8,9,10,11]},\"id\":\"2412\",\"type\":\"MonthsTicker\"},{\"attributes\":{\"axis\":{\"id\":\"2290\"},\"coordinates\":null,\"group\":null,\"ticker\":null},\"id\":\"2293\",\"type\":\"Grid\"},{\"attributes\":{\"dimensions\":\"width\"},\"id\":\"2270\",\"type\":\"PanTool\"},{\"attributes\":{\"days\":[1,15]},\"id\":\"2411\",\"type\":\"DaysTicker\"},{\"attributes\":{\"coordinates\":null,\"formatter\":{\"id\":\"2296\"},\"group\":null,\"major_label_policy\":{\"id\":\"2380\"},\"ticker\":{\"id\":\"2291\"}},\"id\":\"2290\",\"type\":\"DatetimeAxis\"},{\"attributes\":{\"days\":[1,2,3,4,5,6,7,8,9,10,11,12,13,14,15,16,17,18,19,20,21,22,23,24,25,26,27,28,29,30,31]},\"id\":\"2408\",\"type\":\"DaysTicker\"},{\"attributes\":{\"label\":{\"value\":\"Remove-InboxRule\"},\"renderers\":[{\"id\":\"2353\"}]},\"id\":\"2355\",\"type\":\"LegendItem\"},{\"attributes\":{\"days\":[1,4,7,10,13,16,19,22,25,28]},\"id\":\"2409\",\"type\":\"DaysTicker\"},{\"attributes\":{\"days\":[1,8,15,22]},\"id\":\"2410\",\"type\":\"DaysTicker\"},{\"attributes\":{\"source\":{\"id\":\"2243\"}},\"id\":\"2354\",\"type\":\"CDSView\"},{\"attributes\":{\"months\":[0,6]},\"id\":\"2415\",\"type\":\"MonthsTicker\"},{\"attributes\":{\"months\":[0,2,4,6,8,10]},\"id\":\"2413\",\"type\":\"MonthsTicker\"},{\"attributes\":{\"months\":[0,4,8]},\"id\":\"2414\",\"type\":\"MonthsTicker\"},{\"attributes\":{\"source\":{\"id\":\"2244\"}},\"id\":\"2361\",\"type\":\"CDSView\"},{\"attributes\":{},\"id\":\"2284\",\"type\":\"DataRange1d\"},{\"attributes\":{\"label\":{\"value\":\"Sign-in activity\"},\"renderers\":[{\"id\":\"2367\"}]},\"id\":\"2369\",\"type\":\"LegendItem\"},{\"attributes\":{},\"id\":\"2382\",\"type\":\"Selection\"},{\"attributes\":{},\"id\":\"2375\",\"type\":\"BasicTickFormatter\"},{\"attributes\":{\"fill_alpha\":{\"value\":0.2},\"fill_color\":{\"value\":\"#79D151\"},\"hatch_alpha\":{\"value\":0.2},\"hatch_color\":{\"value\":\"#79D151\"},\"line_alpha\":{\"value\":0.2},\"line_color\":{\"value\":\"#79D151\"},\"marker\":{\"value\":\"diamond\"},\"size\":{\"value\":10},\"x\":{\"field\":\"TimeGenerated\"},\"y\":{\"field\":\"y_index\"}},\"id\":\"2366\",\"type\":\"Scatter\"},{\"attributes\":{\"coordinates\":null,\"data_source\":{\"id\":\"2244\"},\"glyph\":{\"id\":\"2317\"},\"group\":null,\"hover_glyph\":null,\"muted_glyph\":{\"id\":\"2319\"},\"nonselection_glyph\":{\"id\":\"2318\"},\"view\":{\"id\":\"2321\"}},\"id\":\"2320\",\"type\":\"GlyphRenderer\"},{\"attributes\":{\"click_policy\":\"hide\",\"coordinates\":null,\"group\":null,\"items\":[{\"id\":\"2369\"},{\"id\":\"2362\"},{\"id\":\"2355\"},{\"id\":\"2348\"},{\"id\":\"2341\"}],\"label_text_font_size\":\"8pt\",\"location\":\"center\"},\"id\":\"2370\",\"type\":\"Legend\"},{\"attributes\":{\"coordinates\":null,\"data_source\":{\"id\":\"2245\"},\"glyph\":{\"id\":\"2364\"},\"group\":null,\"hover_glyph\":null,\"muted_glyph\":{\"id\":\"2366\"},\"nonselection_glyph\":{\"id\":\"2365\"},\"view\":{\"id\":\"2368\"}},\"id\":\"2367\",\"type\":\"GlyphRenderer\"},{\"attributes\":{\"fill_alpha\":{\"value\":0.2},\"fill_color\":{\"value\":\"#22A784\"},\"hatch_alpha\":{\"value\":0.2},\"hatch_color\":{\"value\":\"#22A784\"},\"line_alpha\":{\"value\":0.2},\"line_color\":{\"value\":\"#22A784\"},\"marker\":{\"value\":\"diamond\"},\"size\":{\"value\":10},\"x\":{\"field\":\"TimeGenerated\"},\"y\":{\"field\":\"y_index\"}},\"id\":\"2359\",\"type\":\"Scatter\"},{\"attributes\":{\"fill_alpha\":{\"value\":0.2},\"fill_color\":{\"value\":\"#22A784\"},\"hatch_alpha\":{\"value\":0.2},\"hatch_color\":{\"value\":\"#22A784\"},\"line_alpha\":{\"value\":0.2},\"line_color\":{\"value\":\"#22A784\"},\"x\":{\"field\":\"TimeGenerated\"},\"y\":{\"field\":\"y_index\"}},\"id\":\"2319\",\"type\":\"Circle\"},{\"attributes\":{},\"id\":\"2286\",\"type\":\"LinearScale\"},{\"attributes\":{\"data\":{\"AppResourceProvider\":[\"Exchange\",\"Exchange\"],\"IPAddress\":[\"2603:10b6:408:131:cafe::74\",\"2603:10b6:408:10d:cafe::a\"],\"Operation\":[\"Create\",\"Create\"],\"TimeGenerated\":{\"__ndarray__\":\"AABAQaYBeEIAAGL89QF4Qg==\",\"dtype\":\"float64\",\"order\":\"little\",\"shape\":[2]},\"index\":[303,441],\"y_index\":[0,0]},\"selected\":{\"id\":\"2382\"},\"selection_policy\":{\"id\":\"2381\"}},\"id\":\"2241\",\"type\":\"ColumnDataSource\"},{\"attributes\":{\"fill_color\":{\"value\":\"#22A784\"},\"hatch_color\":{\"value\":\"#22A784\"},\"line_color\":{\"value\":\"#22A784\"},\"x\":{\"field\":\"TimeGenerated\"},\"y\":{\"field\":\"y_index\"}},\"id\":\"2317\",\"type\":\"Circle\"},{\"attributes\":{\"coordinates\":null,\"formatter\":{\"id\":\"2375\"},\"group\":null,\"major_label_policy\":{\"id\":\"2376\"},\"ticker\":{\"id\":\"2263\"},\"visible\":false},\"id\":\"2262\",\"type\":\"LinearAxis\"},{\"attributes\":{\"fill_alpha\":{\"value\":0.1},\"fill_color\":{\"value\":\"#29788E\"},\"hatch_alpha\":{\"value\":0.1},\"hatch_color\":{\"value\":\"#29788E\"},\"line_alpha\":{\"value\":0.1},\"line_color\":{\"value\":\"#29788E\"},\"marker\":{\"value\":\"diamond\"},\"size\":{\"value\":10},\"x\":{\"field\":\"TimeGenerated\"},\"y\":{\"field\":\"y_index\"}},\"id\":\"2351\",\"type\":\"Scatter\"},{\"attributes\":{},\"id\":\"2380\",\"type\":\"AllLabels\"},{\"attributes\":{\"below\":[{\"id\":\"2258\"}],\"center\":[{\"id\":\"2261\"},{\"id\":\"2265\"}],\"height\":300,\"left\":[{\"id\":\"2262\"},{\"id\":\"2370\"}],\"min_border_left\":50,\"renderers\":[{\"id\":\"2339\"},{\"id\":\"2346\"},{\"id\":\"2353\"},{\"id\":\"2360\"},{\"id\":\"2367\"}],\"title\":{\"id\":\"2248\"},\"toolbar\":{\"id\":\"2272\"},\"width\":900,\"x_range\":{\"id\":\"2250\"},\"x_scale\":{\"id\":\"2254\"},\"y_range\":{\"id\":\"2252\"},\"y_scale\":{\"id\":\"2256\"}},\"id\":\"2247\",\"subtype\":\"Figure\",\"type\":\"Plot\"},{\"attributes\":{},\"id\":\"2378\",\"type\":\"AllLabels\"}],\"root_ids\":[\"2371\"]},\"title\":\"Bokeh Application\",\"version\":\"2.4.2\"}};\n",
       "  const render_items = [{\"docid\":\"78f2d5ae-9ebf-4164-acf9-80afbeacc921\",\"root_ids\":[\"2371\"],\"roots\":{\"2371\":\"487bd4bf-a389-4723-8f45-a50f63a263fd\"}}];\n",
       "  root.Bokeh.embed.embed_items_notebook(docs_json, render_items);\n",
       "\n",
       "  }\n",
       "  if (root.Bokeh !== undefined) {\n",
       "    embed_document(root);\n",
       "  } else {\n",
       "    let attempts = 0;\n",
       "    const timer = setInterval(function(root) {\n",
       "      if (root.Bokeh !== undefined) {\n",
       "        clearInterval(timer);\n",
       "        embed_document(root);\n",
       "      } else {\n",
       "        attempts++;\n",
       "        if (attempts > 100) {\n",
       "          clearInterval(timer);\n",
       "          console.log(\"Bokeh: ERROR: Unable to run BokehJS code because BokehJS library is missing\");\n",
       "        }\n",
       "      }\n",
       "    }, 10, root)\n",
       "  }\n",
       "})(window);"
      ],
      "application/vnd.bokehjs_exec.v0+json": ""
     },
     "metadata": {
      "application/vnd.bokehjs_exec.v0+json": {
       "id": "2371"
      }
     },
     "output_type": "display_data"
    },
    {
     "data": {
      "text/html": [
       "<h3>Summary of azure activity for AAD, Azure resource and O365</h3>"
      ],
      "text/plain": [
       "<IPython.core.display.HTML object>"
      ]
     },
     "metadata": {},
     "output_type": "display_data"
    },
    {
     "data": {
      "text/html": [
       " Shows the total number of operations, the list of unique operations, the list of unique resource IDs and the first and last operation recorded in the selected time range. The data is grouped by: - Data source - User - Type - Azure activity type/source - Client IP Address - Application resource provider - User type "
      ],
      "text/plain": [
       "<IPython.core.display.HTML object>"
      ]
     },
     "metadata": {},
     "output_type": "display_data"
    },
    {
     "data": {
      "text/html": [
       "<div>\n",
       "<style scoped>\n",
       "    .dataframe tbody tr th:only-of-type {\n",
       "        vertical-align: middle;\n",
       "    }\n",
       "\n",
       "    .dataframe tbody tr th {\n",
       "        vertical-align: top;\n",
       "    }\n",
       "\n",
       "    .dataframe thead th {\n",
       "        text-align: right;\n",
       "    }\n",
       "</style>\n",
       "<table border=\"1\" class=\"dataframe\">\n",
       "  <thead>\n",
       "    <tr style=\"text-align: right;\">\n",
       "      <th></th>\n",
       "      <th></th>\n",
       "      <th></th>\n",
       "      <th></th>\n",
       "      <th></th>\n",
       "      <th>OperationCount</th>\n",
       "      <th>OperationTypes</th>\n",
       "      <th>Resources</th>\n",
       "      <th>FirstOperation</th>\n",
       "      <th>LastOperation</th>\n",
       "    </tr>\n",
       "    <tr>\n",
       "      <th>UserPrincipalName</th>\n",
       "      <th>Type</th>\n",
       "      <th>IPAddress</th>\n",
       "      <th>AppResourceProvider</th>\n",
       "      <th>UserType</th>\n",
       "      <th></th>\n",
       "      <th></th>\n",
       "      <th></th>\n",
       "      <th></th>\n",
       "      <th></th>\n",
       "    </tr>\n",
       "  </thead>\n",
       "  <tbody>\n",
       "    <tr>\n",
       "      <th rowspan=\"19\" valign=\"top\">kelsea@seccxp.ninja</th>\n",
       "      <th rowspan=\"12\" valign=\"top\">OfficeActivity</th>\n",
       "      <th>20.190.142.169</th>\n",
       "      <th>Exchange</th>\n",
       "      <th>Regular</th>\n",
       "      <td>32</td>\n",
       "      <td>[Send, MailItemsAccessed]</td>\n",
       "      <td>1</td>\n",
       "      <td>2022-04-11 18:38:26+00:00</td>\n",
       "      <td>2022-04-13 15:16:41+00:00</td>\n",
       "    </tr>\n",
       "    <tr>\n",
       "      <th>20.190.142.170</th>\n",
       "      <th>Exchange</th>\n",
       "      <th>Regular</th>\n",
       "      <td>42</td>\n",
       "      <td>[Send, MailItemsAccessed]</td>\n",
       "      <td>1</td>\n",
       "      <td>2022-04-11 16:55:24+00:00</td>\n",
       "      <td>2022-04-13 14:59:08+00:00</td>\n",
       "    </tr>\n",
       "    <tr>\n",
       "      <th>20.190.142.172</th>\n",
       "      <th>Exchange</th>\n",
       "      <th>Regular</th>\n",
       "      <td>36</td>\n",
       "      <td>[Send, MailItemsAccessed]</td>\n",
       "      <td>1</td>\n",
       "      <td>2022-04-11 16:55:19+00:00</td>\n",
       "      <td>2022-04-13 16:25:21+00:00</td>\n",
       "    </tr>\n",
       "    <tr>\n",
       "      <th>20.37.213.236:63603</th>\n",
       "      <th>Exchange</th>\n",
       "      <th>Admin</th>\n",
       "      <td>1</td>\n",
       "      <td>[Remove-InboxRule]</td>\n",
       "      <td>1</td>\n",
       "      <td>2022-04-13 07:40:32+00:00</td>\n",
       "      <td>2022-04-13 07:40:32+00:00</td>\n",
       "    </tr>\n",
       "    <tr>\n",
       "      <th>2603:10b6:208:350::7</th>\n",
       "      <th>Exchange</th>\n",
       "      <th>Regular</th>\n",
       "      <td>4</td>\n",
       "      <td>[MailItemsAccessed]</td>\n",
       "      <td>1</td>\n",
       "      <td>2022-04-11 23:10:50+00:00</td>\n",
       "      <td>2022-04-13 00:38:59+00:00</td>\n",
       "    </tr>\n",
       "    <tr>\n",
       "      <th>2603:10b6:208:357::21</th>\n",
       "      <th>Exchange</th>\n",
       "      <th>Regular</th>\n",
       "      <td>1</td>\n",
       "      <td>[MailItemsAccessed]</td>\n",
       "      <td>1</td>\n",
       "      <td>2022-04-13 00:49:16+00:00</td>\n",
       "      <td>2022-04-13 00:49:16+00:00</td>\n",
       "    </tr>\n",
       "    <tr>\n",
       "      <th>2603:10b6:408:10d:cafe::a</th>\n",
       "      <th>Exchange</th>\n",
       "      <th>Regular</th>\n",
       "      <td>1</td>\n",
       "      <td>[Create]</td>\n",
       "      <td>1</td>\n",
       "      <td>2022-04-12 20:03:32+00:00</td>\n",
       "      <td>2022-04-12 20:03:32+00:00</td>\n",
       "    </tr>\n",
       "    <tr>\n",
       "      <th>2603:10b6:408:131:cafe::74</th>\n",
       "      <th>Exchange</th>\n",
       "      <th>Regular</th>\n",
       "      <td>1</td>\n",
       "      <td>[Create]</td>\n",
       "      <td>1</td>\n",
       "      <td>2022-04-11 20:50:08+00:00</td>\n",
       "      <td>2022-04-11 20:50:08+00:00</td>\n",
       "    </tr>\n",
       "    <tr>\n",
       "      <th>2603:10b6:408:148::20</th>\n",
       "      <th>Exchange</th>\n",
       "      <th>Regular</th>\n",
       "      <td>1</td>\n",
       "      <td>[MailItemsAccessed]</td>\n",
       "      <td>1</td>\n",
       "      <td>2022-04-12 08:24:25+00:00</td>\n",
       "      <td>2022-04-12 08:24:25+00:00</td>\n",
       "    </tr>\n",
       "    <tr>\n",
       "      <th>2603:10b6:408:16a::13</th>\n",
       "      <th>Exchange</th>\n",
       "      <th>Regular</th>\n",
       "      <td>70</td>\n",
       "      <td>[MailItemsAccessed]</td>\n",
       "      <td>1</td>\n",
       "      <td>2022-04-11 16:55:28+00:00</td>\n",
       "      <td>2022-04-13 14:59:17+00:00</td>\n",
       "    </tr>\n",
       "    <tr>\n",
       "      <th>52.96.203.21</th>\n",
       "      <th>Exchange</th>\n",
       "      <th>Regular</th>\n",
       "      <td>1</td>\n",
       "      <td>[MailItemsAccessed]</td>\n",
       "      <td>1</td>\n",
       "      <td>2022-04-12 05:39:28+00:00</td>\n",
       "      <td>2022-04-12 05:39:28+00:00</td>\n",
       "    </tr>\n",
       "    <tr>\n",
       "      <th>52.96.203.93</th>\n",
       "      <th>Exchange</th>\n",
       "      <th>Regular</th>\n",
       "      <td>1</td>\n",
       "      <td>[MailItemsAccessed]</td>\n",
       "      <td>1</td>\n",
       "      <td>2022-04-13 05:32:31+00:00</td>\n",
       "      <td>2022-04-13 05:32:31+00:00</td>\n",
       "    </tr>\n",
       "    <tr>\n",
       "      <th rowspan=\"7\" valign=\"top\">SigninLogs</th>\n",
       "      <th>20.37.212.69</th>\n",
       "      <th>CAttack</th>\n",
       "      <th>Member</th>\n",
       "      <td>35</td>\n",
       "      <td>[Sign-in activity]</td>\n",
       "      <td>1</td>\n",
       "      <td>2022-04-11 16:55:16.334000+00:00</td>\n",
       "      <td>2022-04-13 15:38:03.671000+00:00</td>\n",
       "    </tr>\n",
       "    <tr>\n",
       "      <th rowspan=\"2\" valign=\"top\">20.37.213.236</th>\n",
       "      <th>CAttack</th>\n",
       "      <th>Member</th>\n",
       "      <td>49</td>\n",
       "      <td>[Sign-in activity]</td>\n",
       "      <td>1</td>\n",
       "      <td>2022-04-11 18:08:23.163000+00:00</td>\n",
       "      <td>2022-04-13 14:59:05.473000+00:00</td>\n",
       "    </tr>\n",
       "    <tr>\n",
       "      <th>Office 365 Exchange Online</th>\n",
       "      <th>Member</th>\n",
       "      <td>1</td>\n",
       "      <td>[Sign-in activity]</td>\n",
       "      <td>1</td>\n",
       "      <td>2022-04-13 07:40:16.051000+00:00</td>\n",
       "      <td>2022-04-13 07:40:16.051000+00:00</td>\n",
       "    </tr>\n",
       "    <tr>\n",
       "      <th>20.37.253.233</th>\n",
       "      <th>CAttack</th>\n",
       "      <th>Member</th>\n",
       "      <td>58</td>\n",
       "      <td>[Sign-in activity]</td>\n",
       "      <td>1</td>\n",
       "      <td>2022-04-11 17:03:13.837000+00:00</td>\n",
       "      <td>2022-04-13 15:16:36.820000+00:00</td>\n",
       "    </tr>\n",
       "    <tr>\n",
       "      <th>20.37.255.76</th>\n",
       "      <th>CAttack</th>\n",
       "      <th>Member</th>\n",
       "      <td>36</td>\n",
       "      <td>[Sign-in activity]</td>\n",
       "      <td>1</td>\n",
       "      <td>2022-04-11 19:31:22.616000+00:00</td>\n",
       "      <td>2022-04-13 15:28:08.901000+00:00</td>\n",
       "    </tr>\n",
       "    <tr>\n",
       "      <th>20.53.9.84</th>\n",
       "      <th>CAttack</th>\n",
       "      <th>Member</th>\n",
       "      <td>51</td>\n",
       "      <td>[Sign-in activity]</td>\n",
       "      <td>1</td>\n",
       "      <td>2022-04-11 20:42:28.973000+00:00</td>\n",
       "      <td>2022-04-13 16:25:12.987000+00:00</td>\n",
       "    </tr>\n",
       "    <tr>\n",
       "      <th>20.70.208.63</th>\n",
       "      <th>CAttack</th>\n",
       "      <th>Member</th>\n",
       "      <td>47</td>\n",
       "      <td>[Sign-in activity]</td>\n",
       "      <td>1</td>\n",
       "      <td>2022-04-11 16:55:20.711000+00:00</td>\n",
       "      <td>2022-04-13 15:16:57.977000+00:00</td>\n",
       "    </tr>\n",
       "  </tbody>\n",
       "</table>\n",
       "</div>"
      ],
      "text/plain": [
       "                                                                                                   OperationCount  \\\n",
       "UserPrincipalName   Type           IPAddress                  AppResourceProvider        UserType                   \n",
       "kelsea@seccxp.ninja OfficeActivity 20.190.142.169             Exchange                   Regular               32   \n",
       "                                   20.190.142.170             Exchange                   Regular               42   \n",
       "                                   20.190.142.172             Exchange                   Regular               36   \n",
       "                                   20.37.213.236:63603        Exchange                   Admin                  1   \n",
       "                                   2603:10b6:208:350::7       Exchange                   Regular                4   \n",
       "                                   2603:10b6:208:357::21      Exchange                   Regular                1   \n",
       "                                   2603:10b6:408:10d:cafe::a  Exchange                   Regular                1   \n",
       "                                   2603:10b6:408:131:cafe::74 Exchange                   Regular                1   \n",
       "                                   2603:10b6:408:148::20      Exchange                   Regular                1   \n",
       "                                   2603:10b6:408:16a::13      Exchange                   Regular               70   \n",
       "                                   52.96.203.21               Exchange                   Regular                1   \n",
       "                                   52.96.203.93               Exchange                   Regular                1   \n",
       "                    SigninLogs     20.37.212.69               CAttack                    Member                35   \n",
       "                                   20.37.213.236              CAttack                    Member                49   \n",
       "                                                              Office 365 Exchange Online Member                 1   \n",
       "                                   20.37.253.233              CAttack                    Member                58   \n",
       "                                   20.37.255.76               CAttack                    Member                36   \n",
       "                                   20.53.9.84                 CAttack                    Member                51   \n",
       "                                   20.70.208.63               CAttack                    Member                47   \n",
       "\n",
       "                                                                                                              OperationTypes  \\\n",
       "UserPrincipalName   Type           IPAddress                  AppResourceProvider        UserType                              \n",
       "kelsea@seccxp.ninja OfficeActivity 20.190.142.169             Exchange                   Regular   [Send, MailItemsAccessed]   \n",
       "                                   20.190.142.170             Exchange                   Regular   [Send, MailItemsAccessed]   \n",
       "                                   20.190.142.172             Exchange                   Regular   [Send, MailItemsAccessed]   \n",
       "                                   20.37.213.236:63603        Exchange                   Admin            [Remove-InboxRule]   \n",
       "                                   2603:10b6:208:350::7       Exchange                   Regular         [MailItemsAccessed]   \n",
       "                                   2603:10b6:208:357::21      Exchange                   Regular         [MailItemsAccessed]   \n",
       "                                   2603:10b6:408:10d:cafe::a  Exchange                   Regular                    [Create]   \n",
       "                                   2603:10b6:408:131:cafe::74 Exchange                   Regular                    [Create]   \n",
       "                                   2603:10b6:408:148::20      Exchange                   Regular         [MailItemsAccessed]   \n",
       "                                   2603:10b6:408:16a::13      Exchange                   Regular         [MailItemsAccessed]   \n",
       "                                   52.96.203.21               Exchange                   Regular         [MailItemsAccessed]   \n",
       "                                   52.96.203.93               Exchange                   Regular         [MailItemsAccessed]   \n",
       "                    SigninLogs     20.37.212.69               CAttack                    Member           [Sign-in activity]   \n",
       "                                   20.37.213.236              CAttack                    Member           [Sign-in activity]   \n",
       "                                                              Office 365 Exchange Online Member           [Sign-in activity]   \n",
       "                                   20.37.253.233              CAttack                    Member           [Sign-in activity]   \n",
       "                                   20.37.255.76               CAttack                    Member           [Sign-in activity]   \n",
       "                                   20.53.9.84                 CAttack                    Member           [Sign-in activity]   \n",
       "                                   20.70.208.63               CAttack                    Member           [Sign-in activity]   \n",
       "\n",
       "                                                                                                   Resources  \\\n",
       "UserPrincipalName   Type           IPAddress                  AppResourceProvider        UserType              \n",
       "kelsea@seccxp.ninja OfficeActivity 20.190.142.169             Exchange                   Regular           1   \n",
       "                                   20.190.142.170             Exchange                   Regular           1   \n",
       "                                   20.190.142.172             Exchange                   Regular           1   \n",
       "                                   20.37.213.236:63603        Exchange                   Admin             1   \n",
       "                                   2603:10b6:208:350::7       Exchange                   Regular           1   \n",
       "                                   2603:10b6:208:357::21      Exchange                   Regular           1   \n",
       "                                   2603:10b6:408:10d:cafe::a  Exchange                   Regular           1   \n",
       "                                   2603:10b6:408:131:cafe::74 Exchange                   Regular           1   \n",
       "                                   2603:10b6:408:148::20      Exchange                   Regular           1   \n",
       "                                   2603:10b6:408:16a::13      Exchange                   Regular           1   \n",
       "                                   52.96.203.21               Exchange                   Regular           1   \n",
       "                                   52.96.203.93               Exchange                   Regular           1   \n",
       "                    SigninLogs     20.37.212.69               CAttack                    Member            1   \n",
       "                                   20.37.213.236              CAttack                    Member            1   \n",
       "                                                              Office 365 Exchange Online Member            1   \n",
       "                                   20.37.253.233              CAttack                    Member            1   \n",
       "                                   20.37.255.76               CAttack                    Member            1   \n",
       "                                   20.53.9.84                 CAttack                    Member            1   \n",
       "                                   20.70.208.63               CAttack                    Member            1   \n",
       "\n",
       "                                                                                                                    FirstOperation  \\\n",
       "UserPrincipalName   Type           IPAddress                  AppResourceProvider        UserType                                    \n",
       "kelsea@seccxp.ninja OfficeActivity 20.190.142.169             Exchange                   Regular         2022-04-11 18:38:26+00:00   \n",
       "                                   20.190.142.170             Exchange                   Regular         2022-04-11 16:55:24+00:00   \n",
       "                                   20.190.142.172             Exchange                   Regular         2022-04-11 16:55:19+00:00   \n",
       "                                   20.37.213.236:63603        Exchange                   Admin           2022-04-13 07:40:32+00:00   \n",
       "                                   2603:10b6:208:350::7       Exchange                   Regular         2022-04-11 23:10:50+00:00   \n",
       "                                   2603:10b6:208:357::21      Exchange                   Regular         2022-04-13 00:49:16+00:00   \n",
       "                                   2603:10b6:408:10d:cafe::a  Exchange                   Regular         2022-04-12 20:03:32+00:00   \n",
       "                                   2603:10b6:408:131:cafe::74 Exchange                   Regular         2022-04-11 20:50:08+00:00   \n",
       "                                   2603:10b6:408:148::20      Exchange                   Regular         2022-04-12 08:24:25+00:00   \n",
       "                                   2603:10b6:408:16a::13      Exchange                   Regular         2022-04-11 16:55:28+00:00   \n",
       "                                   52.96.203.21               Exchange                   Regular         2022-04-12 05:39:28+00:00   \n",
       "                                   52.96.203.93               Exchange                   Regular         2022-04-13 05:32:31+00:00   \n",
       "                    SigninLogs     20.37.212.69               CAttack                    Member   2022-04-11 16:55:16.334000+00:00   \n",
       "                                   20.37.213.236              CAttack                    Member   2022-04-11 18:08:23.163000+00:00   \n",
       "                                                              Office 365 Exchange Online Member   2022-04-13 07:40:16.051000+00:00   \n",
       "                                   20.37.253.233              CAttack                    Member   2022-04-11 17:03:13.837000+00:00   \n",
       "                                   20.37.255.76               CAttack                    Member   2022-04-11 19:31:22.616000+00:00   \n",
       "                                   20.53.9.84                 CAttack                    Member   2022-04-11 20:42:28.973000+00:00   \n",
       "                                   20.70.208.63               CAttack                    Member   2022-04-11 16:55:20.711000+00:00   \n",
       "\n",
       "                                                                                                                     LastOperation  \n",
       "UserPrincipalName   Type           IPAddress                  AppResourceProvider        UserType                                   \n",
       "kelsea@seccxp.ninja OfficeActivity 20.190.142.169             Exchange                   Regular         2022-04-13 15:16:41+00:00  \n",
       "                                   20.190.142.170             Exchange                   Regular         2022-04-13 14:59:08+00:00  \n",
       "                                   20.190.142.172             Exchange                   Regular         2022-04-13 16:25:21+00:00  \n",
       "                                   20.37.213.236:63603        Exchange                   Admin           2022-04-13 07:40:32+00:00  \n",
       "                                   2603:10b6:208:350::7       Exchange                   Regular         2022-04-13 00:38:59+00:00  \n",
       "                                   2603:10b6:208:357::21      Exchange                   Regular         2022-04-13 00:49:16+00:00  \n",
       "                                   2603:10b6:408:10d:cafe::a  Exchange                   Regular         2022-04-12 20:03:32+00:00  \n",
       "                                   2603:10b6:408:131:cafe::74 Exchange                   Regular         2022-04-11 20:50:08+00:00  \n",
       "                                   2603:10b6:408:148::20      Exchange                   Regular         2022-04-12 08:24:25+00:00  \n",
       "                                   2603:10b6:408:16a::13      Exchange                   Regular         2022-04-13 14:59:17+00:00  \n",
       "                                   52.96.203.21               Exchange                   Regular         2022-04-12 05:39:28+00:00  \n",
       "                                   52.96.203.93               Exchange                   Regular         2022-04-13 05:32:31+00:00  \n",
       "                    SigninLogs     20.37.212.69               CAttack                    Member   2022-04-13 15:38:03.671000+00:00  \n",
       "                                   20.37.213.236              CAttack                    Member   2022-04-13 14:59:05.473000+00:00  \n",
       "                                                              Office 365 Exchange Online Member   2022-04-13 07:40:16.051000+00:00  \n",
       "                                   20.37.253.233              CAttack                    Member   2022-04-13 15:16:36.820000+00:00  \n",
       "                                   20.37.255.76               CAttack                    Member   2022-04-13 15:28:08.901000+00:00  \n",
       "                                   20.53.9.84                 CAttack                    Member   2022-04-13 16:25:12.987000+00:00  \n",
       "                                   20.70.208.63               CAttack                    Member   2022-04-13 15:16:57.977000+00:00  "
      ]
     },
     "metadata": {},
     "output_type": "display_data"
    },
    {
     "data": {
      "text/html": [
       "<h3>IP Address details summary</h3>"
      ],
      "text/plain": [
       "<IPython.core.display.HTML object>"
      ]
     },
     "metadata": {},
     "output_type": "display_data"
    },
    {
     "data": {
      "text/html": [
       " Number of operations detected by IP Address. The table shows WhoIs ASN Description and Country Code. If UserAgent is contained in the data, operations are also grouped by this. "
      ],
      "text/plain": [
       "<IPython.core.display.HTML object>"
      ]
     },
     "metadata": {},
     "output_type": "display_data"
    },
    {
     "data": {
      "text/html": [
       "<p style=''>Querying geolocation for 18 ip addresses...</p>"
      ],
      "text/plain": [
       "<IPython.core.display.HTML object>"
      ]
     },
     "metadata": {},
     "output_type": "display_data"
    },
    {
     "data": {
      "text/html": [
       "<p style=''>Querying WhoIs for 18 ip addresses...</p>"
      ],
      "text/plain": [
       "<IPython.core.display.HTML object>"
      ]
     },
     "metadata": {},
     "output_type": "display_data"
    },
    {
     "data": {
      "text/html": [
       "<div>\n",
       "<style scoped>\n",
       "    .dataframe tbody tr th:only-of-type {\n",
       "        vertical-align: middle;\n",
       "    }\n",
       "\n",
       "    .dataframe tbody tr th {\n",
       "        vertical-align: top;\n",
       "    }\n",
       "\n",
       "    .dataframe thead th {\n",
       "        text-align: right;\n",
       "    }\n",
       "</style>\n",
       "<table border=\"1\" class=\"dataframe\">\n",
       "  <thead>\n",
       "    <tr style=\"text-align: right;\">\n",
       "      <th></th>\n",
       "      <th></th>\n",
       "      <th></th>\n",
       "      <th></th>\n",
       "      <th></th>\n",
       "      <th></th>\n",
       "      <th>Count</th>\n",
       "      <th>FirstOperation</th>\n",
       "      <th>LastOperation</th>\n",
       "    </tr>\n",
       "    <tr>\n",
       "      <th>Source</th>\n",
       "      <th>Operation</th>\n",
       "      <th>UserAgent</th>\n",
       "      <th>IpAddress</th>\n",
       "      <th>AsnDescription</th>\n",
       "      <th>CountryCode</th>\n",
       "      <th></th>\n",
       "      <th></th>\n",
       "      <th></th>\n",
       "    </tr>\n",
       "  </thead>\n",
       "  <tbody>\n",
       "    <tr>\n",
       "      <th rowspan=\"7\" valign=\"top\">AzureActiveDirectory</th>\n",
       "      <th rowspan=\"7\" valign=\"top\">Sign-in activity</th>\n",
       "      <th rowspan=\"6\" valign=\"top\"></th>\n",
       "      <th>20.37.212.69</th>\n",
       "      <th>MICROSOFT-CORP-MSN-AS-BLOCK, US</th>\n",
       "      <th>AU</th>\n",
       "      <td>35</td>\n",
       "      <td>2022-04-11 16:55:16.334000+00:00</td>\n",
       "      <td>2022-04-13 15:38:03.671000+00:00</td>\n",
       "    </tr>\n",
       "    <tr>\n",
       "      <th>20.37.213.236</th>\n",
       "      <th>MICROSOFT-CORP-MSN-AS-BLOCK, US</th>\n",
       "      <th>AU</th>\n",
       "      <td>196</td>\n",
       "      <td>2022-04-11 18:08:23.163000+00:00</td>\n",
       "      <td>2022-04-13 14:59:05.473000+00:00</td>\n",
       "    </tr>\n",
       "    <tr>\n",
       "      <th>20.37.253.233</th>\n",
       "      <th>MICROSOFT-CORP-MSN-AS-BLOCK, US</th>\n",
       "      <th>AU</th>\n",
       "      <td>58</td>\n",
       "      <td>2022-04-11 17:03:13.837000+00:00</td>\n",
       "      <td>2022-04-13 15:16:36.820000+00:00</td>\n",
       "    </tr>\n",
       "    <tr>\n",
       "      <th>20.37.255.76</th>\n",
       "      <th>MICROSOFT-CORP-MSN-AS-BLOCK, US</th>\n",
       "      <th>AU</th>\n",
       "      <td>36</td>\n",
       "      <td>2022-04-11 19:31:22.616000+00:00</td>\n",
       "      <td>2022-04-13 15:28:08.901000+00:00</td>\n",
       "    </tr>\n",
       "    <tr>\n",
       "      <th>20.53.9.84</th>\n",
       "      <th>MICROSOFT-CORP-MSN-AS-BLOCK, US</th>\n",
       "      <th>AU</th>\n",
       "      <td>51</td>\n",
       "      <td>2022-04-11 20:42:28.973000+00:00</td>\n",
       "      <td>2022-04-13 16:25:12.987000+00:00</td>\n",
       "    </tr>\n",
       "    <tr>\n",
       "      <th>20.70.208.63</th>\n",
       "      <th>MICROSOFT-CORP-MSN-AS-BLOCK, US</th>\n",
       "      <th>AU</th>\n",
       "      <td>47</td>\n",
       "      <td>2022-04-11 16:55:20.711000+00:00</td>\n",
       "      <td>2022-04-13 15:16:57.977000+00:00</td>\n",
       "    </tr>\n",
       "    <tr>\n",
       "      <th>BAV2ROPC</th>\n",
       "      <th>20.37.213.236</th>\n",
       "      <th>MICROSOFT-CORP-MSN-AS-BLOCK, US</th>\n",
       "      <th>AU</th>\n",
       "      <td>4</td>\n",
       "      <td>2022-04-13 07:40:16.051000+00:00</td>\n",
       "      <td>2022-04-13 07:40:16.051000+00:00</td>\n",
       "    </tr>\n",
       "    <tr>\n",
       "      <th rowspan=\"14\" valign=\"top\">Office365</th>\n",
       "      <th rowspan=\"2\" valign=\"top\">Create</th>\n",
       "      <th rowspan=\"2\" valign=\"top\"></th>\n",
       "      <th>2603:10b6:408:10d:cafe::a</th>\n",
       "      <th>NA</th>\n",
       "      <th>US</th>\n",
       "      <td>1</td>\n",
       "      <td>2022-04-12 20:03:32+00:00</td>\n",
       "      <td>2022-04-12 20:03:32+00:00</td>\n",
       "    </tr>\n",
       "    <tr>\n",
       "      <th>2603:10b6:408:131:cafe::74</th>\n",
       "      <th>NA</th>\n",
       "      <th>US</th>\n",
       "      <td>1</td>\n",
       "      <td>2022-04-11 20:50:08+00:00</td>\n",
       "      <td>2022-04-11 20:50:08+00:00</td>\n",
       "    </tr>\n",
       "    <tr>\n",
       "      <th rowspan=\"9\" valign=\"top\">MailItemsAccessed</th>\n",
       "      <th rowspan=\"9\" valign=\"top\"></th>\n",
       "      <th>20.190.142.169</th>\n",
       "      <th>MICROSOFT-CORP-MSN-AS-BLOCK, US</th>\n",
       "      <th>AU</th>\n",
       "      <td>9</td>\n",
       "      <td>2022-04-12 00:16:13+00:00</td>\n",
       "      <td>2022-04-13 11:45:25+00:00</td>\n",
       "    </tr>\n",
       "    <tr>\n",
       "      <th>20.190.142.170</th>\n",
       "      <th>MICROSOFT-CORP-MSN-AS-BLOCK, US</th>\n",
       "      <th>AU</th>\n",
       "      <td>6</td>\n",
       "      <td>2022-04-11 23:52:20+00:00</td>\n",
       "      <td>2022-04-13 14:05:58+00:00</td>\n",
       "    </tr>\n",
       "    <tr>\n",
       "      <th>20.190.142.172</th>\n",
       "      <th>MICROSOFT-CORP-MSN-AS-BLOCK, US</th>\n",
       "      <th>AU</th>\n",
       "      <td>11</td>\n",
       "      <td>2022-04-11 20:48:38+00:00</td>\n",
       "      <td>2022-04-13 10:47:22+00:00</td>\n",
       "    </tr>\n",
       "    <tr>\n",
       "      <th>2603:10b6:208:350::7</th>\n",
       "      <th>NA</th>\n",
       "      <th>US</th>\n",
       "      <td>4</td>\n",
       "      <td>2022-04-11 23:10:50+00:00</td>\n",
       "      <td>2022-04-13 00:38:59+00:00</td>\n",
       "    </tr>\n",
       "    <tr>\n",
       "      <th>2603:10b6:208:357::21</th>\n",
       "      <th>NA</th>\n",
       "      <th>US</th>\n",
       "      <td>1</td>\n",
       "      <td>2022-04-13 00:49:16+00:00</td>\n",
       "      <td>2022-04-13 00:49:16+00:00</td>\n",
       "    </tr>\n",
       "    <tr>\n",
       "      <th>2603:10b6:408:148::20</th>\n",
       "      <th>NA</th>\n",
       "      <th>US</th>\n",
       "      <td>1</td>\n",
       "      <td>2022-04-12 08:24:25+00:00</td>\n",
       "      <td>2022-04-12 08:24:25+00:00</td>\n",
       "    </tr>\n",
       "    <tr>\n",
       "      <th>2603:10b6:408:16a::13</th>\n",
       "      <th>NA</th>\n",
       "      <th>US</th>\n",
       "      <td>70</td>\n",
       "      <td>2022-04-11 16:55:28+00:00</td>\n",
       "      <td>2022-04-13 14:59:17+00:00</td>\n",
       "    </tr>\n",
       "    <tr>\n",
       "      <th>52.96.203.21</th>\n",
       "      <th>MICROSOFT-CORP-MSN-AS-BLOCK, US</th>\n",
       "      <th>US</th>\n",
       "      <td>1</td>\n",
       "      <td>2022-04-12 05:39:28+00:00</td>\n",
       "      <td>2022-04-12 05:39:28+00:00</td>\n",
       "    </tr>\n",
       "    <tr>\n",
       "      <th>52.96.203.93</th>\n",
       "      <th>MICROSOFT-CORP-MSN-AS-BLOCK, US</th>\n",
       "      <th>US</th>\n",
       "      <td>1</td>\n",
       "      <td>2022-04-13 05:32:31+00:00</td>\n",
       "      <td>2022-04-13 05:32:31+00:00</td>\n",
       "    </tr>\n",
       "    <tr>\n",
       "      <th rowspan=\"3\" valign=\"top\">Send</th>\n",
       "      <th rowspan=\"3\" valign=\"top\"></th>\n",
       "      <th>20.190.142.169</th>\n",
       "      <th>MICROSOFT-CORP-MSN-AS-BLOCK, US</th>\n",
       "      <th>AU</th>\n",
       "      <td>23</td>\n",
       "      <td>2022-04-11 18:38:26+00:00</td>\n",
       "      <td>2022-04-13 15:16:41+00:00</td>\n",
       "    </tr>\n",
       "    <tr>\n",
       "      <th>20.190.142.170</th>\n",
       "      <th>MICROSOFT-CORP-MSN-AS-BLOCK, US</th>\n",
       "      <th>AU</th>\n",
       "      <td>36</td>\n",
       "      <td>2022-04-11 16:55:24+00:00</td>\n",
       "      <td>2022-04-13 14:59:08+00:00</td>\n",
       "    </tr>\n",
       "    <tr>\n",
       "      <th>20.190.142.172</th>\n",
       "      <th>MICROSOFT-CORP-MSN-AS-BLOCK, US</th>\n",
       "      <th>AU</th>\n",
       "      <td>25</td>\n",
       "      <td>2022-04-11 16:55:19+00:00</td>\n",
       "      <td>2022-04-13 16:25:21+00:00</td>\n",
       "    </tr>\n",
       "  </tbody>\n",
       "</table>\n",
       "</div>"
      ],
      "text/plain": [
       "                                                                                                                         Count  \\\n",
       "Source               Operation         UserAgent IpAddress                  AsnDescription                  CountryCode          \n",
       "AzureActiveDirectory Sign-in activity            20.37.212.69               MICROSOFT-CORP-MSN-AS-BLOCK, US AU              35   \n",
       "                                                 20.37.213.236              MICROSOFT-CORP-MSN-AS-BLOCK, US AU             196   \n",
       "                                                 20.37.253.233              MICROSOFT-CORP-MSN-AS-BLOCK, US AU              58   \n",
       "                                                 20.37.255.76               MICROSOFT-CORP-MSN-AS-BLOCK, US AU              36   \n",
       "                                                 20.53.9.84                 MICROSOFT-CORP-MSN-AS-BLOCK, US AU              51   \n",
       "                                                 20.70.208.63               MICROSOFT-CORP-MSN-AS-BLOCK, US AU              47   \n",
       "                                       BAV2ROPC  20.37.213.236              MICROSOFT-CORP-MSN-AS-BLOCK, US AU               4   \n",
       "Office365            Create                      2603:10b6:408:10d:cafe::a  NA                              US               1   \n",
       "                                                 2603:10b6:408:131:cafe::74 NA                              US               1   \n",
       "                     MailItemsAccessed           20.190.142.169             MICROSOFT-CORP-MSN-AS-BLOCK, US AU               9   \n",
       "                                                 20.190.142.170             MICROSOFT-CORP-MSN-AS-BLOCK, US AU               6   \n",
       "                                                 20.190.142.172             MICROSOFT-CORP-MSN-AS-BLOCK, US AU              11   \n",
       "                                                 2603:10b6:208:350::7       NA                              US               4   \n",
       "                                                 2603:10b6:208:357::21      NA                              US               1   \n",
       "                                                 2603:10b6:408:148::20      NA                              US               1   \n",
       "                                                 2603:10b6:408:16a::13      NA                              US              70   \n",
       "                                                 52.96.203.21               MICROSOFT-CORP-MSN-AS-BLOCK, US US               1   \n",
       "                                                 52.96.203.93               MICROSOFT-CORP-MSN-AS-BLOCK, US US               1   \n",
       "                     Send                        20.190.142.169             MICROSOFT-CORP-MSN-AS-BLOCK, US AU              23   \n",
       "                                                 20.190.142.170             MICROSOFT-CORP-MSN-AS-BLOCK, US AU              36   \n",
       "                                                 20.190.142.172             MICROSOFT-CORP-MSN-AS-BLOCK, US AU              25   \n",
       "\n",
       "                                                                                                                                          FirstOperation  \\\n",
       "Source               Operation         UserAgent IpAddress                  AsnDescription                  CountryCode                                    \n",
       "AzureActiveDirectory Sign-in activity            20.37.212.69               MICROSOFT-CORP-MSN-AS-BLOCK, US AU          2022-04-11 16:55:16.334000+00:00   \n",
       "                                                 20.37.213.236              MICROSOFT-CORP-MSN-AS-BLOCK, US AU          2022-04-11 18:08:23.163000+00:00   \n",
       "                                                 20.37.253.233              MICROSOFT-CORP-MSN-AS-BLOCK, US AU          2022-04-11 17:03:13.837000+00:00   \n",
       "                                                 20.37.255.76               MICROSOFT-CORP-MSN-AS-BLOCK, US AU          2022-04-11 19:31:22.616000+00:00   \n",
       "                                                 20.53.9.84                 MICROSOFT-CORP-MSN-AS-BLOCK, US AU          2022-04-11 20:42:28.973000+00:00   \n",
       "                                                 20.70.208.63               MICROSOFT-CORP-MSN-AS-BLOCK, US AU          2022-04-11 16:55:20.711000+00:00   \n",
       "                                       BAV2ROPC  20.37.213.236              MICROSOFT-CORP-MSN-AS-BLOCK, US AU          2022-04-13 07:40:16.051000+00:00   \n",
       "Office365            Create                      2603:10b6:408:10d:cafe::a  NA                              US                 2022-04-12 20:03:32+00:00   \n",
       "                                                 2603:10b6:408:131:cafe::74 NA                              US                 2022-04-11 20:50:08+00:00   \n",
       "                     MailItemsAccessed           20.190.142.169             MICROSOFT-CORP-MSN-AS-BLOCK, US AU                 2022-04-12 00:16:13+00:00   \n",
       "                                                 20.190.142.170             MICROSOFT-CORP-MSN-AS-BLOCK, US AU                 2022-04-11 23:52:20+00:00   \n",
       "                                                 20.190.142.172             MICROSOFT-CORP-MSN-AS-BLOCK, US AU                 2022-04-11 20:48:38+00:00   \n",
       "                                                 2603:10b6:208:350::7       NA                              US                 2022-04-11 23:10:50+00:00   \n",
       "                                                 2603:10b6:208:357::21      NA                              US                 2022-04-13 00:49:16+00:00   \n",
       "                                                 2603:10b6:408:148::20      NA                              US                 2022-04-12 08:24:25+00:00   \n",
       "                                                 2603:10b6:408:16a::13      NA                              US                 2022-04-11 16:55:28+00:00   \n",
       "                                                 52.96.203.21               MICROSOFT-CORP-MSN-AS-BLOCK, US US                 2022-04-12 05:39:28+00:00   \n",
       "                                                 52.96.203.93               MICROSOFT-CORP-MSN-AS-BLOCK, US US                 2022-04-13 05:32:31+00:00   \n",
       "                     Send                        20.190.142.169             MICROSOFT-CORP-MSN-AS-BLOCK, US AU                 2022-04-11 18:38:26+00:00   \n",
       "                                                 20.190.142.170             MICROSOFT-CORP-MSN-AS-BLOCK, US AU                 2022-04-11 16:55:24+00:00   \n",
       "                                                 20.190.142.172             MICROSOFT-CORP-MSN-AS-BLOCK, US AU                 2022-04-11 16:55:19+00:00   \n",
       "\n",
       "                                                                                                                                           LastOperation  \n",
       "Source               Operation         UserAgent IpAddress                  AsnDescription                  CountryCode                                   \n",
       "AzureActiveDirectory Sign-in activity            20.37.212.69               MICROSOFT-CORP-MSN-AS-BLOCK, US AU          2022-04-13 15:38:03.671000+00:00  \n",
       "                                                 20.37.213.236              MICROSOFT-CORP-MSN-AS-BLOCK, US AU          2022-04-13 14:59:05.473000+00:00  \n",
       "                                                 20.37.253.233              MICROSOFT-CORP-MSN-AS-BLOCK, US AU          2022-04-13 15:16:36.820000+00:00  \n",
       "                                                 20.37.255.76               MICROSOFT-CORP-MSN-AS-BLOCK, US AU          2022-04-13 15:28:08.901000+00:00  \n",
       "                                                 20.53.9.84                 MICROSOFT-CORP-MSN-AS-BLOCK, US AU          2022-04-13 16:25:12.987000+00:00  \n",
       "                                                 20.70.208.63               MICROSOFT-CORP-MSN-AS-BLOCK, US AU          2022-04-13 15:16:57.977000+00:00  \n",
       "                                       BAV2ROPC  20.37.213.236              MICROSOFT-CORP-MSN-AS-BLOCK, US AU          2022-04-13 07:40:16.051000+00:00  \n",
       "Office365            Create                      2603:10b6:408:10d:cafe::a  NA                              US                 2022-04-12 20:03:32+00:00  \n",
       "                                                 2603:10b6:408:131:cafe::74 NA                              US                 2022-04-11 20:50:08+00:00  \n",
       "                     MailItemsAccessed           20.190.142.169             MICROSOFT-CORP-MSN-AS-BLOCK, US AU                 2022-04-13 11:45:25+00:00  \n",
       "                                                 20.190.142.170             MICROSOFT-CORP-MSN-AS-BLOCK, US AU                 2022-04-13 14:05:58+00:00  \n",
       "                                                 20.190.142.172             MICROSOFT-CORP-MSN-AS-BLOCK, US AU                 2022-04-13 10:47:22+00:00  \n",
       "                                                 2603:10b6:208:350::7       NA                              US                 2022-04-13 00:38:59+00:00  \n",
       "                                                 2603:10b6:208:357::21      NA                              US                 2022-04-13 00:49:16+00:00  \n",
       "                                                 2603:10b6:408:148::20      NA                              US                 2022-04-12 08:24:25+00:00  \n",
       "                                                 2603:10b6:408:16a::13      NA                              US                 2022-04-13 14:59:17+00:00  \n",
       "                                                 52.96.203.21               MICROSOFT-CORP-MSN-AS-BLOCK, US US                 2022-04-12 05:39:28+00:00  \n",
       "                                                 52.96.203.93               MICROSOFT-CORP-MSN-AS-BLOCK, US US                 2022-04-13 05:32:31+00:00  \n",
       "                     Send                        20.190.142.169             MICROSOFT-CORP-MSN-AS-BLOCK, US AU                 2022-04-13 15:16:41+00:00  \n",
       "                                                 20.190.142.170             MICROSOFT-CORP-MSN-AS-BLOCK, US AU                 2022-04-13 14:59:08+00:00  \n",
       "                                                 20.190.142.172             MICROSOFT-CORP-MSN-AS-BLOCK, US AU                 2022-04-13 16:25:21+00:00  "
      ]
     },
     "metadata": {},
     "output_type": "display_data"
    }
   ],
   "source": [
    "acc_result.get_additional_data()"
   ]
  },
  {
   "cell_type": "markdown",
   "metadata": {},
   "source": [
    "# Browse alerts\n",
    "If there are any alerts referencing this account name they can be viewed\n",
    "by calling the `acc_result.browse_alerts()` function."
   ]
  },
  {
   "cell_type": "code",
   "execution_count": 12,
   "metadata": {},
   "outputs": [
    {
     "data": {
      "application/vnd.jupyter.widget-view+json": {
       "model_id": "31c06d6aa28f4e0b87242f124501a99e",
       "version_major": 2,
       "version_minor": 0
      },
      "text/plain": [
       "VBox(children=(Text(value='', description='Filter alerts by title:', style=DescriptionStyle(description_width=â€¦"
      ]
     },
     "metadata": {},
     "output_type": "display_data"
    },
    {
     "data": {
      "text/html": [
       "<div>\n",
       "<style scoped>\n",
       "    .dataframe tbody tr th:only-of-type {\n",
       "        vertical-align: middle;\n",
       "    }\n",
       "\n",
       "    .dataframe tbody tr th {\n",
       "        vertical-align: top;\n",
       "    }\n",
       "\n",
       "    .dataframe thead th {\n",
       "        text-align: right;\n",
       "    }\n",
       "</style>\n",
       "<table border=\"1\" class=\"dataframe\">\n",
       "  <thead>\n",
       "    <tr style=\"text-align: right;\">\n",
       "      <th></th>\n",
       "      <th>0</th>\n",
       "    </tr>\n",
       "  </thead>\n",
       "  <tbody>\n",
       "    <tr>\n",
       "      <th>TenantId</th>\n",
       "      <td>8ecf8077-cf51-4820-aadd-14040956f35d</td>\n",
       "    </tr>\n",
       "    <tr>\n",
       "      <th>TimeGenerated</th>\n",
       "      <td>2022-04-12 00:50:05.465000+00:00</td>\n",
       "    </tr>\n",
       "    <tr>\n",
       "      <th>AlertDisplayName</th>\n",
       "      <td>Impossible Travel Activity by User</td>\n",
       "    </tr>\n",
       "    <tr>\n",
       "      <th>AlertName</th>\n",
       "      <td>Impossible Travel Activity by User</td>\n",
       "    </tr>\n",
       "    <tr>\n",
       "      <th>Severity</th>\n",
       "      <td>Medium</td>\n",
       "    </tr>\n",
       "    <tr>\n",
       "      <th>Description</th>\n",
       "      <td>Test</td>\n",
       "    </tr>\n",
       "    <tr>\n",
       "      <th>ProviderName</th>\n",
       "      <td>ASI Scheduled Alerts</td>\n",
       "    </tr>\n",
       "    <tr>\n",
       "      <th>VendorName</th>\n",
       "      <td>Microsoft</td>\n",
       "    </tr>\n",
       "    <tr>\n",
       "      <th>VendorOriginalId</th>\n",
       "      <td>2bcbc749-d89b-4a0c-a252-3dd48ba40bdc</td>\n",
       "    </tr>\n",
       "    <tr>\n",
       "      <th>SystemAlertId</th>\n",
       "      <td>c19a7585-0c6a-3cfa-c374-9abe9590fa70</td>\n",
       "    </tr>\n",
       "    <tr>\n",
       "      <th>ResourceId</th>\n",
       "      <td></td>\n",
       "    </tr>\n",
       "    <tr>\n",
       "      <th>SourceComputerId</th>\n",
       "      <td></td>\n",
       "    </tr>\n",
       "    <tr>\n",
       "      <th>AlertType</th>\n",
       "      <td>8ecf8077-cf51-4820-aadd-14040956f35d_b01dc2c6-cde4-4a9a-9e53-3813eea85bf1</td>\n",
       "    </tr>\n",
       "    <tr>\n",
       "      <th>ConfidenceLevel</th>\n",
       "      <td></td>\n",
       "    </tr>\n",
       "    <tr>\n",
       "      <th>ConfidenceScore</th>\n",
       "      <td>NaN</td>\n",
       "    </tr>\n",
       "    <tr>\n",
       "      <th>IsIncident</th>\n",
       "      <td>False</td>\n",
       "    </tr>\n",
       "    <tr>\n",
       "      <th>StartTimeUtc</th>\n",
       "      <td>2022-04-12 00:41:22.390000+00:00</td>\n",
       "    </tr>\n",
       "    <tr>\n",
       "      <th>EndTimeUtc</th>\n",
       "      <td>2022-04-12 00:41:22.390000+00:00</td>\n",
       "    </tr>\n",
       "    <tr>\n",
       "      <th>ProcessingEndTime</th>\n",
       "      <td>2022-04-12 00:50:05.465000+00:00</td>\n",
       "    </tr>\n",
       "    <tr>\n",
       "      <th>RemediationSteps</th>\n",
       "      <td></td>\n",
       "    </tr>\n",
       "    <tr>\n",
       "      <th>ExtendedProperties</th>\n",
       "      <td>{'Query': '// The query_now parameter represents the time (in UTC) at which the scheduled analyt...</td>\n",
       "    </tr>\n",
       "    <tr>\n",
       "      <th>Entities</th>\n",
       "      <td>[{'$id': '3', 'Address': '20.37.255.76', 'Type': 'ip'}, {'$id': '4', 'Name': 'kelsea', 'UPNSuffi...</td>\n",
       "    </tr>\n",
       "    <tr>\n",
       "      <th>SourceSystem</th>\n",
       "      <td>Detection</td>\n",
       "    </tr>\n",
       "    <tr>\n",
       "      <th>WorkspaceSubscriptionId</th>\n",
       "      <td>d1d8779d-38d7-4f06-91db-9cbc8de0176f</td>\n",
       "    </tr>\n",
       "    <tr>\n",
       "      <th>WorkspaceResourceGroup</th>\n",
       "      <td>SOC</td>\n",
       "    </tr>\n",
       "    <tr>\n",
       "      <th>ExtendedLinks</th>\n",
       "      <td></td>\n",
       "    </tr>\n",
       "    <tr>\n",
       "      <th>ProductName</th>\n",
       "      <td>Azure Sentinel</td>\n",
       "    </tr>\n",
       "    <tr>\n",
       "      <th>ProductComponentName</th>\n",
       "      <td>Scheduled Alerts</td>\n",
       "    </tr>\n",
       "    <tr>\n",
       "      <th>AlertLink</th>\n",
       "      <td></td>\n",
       "    </tr>\n",
       "    <tr>\n",
       "      <th>Status</th>\n",
       "      <td>New</td>\n",
       "    </tr>\n",
       "    <tr>\n",
       "      <th>CompromisedEntity</th>\n",
       "      <td></td>\n",
       "    </tr>\n",
       "    <tr>\n",
       "      <th>Tactics</th>\n",
       "      <td>CredentialAccess</td>\n",
       "    </tr>\n",
       "    <tr>\n",
       "      <th>Techniques</th>\n",
       "      <td></td>\n",
       "    </tr>\n",
       "    <tr>\n",
       "      <th>Type</th>\n",
       "      <td>SecurityAlert</td>\n",
       "    </tr>\n",
       "    <tr>\n",
       "      <th>Computer</th>\n",
       "      <td></td>\n",
       "    </tr>\n",
       "    <tr>\n",
       "      <th>src_hostname</th>\n",
       "      <td></td>\n",
       "    </tr>\n",
       "    <tr>\n",
       "      <th>src_accountname</th>\n",
       "      <td>kelsea</td>\n",
       "    </tr>\n",
       "    <tr>\n",
       "      <th>src_procname</th>\n",
       "      <td></td>\n",
       "    </tr>\n",
       "    <tr>\n",
       "      <th>host_match</th>\n",
       "      <td>False</td>\n",
       "    </tr>\n",
       "    <tr>\n",
       "      <th>acct_match</th>\n",
       "      <td>True</td>\n",
       "    </tr>\n",
       "    <tr>\n",
       "      <th>proc_match</th>\n",
       "      <td>False</td>\n",
       "    </tr>\n",
       "  </tbody>\n",
       "</table>\n",
       "</div>"
      ],
      "text/plain": [
       "                                                                                                                           0\n",
       "TenantId                                                                                8ecf8077-cf51-4820-aadd-14040956f35d\n",
       "TimeGenerated                                                                               2022-04-12 00:50:05.465000+00:00\n",
       "AlertDisplayName                                                                          Impossible Travel Activity by User\n",
       "AlertName                                                                                 Impossible Travel Activity by User\n",
       "Severity                                                                                                              Medium\n",
       "Description                                                                                                             Test\n",
       "ProviderName                                                                                            ASI Scheduled Alerts\n",
       "VendorName                                                                                                         Microsoft\n",
       "VendorOriginalId                                                                        2bcbc749-d89b-4a0c-a252-3dd48ba40bdc\n",
       "SystemAlertId                                                                           c19a7585-0c6a-3cfa-c374-9abe9590fa70\n",
       "ResourceId                                                                                                                  \n",
       "SourceComputerId                                                                                                            \n",
       "AlertType                                          8ecf8077-cf51-4820-aadd-14040956f35d_b01dc2c6-cde4-4a9a-9e53-3813eea85bf1\n",
       "ConfidenceLevel                                                                                                             \n",
       "ConfidenceScore                                                                                                          NaN\n",
       "IsIncident                                                                                                             False\n",
       "StartTimeUtc                                                                                2022-04-12 00:41:22.390000+00:00\n",
       "EndTimeUtc                                                                                  2022-04-12 00:41:22.390000+00:00\n",
       "ProcessingEndTime                                                                           2022-04-12 00:50:05.465000+00:00\n",
       "RemediationSteps                                                                                                            \n",
       "ExtendedProperties       {'Query': '// The query_now parameter represents the time (in UTC) at which the scheduled analyt...\n",
       "Entities                 [{'$id': '3', 'Address': '20.37.255.76', 'Type': 'ip'}, {'$id': '4', 'Name': 'kelsea', 'UPNSuffi...\n",
       "SourceSystem                                                                                                       Detection\n",
       "WorkspaceSubscriptionId                                                                 d1d8779d-38d7-4f06-91db-9cbc8de0176f\n",
       "WorkspaceResourceGroup                                                                                                   SOC\n",
       "ExtendedLinks                                                                                                               \n",
       "ProductName                                                                                                   Azure Sentinel\n",
       "ProductComponentName                                                                                        Scheduled Alerts\n",
       "AlertLink                                                                                                                   \n",
       "Status                                                                                                                   New\n",
       "CompromisedEntity                                                                                                           \n",
       "Tactics                                                                                                     CredentialAccess\n",
       "Techniques                                                                                                                  \n",
       "Type                                                                                                           SecurityAlert\n",
       "Computer                                                                                                                    \n",
       "src_hostname                                                                                                                \n",
       "src_accountname                                                                                                       kelsea\n",
       "src_procname                                                                                                                \n",
       "host_match                                                                                                             False\n",
       "acct_match                                                                                                              True\n",
       "proc_match                                                                                                             False"
      ]
     },
     "metadata": {},
     "output_type": "display_data"
    }
   ],
   "source": [
    "acc_result.notebooklet.browse_alerts()\n"
   ]
  },
  {
   "cell_type": "markdown",
   "metadata": {},
   "source": [
    "# Browse other event data\n",
    "\n",
    "You can use a simple view to make it easier to see the details of individual events\n",
    "by calling the \"view_events\" method.\n",
    "\n",
    "You need to supply the name of the result attribute that you want to view plus\n",
    "one or more summary columns (as a list of strings)."
   ]
  },
  {
   "cell_type": "code",
   "execution_count": 13,
   "metadata": {},
   "outputs": [
    {
     "name": "stdout",
     "output_type": "stream",
     "text": [
      "Available data properties\n",
      " ['account_activity', 'related_alerts', 'azure_activity', 'azure_activity_summary', 'ip_summary', 'ip_all_data']\n"
     ]
    }
   ],
   "source": [
    "print(\n",
    "    \"Available data properties\\n\",\n",
    "    acc_result.data_properties()\n",
    ")"
   ]
  },
  {
   "cell_type": "code",
   "execution_count": 17,
   "metadata": {},
   "outputs": [
    {
     "data": {
      "application/vnd.jupyter.widget-view+json": {
       "model_id": "707418279e7e495bb0e9eceede9ff28d",
       "version_major": 2,
       "version_minor": 0
      },
      "text/plain": [
       "VBox(children=(Text(value='2022-04-11 16:55:16.334000+00:00 - Azure AD - Sign-in activity - 20.37.212.69', desâ€¦"
      ]
     },
     "metadata": {},
     "output_type": "display_data"
    },
    {
     "data": {
      "text/html": [
       "<hr>"
      ],
      "text/plain": [
       "<IPython.core.display.HTML object>"
      ]
     },
     "metadata": {},
     "output_type": "display_data"
    },
    {
     "data": {
      "text/html": [
       "<div>\n",
       "<style scoped>\n",
       "    .dataframe tbody tr th:only-of-type {\n",
       "        vertical-align: middle;\n",
       "    }\n",
       "\n",
       "    .dataframe tbody tr th {\n",
       "        vertical-align: top;\n",
       "    }\n",
       "\n",
       "    .dataframe thead th {\n",
       "        text-align: right;\n",
       "    }\n",
       "</style>\n",
       "<table border=\"1\" class=\"dataframe\">\n",
       "  <thead>\n",
       "    <tr style=\"text-align: right;\">\n",
       "      <th></th>\n",
       "      <th>291</th>\n",
       "    </tr>\n",
       "  </thead>\n",
       "  <tbody>\n",
       "    <tr>\n",
       "      <th>TenantId</th>\n",
       "      <td>8ecf8077-cf51-4820-aadd-14040956f35d</td>\n",
       "    </tr>\n",
       "    <tr>\n",
       "      <th>SourceSystem</th>\n",
       "      <td>OfficeActivityManager</td>\n",
       "    </tr>\n",
       "    <tr>\n",
       "      <th>TimeGenerated</th>\n",
       "      <td>2022-04-11 16:55:28+00:00</td>\n",
       "    </tr>\n",
       "    <tr>\n",
       "      <th>Operation</th>\n",
       "      <td>MailItemsAccessed</td>\n",
       "    </tr>\n",
       "    <tr>\n",
       "      <th>AppResourceProvider</th>\n",
       "      <td>Exchange</td>\n",
       "    </tr>\n",
       "    <tr>\n",
       "      <th>AppId</th>\n",
       "      <td>13937bba-652e-4c46-b222-3003f4d1ff97</td>\n",
       "    </tr>\n",
       "    <tr>\n",
       "      <th>IPAddress</th>\n",
       "      <td>2603:10b6:408:16a::13</td>\n",
       "    </tr>\n",
       "    <tr>\n",
       "      <th>UserId</th>\n",
       "      <td>Kelsea@seccxp.ninja</td>\n",
       "    </tr>\n",
       "    <tr>\n",
       "      <th>UserPrincipalName</th>\n",
       "      <td>kelsea@seccxp.ninja</td>\n",
       "    </tr>\n",
       "    <tr>\n",
       "      <th>UserType</th>\n",
       "      <td>Regular</td>\n",
       "    </tr>\n",
       "    <tr>\n",
       "      <th>Type</th>\n",
       "      <td>OfficeActivity</td>\n",
       "    </tr>\n",
       "    <tr>\n",
       "      <th>Source</th>\n",
       "      <td>Office365</td>\n",
       "    </tr>\n",
       "    <tr>\n",
       "      <th>RecordType</th>\n",
       "      <td>50</td>\n",
       "    </tr>\n",
       "    <tr>\n",
       "      <th>OrganizationId</th>\n",
       "      <td>4b2462a4-bbee-495a-a0e1-f23ae524cc9c</td>\n",
       "    </tr>\n",
       "    <tr>\n",
       "      <th>OrganizationId_</th>\n",
       "      <td>4b2462a4-bbee-495a-a0e1-f23ae524cc9c</td>\n",
       "    </tr>\n",
       "    <tr>\n",
       "      <th>UserKey</th>\n",
       "      <td>10032001C1059FE4</td>\n",
       "    </tr>\n",
       "    <tr>\n",
       "      <th>ResultStatus</th>\n",
       "      <td>Succeeded</td>\n",
       "    </tr>\n",
       "    <tr>\n",
       "      <th>ResultReasonType</th>\n",
       "      <td>Succeeded</td>\n",
       "    </tr>\n",
       "    <tr>\n",
       "      <th>UserId_</th>\n",
       "      <td>Kelsea@seccxp.ninja</td>\n",
       "    </tr>\n",
       "    <tr>\n",
       "      <th>ExternalAccess</th>\n",
       "      <td>False</td>\n",
       "    </tr>\n",
       "    <tr>\n",
       "      <th>OriginatingServer</th>\n",
       "      <td>BN0P221MB0383 (15.20.4200.000)\\r\\n</td>\n",
       "    </tr>\n",
       "    <tr>\n",
       "      <th>OrganizationName</th>\n",
       "      <td>seccxpninja.onmicrosoft.com</td>\n",
       "    </tr>\n",
       "    <tr>\n",
       "      <th>Logon_Type</th>\n",
       "      <td>Owner</td>\n",
       "    </tr>\n",
       "    <tr>\n",
       "      <th>InternalLogonType</th>\n",
       "      <td>0.0</td>\n",
       "    </tr>\n",
       "    <tr>\n",
       "      <th>MailboxGuid</th>\n",
       "      <td>63ad1549-9108-406f-a65f-c6844b6904fd</td>\n",
       "    </tr>\n",
       "    <tr>\n",
       "      <th>MailboxOwnerUPN</th>\n",
       "      <td>Kelsea@seccxp.ninja</td>\n",
       "    </tr>\n",
       "    <tr>\n",
       "      <th>MailboxOwnerSid</th>\n",
       "      <td>S-1-5-21-1215315387-180893480-700816437-29846251</td>\n",
       "    </tr>\n",
       "    <tr>\n",
       "      <th>LogonUserSid</th>\n",
       "      <td>S-1-5-21-1215315387-180893480-700816437-29846251</td>\n",
       "    </tr>\n",
       "    <tr>\n",
       "      <th>ClientInfoString</th>\n",
       "      <td>Client=REST;Client=RESTSystem;;</td>\n",
       "    </tr>\n",
       "    <tr>\n",
       "      <th>Client_IPAddress</th>\n",
       "      <td>2603:10b6:408:16a::13</td>\n",
       "    </tr>\n",
       "    <tr>\n",
       "      <th>Folders</th>\n",
       "      <td>[{\"FolderItems\":[{\"InternetMessageId\":\"&lt;BN0P221MB03836F9DA8CAB0EB7EE3422DBDEA9@BN0P221MB0383.NAM...</td>\n",
       "    </tr>\n",
       "    <tr>\n",
       "      <th>ElevationTime</th>\n",
       "      <td>2022-04-11 17:06:10+00:00</td>\n",
       "    </tr>\n",
       "    <tr>\n",
       "      <th>OfficeId</th>\n",
       "      <td>9c0050d0-4871-4aa8-a76b-3170e1f6f77e</td>\n",
       "    </tr>\n",
       "    <tr>\n",
       "      <th>SourceRecordId</th>\n",
       "      <td>9c0050d0-4871-4aa8-a76b-3170e1f6f77e</td>\n",
       "    </tr>\n",
       "    <tr>\n",
       "      <th>Start_Time</th>\n",
       "      <td>2022-04-11 17:06:10+00:00</td>\n",
       "    </tr>\n",
       "    <tr>\n",
       "      <th>OfficeTenantId</th>\n",
       "      <td>$RestApiTenantId$</td>\n",
       "    </tr>\n",
       "    <tr>\n",
       "      <th>OfficeTenantId_</th>\n",
       "      <td>$RestApiTenantId$</td>\n",
       "    </tr>\n",
       "    <tr>\n",
       "      <th>OperationProperties</th>\n",
       "      <td>[{'Name': 'MailAccessType', 'Value': 'Bind'}, {'Name': 'IsThrottled', 'Value': 'False'}]</td>\n",
       "    </tr>\n",
       "    <tr>\n",
       "      <th>ClientAppId</th>\n",
       "      <td>13937bba-652e-4c46-b222-3003f4d1ff97</td>\n",
       "    </tr>\n",
       "  </tbody>\n",
       "</table>\n",
       "</div>"
      ],
      "text/plain": [
       "                                                                                                                     291\n",
       "TenantId                                                                            8ecf8077-cf51-4820-aadd-14040956f35d\n",
       "SourceSystem                                                                                       OfficeActivityManager\n",
       "TimeGenerated                                                                                  2022-04-11 16:55:28+00:00\n",
       "Operation                                                                                              MailItemsAccessed\n",
       "AppResourceProvider                                                                                             Exchange\n",
       "AppId                                                                               13937bba-652e-4c46-b222-3003f4d1ff97\n",
       "IPAddress                                                                                          2603:10b6:408:16a::13\n",
       "UserId                                                                                               Kelsea@seccxp.ninja\n",
       "UserPrincipalName                                                                                    kelsea@seccxp.ninja\n",
       "UserType                                                                                                         Regular\n",
       "Type                                                                                                      OfficeActivity\n",
       "Source                                                                                                         Office365\n",
       "RecordType                                                                                                            50\n",
       "OrganizationId                                                                      4b2462a4-bbee-495a-a0e1-f23ae524cc9c\n",
       "OrganizationId_                                                                     4b2462a4-bbee-495a-a0e1-f23ae524cc9c\n",
       "UserKey                                                                                                 10032001C1059FE4\n",
       "ResultStatus                                                                                                   Succeeded\n",
       "ResultReasonType                                                                                               Succeeded\n",
       "UserId_                                                                                              Kelsea@seccxp.ninja\n",
       "ExternalAccess                                                                                                     False\n",
       "OriginatingServer                                                                     BN0P221MB0383 (15.20.4200.000)\\r\\n\n",
       "OrganizationName                                                                             seccxpninja.onmicrosoft.com\n",
       "Logon_Type                                                                                                         Owner\n",
       "InternalLogonType                                                                                                    0.0\n",
       "MailboxGuid                                                                         63ad1549-9108-406f-a65f-c6844b6904fd\n",
       "MailboxOwnerUPN                                                                                      Kelsea@seccxp.ninja\n",
       "MailboxOwnerSid                                                         S-1-5-21-1215315387-180893480-700816437-29846251\n",
       "LogonUserSid                                                            S-1-5-21-1215315387-180893480-700816437-29846251\n",
       "ClientInfoString                                                                         Client=REST;Client=RESTSystem;;\n",
       "Client_IPAddress                                                                                   2603:10b6:408:16a::13\n",
       "Folders              [{\"FolderItems\":[{\"InternetMessageId\":\"<BN0P221MB03836F9DA8CAB0EB7EE3422DBDEA9@BN0P221MB0383.NAM...\n",
       "ElevationTime                                                                                  2022-04-11 17:06:10+00:00\n",
       "OfficeId                                                                            9c0050d0-4871-4aa8-a76b-3170e1f6f77e\n",
       "SourceRecordId                                                                      9c0050d0-4871-4aa8-a76b-3170e1f6f77e\n",
       "Start_Time                                                                                     2022-04-11 17:06:10+00:00\n",
       "OfficeTenantId                                                                                         $RestApiTenantId$\n",
       "OfficeTenantId_                                                                                        $RestApiTenantId$\n",
       "OperationProperties             [{'Name': 'MailAccessType', 'Value': 'Bind'}, {'Name': 'IsThrottled', 'Value': 'False'}]\n",
       "ClientAppId                                                                         13937bba-652e-4c46-b222-3003f4d1ff97"
      ]
     },
     "metadata": {},
     "output_type": "display_data"
    }
   ],
   "source": [
    "acc_result.view_events(\n",
    "    attrib=\"azure_activity\",  # the result attribute to view\n",
    "    # summary_cols controls which cols are use to create the summary\n",
    "    # for the select list\n",
    "    summary_cols=[\"SourceSystem\", \"Operation\", \"IPAddress\"]\n",
    ")"
   ]
  },
  {
   "cell_type": "markdown",
   "metadata": {},
   "source": [
    "# More operations available\n",
    "\n",
    "---\n",
    "\n",
    "## Browse events with alternative sorting\n",
    "You can pass a DatFrame to view events instead of an attribute name.\n",
    "\n",
    "This means that you can apply sorting or filtering of the data before viewing it.\n",
    "Here is an example sorting by IPAddress.\n",
    "\n",
    "```python\n",
    "acc_result.view_events(\n",
    "    data=acc_result.azure_activity.sort_values(\"IPAddress\"),\n",
    "    summary_cols=[\"SourceSystem\", \"Operation\", \"IPAddress\"]\n",
    ")\n",
    "```"
   ]
  },
  {
   "cell_type": "markdown",
   "metadata": {},
   "source": [
    "---\n",
    "\n",
    "## Additional properties and methods of the result object\n",
    "\n",
    "These are static properties - usually DataFrames or visualizations. \n",
    "You can access each of these to see or manipulate the retrieved data.\n",
    "\n",
    "To see help on the available attributes type:\n",
    "```python\n",
    ">>> help(acc_result)\n",
    "```\n",
    "To see the available methods type:\n",
    "```python\n",
    ">>> acc_result.list_methods()\n",
    "```\n",
    "> Note, for the AccountSummary notebooklet, the two main data retrieval methods are:<br>\n",
    "> - run<br>\n",
    "> - get_additional_data<br>\n",
    "> There are several other methods that allow you to view individual plots\n",
    "> or subsets of the data (such as alerts).\n",
    "\n",
    "To view help on a specific method type:\n",
    "```python\n",
    ">>> help(acc_result.method_name)\n",
    "```\n",
    "\n",
    "To run a method\n",
    "```python\n",
    "acc_result.display_alert_timeline()\n",
    "```"
   ]
  },
  {
   "cell_type": "markdown",
   "metadata": {},
   "source": [
    "---\n",
    "\n",
    "## Viewing the Result class\n",
    "You can view all of the data in the results class by \"running\" it in a cell\n",
    "\n",
    "> Note: This produces a lot of output.<br>\n",
    "> Due to the way Jupyter display Javascript objects the plots may\n",
    "> appear out of order.\n",
    "\n",
    "```ipython\n",
    "acc_result\n",
    "```\n"
   ]
  },
  {
   "cell_type": "markdown",
   "metadata": {},
   "source": [
    "---\n",
    "\n",
    "## Using Pivots to get more context information\n",
    "\n",
    "You can run a pivot function on the account summary results\n",
    "to get additional context on the data.\n",
    "\n",
    "Here is an example of looking up Whois information for Azure IPAddress requests.\n",
    "\n",
    "```python\n",
    "whois_df = (\n",
    "    acc_result                      # the results object\n",
    "    .azure_activity[[\"IPAddress\"]]  # the property and the column we want\n",
    "    .drop_duplicates()              # drop duplicates\n",
    "    .mp_pivot.run(                  # run the pivot function IpAddress 'whois' function\n",
    "        IpAddress.util.whois, column=\"IPAddress\" \n",
    "    )\n",
    ")\n",
    "whois_df\n",
    "```"
   ]
  },
  {
   "cell_type": "markdown",
   "metadata": {},
   "source": [
    "---\n",
    "\n",
    "## Use other notebooklets and pivots functions to drill down on other entities\n",
    "\n",
    "You may want to drill down on other entities in the Account data.\n",
    "You can use methods of the IpAddress or Host entities, for example,\n",
    "to look at these in more detail.\n",
    "\n",
    "Run the ip_address_summary notebooklet pivot\n",
    "```python\n",
    "IpAddress = entities.IpAddress\n",
    "ip_result = IpAddress.nblt.ip_address_summary(\"157.56.162.53\")\n",
    "```\n",
    "\n",
    "View the TI results\n",
    "```python\n",
    "ip_result.browse_ti_results()\n",
    "```"
   ]
  },
  {
   "cell_type": "markdown",
   "metadata": {},
   "source": [
    "---\n",
    "\n",
    "# More information:\n",
    "\n",
    "## Notebooklets and Pivots\n",
    "[Notebooklets](https://msticnb.readthedocs.io/en/latest/)\n",
    "\n",
    "[Pivot functions](https://msticpy.readthedocs.io/en/latest/data_analysis/PivotFunctions.html)\n",
    "\n",
    "## Notebook/MSTICPy configuration\n",
    "[Getting Started]((https://github.com/Azure/Azure-Sentinel-Notebooks/blob/master/A Getting Started Guide For Azure Sentinel ML Notebooks.ipynb)\n",
    "[MSTICPy Configuration guide](https://msticpy.readthedocs.io/en/latest/getting_started/msticpyconfig.html)\n",
    "\n",
    "[ConfigureNotebookEnvironment notebook](https://github.com/Azure/Azure-Sentinel-Notebooks/blob/master/ConfiguringNotebookEnvironment.ipynb)"
   ]
  }
 ],
 "metadata": {
  "celltoolbar": "Tags",
  "hide_input": false,
  "interpreter": {
   "hash": "2bc37074a50de3994d4ebdf9197e864a43c9c15c9793b7f9f3363bcff9457253"
  },
  "kernelspec": {
   "display_name": "Python 3.8 - AzureML",
   "language": "python",
   "name": "python38-azureml"
  },
  "language_info": {
   "codemirror_mode": {
    "name": "ipython",
    "version": 3
   },
   "file_extension": ".py",
   "mimetype": "text/x-python",
   "name": "python",
   "nbconvert_exporter": "python",
   "pygments_lexer": "ipython3",
   "version": "3.9.7"
  },
  "latex_envs": {
   "LaTeX_envs_menu_present": true,
   "autoclose": false,
   "autocomplete": true,
   "bibliofile": "biblio.bib",
   "cite_by": "apalike",
   "current_citInitial": 1,
   "eqLabelWithNumbers": true,
   "eqNumInitial": 1,
   "hotkeys": {
    "equation": "Ctrl-E",
    "itemize": "Ctrl-I"
   },
   "labels_anchors": false,
   "latex_user_defs": false,
   "report_style_numbering": false,
   "user_envs_cfg": false
  },
  "toc": {
   "base_numbering": 1,
   "nav_menu": {},
   "number_sections": true,
   "sideBar": true,
   "skip_h1_title": true,
   "title_cell": "Contents",
   "title_sidebar": "Contents",
   "toc_cell": true,
   "toc_position": {
    "height": "calc(100% - 180px)",
    "left": "10px",
    "top": "150px",
    "width": "512px"
   },
   "toc_section_display": true,
   "toc_window_display": true
  },
  "varInspector": {
   "cols": {
    "lenName": 16,
    "lenType": 16,
    "lenVar": 40
   },
   "kernels_config": {
    "python": {
     "delete_cmd_postfix": "",
     "delete_cmd_prefix": "del ",
     "library": "var_list.py",
     "varRefreshCmd": "print(var_dic_list())"
    },
    "r": {
     "delete_cmd_postfix": ") ",
     "delete_cmd_prefix": "rm(",
     "library": "var_list.r",
     "varRefreshCmd": "cat(var_dic_list()) "
    }
   },
   "types_to_exclude": [
    "module",
    "function",
    "builtin_function_or_method",
    "instance",
    "_Feature"
   ],
   "window_display": false
  },
  "widgets": {
   "application/vnd.jupyter.widget-state+json": {
    "state": {
     "0391d8c0878e465dabc638d75cf02694": {
      "model_module": "@jupyter-widgets/base",
      "model_module_version": "1.2.0",
      "model_name": "LayoutModel",
      "state": {}
     },
     "0529135519104bc392e2a044a106c0b1": {
      "model_module": "@jupyter-widgets/controls",
      "model_module_version": "1.5.0",
      "model_name": "DescriptionStyleModel",
      "state": {
       "description_width": "initial"
      }
     },
     "0548b0503d3340a58ea08e1f1f705865": {
      "model_module": "@jupyter-widgets/base",
      "model_module_version": "1.2.0",
      "model_name": "LayoutModel",
      "state": {}
     },
     "05a30ea1531d42e1ae8cdcdb771daeff": {
      "model_module": "@jupyter-widgets/controls",
      "model_module_version": "1.5.0",
      "model_name": "DescriptionStyleModel",
      "state": {
       "description_width": ""
      }
     },
     "0633587e3a0f4d319027ea14c3fc1a78": {
      "model_module": "@jupyter-widgets/controls",
      "model_module_version": "1.5.0",
      "model_name": "TextModel",
      "state": {
       "description": "Workspace Name",
       "layout": "IPY_MODEL_cfda608bcf5c4399904a369dae615573",
       "style": "IPY_MODEL_b58dd8f2634d4099b5ceb30350db33fd",
       "value": "Default"
      }
     },
     "06d7adc128794d99a85ae77b226b04d9": {
      "model_module": "@jupyter-widgets/controls",
      "model_module_version": "1.5.0",
      "model_name": "DescriptionStyleModel",
      "state": {
       "description_width": "initial"
      }
     },
     "099c0792526244a8b736bb295c59d80e": {
      "model_module": "@jupyter-widgets/controls",
      "model_module_version": "1.5.0",
      "model_name": "CheckboxModel",
      "state": {
       "description": "Display details",
       "disabled": false,
       "layout": "IPY_MODEL_e1218c3b438f4bacbfb911bcd092e3d7",
       "style": "IPY_MODEL_bae596916ee94ce39c973012dffd20a7",
       "value": true
      }
     },
     "0aa56ea80d5c4c4a873eafdd6729f65e": {
      "model_module": "@jupyter-widgets/base",
      "model_module_version": "1.2.0",
      "model_name": "LayoutModel",
      "state": {}
     },
     "0b835e4f4e384468a4888e60c8f3797f": {
      "model_module": "@jupyter-widgets/base",
      "model_module_version": "1.2.0",
      "model_name": "LayoutModel",
      "state": {}
     },
     "0c35ce564cc44b6ba6cc6becb3faef02": {
      "model_module": "@jupyter-widgets/controls",
      "model_module_version": "1.5.0",
      "model_name": "TextModel",
      "state": {
       "description": "Time (24hr)",
       "layout": "IPY_MODEL_7703f35231ed4df9bde200fb8d49ea68",
       "style": "IPY_MODEL_6de457e02b534472a42cd5e2fc58cdf0",
       "value": "02:49:14.277968"
      }
     },
     "0f93833c73a64c0cb0f4f03db3bb37cc": {
      "model_module": "@jupyter-widgets/controls",
      "model_module_version": "1.5.0",
      "model_name": "DescriptionStyleModel",
      "state": {
       "description_width": "initial"
      }
     },
     "0fa5a927c4ad47e19c135307b1dea85c": {
      "model_module": "@jupyter-widgets/base",
      "model_module_version": "1.2.0",
      "model_name": "LayoutModel",
      "state": {
       "width": "100px"
      }
     },
     "11da86ceb7ef4d7ca6616be7de97103b": {
      "model_module": "@jupyter-widgets/controls",
      "model_module_version": "1.5.0",
      "model_name": "VBoxModel",
      "state": {
       "children": [
        "IPY_MODEL_9ad524ba87b549d9a653a50b75dd0c8e",
        "IPY_MODEL_c1a73ef4c1ba4a0faa6e102d2838040f",
        "IPY_MODEL_5b836f6df54c4e06bb03339619f4f900"
       ],
       "layout": "IPY_MODEL_3d9c175e99d546ffaf2e45f5187a432d"
      }
     },
     "1578a8b4ceb44210a8ed720331423f55": {
      "model_module": "@jupyter-widgets/controls",
      "model_module_version": "1.5.0",
      "model_name": "DescriptionStyleModel",
      "state": {
       "description_width": ""
      }
     },
     "1851cda4fc144f1ab2c99a865cd78316": {
      "model_module": "@jupyter-widgets/controls",
      "model_module_version": "1.5.0",
      "model_name": "DescriptionStyleModel",
      "state": {
       "description_width": ""
      }
     },
     "1943a5eb70314738b53982644b8963ce": {
      "model_module": "@jupyter-widgets/controls",
      "model_module_version": "1.5.0",
      "model_name": "TextModel",
      "state": {
       "description": "Query end time (UTC) :  ",
       "layout": "IPY_MODEL_3e8cb228b0ca4fdf90694445cc13011a",
       "style": "IPY_MODEL_609239bc9d2e4561a9edf11472142ea0",
       "value": "2022-04-05 02:49:14.277968+00:00"
      }
     },
     "1c29a43ba30c40efaaceefefce2c0805": {
      "model_module": "@jupyter-widgets/base",
      "model_module_version": "1.2.0",
      "model_name": "LayoutModel",
      "state": {
       "width": "99%"
      }
     },
     "1db1c2902d634d849b7aeac8c5dfa58a": {
      "model_module": "@jupyter-widgets/base",
      "model_module_version": "1.2.0",
      "model_name": "LayoutModel",
      "state": {
       "width": "95%"
      }
     },
     "1e25f2b432894d048d96c8dacf07543d": {
      "model_module": "@jupyter-widgets/base",
      "model_module_version": "1.2.0",
      "model_name": "LayoutModel",
      "state": {}
     },
     "21bc0aaac5d2438c9fe56e0d4d2f5a2e": {
      "model_module": "@jupyter-widgets/base",
      "model_module_version": "1.2.0",
      "model_name": "LayoutModel",
      "state": {}
     },
     "22209d4eaaa541e781f4e998e577a8c1": {
      "model_module": "@jupyter-widgets/controls",
      "model_module_version": "1.5.0",
      "model_name": "TextModel",
      "state": {
       "description": "Filter:",
       "layout": "IPY_MODEL_0b835e4f4e384468a4888e60c8f3797f",
       "style": "IPY_MODEL_31f753a921154c22a2228cf9070b2d55",
       "value": "kelsea@seccxp.ninja"
      }
     },
     "232af7b022fc45b0a7d78aed9b647516": {
      "model_module": "@jupyter-widgets/base",
      "model_module_version": "1.2.0",
      "model_name": "LayoutModel",
      "state": {
       "width": "100px"
      }
     },
     "237b52fe08e94898a8d04003af101c75": {
      "model_module": "@jupyter-widgets/controls",
      "model_module_version": "1.5.0",
      "model_name": "DescriptionStyleModel",
      "state": {
       "description_width": "initial"
      }
     },
     "2972752ff3344731b3368a194cd70477": {
      "model_module": "@jupyter-widgets/base",
      "model_module_version": "1.2.0",
      "model_name": "LayoutModel",
      "state": {}
     },
     "2ab6fddd5f5f4e6f98213776ee5040a9": {
      "model_module": "@jupyter-widgets/base",
      "model_module_version": "1.2.0",
      "model_name": "LayoutModel",
      "state": {
       "width": "95%"
      }
     },
     "2b0fca70840e4e65be7f5a028056bbaf": {
      "model_module": "@jupyter-widgets/controls",
      "model_module_version": "1.5.0",
      "model_name": "TextModel",
      "state": {
       "description": "Query start time (UTC):",
       "layout": "IPY_MODEL_fed0fb69f87d4c3dbc5aa6f486a8c443",
       "style": "IPY_MODEL_0529135519104bc392e2a044a106c0b1",
       "value": "2022-04-04 02:49:12.745984"
      }
     },
     "2c4aedcf664f47459a660038672fd03b": {
      "model_module": "@jupyter-widgets/controls",
      "model_module_version": "1.5.0",
      "model_name": "SelectModel",
      "state": {
       "_options_labels": [
        "2022-03-30 08:08:28.284000+00:00 - Suspicious URL clicked - Microsoft Defender Advanced Threat Protection",
        "2022-04-02 22:00:42.111000+00:00 - Anomalous sign-in location by user account and authenticating application - with sign-in details - Azure Sentinel",
        "2022-04-02 22:10:42.111000+00:00 - Anomalous sign-in location by user account and authenticating application - with sign-in details - Azure Sentinel",
        "2022-04-02 22:25:42.111000+00:00 - Anomalous sign-in location by user account and authenticating application - with sign-in details - Azure Sentinel",
        "2022-04-02 23:55:42.111000+00:00 - Anomalous sign-in location by user account and authenticating application - with sign-in details - Azure Sentinel",
        "2022-04-03 00:45:42.111000+00:00 - Anomalous sign-in location by user account and authenticating application - with sign-in details - Azure Sentinel",
        "2022-04-03 00:50:42.111000+00:00 - Anomalous sign-in location by user account and authenticating application - with sign-in details - Azure Sentinel",
        "2022-04-03 19:45:42.111000+00:00 - Anomalous sign-in location by user account and authenticating application - with sign-in details - Azure Sentinel",
        "2022-04-03 19:50:42.111000+00:00 - Anomalous sign-in location by user account and authenticating application - with sign-in details - Azure Sentinel",
        "2022-04-03 19:55:42.111000+00:00 - Anomalous sign-in location by user account and authenticating application - with sign-in details - Azure Sentinel",
        "2022-04-03 20:00:42.111000+00:00 - Anomalous sign-in location by user account and authenticating application - with sign-in details - Azure Sentinel",
        "2022-04-03 20:15:42.111000+00:00 - Anomalous sign-in location by user account and authenticating application - with sign-in details - Azure Sentinel",
        "2022-04-03 20:20:42.111000+00:00 - Anomalous sign-in location by user account and authenticating application - with sign-in details - Azure Sentinel",
        "2022-04-03 23:45:42.111000+00:00 - Anomalous sign-in location by user account and authenticating application - with sign-in details - Azure Sentinel",
        "2022-04-04 21:20:42.111000+00:00 - Anomalous sign-in location by user account and authenticating application - with sign-in details - Azure Sentinel",
        "2022-04-04 21:25:42.111000+00:00 - Anomalous sign-in location by user account and authenticating application - with sign-in details - Azure Sentinel",
        "2022-04-05 00:07:47.169000+00:00 - Impossible Travel Activity by User - Azure Sentinel"
       ],
       "description": "Select alert :",
       "index": 0,
       "layout": "IPY_MODEL_4a6345df150d4573b3b128adac1f2aea",
       "style": "IPY_MODEL_237b52fe08e94898a8d04003af101c75"
      }
     },
     "301c68021a244f829ff989954ca747a4": {
      "model_module": "@jupyter-widgets/base",
      "model_module_version": "1.2.0",
      "model_name": "LayoutModel",
      "state": {}
     },
     "31f753a921154c22a2228cf9070b2d55": {
      "model_module": "@jupyter-widgets/controls",
      "model_module_version": "1.5.0",
      "model_name": "DescriptionStyleModel",
      "state": {
       "description_width": "initial"
      }
     },
     "35619cf6194a44b4b8a7702a26cf7251": {
      "model_module": "@jupyter-widgets/controls",
      "model_module_version": "1.5.0",
      "model_name": "DescriptionStyleModel",
      "state": {
       "description_width": "initial"
      }
     },
     "35d3189e5ed34fccaa98ae5778006ed4": {
      "model_module": "@jupyter-widgets/base",
      "model_module_version": "1.2.0",
      "model_name": "LayoutModel",
      "state": {
       "height": "200px",
       "width": "100%"
      }
     },
     "39ac65c3089f4e03abf815e59307a896": {
      "model_module": "@jupyter-widgets/controls",
      "model_module_version": "1.5.0",
      "model_name": "SelectModel",
      "state": {
       "_options_labels": [
        "2022-03-30 08:08:28.284000+00:00 - Suspicious URL clicked - Microsoft Defender Advanced Threat Protection",
        "2022-04-02 22:00:42.111000+00:00 - Anomalous sign-in location by user account and authenticating application - with sign-in details - Azure Sentinel",
        "2022-04-02 22:10:42.111000+00:00 - Anomalous sign-in location by user account and authenticating application - with sign-in details - Azure Sentinel",
        "2022-04-02 22:25:42.111000+00:00 - Anomalous sign-in location by user account and authenticating application - with sign-in details - Azure Sentinel",
        "2022-04-02 23:55:42.111000+00:00 - Anomalous sign-in location by user account and authenticating application - with sign-in details - Azure Sentinel",
        "2022-04-03 00:45:42.111000+00:00 - Anomalous sign-in location by user account and authenticating application - with sign-in details - Azure Sentinel",
        "2022-04-03 00:50:42.111000+00:00 - Anomalous sign-in location by user account and authenticating application - with sign-in details - Azure Sentinel",
        "2022-04-03 19:45:42.111000+00:00 - Anomalous sign-in location by user account and authenticating application - with sign-in details - Azure Sentinel",
        "2022-04-03 19:50:42.111000+00:00 - Anomalous sign-in location by user account and authenticating application - with sign-in details - Azure Sentinel",
        "2022-04-03 19:55:42.111000+00:00 - Anomalous sign-in location by user account and authenticating application - with sign-in details - Azure Sentinel",
        "2022-04-03 20:00:42.111000+00:00 - Anomalous sign-in location by user account and authenticating application - with sign-in details - Azure Sentinel",
        "2022-04-03 20:15:42.111000+00:00 - Anomalous sign-in location by user account and authenticating application - with sign-in details - Azure Sentinel",
        "2022-04-03 20:20:42.111000+00:00 - Anomalous sign-in location by user account and authenticating application - with sign-in details - Azure Sentinel",
        "2022-04-03 23:45:42.111000+00:00 - Anomalous sign-in location by user account and authenticating application - with sign-in details - Azure Sentinel",
        "2022-04-04 21:20:42.111000+00:00 - Anomalous sign-in location by user account and authenticating application - with sign-in details - Azure Sentinel",
        "2022-04-04 21:25:42.111000+00:00 - Anomalous sign-in location by user account and authenticating application - with sign-in details - Azure Sentinel",
        "2022-04-05 00:07:47.169000+00:00 - Impossible Travel Activity by User - Azure Sentinel"
       ],
       "description": "Select alert :",
       "index": 13,
       "layout": "IPY_MODEL_477d6ebc104645f8a223263c69255820",
       "style": "IPY_MODEL_46c784bd1df04ca5a4fef3e8c425d631"
      }
     },
     "3c4c84ecc3b546fd84287420469a2ab2": {
      "model_module": "@jupyter-widgets/base",
      "model_module_version": "1.2.0",
      "model_name": "LayoutModel",
      "state": {
       "height": "300px",
       "width": "70%"
      }
     },
     "3d9c175e99d546ffaf2e45f5187a432d": {
      "model_module": "@jupyter-widgets/base",
      "model_module_version": "1.2.0",
      "model_name": "LayoutModel",
      "state": {}
     },
     "3dfb7850a68a4a52a0f3db2ea62a19eb": {
      "model_module": "@jupyter-widgets/controls",
      "model_module_version": "1.5.0",
      "model_name": "DescriptionStyleModel",
      "state": {
       "description_width": ""
      }
     },
     "3e8cb228b0ca4fdf90694445cc13011a": {
      "model_module": "@jupyter-widgets/base",
      "model_module_version": "1.2.0",
      "model_name": "LayoutModel",
      "state": {
       "width": "50%"
      }
     },
     "3f2e9c2d013649d399c171f77a53953c": {
      "model_module": "@jupyter-widgets/controls",
      "model_module_version": "1.5.0",
      "model_name": "DescriptionStyleModel",
      "state": {
       "description_width": ""
      }
     },
     "401f09992d2f494dbf5e657ff37b8be0": {
      "model_module": "@jupyter-widgets/base",
      "model_module_version": "1.2.0",
      "model_name": "LayoutModel",
      "state": {
       "height": "150px",
       "width": "300px"
      }
     },
     "43536d481d654bd8a8111afc3c06ef9c": {
      "model_module": "@jupyter-widgets/controls",
      "model_module_version": "1.5.0",
      "model_name": "CheckboxModel",
      "state": {
       "description": "Display details",
       "disabled": false,
       "layout": "IPY_MODEL_9f611bb4c62745088b61c68de982f3ec",
       "style": "IPY_MODEL_3f2e9c2d013649d399c171f77a53953c",
       "value": true
      }
     },
     "445239701cf94bb2a13fea7f4f8a339a": {
      "model_module": "@jupyter-widgets/base",
      "model_module_version": "1.2.0",
      "model_name": "LayoutModel",
      "state": {}
     },
     "4546255dbb324c2c8fc1e9b7f24be26a": {
      "model_module": "@jupyter-widgets/controls",
      "model_module_version": "1.5.0",
      "model_name": "HBoxModel",
      "state": {
       "children": [
        "IPY_MODEL_e20d8cd48b9a48d3a0fc105cf34ed6f8",
        "IPY_MODEL_d4992c8b9df046f3b6a8334405566eda"
       ],
       "layout": "IPY_MODEL_21bc0aaac5d2438c9fe56e0d4d2f5a2e"
      }
     },
     "463132c93eb84152a393f357c790154d": {
      "model_module": "@jupyter-widgets/controls",
      "model_module_version": "1.5.0",
      "model_name": "SliderStyleModel",
      "state": {
       "description_width": "initial"
      }
     },
     "46c784bd1df04ca5a4fef3e8c425d631": {
      "model_module": "@jupyter-widgets/controls",
      "model_module_version": "1.5.0",
      "model_name": "DescriptionStyleModel",
      "state": {
       "description_width": "initial"
      }
     },
     "477d6ebc104645f8a223263c69255820": {
      "model_module": "@jupyter-widgets/base",
      "model_module_version": "1.2.0",
      "model_name": "LayoutModel",
      "state": {
       "height": "300px",
       "width": "95%"
      }
     },
     "48ccee7d58314dea942ffe0a7c9bd456": {
      "model_module": "@jupyter-widgets/controls",
      "model_module_version": "1.5.0",
      "model_name": "VBoxModel",
      "state": {
       "children": [
        "IPY_MODEL_7c2be47abba34eec97cc9eb66cf25892",
        "IPY_MODEL_2b0fca70840e4e65be7f5a028056bbaf",
        "IPY_MODEL_7b4f933bce6a440c8ab9414be69dccea"
       ],
       "layout": "IPY_MODEL_820f4ed4ac874dbb93572466b9544a7d"
      }
     },
     "494fc091484445509d13c0dcf29ad549": {
      "model_module": "@jupyter-widgets/controls",
      "model_module_version": "1.5.0",
      "model_name": "DescriptionStyleModel",
      "state": {
       "description_width": "initial"
      }
     },
     "4a6345df150d4573b3b128adac1f2aea": {
      "model_module": "@jupyter-widgets/base",
      "model_module_version": "1.2.0",
      "model_name": "LayoutModel",
      "state": {
       "height": "300px",
       "width": "95%"
      }
     },
     "509231cd6ea143f68c937a09a669c270": {
      "model_module": "@jupyter-widgets/controls",
      "model_module_version": "1.5.0",
      "model_name": "SelectModel",
      "state": {
       "_options_labels": [
        "2022-04-03 03:06:17.286000+00:00 - Azure AD - Sign-in activity - 20.37.253.233",
        "2022-04-03 03:07:06.743000+00:00 - Azure AD - Sign-in activity - 20.37.212.69",
        "2022-04-03 03:17:10.481000+00:00 - Azure AD - Sign-in activity - 20.37.212.69",
        "2022-04-03 03:36:15.953000+00:00 - Azure AD - Sign-in activity - 20.37.213.236",
        "2022-04-03 03:43:10.489000+00:00 - Azure AD - Sign-in activity - 20.37.255.76",
        "2022-04-03 03:43:15+00:00 - OfficeActivityManager - Send - 20.190.142.172",
        "2022-04-03 03:52:20.288000+00:00 - Azure AD - Sign-in activity - 20.53.9.84",
        "2022-04-03 03:55:56.128000+00:00 - Azure AD - Sign-in activity - 20.37.253.233",
        "2022-04-03 03:58:21.557000+00:00 - Azure AD - Sign-in activity - 20.70.208.63",
        "2022-04-03 03:58:25+00:00 - OfficeActivityManager - Send - 20.190.142.170",
        "2022-04-03 04:36:08.358000+00:00 - Azure AD - Sign-in activity - 20.53.9.84",
        "2022-04-03 04:36:13+00:00 - OfficeActivityManager - Send - 20.190.142.170",
        "2022-04-03 04:52:12.918000+00:00 - Azure AD - Sign-in activity - 20.37.253.233",
        "2022-04-03 04:58:34.847000+00:00 - Azure AD - Sign-in activity - 20.53.9.84",
        "2022-04-03 04:58:41+00:00 - OfficeActivityManager - Send - 20.190.142.169",
        "2022-04-03 05:12:09.392000+00:00 - Azure AD - Sign-in activity - 20.37.213.236",
        "2022-04-03 05:36:19.908000+00:00 - Azure AD - Sign-in activity - 20.37.213.236",
        "2022-04-03 05:44:37.620000+00:00 - Azure AD - Sign-in activity - 20.37.255.76",
        "2022-04-03 06:46:26.392000+00:00 - Azure AD - Sign-in activity - 20.37.212.69",
        "2022-04-03 06:56:14.665000+00:00 - Azure AD - Sign-in activity - 20.37.213.236",
        "2022-04-03 06:56:19+00:00 - OfficeActivityManager - Send - 20.190.142.169",
        "2022-04-03 07:03:29.784000+00:00 - Azure AD - Sign-in activity - 20.37.255.76",
        "2022-04-03 07:04:19.599000+00:00 - Azure AD - Sign-in activity - 20.37.255.76",
        "2022-04-03 07:10:25.723000+00:00 - Azure AD - Sign-in activity - 20.37.213.236",
        "2022-04-03 07:10:29+00:00 - OfficeActivityManager - Send - 20.190.142.169",
        "2022-04-03 07:23:30.067000+00:00 - Azure AD - Sign-in activity - 20.37.255.76",
        "2022-04-03 07:23:34.434000+00:00 - Azure AD - Sign-in activity - 20.37.255.76",
        "2022-04-03 07:23:45+00:00 - OfficeActivityManager - MailItemsAccessed - 20.190.142.170",
        "2022-04-03 07:23:45+00:00 - OfficeActivityManager - MailItemsAccessed - 20.190.142.169",
        "2022-04-03 07:23:46+00:00 - OfficeActivityManager - MailItemsAccessed - 20.190.142.172",
        "2022-04-03 07:39:17.749000+00:00 - Azure AD - Sign-in activity - 20.37.213.236",
        "2022-04-03 07:39:20+00:00 - OfficeActivityManager - Send - 20.190.142.172",
        "2022-04-03 07:39:22.591000+00:00 - Azure AD - Sign-in activity - 20.37.253.233",
        "2022-04-03 07:42:25.590000+00:00 - Azure AD - Sign-in activity - 20.37.255.76",
        "2022-04-03 07:50:29.282000+00:00 - Azure AD - Sign-in activity - 20.70.208.63",
        "2022-04-03 07:50:31+00:00 - OfficeActivityManager - Send - 20.190.142.170",
        "2022-04-03 08:11:42.423000+00:00 - Azure AD - Sign-in activity - 20.37.213.236",
        "2022-04-03 08:11:45+00:00 - OfficeActivityManager - Send - 20.190.142.172",
        "2022-04-03 08:20:24.310000+00:00 - Azure AD - Sign-in activity - 20.37.212.69",
        "2022-04-03 08:20:27+00:00 - OfficeActivityManager - Send - 20.190.142.169",
        "2022-04-03 08:52:00.098000+00:00 - Azure AD - Sign-in activity - 20.37.253.233",
        "2022-04-03 09:00:38.959000+00:00 - Azure AD - Sign-in activity - 20.53.9.84",
        "2022-04-03 09:20:34.335000+00:00 - Azure AD - Sign-in activity - 20.70.208.63",
        "2022-04-03 09:20:37+00:00 - OfficeActivityManager - Send - 20.190.142.169",
        "2022-04-03 09:40:50.615000+00:00 - Azure AD - Sign-in activity - 20.53.9.84",
        "2022-04-03 09:40:54+00:00 - OfficeActivityManager - Send - 20.190.142.170",
        "2022-04-03 10:01:54.940000+00:00 - Azure AD - Sign-in activity - 20.37.255.76",
        "2022-04-03 10:09:55.620000+00:00 - Azure AD - Sign-in activity - 20.37.255.76",
        "2022-04-03 10:21:53.284000+00:00 - Azure AD - Sign-in activity - 20.53.9.84",
        "2022-04-03 10:22:04.902000+00:00 - Azure AD - Sign-in activity - 20.37.213.236",
        "2022-04-03 10:22:08+00:00 - OfficeActivityManager - Send - 20.190.142.169",
        "2022-04-03 10:25:59.246000+00:00 - Azure AD - Sign-in activity - 20.37.213.236",
        "2022-04-03 10:34:49.904000+00:00 - Azure AD - Sign-in activity - 20.37.255.76",
        "2022-04-03 10:43:56.971000+00:00 - Azure AD - Sign-in activity - 20.53.9.84",
        "2022-04-03 10:44:00+00:00 - OfficeActivityManager - Send - 20.190.142.170",
        "2022-04-03 11:10:43.663000+00:00 - Azure AD - Sign-in activity - 20.37.212.69",
        "2022-04-03 11:21:06.835000+00:00 - Azure AD - Sign-in activity - 20.37.212.69",
        "2022-04-03 11:24:53.297000+00:00 - Azure AD - Sign-in activity - 20.37.255.76",
        "2022-04-03 11:49:51.463000+00:00 - Azure AD - Sign-in activity - 20.37.255.76",
        "2022-04-03 11:49:54+00:00 - OfficeActivityManager - Send - 20.190.142.170",
        "2022-04-03 13:00:07.080000+00:00 - Azure AD - Sign-in activity - 20.37.213.236",
        "2022-04-03 13:00:10+00:00 - OfficeActivityManager - Send - 20.190.142.170",
        "2022-04-03 13:11:09.123000+00:00 - Azure AD - Sign-in activity - 20.37.253.233",
        "2022-04-03 13:30:15.271000+00:00 - Azure AD - Sign-in activity - 20.37.253.233",
        "2022-04-03 13:34:10.670000+00:00 - Azure AD - Sign-in activity - 20.37.213.236",
        "2022-04-03 13:50:21.789000+00:00 - Azure AD - Sign-in activity - 20.37.253.233",
        "2022-04-03 13:50:25+00:00 - OfficeActivityManager - Send - 20.190.142.169",
        "2022-04-03 14:06:08.335000+00:00 - Azure AD - Sign-in activity - 20.37.255.76",
        "2022-04-03 14:06:11+00:00 - OfficeActivityManager - Send - 20.190.142.169",
        "2022-04-03 14:13:10.917000+00:00 - Azure AD - Sign-in activity - 20.37.255.76",
        "2022-04-03 14:14:29.382000+00:00 - Azure AD - Sign-in activity - 20.70.208.63",
        "2022-04-03 14:37:20.689000+00:00 - Azure AD - Sign-in activity - 20.70.208.63",
        "2022-04-03 14:37:24+00:00 - OfficeActivityManager - Send - 20.190.142.170",
        "2022-04-03 14:55:19.622000+00:00 - Azure AD - Sign-in activity - 20.37.212.69",
        "2022-04-03 15:11:18.802000+00:00 - Azure AD - Sign-in activity - 20.37.255.76",
        "2022-04-03 15:16:14.089000+00:00 - Azure AD - Sign-in activity - 20.53.9.84",
        "2022-04-03 15:16:18+00:00 - OfficeActivityManager - Send - 20.190.142.172",
        "2022-04-03 15:16:18.212000+00:00 - Azure AD - Sign-in activity - 20.37.213.236",
        "2022-04-03 15:33:16.036000+00:00 - Azure AD - Sign-in activity - 20.53.9.84",
        "2022-04-03 15:33:19+00:00 - OfficeActivityManager - Send - 20.190.142.170",
        "2022-04-03 15:42:22.504000+00:00 - Azure AD - Sign-in activity - 20.37.212.69",
        "2022-04-03 16:11:19.555000+00:00 - Azure AD - Sign-in activity - 20.37.253.233",
        "2022-04-03 16:42:22.919000+00:00 - Azure AD - Sign-in activity - 20.37.253.233",
        "2022-04-03 16:52:26.891000+00:00 - Azure AD - Sign-in activity - 20.37.212.69",
        "2022-04-03 16:56:47.359000+00:00 - Azure AD - Sign-in activity - 20.70.208.63",
        "2022-04-03 17:06:29.389000+00:00 - Azure AD - Sign-in activity - 20.37.253.233",
        "2022-04-03 17:06:32+00:00 - OfficeActivityManager - Send - 20.190.142.169",
        "2022-04-03 17:18:26.254000+00:00 - Azure AD - Sign-in activity - 20.37.213.236",
        "2022-04-03 17:27:26.654000+00:00 - Azure AD - Sign-in activity - 20.37.213.236",
        "2022-04-03 17:27:30+00:00 - OfficeActivityManager - Send - 20.190.142.172",
        "2022-04-03 18:36:42.335000+00:00 - Azure AD - Sign-in activity - 20.37.213.236",
        "2022-04-03 18:36:45+00:00 - OfficeActivityManager - Send - 20.190.142.172",
        "2022-04-03 18:42:32.753000+00:00 - Azure AD - Sign-in activity - 20.37.212.69",
        "2022-04-03 18:52:29.080000+00:00 - Azure AD - Sign-in activity - 20.53.9.84",
        "2022-04-03 19:40:36.216000+00:00 - Azure AD - Sign-in activity - 20.37.253.233",
        "2022-04-03 19:40:39+00:00 - OfficeActivityManager - Send - 20.190.142.172",
        "2022-04-03 19:45:41.195000+00:00 - Azure AD - Sign-in activity - 20.70.208.63",
        "2022-04-03 19:45:44+00:00 - OfficeActivityManager - Send - 20.190.142.170",
        "2022-04-03 20:14:59.891000+00:00 - Azure AD - Sign-in activity - 20.70.208.63",
        "2022-04-03 20:15:03+00:00 - OfficeActivityManager - Send - 20.190.142.172",
        "2022-04-03 20:18:39.107000+00:00 - Azure AD - Sign-in activity - 20.37.213.236",
        "2022-04-03 20:20:43.267000+00:00 - Azure AD - Sign-in activity - 20.37.253.233",
        "2022-04-03 20:20:46+00:00 - OfficeActivityManager - Send - 20.190.142.169",
        "2022-04-03 20:29:35.990000+00:00 - Azure AD - Sign-in activity - 20.37.253.233",
        "2022-04-03 20:29:39+00:00 - OfficeActivityManager - Send - 20.190.142.170",
        "2022-04-03 20:47:12+00:00 - OfficeActivityManager - MailItemsAccessed - 20.190.142.172",
        "2022-04-03 20:47:12+00:00 - OfficeActivityManager - MailItemsAccessed - 20.190.142.170",
        "2022-04-03 20:47:12+00:00 - OfficeActivityManager - Create - 2603:10b6:408:138:cafe::f1",
        "2022-04-03 21:39:15.190000+00:00 - Azure AD - Sign-in activity - 20.37.255.76",
        "2022-04-03 21:39:42.871000+00:00 - Azure AD - Sign-in activity - 20.37.212.69",
        "2022-04-03 21:39:44+00:00 - OfficeActivityManager - MailItemsAccessed - 20.190.142.169",
        "2022-04-03 21:47:08.419000+00:00 - Azure AD - Sign-in activity - 20.53.9.84",
        "2022-04-03 21:47:10+00:00 - OfficeActivityManager - Send - 20.190.142.172",
        "2022-04-03 21:47:12+00:00 - OfficeActivityManager - MailItemsAccessed - 20.190.142.172",
        "2022-04-03 21:47:13+00:00 - OfficeActivityManager - MailItemsAccessed - 20.190.142.170",
        "2022-04-03 21:56:54.162000+00:00 - Azure AD - Sign-in activity - 20.70.208.63",
        "2022-04-03 21:59:46.342000+00:00 - Azure AD - Sign-in activity - 20.37.212.69",
        "2022-04-03 22:29:11.496000+00:00 - Azure AD - Sign-in activity - 20.53.9.84",
        "2022-04-03 22:29:18.289000+00:00 - Azure AD - Sign-in activity - 20.53.9.84",
        "2022-04-03 22:36:26+00:00 - OfficeActivityManager - Create - 2603:10b6:408:106:cafe::35",
        "2022-04-03 22:36:26+00:00 - OfficeActivityManager - MailItemsAccessed - 20.190.142.169",
        "2022-04-03 22:36:27+00:00 - OfficeActivityManager - MailItemsAccessed - 20.190.142.172",
        "2022-04-03 22:36:27+00:00 - OfficeActivityManager - MailItemsAccessed - 20.190.142.170",
        "2022-04-03 22:39:45+00:00 - OfficeActivityManager - MailItemsAccessed - 20.190.142.169",
        "2022-04-03 22:45:15.897000+00:00 - Azure AD - Sign-in activity - 20.37.253.233",
        "2022-04-03 22:47:13+00:00 - OfficeActivityManager - MailItemsAccessed - 20.190.142.170",
        "2022-04-03 22:47:13+00:00 - OfficeActivityManager - MailItemsAccessed - 20.190.142.172",
        "2022-04-03 22:50:13.146000+00:00 - Azure AD - Sign-in activity - 20.37.253.233",
        "2022-04-03 22:50:16+00:00 - OfficeActivityManager - Send - 20.190.142.169",
        "2022-04-03 22:58:13.377000+00:00 - Azure AD - Sign-in activity - 20.53.9.84",
        "2022-04-03 22:58:17.303000+00:00 - Azure AD - Sign-in activity - 20.53.9.84",
        "2022-04-03 22:58:27+00:00 - OfficeActivityManager - MailItemsAccessed - 20.190.142.172",
        "2022-04-03 22:58:27+00:00 - OfficeActivityManager - MailItemsAccessed - 20.190.142.170",
        "2022-04-03 22:58:27+00:00 - OfficeActivityManager - MailItemsAccessed - 20.190.142.169",
        "2022-04-03 23:05:02.016000+00:00 - Azure AD - Sign-in activity - 20.37.213.236",
        "2022-04-03 23:09:11.261000+00:00 - Azure AD - Sign-in activity - 20.37.255.76",
        "2022-04-03 23:09:15.285000+00:00 - Azure AD - Sign-in activity - 20.37.255.76",
        "2022-04-03 23:09:25+00:00 - OfficeActivityManager - MailItemsAccessed - 20.190.142.170",
        "2022-04-03 23:17:29.985000+00:00 - Azure AD - Sign-in activity - 20.53.9.84",
        "2022-04-03 23:17:33+00:00 - OfficeActivityManager - Send - 20.190.142.170",
        "2022-04-03 23:17:35.319000+00:00 - Azure AD - Sign-in activity - 20.37.253.233",
        "2022-04-03 23:17:39.823000+00:00 - Azure AD - Sign-in activity - 20.37.253.233",
        "2022-04-03 23:18:39.820000+00:00 - Azure AD - Sign-in activity - 20.37.255.76",
        "2022-04-03 23:18:42+00:00 - OfficeActivityManager - MailItemsAccessed - 20.190.142.169",
        "2022-04-03 23:25:41.688000+00:00 - Azure AD - Sign-in activity - 20.70.208.63",
        "2022-04-03 23:25:45.308000+00:00 - Azure AD - Sign-in activity - 20.70.208.63",
        "2022-04-03 23:29:25.190000+00:00 - Azure AD - Sign-in activity - 20.37.253.233",
        "2022-04-03 23:29:29.143000+00:00 - Azure AD - Sign-in activity - 20.37.253.233",
        "2022-04-03 23:31:26.453000+00:00 - Azure AD - Sign-in activity - 20.37.212.69",
        "2022-04-03 23:31:36.643000+00:00 - Azure AD - Sign-in activity - 20.37.255.76",
        "2022-04-03 23:32:35.953000+00:00 - Azure AD - Sign-in activity - 20.70.208.63",
        "2022-04-03 23:33:28.758000+00:00 - Azure AD - Sign-in activity - 20.37.255.76",
        "2022-04-03 23:33:32.508000+00:00 - Azure AD - Sign-in activity - 20.37.255.76",
        "2022-04-03 23:33:45+00:00 - OfficeActivityManager - MailItemsAccessed - 20.190.142.170",
        "2022-04-03 23:33:45+00:00 - OfficeActivityManager - MailItemsAccessed - 20.190.142.169",
        "2022-04-03 23:38:34.981000+00:00 - Azure AD - Sign-in activity - 20.37.212.69",
        "2022-04-03 23:38:35+00:00 - OfficeActivityManager - MailItemsAccessed - 20.190.142.172",
        "2022-04-03 23:38:35.103000+00:00 - Azure AD - Sign-in activity - 20.53.9.84",
        "2022-04-03 23:41:35.577000+00:00 - Azure AD - Sign-in activity - 20.37.253.233",
        "2022-04-03 23:41:40.405000+00:00 - Azure AD - Sign-in activity - 20.37.253.233",
        "2022-04-03 23:43:24.976000+00:00 - Azure AD - Sign-in activity - 20.37.253.233",
        "2022-04-03 23:44:15.850000+00:00 - Azure AD - Sign-in activity - 20.37.255.76",
        "2022-04-03 23:44:21.200000+00:00 - Azure AD - Sign-in activity - 20.37.255.76",
        "2022-04-03 23:44:35+00:00 - OfficeActivityManager - MailItemsAccessed - 20.190.142.172",
        "2022-04-03 23:50:44.263000+00:00 - Azure AD - Sign-in activity - 20.37.253.233",
        "2022-04-03 23:50:49.182000+00:00 - Azure AD - Sign-in activity - 20.37.253.233",
        "2022-04-03 23:51:25.963000+00:00 - Azure AD - Sign-in activity - 20.53.9.84",
        "2022-04-03 23:51:27+00:00 - OfficeActivityManager - MailItemsAccessed - 20.190.142.169",
        "2022-04-03 23:51:46.855000+00:00 - Azure AD - Sign-in activity - 20.37.213.236",
        "2022-04-03 23:51:50.680000+00:00 - Azure AD - Sign-in activity - 20.37.213.236",
        "2022-04-03 23:52:35.388000+00:00 - Azure AD - Sign-in activity - 20.37.253.233",
        "2022-04-03 23:54:45.943000+00:00 - Azure AD - Sign-in activity - 20.37.255.76",
        "2022-04-03 23:54:49.570000+00:00 - Azure AD - Sign-in activity - 20.37.255.76",
        "2022-04-03 23:56:30.170000+00:00 - Azure AD - Sign-in activity - 20.37.213.236",
        "2022-04-03 23:56:32.789000+00:00 - Azure AD - Sign-in activity - 20.37.213.236",
        "2022-04-03 23:57:30.351000+00:00 - Azure AD - Sign-in activity - 20.53.9.84",
        "2022-04-03 23:57:33.873000+00:00 - Azure AD - Sign-in activity - 20.53.9.84",
        "2022-04-04 00:02:19.732000+00:00 - Azure AD - Sign-in activity - 20.37.255.76",
        "2022-04-04 00:02:20.992000+00:00 - Azure AD - Sign-in activity - 20.37.255.76",
        "2022-04-04 00:02:22+00:00 - OfficeActivityManager - MailItemsAccessed - 20.190.142.172",
        "2022-04-04 00:02:22.088000+00:00 - Azure AD - Sign-in activity - 20.37.255.76",
        "2022-04-04 00:07:19.710000+00:00 - Azure AD - Sign-in activity - 20.37.253.233",
        "2022-04-04 00:09:46.903000+00:00 - Azure AD - Sign-in activity - 20.37.213.236",
        "2022-04-04 00:09:50+00:00 - OfficeActivityManager - Send - 20.190.142.172",
        "2022-04-04 00:10:35.827000+00:00 - Azure AD - Sign-in activity - 20.37.213.236",
        "2022-04-04 00:10:37+00:00 - OfficeActivityManager - MailItemsAccessed - 20.190.142.172",
        "2022-04-04 00:15:23.766000+00:00 - Azure AD - Sign-in activity - 20.70.208.63",
        "2022-04-04 00:15:27.887000+00:00 - Azure AD - Sign-in activity - 20.70.208.63",
        "2022-04-04 00:15:39.758000+00:00 - Azure AD - Sign-in activity - 20.37.255.76",
        "2022-04-04 00:15:42+00:00 - OfficeActivityManager - Send - 20.190.142.169",
        "2022-04-04 00:29:50.015000+00:00 - Azure AD - Sign-in activity - 20.37.253.233",
        "2022-04-04 00:29:53+00:00 - OfficeActivityManager - Send - 20.190.142.170",
        "2022-04-04 00:32:52.168000+00:00 - Azure AD - Sign-in activity - 20.70.208.63",
        "2022-04-04 00:32:56.528000+00:00 - Azure AD - Sign-in activity - 20.70.208.63",
        "2022-04-04 01:13:50.933000+00:00 - Azure AD - Sign-in activity - 20.37.255.76",
        "2022-04-04 01:24:03.686000+00:00 - Azure AD - Sign-in activity - 20.37.212.69",
        "2022-04-04 01:36:37.372000+00:00 - Azure AD - Sign-in activity - 20.37.213.236",
        "2022-04-04 01:36:40+00:00 - OfficeActivityManager - Send - 20.190.142.169",
        "2022-04-04 01:46:02.423000+00:00 - Azure AD - Sign-in activity - 20.37.253.233",
        "2022-04-04 01:46:05+00:00 - OfficeActivityManager - Send - 20.190.142.172",
        "2022-04-04 01:49:52.674000+00:00 - Azure AD - Sign-in activity - 20.37.213.236",
        "2022-04-04 01:49:54+00:00 - OfficeActivityManager - MailItemsAccessed - 20.190.142.172",
        "2022-04-04 02:15:39.844000+00:00 - Azure AD - Sign-in activity - 20.37.213.236",
        "2022-04-04 02:15:43+00:00 - OfficeActivityManager - Send - 20.190.142.172",
        "2022-04-04 02:16:05.605000+00:00 - Azure AD - Sign-in activity - 20.37.253.233",
        "2022-04-04 02:49:54+00:00 - OfficeActivityManager - MailItemsAccessed - 20.190.142.172",
        "2022-04-04 02:52:06.255000+00:00 - Azure AD - Sign-in activity - 20.37.212.69",
        "2022-04-04 02:53:56.237000+00:00 - Azure AD - Sign-in activity - 20.37.255.76",
        "2022-04-04 03:04:47.124000+00:00 - Azure AD - Sign-in activity - 20.70.208.63",
        "2022-04-04 03:04:48+00:00 - OfficeActivityManager - MailItemsAccessed - 20.190.142.169",
        "2022-04-04 03:17:16.200000+00:00 - Azure AD - Sign-in activity - 20.37.213.236",
        "2022-04-04 03:17:17+00:00 - OfficeActivityManager - MailItemsAccessed - 20.190.142.170",
        "2022-04-04 03:24:19.449000+00:00 - Azure AD - Sign-in activity - 20.37.212.69",
        "2022-04-04 03:24:22+00:00 - OfficeActivityManager - Send - 20.190.142.170",
        "2022-04-04 03:31:10.152000+00:00 - Azure AD - Sign-in activity - 20.53.9.84",
        "2022-04-04 03:31:13+00:00 - OfficeActivityManager - Send - 20.190.142.172",
        "2022-04-04 03:34:15.351000+00:00 - Azure AD - Sign-in activity - 20.37.212.69",
        "2022-04-04 03:34:18+00:00 - OfficeActivityManager - Send - 20.190.142.170",
        "2022-04-04 03:38:17.705000+00:00 - Azure AD - Sign-in activity - 20.37.213.236",
        "2022-04-04 03:41:10.989000+00:00 - Azure AD - Sign-in activity - 20.37.212.69",
        "2022-04-04 03:44:18.549000+00:00 - Azure AD - Sign-in activity - 20.37.213.236",
        "2022-04-04 03:49:54+00:00 - OfficeActivityManager - MailItemsAccessed - 20.190.142.172",
        "2022-04-04 04:04:49+00:00 - OfficeActivityManager - MailItemsAccessed - 20.190.142.169",
        "2022-04-04 04:17:19+00:00 - OfficeActivityManager - MailItemsAccessed - 20.190.142.170",
        "2022-04-04 04:32:21.547000+00:00 - Azure AD - Sign-in activity - 20.37.213.236",
        "2022-04-04 04:32:25.335000+00:00 - Azure AD - Sign-in activity - 20.37.213.236",
        "2022-04-04 04:32:34+00:00 - OfficeActivityManager - MailItemsAccessed - 20.190.142.169",
        "2022-04-04 04:32:34+00:00 - OfficeActivityManager - MailItemsAccessed - 20.190.142.170",
        "2022-04-04 04:32:34+00:00 - OfficeActivityManager - MailItemsAccessed - 20.190.142.172",
        "2022-04-04 04:35:08.165000+00:00 - Azure AD - Sign-in activity - 20.53.9.84",
        "2022-04-04 04:46:20.960000+00:00 - Azure AD - Sign-in activity - 20.37.213.236",
        "2022-04-04 05:24:18.718000+00:00 - Azure AD - Sign-in activity - 20.53.9.84",
        "2022-04-04 05:24:23+00:00 - OfficeActivityManager - Send - 20.190.142.170",
        "2022-04-04 05:27:20.966000+00:00 - Azure AD - Sign-in activity - 20.37.255.76",
        "2022-04-04 05:29:14.756000+00:00 - Azure AD - Sign-in activity - 20.37.212.69",
        "2022-04-04 05:29:17+00:00 - OfficeActivityManager - Send - 20.190.142.172",
        "2022-04-04 05:32:20.574000+00:00 - Azure AD - Sign-in activity - 20.37.253.233",
        "2022-04-04 05:40:21.756000+00:00 - Azure AD - Sign-in activity - 20.37.213.236",
        "2022-04-04 05:40:25+00:00 - OfficeActivityManager - Send - 20.190.142.170",
        "2022-04-04 05:48:28.797000+00:00 - Azure AD - Sign-in activity - 20.70.208.63",
        "2022-04-04 05:48:30+00:00 - OfficeActivityManager - MailItemsAccessed - 20.190.142.172",
        "2022-04-04 06:25:40.160000+00:00 - Azure AD - Sign-in activity - 20.70.208.63",
        "2022-04-04 06:25:43+00:00 - OfficeActivityManager - Send - 20.190.142.170",
        "2022-04-04 06:40:28.176000+00:00 - Azure AD - Sign-in activity - 20.37.213.236",
        "2022-04-04 06:48:31+00:00 - OfficeActivityManager - MailItemsAccessed - 20.190.142.172",
        "2022-04-04 06:57:30.396000+00:00 - Azure AD - Sign-in activity - 20.37.255.76",
        "2022-04-04 07:03:23.469000+00:00 - Azure AD - Sign-in activity - 20.37.253.233",
        "2022-04-04 07:05:22.167000+00:00 - Azure AD - Sign-in activity - 20.37.253.233",
        "2022-04-04 07:05:25+00:00 - OfficeActivityManager - Send - 20.190.142.169",
        "2022-04-04 07:23:33.855000+00:00 - Azure AD - Sign-in activity - 20.37.253.233",
        "2022-04-04 07:23:36+00:00 - OfficeActivityManager - Send - 20.190.142.169",
        "2022-04-04 07:34:43.187000+00:00 - Azure AD - Sign-in activity - 20.37.213.236",
        "2022-04-04 07:38:50.571000+00:00 - Azure AD - Sign-in activity - 20.37.213.236",
        "2022-04-04 07:38:53+00:00 - OfficeActivityManager - Send - 20.190.142.172",
        "2022-04-04 07:48:31+00:00 - OfficeActivityManager - MailItemsAccessed - 20.190.142.172",
        "2022-04-04 07:53:25.076000+00:00 - Azure AD - Sign-in activity - 20.37.212.69",
        "2022-04-04 08:11:25.394000+00:00 - Azure AD - Sign-in activity - 20.37.212.69",
        "2022-04-04 08:17:26.160000+00:00 - Azure AD - Sign-in activity - 20.37.212.69",
        "2022-04-04 08:38:35.518000+00:00 - Azure AD - Sign-in activity - 20.37.212.69",
        "2022-04-04 08:39:39.692000+00:00 - Azure AD - Sign-in activity - 20.53.9.84",
        "2022-04-04 08:39:43+00:00 - OfficeActivityManager - Send - 20.190.142.172",
        "2022-04-04 08:48:32+00:00 - OfficeActivityManager - MailItemsAccessed - 20.190.142.172",
        "2022-04-04 08:48:43.434000+00:00 - Azure AD - Sign-in activity - 20.53.9.84",
        "2022-04-04 08:48:48.858000+00:00 - Azure AD - Sign-in activity - 20.53.9.84",
        "2022-04-04 09:17:49.407000+00:00 - Azure AD - Sign-in activity - 20.70.208.63",
        "2022-04-04 09:17:52+00:00 - OfficeActivityManager - Send - 20.190.142.170",
        "2022-04-04 09:37:44.500000+00:00 - Azure AD - Sign-in activity - 20.37.253.233",
        "2022-04-04 09:56:32.011000+00:00 - Azure AD - Sign-in activity - 20.37.212.69",
        "2022-04-04 10:15:44.157000+00:00 - Azure AD - Sign-in activity - 20.53.9.84",
        "2022-04-04 10:20:34.517000+00:00 - Azure AD - Sign-in activity - 20.37.212.69",
        "2022-04-04 10:47:44.983000+00:00 - Azure AD - Sign-in activity - 20.37.213.236",
        "2022-04-04 10:47:48+00:00 - OfficeActivityManager - Send - 20.190.142.169",
        "2022-04-04 11:02:57.717000+00:00 - Azure AD - Sign-in activity - 20.37.253.233",
        "2022-04-04 11:03:04+00:00 - OfficeActivityManager - Send - 20.190.142.169",
        "2022-04-04 11:05:40.149000+00:00 - Azure AD - Sign-in activity - 20.37.255.76",
        "2022-04-04 11:05:46.002000+00:00 - Azure AD - Sign-in activity - 20.37.255.76",
        "2022-04-04 11:14:54.758000+00:00 - Azure AD - Sign-in activity - 20.37.253.233",
        "2022-04-04 11:44:00.937000+00:00 - Azure AD - Sign-in activity - 20.37.255.76",
        "2022-04-04 11:44:07+00:00 - OfficeActivityManager - Send - 20.190.142.169",
        "2022-04-04 12:06:49.166000+00:00 - Azure AD - Sign-in activity - 20.37.213.236",
        "2022-04-04 12:10:40.944000+00:00 - Azure AD - Sign-in activity - 20.37.212.69",
        "2022-04-04 12:12:44.932000+00:00 - Azure AD - Sign-in activity - 20.53.9.84",
        "2022-04-04 14:08:03.320000+00:00 - Azure AD - Sign-in activity - 20.53.9.84",
        "2022-04-04 14:17:02.501000+00:00 - Azure AD - Sign-in activity - 20.70.208.63",
        "2022-04-04 14:17:04+00:00 - OfficeActivityManager - Send - 20.190.142.170",
        "2022-04-04 14:25:14.333000+00:00 - Azure AD - Sign-in activity - 20.37.255.76",
        "2022-04-04 14:36:34.066000+00:00 - Azure AD - Sign-in activity - 20.37.255.76",
        "2022-04-04 14:36:40+00:00 - OfficeActivityManager - Send - 20.190.142.170",
        "2022-04-04 15:02:10.229000+00:00 - Azure AD - Sign-in activity - 20.70.208.63",
        "2022-04-04 15:04:01.581000+00:00 - Azure AD - Sign-in activity - 20.37.213.236",
        "2022-04-04 15:04:05+00:00 - OfficeActivityManager - Send - 20.190.142.169",
        "2022-04-04 15:21:28.063000+00:00 - Azure AD - Sign-in activity - 20.37.255.76",
        "2022-04-04 15:21:33+00:00 - OfficeActivityManager - Send - 20.190.142.172",
        "2022-04-04 15:42:00.533000+00:00 - Azure AD - Sign-in activity - 20.37.212.69",
        "2022-04-04 15:52:24.007000+00:00 - Azure AD - Sign-in activity - 20.37.255.76",
        "2022-04-04 15:52:26+00:00 - OfficeActivityManager - MailItemsAccessed - 20.190.142.172",
        "2022-04-04 16:07:22.332000+00:00 - Azure AD - Sign-in activity - 20.70.208.63",
        "2022-04-04 16:11:04.312000+00:00 - Azure AD - Sign-in activity - 20.53.9.84",
        "2022-04-04 16:11:13+00:00 - OfficeActivityManager - Send - 20.190.142.169",
        "2022-04-04 16:25:08.670000+00:00 - Azure AD - Sign-in activity - 20.37.212.69",
        "2022-04-04 16:26:27.774000+00:00 - Azure AD - Sign-in activity - 20.37.253.233",
        "2022-04-04 16:38:42.210000+00:00 - Azure AD - Sign-in activity - 20.37.253.233",
        "2022-04-04 16:41:12.515000+00:00 - Azure AD - Sign-in activity - 20.53.9.84",
        "2022-04-04 16:41:22+00:00 - OfficeActivityManager - Send - 20.190.142.169",
        "2022-04-04 16:42:11.329000+00:00 - Azure AD - Sign-in activity - 20.37.213.236",
        "2022-04-04 16:42:14+00:00 - OfficeActivityManager - Send - 20.190.142.170",
        "2022-04-04 16:52:27+00:00 - OfficeActivityManager - MailItemsAccessed - 20.190.142.172",
        "2022-04-04 17:10:35.917000+00:00 - Azure AD - Sign-in activity - 20.37.253.233",
        "2022-04-04 17:19:24.487000+00:00 - Azure AD - Sign-in activity - 20.37.255.76",
        "2022-04-04 17:36:37.243000+00:00 - Azure AD - Sign-in activity - 20.37.253.233",
        "2022-04-04 17:36:46+00:00 - OfficeActivityManager - Send - 20.190.142.169",
        "2022-04-04 17:38:34.334000+00:00 - Azure AD - Sign-in activity - 20.70.208.63",
        "2022-04-04 17:38:38+00:00 - OfficeActivityManager - Send - 20.190.142.169",
        "2022-04-04 17:52:27+00:00 - OfficeActivityManager - MailItemsAccessed - 20.190.142.172",
        "2022-04-04 18:07:49.383000+00:00 - Azure AD - Sign-in activity - 20.37.213.236",
        "2022-04-04 18:07:52+00:00 - OfficeActivityManager - Send - 20.190.142.170",
        "2022-04-04 18:14:34.766000+00:00 - Azure AD - Sign-in activity - 20.37.255.76",
        "2022-04-04 18:16:24.497000+00:00 - Azure AD - Sign-in activity - 20.37.255.76",
        "2022-04-04 18:21:23.323000+00:00 - Azure AD - Sign-in activity - 20.53.9.84",
        "2022-04-04 18:29:26.149000+00:00 - Azure AD - Sign-in activity - 20.37.212.69",
        "2022-04-04 18:47:26.719000+00:00 - Azure AD - Sign-in activity - 20.37.213.236",
        "2022-04-04 18:47:30+00:00 - OfficeActivityManager - Send - 20.190.142.172",
        "2022-04-04 18:52:27+00:00 - OfficeActivityManager - MailItemsAccessed - 20.190.142.172",
        "2022-04-04 19:33:29.870000+00:00 - Azure AD - Sign-in activity - 20.37.212.69",
        "2022-04-04 19:33:33+00:00 - OfficeActivityManager - Send - 20.190.142.170",
        "2022-04-04 19:40:40.264000+00:00 - Azure AD - Sign-in activity - 20.37.253.233",
        "2022-04-04 19:40:48+00:00 - OfficeActivityManager - Send - 20.190.142.169",
        "2022-04-04 19:52:27+00:00 - OfficeActivityManager - MailItemsAccessed - 20.190.142.172",
        "2022-04-04 19:55:33.620000+00:00 - Azure AD - Sign-in activity - 20.53.9.84",
        "2022-04-04 19:55:41.469000+00:00 - Azure AD - Sign-in activity - 20.53.9.84",
        "2022-04-04 20:04:14.304000+00:00 - Azure AD - Sign-in activity - 20.37.253.233",
        "2022-04-04 20:50:30+00:00 - OfficeActivityManager - Create - 2603:10b6:408:130:cafe::4a",
        "2022-04-04 20:50:30+00:00 - OfficeActivityManager - MailItemsAccessed - 20.190.142.172",
        "2022-04-04 20:50:49.974000+00:00 - Azure AD - Sign-in activity - 20.53.9.84",
        "2022-04-04 20:50:58.841000+00:00 - Azure AD - Sign-in activity - 20.53.9.84",
        "2022-04-04 21:06:33.503000+00:00 - Azure AD - Sign-in activity - 20.37.212.69",
        "2022-04-04 21:06:48.796000+00:00 - Azure AD - Sign-in activity - 20.70.208.63",
        "2022-04-04 21:06:52+00:00 - OfficeActivityManager - Send - 20.190.142.170",
        "2022-04-04 21:09:20.738000+00:00 - Azure AD - Sign-in activity - 20.37.253.233",
        "2022-04-04 21:11:55.631000+00:00 - Azure AD - Sign-in activity - 20.37.253.233",
        "2022-04-04 21:14:51.925000+00:00 - Azure AD - Sign-in activity - 20.37.255.76",
        "2022-04-04 21:14:57+00:00 - OfficeActivityManager - Send - 20.190.142.170",
        "2022-04-04 21:19:14.521000+00:00 - Azure AD - Sign-in activity - 20.53.9.84",
        "2022-04-04 21:19:22.934000+00:00 - Azure AD - Sign-in activity - 20.53.9.84",
        "2022-04-04 21:29:38.089000+00:00 - Azure AD - Sign-in activity - 20.37.255.76",
        "2022-04-04 21:34:52.954000+00:00 - Azure AD - Sign-in activity - 20.37.253.233",
        "2022-04-04 21:35:01.579000+00:00 - Azure AD - Sign-in activity - 20.37.253.233",
        "2022-04-04 21:50:30+00:00 - OfficeActivityManager - MailItemsAccessed - 20.190.142.172",
        "2022-04-04 21:52:28+00:00 - OfficeActivityManager - MailItemsAccessed - 20.190.142.172",
        "2022-04-04 21:58:45.088000+00:00 - Azure AD - Sign-in activity - 20.70.208.63",
        "2022-04-04 21:58:48+00:00 - OfficeActivityManager - Send - 20.190.142.172",
        "2022-04-04 22:08:22.126000+00:00 - Azure AD - Sign-in activity - 20.53.9.84",
        "2022-04-04 22:16:04.409000+00:00 - Azure AD - Sign-in activity - 20.53.9.84",
        "2022-04-04 22:16:12.134000+00:00 - Azure AD - Sign-in activity - 20.53.9.84",
        "2022-04-04 22:22:51.429000+00:00 - Azure AD - Sign-in activity - 20.53.9.84",
        "2022-04-04 22:32:41.306000+00:00 - Azure AD - Sign-in activity - 20.37.213.236",
        "2022-04-04 22:32:43+00:00 - OfficeActivityManager - MailItemsAccessed - 20.190.142.170",
        "2022-04-04 22:44:54.504000+00:00 - Azure AD - Sign-in activity - 20.37.255.76",
        "2022-04-04 22:50:31+00:00 - OfficeActivityManager - MailItemsAccessed - 20.190.142.172",
        "2022-04-04 22:52:28+00:00 - OfficeActivityManager - MailItemsAccessed - 20.190.142.172",
        "2022-04-04 22:56:10.100000+00:00 - Azure AD - Sign-in activity - 20.53.9.84",
        "2022-04-04 23:00:44.735000+00:00 - Azure AD - Sign-in activity - 20.37.213.236",
        "2022-04-04 23:00:49+00:00 - OfficeActivityManager - Send - 20.190.142.169",
        "2022-04-04 23:19:11.931000+00:00 - Azure AD - Sign-in activity - 20.70.208.63",
        "2022-04-04 23:19:18.121000+00:00 - Azure AD - Sign-in activity - 20.70.208.63",
        "2022-04-04 23:21:06.534000+00:00 - Azure AD - Sign-in activity - 20.37.253.233",
        "2022-04-04 23:21:36.696000+00:00 - Azure AD - Sign-in activity - 20.70.208.63",
        "2022-04-04 23:21:38+00:00 - OfficeActivityManager - MailItemsAccessed - 20.190.142.169",
        "2022-04-04 23:24:21.879000+00:00 - Azure AD - Sign-in activity - 20.53.9.84",
        "2022-04-04 23:28:33.399000+00:00 - Azure AD - Sign-in activity - 20.53.9.84",
        "2022-04-04 23:32:32.181000+00:00 - Azure AD - Sign-in activity - 20.37.255.76",
        "2022-04-04 23:32:40.262000+00:00 - Azure AD - Sign-in activity - 20.37.255.76",
        "2022-04-04 23:32:44+00:00 - OfficeActivityManager - MailItemsAccessed - 20.190.142.170",
        "2022-04-04 23:35:32.792000+00:00 - Azure AD - Sign-in activity - 20.53.9.84",
        "2022-04-04 23:36:35.623000+00:00 - Azure AD - Sign-in activity - 20.70.208.63",
        "2022-04-04 23:36:40.409000+00:00 - Azure AD - Sign-in activity - 20.70.208.63",
        "2022-04-04 23:36:45.131000+00:00 - Azure AD - Sign-in activity - 20.37.213.236",
        "2022-04-04 23:36:51.037000+00:00 - Azure AD - Sign-in activity - 20.37.213.236",
        "2022-04-04 23:38:54.216000+00:00 - Azure AD - Sign-in activity - 20.53.9.84",
        "2022-04-04 23:41:54.711000+00:00 - Azure AD - Sign-in activity - 20.37.253.233",
        "2022-04-04 23:42:22.088000+00:00 - Azure AD - Sign-in activity - 20.37.253.233",
        "2022-04-04 23:42:59.343000+00:00 - Azure AD - Sign-in activity - 20.37.255.76",
        "2022-04-04 23:43:08.108000+00:00 - Azure AD - Sign-in activity - 20.37.255.76",
        "2022-04-04 23:49:28.018000+00:00 - Azure AD - Sign-in activity - 20.37.213.236",
        "2022-04-04 23:50:31+00:00 - OfficeActivityManager - MailItemsAccessed - 20.190.142.172",
        "2022-04-04 23:52:28+00:00 - OfficeActivityManager - MailItemsAccessed - 20.190.142.172",
        "2022-04-04 23:53:16.894000+00:00 - Azure AD - Sign-in activity - 20.37.212.69",
        "2022-04-04 23:53:18.325000+00:00 - Azure AD - Sign-in activity - 20.37.213.236",
        "2022-04-04 23:53:21+00:00 - OfficeActivityManager - Send - 20.190.142.172",
        "2022-04-04 23:53:24.104000+00:00 - Azure AD - Sign-in activity - 20.37.213.236",
        "2022-04-04 23:55:17.361000+00:00 - Azure AD - Sign-in activity - 20.37.253.233",
        "2022-04-04 23:55:49.700000+00:00 - Azure AD - Sign-in activity - 20.37.253.233",
        "2022-04-05 00:06:10.781000+00:00 - Azure AD - Sign-in activity - 20.53.9.84",
        "2022-04-05 00:06:46.661000+00:00 - Azure AD - Sign-in activity - 20.37.255.76",
        "2022-04-05 00:06:54.144000+00:00 - Azure AD - Sign-in activity - 20.37.255.76",
        "2022-04-05 00:07:15.637000+00:00 - Azure AD - Sign-in activity - 20.37.253.233",
        "2022-04-05 00:07:47.169000+00:00 - Azure AD - Sign-in activity - 20.37.212.69",
        "2022-04-05 00:07:49.665000+00:00 - Azure AD - Sign-in activity - 20.37.212.69",
        "2022-04-05 00:11:25.234000+00:00 - Azure AD - Sign-in activity - 20.70.208.63",
        "2022-04-05 00:11:29.285000+00:00 - Azure AD - Sign-in activity - 20.70.208.63",
        "2022-04-05 00:13:42.761000+00:00 - Azure AD - Sign-in activity - 20.37.255.76",
        "2022-04-05 00:13:55.987000+00:00 - Azure AD - Sign-in activity - 20.37.255.76",
        "2022-04-05 00:14:50+00:00 - OfficeActivityManager - MailItemsAccessed - 20.190.142.172",
        "2022-04-05 00:14:50+00:00 - OfficeActivityManager - MailItemsAccessed - 20.190.142.170",
        "2022-04-05 00:14:50+00:00 - OfficeActivityManager - MailItemsAccessed - 20.190.142.169",
        "2022-04-05 00:15:28.536000+00:00 - Azure AD - Sign-in activity - 20.70.208.63",
        "2022-04-05 00:15:33.708000+00:00 - Azure AD - Sign-in activity - 20.70.208.63",
        "2022-04-05 00:18:27.541000+00:00 - Azure AD - Sign-in activity - 20.70.208.63",
        "2022-04-05 00:25:09.822000+00:00 - Azure AD - Sign-in activity - 20.37.212.69",
        "2022-04-05 00:26:03.734000+00:00 - Azure AD - Sign-in activity - 20.70.208.63",
        "2022-04-05 00:26:07+00:00 - OfficeActivityManager - Send - 20.190.142.169",
        "2022-04-05 00:27:31.676000+00:00 - Azure AD - Sign-in activity - 20.70.208.63",
        "2022-04-05 00:32:44+00:00 - OfficeActivityManager - MailItemsAccessed - 20.190.142.170",
        "2022-04-05 00:37:10.066000+00:00 - Azure AD - Sign-in activity - 20.37.213.236",
        "2022-04-05 00:43:53.515000+00:00 - Azure AD - Sign-in activity - 20.53.9.84",
        "2022-04-05 00:45:34.377000+00:00 - Azure AD - Sign-in activity - 20.37.255.76",
        "2022-04-05 00:45:44+00:00 - OfficeActivityManager - Send - 20.190.142.172",
        "2022-04-05 00:52:43.901000+00:00 - Azure AD - Sign-in activity - 20.37.212.69",
        "2022-04-05 00:52:48.668000+00:00 - Azure AD - Sign-in activity - 20.37.212.69",
        "2022-04-05 00:53:41+00:00 - OfficeActivityManager - MailItemsAccessed - 20.190.142.170",
        "2022-04-05 01:04:44.953000+00:00 - Azure AD - Sign-in activity - 20.37.213.236",
        "2022-04-05 01:04:46+00:00 - OfficeActivityManager - MailItemsAccessed - 20.190.142.169",
        "2022-04-05 01:10:44.678000+00:00 - Azure AD - Sign-in activity - 20.37.212.69",
        "2022-04-05 01:10:47+00:00 - OfficeActivityManager - Send - 20.190.142.172",
        "2022-04-05 01:36:35.963000+00:00 - Azure AD - Sign-in activity - 20.37.253.233",
        "2022-04-05 01:36:41+00:00 - OfficeActivityManager - MailItemsAccessed - 20.190.142.170",
        "2022-04-05 01:45:34.512000+00:00 - Azure AD - Sign-in activity - 20.53.9.84",
        "2022-04-05 01:46:30.332000+00:00 - Azure AD - Sign-in activity - 20.37.255.76",
        "2022-04-05 01:48:55.857000+00:00 - Azure AD - Sign-in activity - 20.37.212.69",
        "2022-04-05 01:48:59+00:00 - OfficeActivityManager - Send - 20.190.142.172",
        "2022-04-05 02:04:47+00:00 - OfficeActivityManager - MailItemsAccessed - 20.190.142.169",
        "2022-04-05 02:23:00.166000+00:00 - Azure AD - Sign-in activity - 20.37.212.69",
        "2022-04-05 02:36:42+00:00 - OfficeActivityManager - MailItemsAccessed - 20.190.142.170"
       ],
       "description": "Select an item",
       "index": 27,
       "layout": "IPY_MODEL_3c4c84ecc3b546fd84287420469a2ab2",
       "style": "IPY_MODEL_ed5ea1ead65e4d4d887d3bda589804de"
      }
     },
     "51876de3eede4514a16107175cb249cb": {
      "model_module": "@jupyter-widgets/controls",
      "model_module_version": "1.5.0",
      "model_name": "DescriptionStyleModel",
      "state": {
       "description_width": "initial"
      }
     },
     "5745a63b36434da49e1b5985acc0bd3f": {
      "model_module": "@jupyter-widgets/controls",
      "model_module_version": "1.5.0",
      "model_name": "DescriptionStyleModel",
      "state": {
       "description_width": ""
      }
     },
     "57bf7370a095455db8c6ab8a46d5f6b8": {
      "model_module": "@jupyter-widgets/base",
      "model_module_version": "1.2.0",
      "model_name": "LayoutModel",
      "state": {
       "width": "70%"
      }
     },
     "5b836f6df54c4e06bb03339619f4f900": {
      "model_module": "@jupyter-widgets/controls",
      "model_module_version": "1.5.0",
      "model_name": "VBoxModel",
      "state": {
       "children": [
        "IPY_MODEL_91d90a9a7bba455baf47b2943c6f5e44",
        "IPY_MODEL_6fa89ef0db454bafa27773fe1dfb738a",
        "IPY_MODEL_e88d439c233246c4919737c529cd0d3d"
       ],
       "layout": "IPY_MODEL_61b2d1b45c23477095227611ccc9999c"
      }
     },
     "5bd6df6bfa7b48058fd74288e959d53c": {
      "model_module": "@jupyter-widgets/controls",
      "model_module_version": "1.5.0",
      "model_name": "SliderStyleModel",
      "state": {
       "description_width": "initial"
      }
     },
     "5c6a6c44351144be89d6c9d3cd2e6454": {
      "model_module": "@jupyter-widgets/controls",
      "model_module_version": "1.5.0",
      "model_name": "VBoxModel",
      "state": {
       "children": [
        "IPY_MODEL_22209d4eaaa541e781f4e998e577a8c1",
        "IPY_MODEL_69ac956f0aa74f1e927b1f22e6397cfa",
        "IPY_MODEL_640200742d584a29b322d58133b9d687"
       ],
       "layout": "IPY_MODEL_852d631e50864053828d6617a59311ee"
      }
     },
     "5d20a4123e484255818376ddc3db9b40": {
      "model_module": "@jupyter-widgets/controls",
      "model_module_version": "1.5.0",
      "model_name": "IntRangeSliderModel",
      "state": {
       "_model_name": "IntRangeSliderModel",
       "_view_name": "IntRangeSliderView",
       "description": "Time Range",
       "layout": "IPY_MODEL_c92827b4af6249c380008f6ab22f0195",
       "max": 28,
       "min": -28,
       "style": "IPY_MODEL_463132c93eb84152a393f357c790154d",
       "value": [
        -2,
        0
       ]
      }
     },
     "5e1172b862864ea3aaef43357606db37": {
      "model_module": "@jupyter-widgets/base",
      "model_module_version": "1.2.0",
      "model_name": "LayoutModel",
      "state": {}
     },
     "5ea13a16be8644ad92640b97ed6b7e2a": {
      "model_module": "@jupyter-widgets/controls",
      "model_module_version": "1.5.0",
      "model_name": "HTMLModel",
      "state": {
       "layout": "IPY_MODEL_7f08e8a8fbc849a0ba99ca826f0827de",
       "style": "IPY_MODEL_bdc855aa5d434e38a878ade40f764fe5",
       "value": "<h4>Set time range for pivot functions.</h4>"
      }
     },
     "5feb4aff84d14ffda3b14e0dd50f50ac": {
      "model_module": "@jupyter-widgets/controls",
      "model_module_version": "1.5.0",
      "model_name": "VBoxModel",
      "state": {
       "children": [
        "IPY_MODEL_ab355ef97f5843ad89c006fd6ae3c2ea",
        "IPY_MODEL_4546255dbb324c2c8fc1e9b7f24be26a",
        "IPY_MODEL_48ccee7d58314dea942ffe0a7c9bd456"
       ],
       "layout": "IPY_MODEL_0548b0503d3340a58ea08e1f1f705865"
      }
     },
     "609239bc9d2e4561a9edf11472142ea0": {
      "model_module": "@jupyter-widgets/controls",
      "model_module_version": "1.5.0",
      "model_name": "DescriptionStyleModel",
      "state": {
       "description_width": "initial"
      }
     },
     "61b2d1b45c23477095227611ccc9999c": {
      "model_module": "@jupyter-widgets/base",
      "model_module_version": "1.2.0",
      "model_name": "LayoutModel",
      "state": {}
     },
     "63e7f739408a438b89472c46a05397b4": {
      "model_module": "@jupyter-widgets/base",
      "model_module_version": "1.2.0",
      "model_name": "LayoutModel",
      "state": {}
     },
     "640200742d584a29b322d58133b9d687": {
      "model_module": "@jupyter-widgets/controls",
      "model_module_version": "1.5.0",
      "model_name": "CheckboxModel",
      "state": {
       "description": "Display details",
       "disabled": false,
       "layout": "IPY_MODEL_bc80cb94fd0b4b57bf8ef20de227e93c",
       "style": "IPY_MODEL_b79a3c442e094040860b33127c696914",
       "value": true
      }
     },
     "68975f878548486ca11a74c8227f47d3": {
      "model_module": "@jupyter-widgets/controls",
      "model_module_version": "1.5.0",
      "model_name": "SliderStyleModel",
      "state": {
       "description_width": "initial"
      }
     },
     "69ac956f0aa74f1e927b1f22e6397cfa": {
      "model_module": "@jupyter-widgets/controls",
      "model_module_version": "1.5.0",
      "model_name": "SelectModel",
      "state": {
       "_options_labels": [
        "kelsea@seccxp.ninja   AzureActiveDirectory (Last activity: 2022-04-05 02:23:00.166000+00:00)",
        "kelsea@seccxp.ninja   Office365 (Last activity: 2022-04-05 02:36:42+00:00)"
       ],
       "description": "Select an account to explore",
       "index": 0,
       "layout": "IPY_MODEL_35d3189e5ed34fccaa98ae5778006ed4",
       "style": "IPY_MODEL_dd0cf090d4524c2ba5760e72a1a7a214"
      }
     },
     "6a6c6b6657724d159703155f7a7b9043": {
      "model_module": "@jupyter-widgets/controls",
      "model_module_version": "1.5.0",
      "model_name": "TextModel",
      "state": {
       "description": "Filter:",
       "layout": "IPY_MODEL_71f1d2287ec04c5baa3b7dc679e5f400",
       "style": "IPY_MODEL_0f93833c73a64c0cb0f4f03db3bb37cc",
       "value": "2022-04-03 03:06:17.286000+00:00 - Azure AD - Sign-in activity - 20.37.253.233"
      }
     },
     "6ca349824c8849b9b60a5373af1fc257": {
      "model_module": "@jupyter-widgets/base",
      "model_module_version": "1.2.0",
      "model_name": "LayoutModel",
      "state": {
       "width": "99%"
      }
     },
     "6de457e02b534472a42cd5e2fc58cdf0": {
      "model_module": "@jupyter-widgets/controls",
      "model_module_version": "1.5.0",
      "model_name": "DescriptionStyleModel",
      "state": {
       "description_width": ""
      }
     },
     "6f25177ffb77451c847ed17a9322c70c": {
      "model_module": "@jupyter-widgets/base",
      "model_module_version": "1.2.0",
      "model_name": "LayoutModel",
      "state": {}
     },
     "6fa89ef0db454bafa27773fe1dfb738a": {
      "model_module": "@jupyter-widgets/controls",
      "model_module_version": "1.5.0",
      "model_name": "TextModel",
      "state": {
       "description": "Query start time (UTC):",
       "layout": "IPY_MODEL_c9431e6a8caf40e9a35af57df26a91db",
       "style": "IPY_MODEL_ce19925620ba445da9ca56ee2ca9f78b",
       "value": "2022-04-03 02:49:14.277968+00:00"
      }
     },
     "6fb08d781b7541b69a824f9059904f62": {
      "model_module": "@jupyter-widgets/base",
      "model_module_version": "1.2.0",
      "model_name": "LayoutModel",
      "state": {
       "width": "50%"
      }
     },
     "71160649347740eb9ae9eccead29bc9a": {
      "model_module": "@jupyter-widgets/base",
      "model_module_version": "1.2.0",
      "model_name": "LayoutModel",
      "state": {}
     },
     "71f1d2287ec04c5baa3b7dc679e5f400": {
      "model_module": "@jupyter-widgets/base",
      "model_module_version": "1.2.0",
      "model_name": "LayoutModel",
      "state": {}
     },
     "7337d522f7194038bf66323d903a0629": {
      "model_module": "@jupyter-widgets/controls",
      "model_module_version": "1.5.0",
      "model_name": "DescriptionStyleModel",
      "state": {
       "description_width": ""
      }
     },
     "75f5ecf5df7841d680743c4db93d6c12": {
      "model_module": "@jupyter-widgets/controls",
      "model_module_version": "1.5.0",
      "model_name": "LabelModel",
      "state": {
       "layout": "IPY_MODEL_6ca349824c8849b9b60a5373af1fc257",
       "style": "IPY_MODEL_7337d522f7194038bf66323d903a0629"
      }
     },
     "7703f35231ed4df9bde200fb8d49ea68": {
      "model_module": "@jupyter-widgets/base",
      "model_module_version": "1.2.0",
      "model_name": "LayoutModel",
      "state": {}
     },
     "770e358d4f6b45b789841d99d8be6db9": {
      "model_module": "@jupyter-widgets/controls",
      "model_module_version": "1.5.0",
      "model_name": "VBoxModel",
      "state": {
       "children": [
        "IPY_MODEL_5ea13a16be8644ad92640b97ed6b7e2a",
        "IPY_MODEL_c6c003c7b22140bba6ab89dd0ab88744",
        "IPY_MODEL_df752f83ee444adea62f91a9d8403ee1"
       ],
       "layout": "IPY_MODEL_afac1ecc1f724f438eabba3f4dbf190b"
      }
     },
     "7b4f933bce6a440c8ab9414be69dccea": {
      "model_module": "@jupyter-widgets/controls",
      "model_module_version": "1.5.0",
      "model_name": "TextModel",
      "state": {
       "description": "Query end time (UTC) :  ",
       "layout": "IPY_MODEL_fbdfb11a05a24ffc870a67132ad2730d",
       "style": "IPY_MODEL_b508ebe21f1949c8a256571bf92e9e51",
       "value": "2022-04-05 02:49:12.745984"
      }
     },
     "7b560ef77c634974a73b32a868b41554": {
      "model_module": "@jupyter-widgets/controls",
      "model_module_version": "1.5.0",
      "model_name": "SelectMultipleModel",
      "state": {
       "_options_labels": [
        "AzureActiveDirectory",
        "AzureActivity",
        "Office365",
        "Windows",
        "Linux",
        "Azure",
        "All"
       ],
       "description": "Select Account types to search",
       "index": [
        5
       ],
       "layout": "IPY_MODEL_1db1c2902d634d849b7aeac8c5dfa58a",
       "rows": 5,
       "style": "IPY_MODEL_35619cf6194a44b4b8a7702a26cf7251"
      }
     },
     "7c2be47abba34eec97cc9eb66cf25892": {
      "model_module": "@jupyter-widgets/controls",
      "model_module_version": "1.5.0",
      "model_name": "HBoxModel",
      "state": {
       "children": [
        "IPY_MODEL_d3290f3f69654c278ee2fb2711163d06",
        "IPY_MODEL_9c77f19082314286bae8da21d55329aa"
       ],
       "layout": "IPY_MODEL_0aa56ea80d5c4c4a873eafdd6729f65e"
      }
     },
     "7f08e8a8fbc849a0ba99ca826f0827de": {
      "model_module": "@jupyter-widgets/base",
      "model_module_version": "1.2.0",
      "model_name": "LayoutModel",
      "state": {}
     },
     "8053a93a9d324fd4a26390c6356f3d50": {
      "model_module": "@jupyter-widgets/base",
      "model_module_version": "1.2.0",
      "model_name": "LayoutModel",
      "state": {
       "height": "150px",
       "width": "300px"
      }
     },
     "81d81a69512a40aeb33bd1a17b845c74": {
      "model_module": "@jupyter-widgets/controls",
      "model_module_version": "1.5.0",
      "model_name": "DatePickerModel",
      "state": {
       "description": "Origin Date",
       "disabled": false,
       "layout": "IPY_MODEL_1e25f2b432894d048d96c8dacf07543d",
       "style": "IPY_MODEL_d66f1c18ce9247a3aa799a2380726690",
       "value": {
        "date": 5,
        "month": 3,
        "year": 2022
       }
      }
     },
     "820f4ed4ac874dbb93572466b9544a7d": {
      "model_module": "@jupyter-widgets/base",
      "model_module_version": "1.2.0",
      "model_name": "LayoutModel",
      "state": {}
     },
     "843305a90bc643a6826a74992390accb": {
      "model_module": "@jupyter-widgets/controls",
      "model_module_version": "1.5.0",
      "model_name": "VBoxModel",
      "state": {
       "children": [
        "IPY_MODEL_6a6c6b6657724d159703155f7a7b9043",
        "IPY_MODEL_509231cd6ea143f68c937a09a669c270",
        "IPY_MODEL_ff46007cf200482aa928bb3720f7aa00"
       ],
       "layout": "IPY_MODEL_0391d8c0878e465dabc638d75cf02694"
      }
     },
     "852d631e50864053828d6617a59311ee": {
      "model_module": "@jupyter-widgets/base",
      "model_module_version": "1.2.0",
      "model_name": "LayoutModel",
      "state": {}
     },
     "86cbc4dde5db43009c63a517987a0f6d": {
      "model_module": "@jupyter-widgets/controls",
      "model_module_version": "1.5.0",
      "model_name": "DescriptionStyleModel",
      "state": {
       "description_width": ""
      }
     },
     "8887e99f5ac74bdcbca5dc1a52b69891": {
      "model_module": "@jupyter-widgets/base",
      "model_module_version": "1.2.0",
      "model_name": "LayoutModel",
      "state": {
       "width": "50%"
      }
     },
     "8d071160ac074372b5202f03f5b49fe0": {
      "model_module": "@jupyter-widgets/base",
      "model_module_version": "1.2.0",
      "model_name": "LayoutModel",
      "state": {}
     },
     "8d1553864d92408295e116607e6b521e": {
      "model_module": "@jupyter-widgets/controls",
      "model_module_version": "1.5.0",
      "model_name": "DescriptionStyleModel",
      "state": {
       "description_width": ""
      }
     },
     "8d6f3c0da3784d29ba566083a245134f": {
      "model_module": "@jupyter-widgets/controls",
      "model_module_version": "1.5.0",
      "model_name": "DatePickerModel",
      "state": {
       "description": "Origin Date",
       "disabled": false,
       "layout": "IPY_MODEL_f41e38a9024d46fd968351ec4c5a6efc",
       "style": "IPY_MODEL_d97e7d8cabcb4d40a0cae2a051edc6dc",
       "value": {
        "date": 5,
        "month": 3,
        "year": 2022
       }
      }
     },
     "8fc0a2cb78bb42f3aa935b4971b2e4a4": {
      "model_module": "@jupyter-widgets/controls",
      "model_module_version": "1.5.0",
      "model_name": "DropdownModel",
      "state": {
       "_options_labels": [
        "Second",
        "Minute",
        "Hour",
        "Day",
        "Week"
       ],
       "index": 3,
       "layout": "IPY_MODEL_232af7b022fc45b0a7d78aed9b647516",
       "style": "IPY_MODEL_d60e67c25f7244d3b126272d81f033bb"
      }
     },
     "91d90a9a7bba455baf47b2943c6f5e44": {
      "model_module": "@jupyter-widgets/controls",
      "model_module_version": "1.5.0",
      "model_name": "HBoxModel",
      "state": {
       "children": [
        "IPY_MODEL_5d20a4123e484255818376ddc3db9b40",
        "IPY_MODEL_fb0ee7017957455e9f072f9d16606b5c"
       ],
       "layout": "IPY_MODEL_2972752ff3344731b3368a194cd70477"
      }
     },
     "922362a9d2f94729a67b1cff360dd0ed": {
      "model_module": "@jupyter-widgets/controls",
      "model_module_version": "1.5.0",
      "model_name": "IntRangeSliderModel",
      "state": {
       "_model_name": "IntRangeSliderModel",
       "_view_name": "IntRangeSliderView",
       "description": "Time Range",
       "layout": "IPY_MODEL_e9abfe0004bf40fa9f105a62d735a352",
       "max": 28,
       "min": -28,
       "style": "IPY_MODEL_5bd6df6bfa7b48058fd74288e959d53c",
       "value": [
        -2,
        0
       ]
      }
     },
     "9ad524ba87b549d9a653a50b75dd0c8e": {
      "model_module": "@jupyter-widgets/controls",
      "model_module_version": "1.5.0",
      "model_name": "HTMLModel",
      "state": {
       "layout": "IPY_MODEL_e92a092a341f47d88988af022770bd1a",
       "style": "IPY_MODEL_05a30ea1531d42e1ae8cdcdb771daeff",
       "value": "<h4>Set query time boundaries</h4>"
      }
     },
     "9b78355184854f60b0d736efba6d1fbe": {
      "model_module": "@jupyter-widgets/base",
      "model_module_version": "1.2.0",
      "model_name": "LayoutModel",
      "state": {
       "border": "solid gray 1px",
       "margin": "1pt",
       "padding": "5pt",
       "width": "90%"
      }
     },
     "9c77f19082314286bae8da21d55329aa": {
      "model_module": "@jupyter-widgets/controls",
      "model_module_version": "1.5.0",
      "model_name": "DropdownModel",
      "state": {
       "_options_labels": [
        "Second",
        "Minute",
        "Hour",
        "Day",
        "Week"
       ],
       "index": 3,
       "layout": "IPY_MODEL_0fa5a927c4ad47e19c135307b1dea85c",
       "style": "IPY_MODEL_1851cda4fc144f1ab2c99a865cd78316"
      }
     },
     "9e655e7dcab545f5983fdb261a09d215": {
      "model_module": "@jupyter-widgets/base",
      "model_module_version": "1.2.0",
      "model_name": "LayoutModel",
      "state": {}
     },
     "9f611bb4c62745088b61c68de982f3ec": {
      "model_module": "@jupyter-widgets/base",
      "model_module_version": "1.2.0",
      "model_name": "LayoutModel",
      "state": {}
     },
     "ab355ef97f5843ad89c006fd6ae3c2ea": {
      "model_module": "@jupyter-widgets/controls",
      "model_module_version": "1.5.0",
      "model_name": "HTMLModel",
      "state": {
       "layout": "IPY_MODEL_301c68021a244f829ff989954ca747a4",
       "style": "IPY_MODEL_5745a63b36434da49e1b5985acc0bd3f",
       "value": "<h4>Set time range for pivot functions.</h4>"
      }
     },
     "acecf72ad09d4032aea7e599ffb37cb8": {
      "model_module": "@jupyter-widgets/base",
      "model_module_version": "1.2.0",
      "model_name": "LayoutModel",
      "state": {
       "width": "100px"
      }
     },
     "acfeb0da96d7468795f9439f22fb6a0f": {
      "model_module": "@jupyter-widgets/base",
      "model_module_version": "1.2.0",
      "model_name": "LayoutModel",
      "state": {
       "width": "70%"
      }
     },
     "afac1ecc1f724f438eabba3f4dbf190b": {
      "model_module": "@jupyter-widgets/base",
      "model_module_version": "1.2.0",
      "model_name": "LayoutModel",
      "state": {}
     },
     "b28dc6ac660a4b3e871dd31180386ccc": {
      "model_module": "@jupyter-widgets/controls",
      "model_module_version": "1.5.0",
      "model_name": "DescriptionStyleModel",
      "state": {
       "description_width": "initial"
      }
     },
     "b508ebe21f1949c8a256571bf92e9e51": {
      "model_module": "@jupyter-widgets/controls",
      "model_module_version": "1.5.0",
      "model_name": "DescriptionStyleModel",
      "state": {
       "description_width": "initial"
      }
     },
     "b58dd8f2634d4099b5ceb30350db33fd": {
      "model_module": "@jupyter-widgets/controls",
      "model_module_version": "1.5.0",
      "model_name": "DescriptionStyleModel",
      "state": {
       "description_width": "initial"
      }
     },
     "b79a3c442e094040860b33127c696914": {
      "model_module": "@jupyter-widgets/controls",
      "model_module_version": "1.5.0",
      "model_name": "DescriptionStyleModel",
      "state": {
       "description_width": ""
      }
     },
     "b79ff07f3f4747b79f2b1e5ffc50646e": {
      "model_module": "@jupyter-widgets/controls",
      "model_module_version": "1.5.0",
      "model_name": "VBoxModel",
      "state": {
       "children": [
        "IPY_MODEL_f5f26e6094e5420aadff826183743035",
        "IPY_MODEL_39ac65c3089f4e03abf815e59307a896",
        "IPY_MODEL_43536d481d654bd8a8111afc3c06ef9c"
       ],
       "layout": "IPY_MODEL_bfb6cdfe8baa4f1a94b6e87d56ce08e7"
      }
     },
     "bae596916ee94ce39c973012dffd20a7": {
      "model_module": "@jupyter-widgets/controls",
      "model_module_version": "1.5.0",
      "model_name": "DescriptionStyleModel",
      "state": {
       "description_width": ""
      }
     },
     "bc80cb94fd0b4b57bf8ef20de227e93c": {
      "model_module": "@jupyter-widgets/base",
      "model_module_version": "1.2.0",
      "model_name": "LayoutModel",
      "state": {}
     },
     "bdc855aa5d434e38a878ade40f764fe5": {
      "model_module": "@jupyter-widgets/controls",
      "model_module_version": "1.5.0",
      "model_name": "DescriptionStyleModel",
      "state": {
       "description_width": ""
      }
     },
     "bfb6cdfe8baa4f1a94b6e87d56ce08e7": {
      "model_module": "@jupyter-widgets/base",
      "model_module_version": "1.2.0",
      "model_name": "LayoutModel",
      "state": {}
     },
     "c11dd0c299e34715b9473726e09cc1a7": {
      "model_module": "@jupyter-widgets/base",
      "model_module_version": "1.2.0",
      "model_name": "LayoutModel",
      "state": {}
     },
     "c1a73ef4c1ba4a0faa6e102d2838040f": {
      "model_module": "@jupyter-widgets/controls",
      "model_module_version": "1.5.0",
      "model_name": "HBoxModel",
      "state": {
       "children": [
        "IPY_MODEL_81d81a69512a40aeb33bd1a17b845c74",
        "IPY_MODEL_0c35ce564cc44b6ba6cc6becb3faef02"
       ],
       "layout": "IPY_MODEL_6f25177ffb77451c847ed17a9322c70c"
      }
     },
     "c3aaa703494e41508392cd5a414351f8": {
      "model_module": "@jupyter-widgets/base",
      "model_module_version": "1.2.0",
      "model_name": "LayoutModel",
      "state": {}
     },
     "c429d0b73d424181820b5de7ba75f21f": {
      "model_module": "@jupyter-widgets/controls",
      "model_module_version": "1.5.0",
      "model_name": "TextModel",
      "state": {
       "description": "Time (24hr)",
       "layout": "IPY_MODEL_c3aaa703494e41508392cd5a414351f8",
       "style": "IPY_MODEL_8d1553864d92408295e116607e6b521e",
       "value": "02:49:14.277968"
      }
     },
     "c6c003c7b22140bba6ab89dd0ab88744": {
      "model_module": "@jupyter-widgets/controls",
      "model_module_version": "1.5.0",
      "model_name": "HBoxModel",
      "state": {
       "children": [
        "IPY_MODEL_8d6f3c0da3784d29ba566083a245134f",
        "IPY_MODEL_c429d0b73d424181820b5de7ba75f21f"
       ],
       "layout": "IPY_MODEL_63e7f739408a438b89472c46a05397b4"
      }
     },
     "c92827b4af6249c380008f6ab22f0195": {
      "model_module": "@jupyter-widgets/base",
      "model_module_version": "1.2.0",
      "model_name": "LayoutModel",
      "state": {
       "width": "70%"
      }
     },
     "c9431e6a8caf40e9a35af57df26a91db": {
      "model_module": "@jupyter-widgets/base",
      "model_module_version": "1.2.0",
      "model_name": "LayoutModel",
      "state": {
       "width": "50%"
      }
     },
     "ccd7968b5e564c4db4a1c636dff735b9": {
      "model_module": "@jupyter-widgets/base",
      "model_module_version": "1.2.0",
      "model_name": "LayoutModel",
      "state": {
       "width": "50%"
      }
     },
     "ce19925620ba445da9ca56ee2ca9f78b": {
      "model_module": "@jupyter-widgets/controls",
      "model_module_version": "1.5.0",
      "model_name": "DescriptionStyleModel",
      "state": {
       "description_width": "initial"
      }
     },
     "cfda608bcf5c4399904a369dae615573": {
      "model_module": "@jupyter-widgets/base",
      "model_module_version": "1.2.0",
      "model_name": "LayoutModel",
      "state": {
       "width": "50%"
      }
     },
     "d3290f3f69654c278ee2fb2711163d06": {
      "model_module": "@jupyter-widgets/controls",
      "model_module_version": "1.5.0",
      "model_name": "IntRangeSliderModel",
      "state": {
       "_model_name": "IntRangeSliderModel",
       "_view_name": "IntRangeSliderView",
       "description": "Time Range",
       "layout": "IPY_MODEL_57bf7370a095455db8c6ab8a46d5f6b8",
       "max": 28,
       "min": -28,
       "style": "IPY_MODEL_68975f878548486ca11a74c8227f47d3",
       "value": [
        -1,
        0
       ]
      }
     },
     "d4992c8b9df046f3b6a8334405566eda": {
      "model_module": "@jupyter-widgets/controls",
      "model_module_version": "1.5.0",
      "model_name": "TextModel",
      "state": {
       "description": "Time (24hr)",
       "layout": "IPY_MODEL_445239701cf94bb2a13fea7f4f8a339a",
       "style": "IPY_MODEL_3dfb7850a68a4a52a0f3db2ea62a19eb",
       "value": "02:49:12.745984"
      }
     },
     "d60e67c25f7244d3b126272d81f033bb": {
      "model_module": "@jupyter-widgets/controls",
      "model_module_version": "1.5.0",
      "model_name": "DescriptionStyleModel",
      "state": {
       "description_width": ""
      }
     },
     "d66f1c18ce9247a3aa799a2380726690": {
      "model_module": "@jupyter-widgets/controls",
      "model_module_version": "1.5.0",
      "model_name": "DescriptionStyleModel",
      "state": {
       "description_width": ""
      }
     },
     "d6ffaac1ac8645b7aa515c608f42a7b1": {
      "model_module": "@jupyter-widgets/controls",
      "model_module_version": "1.5.0",
      "model_name": "HBoxModel",
      "state": {
       "children": [
        "IPY_MODEL_922362a9d2f94729a67b1cff360dd0ed",
        "IPY_MODEL_8fc0a2cb78bb42f3aa935b4971b2e4a4"
       ],
       "layout": "IPY_MODEL_e7c17434d8c9485682566a16ffd0af5a"
      }
     },
     "d97e7d8cabcb4d40a0cae2a051edc6dc": {
      "model_module": "@jupyter-widgets/controls",
      "model_module_version": "1.5.0",
      "model_name": "DescriptionStyleModel",
      "state": {
       "description_width": ""
      }
     },
     "dd0cf090d4524c2ba5760e72a1a7a214": {
      "model_module": "@jupyter-widgets/controls",
      "model_module_version": "1.5.0",
      "model_name": "DescriptionStyleModel",
      "state": {
       "description_width": "initial"
      }
     },
     "ddaff9bbd74441f68e23823361703007": {
      "model_module": "@jupyter-widgets/controls",
      "model_module_version": "1.5.0",
      "model_name": "DescriptionStyleModel",
      "state": {
       "description_width": "initial"
      }
     },
     "df752f83ee444adea62f91a9d8403ee1": {
      "model_module": "@jupyter-widgets/controls",
      "model_module_version": "1.5.0",
      "model_name": "VBoxModel",
      "state": {
       "children": [
        "IPY_MODEL_d6ffaac1ac8645b7aa515c608f42a7b1",
        "IPY_MODEL_fb06da30ec49421aa88c5e8386964762",
        "IPY_MODEL_1943a5eb70314738b53982644b8963ce"
       ],
       "layout": "IPY_MODEL_71160649347740eb9ae9eccead29bc9a"
      }
     },
     "e1218c3b438f4bacbfb911bcd092e3d7": {
      "model_module": "@jupyter-widgets/base",
      "model_module_version": "1.2.0",
      "model_name": "LayoutModel",
      "state": {}
     },
     "e12d9bfcffda40b5af7ef2e45f15eb28": {
      "model_module": "@jupyter-widgets/base",
      "model_module_version": "1.2.0",
      "model_name": "LayoutModel",
      "state": {
       "width": "70%"
      }
     },
     "e20d8cd48b9a48d3a0fc105cf34ed6f8": {
      "model_module": "@jupyter-widgets/controls",
      "model_module_version": "1.5.0",
      "model_name": "DatePickerModel",
      "state": {
       "description": "Origin Date",
       "disabled": false,
       "layout": "IPY_MODEL_9e655e7dcab545f5983fdb261a09d215",
       "style": "IPY_MODEL_86cbc4dde5db43009c63a517987a0f6d",
       "value": {
        "date": 5,
        "month": 3,
        "year": 2022
       }
      }
     },
     "e7c17434d8c9485682566a16ffd0af5a": {
      "model_module": "@jupyter-widgets/base",
      "model_module_version": "1.2.0",
      "model_name": "LayoutModel",
      "state": {}
     },
     "e88a7284010547aca6142649da4d119e": {
      "model_module": "@jupyter-widgets/base",
      "model_module_version": "1.2.0",
      "model_name": "LayoutModel",
      "state": {}
     },
     "e88d439c233246c4919737c529cd0d3d": {
      "model_module": "@jupyter-widgets/controls",
      "model_module_version": "1.5.0",
      "model_name": "TextModel",
      "state": {
       "description": "Query end time (UTC) :  ",
       "layout": "IPY_MODEL_ccd7968b5e564c4db4a1c636dff735b9",
       "style": "IPY_MODEL_ddaff9bbd74441f68e23823361703007",
       "value": "2022-04-05 02:49:14.277968+00:00"
      }
     },
     "e92a092a341f47d88988af022770bd1a": {
      "model_module": "@jupyter-widgets/base",
      "model_module_version": "1.2.0",
      "model_name": "LayoutModel",
      "state": {}
     },
     "e9abfe0004bf40fa9f105a62d735a352": {
      "model_module": "@jupyter-widgets/base",
      "model_module_version": "1.2.0",
      "model_name": "LayoutModel",
      "state": {
       "width": "70%"
      }
     },
     "ed5ea1ead65e4d4d887d3bda589804de": {
      "model_module": "@jupyter-widgets/controls",
      "model_module_version": "1.5.0",
      "model_name": "DescriptionStyleModel",
      "state": {
       "description_width": "initial"
      }
     },
     "efa7704345e3420aa388221d72bab90e": {
      "model_module": "@jupyter-widgets/controls",
      "model_module_version": "1.5.0",
      "model_name": "TextModel",
      "state": {
       "description": "Enter the Account name to search for:",
       "layout": "IPY_MODEL_8887e99f5ac74bdcbca5dc1a52b69891",
       "style": "IPY_MODEL_b28dc6ac660a4b3e871dd31180386ccc",
       "value": "Kelsea"
      }
     },
     "f36dc46d59634436abc0f870dfa72012": {
      "model_module": "@jupyter-widgets/base",
      "model_module_version": "1.2.0",
      "model_name": "LayoutModel",
      "state": {
       "width": "70%"
      }
     },
     "f41e38a9024d46fd968351ec4c5a6efc": {
      "model_module": "@jupyter-widgets/base",
      "model_module_version": "1.2.0",
      "model_name": "LayoutModel",
      "state": {}
     },
     "f4b67bf1e96048d78591a0c1c52a19bd": {
      "model_module": "@jupyter-widgets/base",
      "model_module_version": "1.2.0",
      "model_name": "LayoutModel",
      "state": {
       "border": "solid gray 1px",
       "margin": "1pt",
       "padding": "5pt",
       "width": "90%"
      }
     },
     "f5f26e6094e5420aadff826183743035": {
      "model_module": "@jupyter-widgets/controls",
      "model_module_version": "1.5.0",
      "model_name": "TextModel",
      "state": {
       "description": "Filter alerts by title:",
       "layout": "IPY_MODEL_c11dd0c299e34715b9473726e09cc1a7",
       "style": "IPY_MODEL_494fc091484445509d13c0dcf29ad549"
      }
     },
     "f7538bef7b144eb3af82d96719df6bdb": {
      "model_module": "@jupyter-widgets/controls",
      "model_module_version": "1.5.0",
      "model_name": "DescriptionStyleModel",
      "state": {
       "description_width": ""
      }
     },
     "fad525b324844c1d9deca225c0aed1b8": {
      "model_module": "@jupyter-widgets/controls",
      "model_module_version": "1.5.0",
      "model_name": "TextModel",
      "state": {
       "description": "Filter alerts by title:",
       "layout": "IPY_MODEL_e88a7284010547aca6142649da4d119e",
       "style": "IPY_MODEL_51876de3eede4514a16107175cb249cb"
      }
     },
     "fb06da30ec49421aa88c5e8386964762": {
      "model_module": "@jupyter-widgets/controls",
      "model_module_version": "1.5.0",
      "model_name": "TextModel",
      "state": {
       "description": "Query start time (UTC):",
       "layout": "IPY_MODEL_6fb08d781b7541b69a824f9059904f62",
       "style": "IPY_MODEL_06d7adc128794d99a85ae77b226b04d9",
       "value": "2022-04-03 02:49:14.277968+00:00"
      }
     },
     "fb0ee7017957455e9f072f9d16606b5c": {
      "model_module": "@jupyter-widgets/controls",
      "model_module_version": "1.5.0",
      "model_name": "DropdownModel",
      "state": {
       "_options_labels": [
        "Second",
        "Minute",
        "Hour",
        "Day",
        "Week"
       ],
       "index": 3,
       "layout": "IPY_MODEL_acecf72ad09d4032aea7e599ffb37cb8",
       "style": "IPY_MODEL_f7538bef7b144eb3af82d96719df6bdb"
      }
     },
     "fbdfb11a05a24ffc870a67132ad2730d": {
      "model_module": "@jupyter-widgets/base",
      "model_module_version": "1.2.0",
      "model_name": "LayoutModel",
      "state": {
       "width": "50%"
      }
     },
     "fcdb4009e7b344fda370b2dc56bd824e": {
      "model_module": "@jupyter-widgets/controls",
      "model_module_version": "1.5.0",
      "model_name": "VBoxModel",
      "state": {
       "children": [
        "IPY_MODEL_fad525b324844c1d9deca225c0aed1b8",
        "IPY_MODEL_2c4aedcf664f47459a660038672fd03b",
        "IPY_MODEL_099c0792526244a8b736bb295c59d80e"
       ],
       "layout": "IPY_MODEL_5e1172b862864ea3aaef43357606db37"
      }
     },
     "fed0fb69f87d4c3dbc5aa6f486a8c443": {
      "model_module": "@jupyter-widgets/base",
      "model_module_version": "1.2.0",
      "model_name": "LayoutModel",
      "state": {
       "width": "50%"
      }
     },
     "ff46007cf200482aa928bb3720f7aa00": {
      "model_module": "@jupyter-widgets/controls",
      "model_module_version": "1.5.0",
      "model_name": "CheckboxModel",
      "state": {
       "description": "Display details",
       "disabled": false,
       "layout": "IPY_MODEL_8d071160ac074372b5202f03f5b49fe0",
       "style": "IPY_MODEL_1578a8b4ceb44210a8ed720331423f55",
       "value": true
      }
     }
    },
    "version_major": 2,
    "version_minor": 0
   }
  }
 },
 "nbformat": 4,
 "nbformat_minor": 4
}
